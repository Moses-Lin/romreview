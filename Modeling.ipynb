{
 "cells": [
  {
   "cell_type": "markdown",
   "metadata": {},
   "source": [
    "# Importing necessary things"
   ]
  },
  {
   "cell_type": "code",
   "execution_count": 1,
   "metadata": {},
   "outputs": [],
   "source": [
    "import pandas as pd\n",
    "import numpy as np\n",
    "import sklearn\n",
    "\n",
    "import sklearn.metrics as metrics\n",
    "from sklearn.utils import resample\n",
    "from sklearn.preprocessing import MinMaxScaler\n",
    "from sklearn.model_selection import train_test_split, GridSearchCV, cross_val_score\n",
    "from sklearn.preprocessing import LabelEncoder\n",
    "from sklearn.naive_bayes import MultinomialNB\n",
    "from sklearn.ensemble import RandomForestClassifier\n",
    "from sklearn.tree import DecisionTreeClassifier\n",
    "from sklearn.metrics import accuracy_score, confusion_matrix, f1_score, recall_score, precision_score\n",
    "from sklearn.feature_extraction.text import TfidfVectorizer, CountVectorizer\n",
    "from sklearn import svm\n",
    "from sklearn.svm import SVC\n",
    "\n",
    "import string\n",
    "import nltk\n",
    "from nltk.corpus import stopwords\n",
    "from nltk.stem import WordNetLemmatizer\n",
    "from nltk import word_tokenize, RegexpTokenizer, TweetTokenizer\n",
    "\n",
    "import matplotlib.pyplot as plt\n",
    "import seaborn as sns\n",
    "\n",
    "import re\n",
    "from datetime import datetime\n",
    "\n",
    "import pickle"
   ]
  },
  {
   "cell_type": "markdown",
   "metadata": {},
   "source": [
    "=================================================================================================================="
   ]
  },
  {
   "cell_type": "code",
   "execution_count": 2,
   "metadata": {},
   "outputs": [],
   "source": [
    "# Retreiving our tokens.\n",
    "\n",
    "from pathlib import Path\n",
    "\n",
    "root = Path('.')\n",
    "\n",
    "#global\n",
    "my_path1 = root / \"tokens\" / \"processedreviewrating1.pbz2\"\n",
    "my_path2 = root / \"tokens\" / \"processedreviewrating2.pbz2\"\n",
    "my_path3 = root / \"tokens\" / \"processedreviewrating3.pbz2\"\n",
    "my_path4 = root / \"tokens\" / \"processedreviewrating4.pbz2\"\n",
    "my_path5 = root / \"tokens\" / \"processedreviewrating5.pbz2\"\n",
    "\n",
    "#sea\n",
    "my_path6 = root / \"tokens\" / \"processedreviewrating6.pbz2\"\n",
    "my_path7 = root / \"tokens\" / \"processedreviewrating7.pbz2\"\n",
    "my_path8 = root / \"tokens\" / \"processedreviewrating8.pbz2\"\n",
    "my_path9 = root / \"tokens\" / \"processedreviewrating9.pbz2\"\n",
    "my_path10 = root / \"tokens\" / \"processedreviewrating10.pbz2\"\n",
    "\n",
    "import bz2\n",
    "\n",
    "def compressed_pickle(path, data):\n",
    "    with bz2.BZ2File(path, 'w') as f:\n",
    "        pickle.dump(data, f)\n",
    "\n",
    "def decompress_pickle(file):\n",
    "    data = bz2.BZ2File(file, 'rb')\n",
    "    data = pickle.load(data)\n",
    "    return data"
   ]
  },
  {
   "cell_type": "code",
   "execution_count": 3,
   "metadata": {},
   "outputs": [],
   "source": [
    "rating1global = decompress_pickle(my_path1)\n",
    "rating2global = decompress_pickle(my_path2)\n",
    "rating3global = decompress_pickle(my_path3)\n",
    "rating4global = decompress_pickle(my_path4)\n",
    "rating5global = decompress_pickle(my_path5)\n",
    "\n",
    "rating1sea = decompress_pickle(my_path6)\n",
    "rating2sea = decompress_pickle(my_path7)\n",
    "rating3sea = decompress_pickle(my_path8)\n",
    "rating4sea = decompress_pickle(my_path9)\n",
    "rating5sea = decompress_pickle(my_path10)"
   ]
  },
  {
   "cell_type": "code",
   "execution_count": 4,
   "metadata": {},
   "outputs": [],
   "source": [
    "# Putting everything together.\n",
    "\n",
    "dfglobal = pd.concat([rating1global, rating2global, rating3global, rating4global, rating5global])\n",
    "dfsea = pd.concat([rating1sea, rating2sea, rating3sea, rating4sea, rating5sea])"
   ]
  },
  {
   "cell_type": "code",
   "execution_count": 5,
   "metadata": {},
   "outputs": [],
   "source": [
    "# Remove common words\n",
    "stopwords_list = stopwords.words('english') + list(string.punctuation)\n",
    "# Remove more punctuation\n",
    "stopwords_list += [\"''\", '\"\"', '...', '``']"
   ]
  },
  {
   "cell_type": "code",
   "execution_count": 6,
   "metadata": {},
   "outputs": [],
   "source": [
    "def process_reviews(reviews):\n",
    "    tokens = nltk.word_tokenize(reviews)\n",
    "    stopwords_removed = [token.lower() for token in tokens if token.lower() not in stopwords_list]\n",
    "    return stopwords_removed  \n",
    "\n",
    "lemmatizer = nltk.stem.WordNetLemmatizer()\n",
    "\n",
    "def lemmatize_text(text):\n",
    "    return [lemmatizer.lemmatize(w) for w in text]"
   ]
  },
  {
   "cell_type": "code",
   "execution_count": 7,
   "metadata": {},
   "outputs": [],
   "source": [
    "dfglobal['wordlist'] = dfglobal['content'].apply(lambda x: process_reviews(x))\n",
    "dfglobal['wordlistlem'] = dfglobal['wordlist'].apply(lemmatize_text)\n",
    "dfglobal['strings'] = [' '.join(i) for i in dfglobal['wordlistlem']]\n",
    "\n",
    "dfsea['wordlist'] = dfsea['content'].apply(lambda x: process_reviews(x))\n",
    "dfsea['wordlistlem'] = dfsea['wordlist'].apply(lemmatize_text)\n",
    "dfsea['strings'] = [' '.join(i) for i in dfsea['wordlistlem']]"
   ]
  },
  {
   "cell_type": "code",
   "execution_count": 8,
   "metadata": {
    "scrolled": true
   },
   "outputs": [
    {
     "data": {
      "text/html": [
       "<div>\n",
       "<style scoped>\n",
       "    .dataframe tbody tr th:only-of-type {\n",
       "        vertical-align: middle;\n",
       "    }\n",
       "\n",
       "    .dataframe tbody tr th {\n",
       "        vertical-align: top;\n",
       "    }\n",
       "\n",
       "    .dataframe thead th {\n",
       "        text-align: right;\n",
       "    }\n",
       "</style>\n",
       "<table border=\"1\" class=\"dataframe\">\n",
       "  <thead>\n",
       "    <tr style=\"text-align: right;\">\n",
       "      <th></th>\n",
       "      <th>content</th>\n",
       "      <th>score</th>\n",
       "      <th>thumbsUpCount</th>\n",
       "      <th>reviewCreatedVersion</th>\n",
       "      <th>at</th>\n",
       "      <th>replyContent</th>\n",
       "      <th>appId</th>\n",
       "      <th>month</th>\n",
       "      <th>numwords</th>\n",
       "      <th>numuniquewords</th>\n",
       "      <th>numchars</th>\n",
       "      <th>numpuncts</th>\n",
       "      <th>numcapts</th>\n",
       "      <th>numtitles</th>\n",
       "      <th>meanwordlength</th>\n",
       "      <th>wordlist</th>\n",
       "      <th>wordlistlem</th>\n",
       "      <th>strings</th>\n",
       "    </tr>\n",
       "  </thead>\n",
       "  <tbody>\n",
       "    <tr>\n",
       "      <th>0</th>\n",
       "      <td>Not permitted</td>\n",
       "      <td>1</td>\n",
       "      <td>0</td>\n",
       "      <td>None</td>\n",
       "      <td>2020-12-20</td>\n",
       "      <td>None</td>\n",
       "      <td>com.gravity.romNAg</td>\n",
       "      <td>12</td>\n",
       "      <td>2</td>\n",
       "      <td>2</td>\n",
       "      <td>13</td>\n",
       "      <td>0</td>\n",
       "      <td>0</td>\n",
       "      <td>1</td>\n",
       "      <td>6.000000</td>\n",
       "      <td>[permitted]</td>\n",
       "      <td>[permitted]</td>\n",
       "      <td>permitted</td>\n",
       "    </tr>\n",
       "    <tr>\n",
       "      <th>2</th>\n",
       "      <td>P2W till the end, prices are way too high... A...</td>\n",
       "      <td>1</td>\n",
       "      <td>0</td>\n",
       "      <td>None</td>\n",
       "      <td>2020-12-17</td>\n",
       "      <td>None</td>\n",
       "      <td>com.gravity.romNAg</td>\n",
       "      <td>12</td>\n",
       "      <td>21</td>\n",
       "      <td>20</td>\n",
       "      <td>107</td>\n",
       "      <td>7</td>\n",
       "      <td>1</td>\n",
       "      <td>3</td>\n",
       "      <td>4.142857</td>\n",
       "      <td>[p2w, till, end, prices, way, high, beginning,...</td>\n",
       "      <td>[p2w, till, end, price, way, high, beginning, ...</td>\n",
       "      <td>p2w till end price way high beginning amazing ...</td>\n",
       "    </tr>\n",
       "    <tr>\n",
       "      <th>5</th>\n",
       "      <td>Cashgrab</td>\n",
       "      <td>1</td>\n",
       "      <td>0</td>\n",
       "      <td>None</td>\n",
       "      <td>2020-12-11</td>\n",
       "      <td>None</td>\n",
       "      <td>com.gravity.romNAg</td>\n",
       "      <td>12</td>\n",
       "      <td>1</td>\n",
       "      <td>1</td>\n",
       "      <td>8</td>\n",
       "      <td>0</td>\n",
       "      <td>0</td>\n",
       "      <td>1</td>\n",
       "      <td>8.000000</td>\n",
       "      <td>[cashgrab]</td>\n",
       "      <td>[cashgrab]</td>\n",
       "      <td>cashgrab</td>\n",
       "    </tr>\n",
       "    <tr>\n",
       "      <th>12</th>\n",
       "      <td>This new patch update made the game so laggy, ...</td>\n",
       "      <td>1</td>\n",
       "      <td>2</td>\n",
       "      <td>1.2.6</td>\n",
       "      <td>2020-12-08</td>\n",
       "      <td>None</td>\n",
       "      <td>com.gravity.romNAg</td>\n",
       "      <td>12</td>\n",
       "      <td>40</td>\n",
       "      <td>38</td>\n",
       "      <td>210</td>\n",
       "      <td>4</td>\n",
       "      <td>3</td>\n",
       "      <td>5</td>\n",
       "      <td>4.275000</td>\n",
       "      <td>[new, patch, update, made, game, laggy, takes,...</td>\n",
       "      <td>[new, patch, update, made, game, laggy, take, ...</td>\n",
       "      <td>new patch update made game laggy take 30 secon...</td>\n",
       "    </tr>\n",
       "    <tr>\n",
       "      <th>16</th>\n",
       "      <td>Awful. With the recent update, I am unable to ...</td>\n",
       "      <td>1</td>\n",
       "      <td>2</td>\n",
       "      <td>1.2.6</td>\n",
       "      <td>2020-12-01</td>\n",
       "      <td>None</td>\n",
       "      <td>com.gravity.romNAg</td>\n",
       "      <td>12</td>\n",
       "      <td>46</td>\n",
       "      <td>37</td>\n",
       "      <td>223</td>\n",
       "      <td>5</td>\n",
       "      <td>4</td>\n",
       "      <td>8</td>\n",
       "      <td>3.869565</td>\n",
       "      <td>[awful, recent, update, unable, switch, main, ...</td>\n",
       "      <td>[awful, recent, update, unable, switch, main, ...</td>\n",
       "      <td>awful recent update unable switch main account...</td>\n",
       "    </tr>\n",
       "  </tbody>\n",
       "</table>\n",
       "</div>"
      ],
      "text/plain": [
       "                                              content  score  thumbsUpCount  \\\n",
       "0                                       Not permitted      1              0   \n",
       "2   P2W till the end, prices are way too high... A...      1              0   \n",
       "5                                            Cashgrab      1              0   \n",
       "12  This new patch update made the game so laggy, ...      1              2   \n",
       "16  Awful. With the recent update, I am unable to ...      1              2   \n",
       "\n",
       "   reviewCreatedVersion         at replyContent               appId month  \\\n",
       "0                  None 2020-12-20         None  com.gravity.romNAg    12   \n",
       "2                  None 2020-12-17         None  com.gravity.romNAg    12   \n",
       "5                  None 2020-12-11         None  com.gravity.romNAg    12   \n",
       "12                1.2.6 2020-12-08         None  com.gravity.romNAg    12   \n",
       "16                1.2.6 2020-12-01         None  com.gravity.romNAg    12   \n",
       "\n",
       "    numwords  numuniquewords  numchars  numpuncts  numcapts  numtitles  \\\n",
       "0          2               2        13          0         0          1   \n",
       "2         21              20       107          7         1          3   \n",
       "5          1               1         8          0         0          1   \n",
       "12        40              38       210          4         3          5   \n",
       "16        46              37       223          5         4          8   \n",
       "\n",
       "    meanwordlength                                           wordlist  \\\n",
       "0         6.000000                                        [permitted]   \n",
       "2         4.142857  [p2w, till, end, prices, way, high, beginning,...   \n",
       "5         8.000000                                         [cashgrab]   \n",
       "12        4.275000  [new, patch, update, made, game, laggy, takes,...   \n",
       "16        3.869565  [awful, recent, update, unable, switch, main, ...   \n",
       "\n",
       "                                          wordlistlem  \\\n",
       "0                                         [permitted]   \n",
       "2   [p2w, till, end, price, way, high, beginning, ...   \n",
       "5                                          [cashgrab]   \n",
       "12  [new, patch, update, made, game, laggy, take, ...   \n",
       "16  [awful, recent, update, unable, switch, main, ...   \n",
       "\n",
       "                                              strings  \n",
       "0                                           permitted  \n",
       "2   p2w till end price way high beginning amazing ...  \n",
       "5                                            cashgrab  \n",
       "12  new patch update made game laggy take 30 secon...  \n",
       "16  awful recent update unable switch main account...  "
      ]
     },
     "execution_count": 8,
     "metadata": {},
     "output_type": "execute_result"
    }
   ],
   "source": [
    "dfglobal.head()"
   ]
  },
  {
   "cell_type": "code",
   "execution_count": 9,
   "metadata": {},
   "outputs": [
    {
     "data": {
      "text/html": [
       "<div>\n",
       "<style scoped>\n",
       "    .dataframe tbody tr th:only-of-type {\n",
       "        vertical-align: middle;\n",
       "    }\n",
       "\n",
       "    .dataframe tbody tr th {\n",
       "        vertical-align: top;\n",
       "    }\n",
       "\n",
       "    .dataframe thead th {\n",
       "        text-align: right;\n",
       "    }\n",
       "</style>\n",
       "<table border=\"1\" class=\"dataframe\">\n",
       "  <thead>\n",
       "    <tr style=\"text-align: right;\">\n",
       "      <th></th>\n",
       "      <th>content</th>\n",
       "      <th>score</th>\n",
       "      <th>thumbsUpCount</th>\n",
       "      <th>reviewCreatedVersion</th>\n",
       "      <th>at</th>\n",
       "      <th>replyContent</th>\n",
       "      <th>appId</th>\n",
       "      <th>month</th>\n",
       "      <th>numwords</th>\n",
       "      <th>numuniquewords</th>\n",
       "      <th>numchars</th>\n",
       "      <th>numpuncts</th>\n",
       "      <th>numcapts</th>\n",
       "      <th>numtitles</th>\n",
       "      <th>meanwordlength</th>\n",
       "      <th>wordlist</th>\n",
       "      <th>wordlistlem</th>\n",
       "      <th>strings</th>\n",
       "    </tr>\n",
       "  </thead>\n",
       "  <tbody>\n",
       "    <tr>\n",
       "      <th>1</th>\n",
       "      <td>new update made several freezing screen. can't...</td>\n",
       "      <td>1</td>\n",
       "      <td>0</td>\n",
       "      <td>1.0.35</td>\n",
       "      <td>2020-12-20</td>\n",
       "      <td>None</td>\n",
       "      <td>com.gravity.romg</td>\n",
       "      <td>12</td>\n",
       "      <td>34</td>\n",
       "      <td>31</td>\n",
       "      <td>190</td>\n",
       "      <td>3</td>\n",
       "      <td>0</td>\n",
       "      <td>0</td>\n",
       "      <td>4.617647</td>\n",
       "      <td>[new, update, made, several, freezing, screen,...</td>\n",
       "      <td>[new, update, made, several, freezing, screen,...</td>\n",
       "      <td>new update made several freezing screen ca n't...</td>\n",
       "    </tr>\n",
       "    <tr>\n",
       "      <th>3</th>\n",
       "      <td>Lag delay</td>\n",
       "      <td>1</td>\n",
       "      <td>0</td>\n",
       "      <td>1.0.35</td>\n",
       "      <td>2020-12-20</td>\n",
       "      <td>None</td>\n",
       "      <td>com.gravity.romg</td>\n",
       "      <td>12</td>\n",
       "      <td>2</td>\n",
       "      <td>2</td>\n",
       "      <td>9</td>\n",
       "      <td>0</td>\n",
       "      <td>0</td>\n",
       "      <td>1</td>\n",
       "      <td>4.000000</td>\n",
       "      <td>[lag, delay]</td>\n",
       "      <td>[lag, delay]</td>\n",
       "      <td>lag delay</td>\n",
       "    </tr>\n",
       "    <tr>\n",
       "      <th>5</th>\n",
       "      <td>Why is the latest update so laggy .. You updat...</td>\n",
       "      <td>1</td>\n",
       "      <td>0</td>\n",
       "      <td>1.0.35</td>\n",
       "      <td>2020-12-20</td>\n",
       "      <td>None</td>\n",
       "      <td>com.gravity.romg</td>\n",
       "      <td>12</td>\n",
       "      <td>19</td>\n",
       "      <td>18</td>\n",
       "      <td>102</td>\n",
       "      <td>4</td>\n",
       "      <td>0</td>\n",
       "      <td>3</td>\n",
       "      <td>4.421053</td>\n",
       "      <td>[latest, update, laggy, .., updated, develop, ...</td>\n",
       "      <td>[latest, update, laggy, .., updated, develop, ...</td>\n",
       "      <td>latest update laggy .. updated develop lagging...</td>\n",
       "    </tr>\n",
       "    <tr>\n",
       "      <th>10</th>\n",
       "      <td>IMO MAMA STAY AWESOME</td>\n",
       "      <td>1</td>\n",
       "      <td>0</td>\n",
       "      <td>None</td>\n",
       "      <td>2020-12-19</td>\n",
       "      <td>None</td>\n",
       "      <td>com.gravity.romg</td>\n",
       "      <td>12</td>\n",
       "      <td>4</td>\n",
       "      <td>4</td>\n",
       "      <td>21</td>\n",
       "      <td>0</td>\n",
       "      <td>4</td>\n",
       "      <td>0</td>\n",
       "      <td>4.500000</td>\n",
       "      <td>[imo, mama, stay, awesome]</td>\n",
       "      <td>[imo, mama, stay, awesome]</td>\n",
       "      <td>imo mama stay awesome</td>\n",
       "    </tr>\n",
       "    <tr>\n",
       "      <th>12</th>\n",
       "      <td>Devs dont even hide the fact that you need to ...</td>\n",
       "      <td>1</td>\n",
       "      <td>0</td>\n",
       "      <td>None</td>\n",
       "      <td>2020-12-19</td>\n",
       "      <td>None</td>\n",
       "      <td>com.gravity.romg</td>\n",
       "      <td>12</td>\n",
       "      <td>16</td>\n",
       "      <td>15</td>\n",
       "      <td>74</td>\n",
       "      <td>1</td>\n",
       "      <td>0</td>\n",
       "      <td>1</td>\n",
       "      <td>3.687500</td>\n",
       "      <td>[devs, dont, even, hide, fact, need, spend, lo...</td>\n",
       "      <td>[devs, dont, even, hide, fact, need, spend, lo...</td>\n",
       "      <td>devs dont even hide fact need spend lot get st...</td>\n",
       "    </tr>\n",
       "  </tbody>\n",
       "</table>\n",
       "</div>"
      ],
      "text/plain": [
       "                                              content  score  thumbsUpCount  \\\n",
       "1   new update made several freezing screen. can't...      1              0   \n",
       "3                                           Lag delay      1              0   \n",
       "5   Why is the latest update so laggy .. You updat...      1              0   \n",
       "10                              IMO MAMA STAY AWESOME      1              0   \n",
       "12  Devs dont even hide the fact that you need to ...      1              0   \n",
       "\n",
       "   reviewCreatedVersion         at replyContent             appId month  \\\n",
       "1                1.0.35 2020-12-20         None  com.gravity.romg    12   \n",
       "3                1.0.35 2020-12-20         None  com.gravity.romg    12   \n",
       "5                1.0.35 2020-12-20         None  com.gravity.romg    12   \n",
       "10                 None 2020-12-19         None  com.gravity.romg    12   \n",
       "12                 None 2020-12-19         None  com.gravity.romg    12   \n",
       "\n",
       "    numwords  numuniquewords  numchars  numpuncts  numcapts  numtitles  \\\n",
       "1         34              31       190          3         0          0   \n",
       "3          2               2         9          0         0          1   \n",
       "5         19              18       102          4         0          3   \n",
       "10         4               4        21          0         4          0   \n",
       "12        16              15        74          1         0          1   \n",
       "\n",
       "    meanwordlength                                           wordlist  \\\n",
       "1         4.617647  [new, update, made, several, freezing, screen,...   \n",
       "3         4.000000                                       [lag, delay]   \n",
       "5         4.421053  [latest, update, laggy, .., updated, develop, ...   \n",
       "10        4.500000                         [imo, mama, stay, awesome]   \n",
       "12        3.687500  [devs, dont, even, hide, fact, need, spend, lo...   \n",
       "\n",
       "                                          wordlistlem  \\\n",
       "1   [new, update, made, several, freezing, screen,...   \n",
       "3                                        [lag, delay]   \n",
       "5   [latest, update, laggy, .., updated, develop, ...   \n",
       "10                         [imo, mama, stay, awesome]   \n",
       "12  [devs, dont, even, hide, fact, need, spend, lo...   \n",
       "\n",
       "                                              strings  \n",
       "1   new update made several freezing screen ca n't...  \n",
       "3                                           lag delay  \n",
       "5   latest update laggy .. updated develop lagging...  \n",
       "10                              imo mama stay awesome  \n",
       "12  devs dont even hide fact need spend lot get st...  "
      ]
     },
     "execution_count": 9,
     "metadata": {},
     "output_type": "execute_result"
    }
   ],
   "source": [
    "dfsea.head()"
   ]
  },
  {
   "cell_type": "markdown",
   "metadata": {},
   "source": [
    "# TF-IDF"
   ]
  },
  {
   "cell_type": "code",
   "execution_count": 12,
   "metadata": {},
   "outputs": [],
   "source": [
    "xglobal = dfglobal['strings']\n",
    "yglobal = dfglobal['score']\n",
    "\n",
    "X_trainglobal, X_testglobal, y_trainglobal, y_testglobal = train_test_split(xglobal, yglobal, random_state = 44)"
   ]
  },
  {
   "cell_type": "code",
   "execution_count": 13,
   "metadata": {},
   "outputs": [],
   "source": [
    "xsea = dfsea['strings']\n",
    "ysea = dfsea['score']\n",
    "\n",
    "X_trainsea, X_testsea, y_trainsea, y_testsea = train_test_split(xsea, ysea, random_state = 44)"
   ]
  },
  {
   "cell_type": "code",
   "execution_count": 14,
   "metadata": {},
   "outputs": [],
   "source": [
    "vec = TfidfVectorizer()\n",
    "\n",
    "tfidf_X_trainglobal = vec.fit_transform(X_trainglobal)\n",
    "tfidf_X_testglobal = vec.transform(X_testglobal)\n",
    "\n",
    "tfidf_X_trainsea = vec.fit_transform(X_trainsea)\n",
    "tfidf_X_testsea = vec.transform(X_testsea)"
   ]
  },
  {
   "cell_type": "markdown",
   "metadata": {},
   "source": [
    "## Dummy Classifier Baseline Model"
   ]
  },
  {
   "cell_type": "markdown",
   "metadata": {},
   "source": [
    "### Global"
   ]
  },
  {
   "cell_type": "code",
   "execution_count": 15,
   "metadata": {},
   "outputs": [
    {
     "name": "stderr",
     "output_type": "stream",
     "text": [
      "/opt/anaconda3/lib/python3.7/site-packages/sklearn/dummy.py:132: FutureWarning: The default value of strategy will change from stratified to prior in 0.24.\n",
      "  \"stratified to prior in 0.24.\", FutureWarning)\n"
     ]
    }
   ],
   "source": [
    "from sklearn.dummy import DummyClassifier\n",
    "\n",
    "dclfgl = DummyClassifier()\n",
    "dclfgl.fit(tfidf_X_trainglobal, y_trainglobal)\n",
    "y_preds_dummyglobal = dclfgl.predict(tfidf_X_testglobal)"
   ]
  },
  {
   "cell_type": "code",
   "execution_count": 16,
   "metadata": {
    "scrolled": true
   },
   "outputs": [
    {
     "name": "stdout",
     "output_type": "stream",
     "text": [
      "Test Accuracy Score: 0.30593325092707047\n",
      "Test Precision Score: 0.3136495524021344\n",
      "Test Recall Score: 0.30593325092707047\n",
      "Test F1 Score: 0.3096691285532165\n"
     ]
    }
   ],
   "source": [
    "#Evaluation Metrics for Dummy Classifier for ROM Global\n",
    "\n",
    "print(\"Test Accuracy Score:\", metrics.accuracy_score(y_testglobal, y_preds_dummyglobal))\n",
    "print(\"Test Precision Score:\", metrics.precision_score(y_testglobal, y_preds_dummyglobal, average = \"weighted\"))\n",
    "print(\"Test Recall Score:\", metrics.recall_score(y_testglobal, y_preds_dummyglobal, average = \"weighted\"))\n",
    "print(\"Test F1 Score:\", metrics.f1_score(y_testglobal, y_preds_dummyglobal, average = \"weighted\"))"
   ]
  },
  {
   "cell_type": "code",
   "execution_count": 17,
   "metadata": {},
   "outputs": [],
   "source": [
    "from sklearn.dummy import DummyClassifier\n",
    "\n",
    "dclfsea = DummyClassifier()\n",
    "dclfsea.fit(tfidf_X_trainsea, y_trainsea)\n",
    "y_preds_dummysea = dclfsea.predict(tfidf_X_testsea)"
   ]
  },
  {
   "cell_type": "markdown",
   "metadata": {},
   "source": [
    "### SEA"
   ]
  },
  {
   "cell_type": "code",
   "execution_count": 18,
   "metadata": {},
   "outputs": [
    {
     "name": "stdout",
     "output_type": "stream",
     "text": [
      "Test Accuracy Score: 0.36633224322376806\n",
      "Test Precision Score: 0.36864452322962166\n",
      "Test Recall Score: 0.36633224322376806\n",
      "Test F1 Score: 0.3674751653191033\n"
     ]
    }
   ],
   "source": [
    "#Evaluation Metrics for Dummy Classifier for ROM SEA\n",
    "\n",
    "print(\"Test Accuracy Score:\", metrics.accuracy_score(y_testsea, y_preds_dummysea))\n",
    "print(\"Test Precision Score:\", metrics.precision_score(y_testsea, y_preds_dummysea, average = \"weighted\"))\n",
    "print(\"Test Recall Score:\", metrics.recall_score(y_testsea, y_preds_dummysea, average = \"weighted\"))\n",
    "print(\"Test F1 Score:\", metrics.f1_score(y_testsea, y_preds_dummysea, average = \"weighted\"))"
   ]
  },
  {
   "cell_type": "markdown",
   "metadata": {},
   "source": [
    "## Naive Bayes"
   ]
  },
  {
   "cell_type": "markdown",
   "metadata": {},
   "source": [
    "### Global"
   ]
  },
  {
   "cell_type": "code",
   "execution_count": 20,
   "metadata": {},
   "outputs": [
    {
     "name": "stdout",
     "output_type": "stream",
     "text": [
      "Test Accuracy Score: 0.6687268232385661\n",
      "Test Precision Score: 0.5756540728294953\n",
      "Test Recall Score: 0.6687268232385661\n",
      "Test F1 Score: 0.5889646838985917\n"
     ]
    }
   ],
   "source": [
    "NBgl = MultinomialNB(fit_prior = False)\n",
    "\n",
    "NBgl.fit(tfidf_X_trainglobal,y_trainglobal)\n",
    "\n",
    "y_pred_nb_testglobal = NBgl.predict(tfidf_X_testglobal)\n",
    "\n",
    "print(\"Test Accuracy Score:\", metrics.accuracy_score(y_testglobal, y_pred_nb_testglobal))\n",
    "print(\"Test Precision Score:\", metrics.precision_score(y_testglobal, y_pred_nb_testglobal, average = \"weighted\"))\n",
    "print(\"Test Recall Score:\", metrics.recall_score(y_testglobal, y_pred_nb_testglobal, average = \"weighted\"))\n",
    "print(\"Test F1 Score:\", metrics.f1_score(y_testglobal, y_pred_nb_testglobal, average = \"weighted\"))"
   ]
  },
  {
   "cell_type": "code",
   "execution_count": 21,
   "metadata": {
    "scrolled": true
   },
   "outputs": [
    {
     "data": {
      "text/plain": [
       "Text(91.68, 0.5, 'Predicted Rating')"
      ]
     },
     "execution_count": 21,
     "metadata": {},
     "output_type": "execute_result"
    },
    {
     "data": {
      "image/png": "[encoded data removed]",
      "text/plain": [
       "<Figure size 432x288 with 1 Axes>"
      ]
     },
     "metadata": {
      "needs_background": "light"
     },
     "output_type": "display_data"
    }
   ],
   "source": [
    "matrix = confusion_matrix(y_testglobal, y_pred_nb_testglobal)\n",
    "sns.heatmap(matrix.T, square=True, annot=True, fmt='d', cbar=False, \n",
    "            xticklabels=['1','2','3','4','5'], yticklabels=['1','2','3','4','5'])\n",
    "\n",
    "plt.xlabel('Actual Rating')\n",
    "plt.ylabel('Predicted Rating')"
   ]
  },
  {
   "cell_type": "markdown",
   "metadata": {},
   "source": [
    "### SEA"
   ]
  },
  {
   "cell_type": "code",
   "execution_count": 23,
   "metadata": {},
   "outputs": [
    {
     "name": "stdout",
     "output_type": "stream",
     "text": [
      "Test Accuracy Score: 0.7262346876558949\n",
      "Test Precision Score: 0.677890453129581\n",
      "Test Recall Score: 0.7262346876558949\n",
      "Test F1 Score: 0.6905947072900763\n"
     ]
    }
   ],
   "source": [
    "NBsea = MultinomialNB(fit_prior = False)\n",
    "\n",
    "NBsea.fit(tfidf_X_trainsea,y_trainsea)\n",
    "\n",
    "y_pred_nb_testsea = NBsea.predict(tfidf_X_testsea)\n",
    "\n",
    "print(\"Test Accuracy Score:\", metrics.accuracy_score(y_testsea, y_pred_nb_testsea))\n",
    "print(\"Test Precision Score:\", metrics.precision_score(y_testsea, y_pred_nb_testsea, average = \"weighted\"))\n",
    "print(\"Test Recall Score:\", metrics.recall_score(y_testsea, y_pred_nb_testsea, average = \"weighted\"))\n",
    "print(\"Test F1 Score:\", metrics.f1_score(y_testsea, y_pred_nb_testsea, average = \"weighted\"))"
   ]
  },
  {
   "cell_type": "code",
   "execution_count": 24,
   "metadata": {},
   "outputs": [
    {
     "data": {
      "text/plain": [
       "Text(91.68, 0.5, 'Predicted Rating')"
      ]
     },
     "execution_count": 24,
     "metadata": {},
     "output_type": "execute_result"
    },
    {
     "data": {
      "image/png": "[encoded data removed]",
      "text/plain": [
       "<Figure size 432x288 with 1 Axes>"
      ]
     },
     "metadata": {
      "needs_background": "light"
     },
     "output_type": "display_data"
    }
   ],
   "source": [
    "matrix = confusion_matrix(y_testsea, y_pred_nb_testsea)\n",
    "sns.heatmap(matrix.T, square=True, annot=True, fmt='d', cbar=False, \n",
    "            xticklabels=['1','2','3','4','5'], yticklabels=['1','2','3','4','5'])\n",
    "\n",
    "plt.xlabel('Actual Rating')\n",
    "plt.ylabel('Predicted Rating')"
   ]
  },
  {
   "cell_type": "markdown",
   "metadata": {},
   "source": [
    "## Decision Tree"
   ]
  },
  {
   "cell_type": "markdown",
   "metadata": {},
   "source": [
    "### Global"
   ]
  },
  {
   "cell_type": "code",
   "execution_count": 25,
   "metadata": {},
   "outputs": [
    {
     "name": "stdout",
     "output_type": "stream",
     "text": [
      "Test Accuracy Score: 0.5834363411619283\n",
      "Test Precision Score: 0.5487798909975826\n",
      "Test Recall Score: 0.5834363411619283\n",
      "Test F1 Score: 0.5635746063734657\n"
     ]
    }
   ],
   "source": [
    "dtcgl = DecisionTreeClassifier()\n",
    "\n",
    "dtcgl.fit(tfidf_X_trainglobal, y_trainglobal)\n",
    "\n",
    "y_pred_dtc_testglobal = dtcgl.predict(tfidf_X_testglobal)\n",
    "\n",
    "print(\"Test Accuracy Score:\", metrics.accuracy_score(y_testglobal, y_pred_dtc_testglobal))\n",
    "print(\"Test Precision Score:\", metrics.precision_score(y_testglobal, y_pred_dtc_testglobal, average = \"weighted\"))\n",
    "print(\"Test Recall Score:\", metrics.recall_score(y_testglobal, y_pred_dtc_testglobal, average = \"weighted\"))\n",
    "print(\"Test F1 Score:\", metrics.f1_score(y_testglobal, y_pred_dtc_testglobal, average = \"weighted\"))"
   ]
  },
  {
   "cell_type": "code",
   "execution_count": 26,
   "metadata": {
    "scrolled": false
   },
   "outputs": [
    {
     "data": {
      "text/plain": [
       "Text(91.68, 0.5, 'Predicted Rating')"
      ]
     },
     "execution_count": 26,
     "metadata": {},
     "output_type": "execute_result"
    },
    {
     "data": {
      "image/png": "[encoded data removed]",
      "text/plain": [
       "<Figure size 432x288 with 1 Axes>"
      ]
     },
     "metadata": {
      "needs_background": "light"
     },
     "output_type": "display_data"
    }
   ],
   "source": [
    "matrix = confusion_matrix(y_testglobal, y_pred_dtc_testglobal)\n",
    "sns.heatmap(matrix.T, square=True, annot=True, fmt='d', cbar=False, \n",
    "            xticklabels=['1','2','3','4','5'], yticklabels=['1','2','3','4','5'])\n",
    "\n",
    "plt.xlabel('Actual Rating')\n",
    "plt.ylabel('Predicted Rating')"
   ]
  },
  {
   "cell_type": "code",
   "execution_count": 27,
   "metadata": {},
   "outputs": [
    {
     "name": "stdout",
     "output_type": "stream",
     "text": [
      "Test Accuracy Score: 0.6978548860927887\n",
      "Test Precision Score: 0.6631725567059941\n",
      "Test Recall Score: 0.6978548860927887\n",
      "Test F1 Score: 0.6792039953526743\n"
     ]
    }
   ],
   "source": [
    "dtcsea = DecisionTreeClassifier()\n",
    "\n",
    "dtcsea.fit(tfidf_X_trainsea, y_trainsea)\n",
    "\n",
    "y_pred_dtc_testsea = dtcsea.predict(tfidf_X_testsea)\n",
    "\n",
    "print(\"Test Accuracy Score:\", metrics.accuracy_score(y_testsea, y_pred_dtc_testsea))\n",
    "print(\"Test Precision Score:\", metrics.precision_score(y_testsea, y_pred_dtc_testsea, average = \"weighted\"))\n",
    "print(\"Test Recall Score:\", metrics.recall_score(y_testsea, y_pred_dtc_testsea, average = \"weighted\"))\n",
    "print(\"Test F1 Score:\", metrics.f1_score(y_testsea, y_pred_dtc_testsea, average = \"weighted\"))"
   ]
  },
  {
   "cell_type": "code",
   "execution_count": 28,
   "metadata": {},
   "outputs": [
    {
     "data": {
      "text/plain": [
       "Text(91.68, 0.5, 'Predicted Rating')"
      ]
     },
     "execution_count": 28,
     "metadata": {},
     "output_type": "execute_result"
    },
    {
     "data": {
      "image/png": "[encoded data removed]",
      "text/plain": [
       "<Figure size 432x288 with 1 Axes>"
      ]
     },
     "metadata": {
      "needs_background": "light"
     },
     "output_type": "display_data"
    }
   ],
   "source": [
    "matrix = confusion_matrix(y_testsea, y_pred_dtc_testsea)\n",
    "sns.heatmap(matrix.T, square=True, annot=True, fmt='d', cbar=False, \n",
    "            xticklabels=['1','2','3','4','5'], yticklabels=['1','2','3','4','5'])\n",
    "\n",
    "plt.xlabel('Actual Rating')\n",
    "plt.ylabel('Predicted Rating')"
   ]
  },
  {
   "cell_type": "markdown",
   "metadata": {},
   "source": [
    "## Random Forest"
   ]
  },
  {
   "cell_type": "markdown",
   "metadata": {},
   "source": [
    "### Global"
   ]
  },
  {
   "cell_type": "code",
   "execution_count": 30,
   "metadata": {},
   "outputs": [
    {
     "name": "stdout",
     "output_type": "stream",
     "text": [
      "Test Accuracy Score: 0.6594561186650185\n",
      "Test Precision Score: 0.5453759642720786\n",
      "Test Recall Score: 0.6594561186650185\n",
      "Test F1 Score: 0.5759200816094541\n"
     ]
    }
   ],
   "source": [
    "rfcgl = RandomForestClassifier()\n",
    "\n",
    "rfcgl.fit(tfidf_X_trainglobal, y_trainglobal)\n",
    "\n",
    "y_pred_rfc_testglobal = rfcgl.predict(tfidf_X_testglobal)\n",
    "\n",
    "print(\"Test Accuracy Score:\", metrics.accuracy_score(y_testglobal, y_pred_rfc_testglobal))\n",
    "print(\"Test Precision Score:\", metrics.precision_score(y_testglobal, y_pred_rfc_testglobal, average = \"weighted\"))\n",
    "print(\"Test Recall Score:\", metrics.recall_score(y_testglobal, y_pred_rfc_testglobal, average = \"weighted\"))\n",
    "print(\"Test F1 Score:\", metrics.f1_score(y_testglobal, y_pred_rfc_testglobal, average = \"weighted\"))"
   ]
  },
  {
   "cell_type": "code",
   "execution_count": 31,
   "metadata": {
    "scrolled": true
   },
   "outputs": [
    {
     "data": {
      "text/plain": [
       "Text(91.68, 0.5, 'Predicted Rating')"
      ]
     },
     "execution_count": 31,
     "metadata": {},
     "output_type": "execute_result"
    },
    {
     "data": {
      "image/png": "[encoded data removed]",
      "text/plain": [
       "<Figure size 432x288 with 1 Axes>"
      ]
     },
     "metadata": {
      "needs_background": "light"
     },
     "output_type": "display_data"
    }
   ],
   "source": [
    "matrix = confusion_matrix(y_testglobal, y_pred_rfc_testglobal)\n",
    "sns.heatmap(matrix.T, square=True, annot=True, fmt='d', cbar=False, \n",
    "            xticklabels=['1','2','3','4','5'], yticklabels=['1','2','3','4','5'])\n",
    "\n",
    "plt.xlabel('Actual Rating')\n",
    "plt.ylabel('Predicted Rating')"
   ]
  },
  {
   "cell_type": "markdown",
   "metadata": {},
   "source": [
    "### SEA"
   ]
  },
  {
   "cell_type": "code",
   "execution_count": 32,
   "metadata": {},
   "outputs": [
    {
     "name": "stdout",
     "output_type": "stream",
     "text": [
      "Test Accuracy Score: 0.7543927720192894\n",
      "Test Precision Score: 0.6683298836617787\n",
      "Test Recall Score: 0.7543927720192894\n",
      "Test F1 Score: 0.6975917159300834\n"
     ]
    }
   ],
   "source": [
    "rfcsea = RandomForestClassifier()\n",
    "\n",
    "rfcsea.fit(tfidf_X_trainsea, y_trainsea)\n",
    "\n",
    "y_pred_rfc_testsea = rfcsea.predict(tfidf_X_testsea)\n",
    "\n",
    "print(\"Test Accuracy Score:\", metrics.accuracy_score(y_testsea, y_pred_rfc_testsea))\n",
    "print(\"Test Precision Score:\", metrics.precision_score(y_testsea, y_pred_rfc_testsea, average = \"weighted\"))\n",
    "print(\"Test Recall Score:\", metrics.recall_score(y_testsea, y_pred_rfc_testsea, average = \"weighted\"))\n",
    "print(\"Test F1 Score:\", metrics.f1_score(y_testsea, y_pred_rfc_testsea, average = \"weighted\"))"
   ]
  },
  {
   "cell_type": "code",
   "execution_count": 33,
   "metadata": {},
   "outputs": [
    {
     "data": {
      "text/plain": [
       "Text(91.68, 0.5, 'Predicted Rating')"
      ]
     },
     "execution_count": 33,
     "metadata": {},
     "output_type": "execute_result"
    },
    {
     "data": {
      "image/png": "[encoded data removed]",
      "text/plain": [
       "<Figure size 432x288 with 1 Axes>"
      ]
     },
     "metadata": {
      "needs_background": "light"
     },
     "output_type": "display_data"
    }
   ],
   "source": [
    "matrix = confusion_matrix(y_testsea, y_pred_rfc_testsea)\n",
    "sns.heatmap(matrix.T, square=True, annot=True, fmt='d', cbar=False, \n",
    "            xticklabels=['1','2','3','4','5'], yticklabels=['1','2','3','4','5'])\n",
    "\n",
    "plt.xlabel('Actual Rating')\n",
    "plt.ylabel('Predicted Rating')"
   ]
  },
  {
   "cell_type": "markdown",
   "metadata": {},
   "source": [
    "## Support Vector Machine"
   ]
  },
  {
   "cell_type": "markdown",
   "metadata": {},
   "source": [
    "### Global"
   ]
  },
  {
   "cell_type": "code",
   "execution_count": 34,
   "metadata": {},
   "outputs": [
    {
     "name": "stdout",
     "output_type": "stream",
     "text": [
      "Test Accuracy Score: 0.6841779975278122\n",
      "Test Precision Score: 0.5872740271369469\n",
      "Test Recall Score: 0.6841779975278122\n",
      "Test F1 Score: 0.5949577097822947\n"
     ]
    }
   ],
   "source": [
    "SVMgl = svm.SVC()\n",
    "SVMgl.fit(tfidf_X_trainglobal, y_trainglobal)\n",
    "\n",
    "y_pred_SVM_testglobal = SVMgl.predict(tfidf_X_testglobal)\n",
    "\n",
    "print(\"Test Accuracy Score:\", metrics.accuracy_score(y_testglobal, y_pred_SVM_testglobal))\n",
    "print(\"Test Precision Score:\", metrics.precision_score(y_testglobal, y_pred_SVM_testglobal, average = \"weighted\"))\n",
    "print(\"Test Recall Score:\", metrics.recall_score(y_testglobal, y_pred_SVM_testglobal, average = \"weighted\"))\n",
    "print(\"Test F1 Score:\", metrics.f1_score(y_testglobal, y_pred_SVM_testglobal, average = \"weighted\"))"
   ]
  },
  {
   "cell_type": "code",
   "execution_count": 35,
   "metadata": {
    "scrolled": true
   },
   "outputs": [
    {
     "data": {
      "text/plain": [
       "Text(91.68, 0.5, 'Predicted Rating')"
      ]
     },
     "execution_count": 35,
     "metadata": {},
     "output_type": "execute_result"
    },
    {
     "data": {
      "image/png": "[encoded data removed]",
      "text/plain": [
       "<Figure size 432x288 with 1 Axes>"
      ]
     },
     "metadata": {
      "needs_background": "light"
     },
     "output_type": "display_data"
    }
   ],
   "source": [
    "matrix = confusion_matrix(y_testglobal, y_pred_SVM_testglobal)\n",
    "sns.heatmap(matrix.T, square=True, annot=True, fmt='d', cbar=False, \n",
    "            xticklabels=['1','2','3','4','5'], yticklabels=['1','2','3','4','5'])\n",
    "\n",
    "plt.xlabel('Actual Rating')\n",
    "plt.ylabel('Predicted Rating')"
   ]
  },
  {
   "cell_type": "markdown",
   "metadata": {},
   "source": [
    "### SEA"
   ]
  },
  {
   "cell_type": "code",
   "execution_count": 36,
   "metadata": {},
   "outputs": [
    {
     "name": "stdout",
     "output_type": "stream",
     "text": [
      "Test Accuracy Score: 0.7723518651959426\n",
      "Test Precision Score: 0.6895906690359215\n",
      "Test Recall Score: 0.7723518651959426\n",
      "Test F1 Score: 0.7100195104243602\n"
     ]
    },
    {
     "name": "stderr",
     "output_type": "stream",
     "text": [
      "/opt/anaconda3/lib/python3.7/site-packages/sklearn/metrics/_classification.py:1221: UndefinedMetricWarning: Precision is ill-defined and being set to 0.0 in labels with no predicted samples. Use `zero_division` parameter to control this behavior.\n",
      "  _warn_prf(average, modifier, msg_start, len(result))\n"
     ]
    }
   ],
   "source": [
    "SVMsea = svm.SVC()\n",
    "SVMsea.fit(tfidf_X_trainsea, y_trainsea)\n",
    "\n",
    "y_pred_SVM_testsea = SVMsea.predict(tfidf_X_testsea)\n",
    "\n",
    "print(\"Test Accuracy Score:\", metrics.accuracy_score(y_testsea, y_pred_SVM_testsea))\n",
    "print(\"Test Precision Score:\", metrics.precision_score(y_testsea, y_pred_SVM_testsea, average = \"weighted\"))\n",
    "print(\"Test Recall Score:\", metrics.recall_score(y_testsea, y_pred_SVM_testsea, average = \"weighted\"))\n",
    "print(\"Test F1 Score:\", metrics.f1_score(y_testsea, y_pred_SVM_testsea, average = \"weighted\"))"
   ]
  },
  {
   "cell_type": "code",
   "execution_count": 37,
   "metadata": {},
   "outputs": [
    {
     "data": {
      "text/plain": [
       "Text(91.68, 0.5, 'Predicted Rating')"
      ]
     },
     "execution_count": 37,
     "metadata": {},
     "output_type": "execute_result"
    },
    {
     "data": {
      "image/png": "[encoded data removed]",
      "text/plain": [
       "<Figure size 432x288 with 1 Axes>"
      ]
     },
     "metadata": {
      "needs_background": "light"
     },
     "output_type": "display_data"
    }
   ],
   "source": [
    "matrix = confusion_matrix(y_testsea, y_pred_SVM_testsea)\n",
    "sns.heatmap(matrix.T, square=True, annot=True, fmt='d', cbar=False, \n",
    "            xticklabels=['1','2','3','4','5'], yticklabels=['1','2','3','4','5'])\n",
    "\n",
    "plt.xlabel('Actual Rating')\n",
    "plt.ylabel('Predicted Rating')"
   ]
  },
  {
   "cell_type": "markdown",
   "metadata": {},
   "source": [
    "## Gridsearch (Decision Tree)"
   ]
  },
  {
   "cell_type": "code",
   "execution_count": 39,
   "metadata": {},
   "outputs": [],
   "source": [
    "dtc_param_grid = {\n",
    "    'criterion' : ['gini', 'entropy'],\n",
    "    'max_depth' : [None, 2, 3, 4, 5, 6],\n",
    "    'max_features': ['auto', 'log2', None],\n",
    "    'min_samples_split' : [2, 3, 4, 5, 10, 15],\n",
    "    'min_samples_leaf' : [1, 2, 3, 4, 5, 10]\n",
    "}\n"
   ]
  },
  {
   "cell_type": "markdown",
   "metadata": {},
   "source": [
    "### Global"
   ]
  },
  {
   "cell_type": "code",
   "execution_count": 40,
   "metadata": {},
   "outputs": [
    {
     "name": "stdout",
     "output_type": "stream",
     "text": [
      "0:03:05.044870\n"
     ]
    }
   ],
   "source": [
    "starttime = datetime.now()\n",
    "\n",
    "#######\n",
    "\n",
    "dt_gridgl = GridSearchCV(dtcgl, dtc_param_grid, cv=5, return_train_score=True)\n",
    "\n",
    "dt_gridgl.fit(tfidf_X_trainglobal, y_trainglobal)\n",
    "\n",
    "#######\n",
    "\n",
    "print(datetime.now() - starttime)"
   ]
  },
  {
   "cell_type": "code",
   "execution_count": 42,
   "metadata": {
    "scrolled": false
   },
   "outputs": [
    {
     "name": "stdout",
     "output_type": "stream",
     "text": [
      "Mean Training Score:  54.13%\n",
      "Mean Test Score:  68.45%\n",
      "Best Parameter Combination Found During Grid Search:\n"
     ]
    },
    {
     "data": {
      "text/plain": [
       "{'criterion': 'entropy',\n",
       " 'max_depth': None,\n",
       " 'max_features': 'auto',\n",
       " 'min_samples_leaf': 2,\n",
       " 'min_samples_split': 3}"
      ]
     },
     "execution_count": 42,
     "metadata": {},
     "output_type": "execute_result"
    }
   ],
   "source": [
    "dt_grid_trainscoregl = np.mean(dt_gridgl.cv_results_['mean_train_score'])\n",
    "\n",
    "dt_grid_testscoregl = dt_gridgl.score(tfidf_X_trainglobal, y_trainglobal)\n",
    "\n",
    "print(f\"Mean Training Score: {dt_grid_trainscoregl : .2%}\")\n",
    "print(f\"Mean Test Score: {dt_grid_testscoregl : .2%}\")\n",
    "print(\"Best Parameter Combination Found During Grid Search:\")\n",
    "dt_gridgl.best_params_"
   ]
  },
  {
   "cell_type": "code",
   "execution_count": 44,
   "metadata": {},
   "outputs": [
    {
     "name": "stdout",
     "output_type": "stream",
     "text": [
      "Test Accuracy Score: 0.5914709517923362\n",
      "Test Precision Score: 0.4941763960002753\n",
      "Test Recall Score: 0.5914709517923362\n",
      "Test F1 Score: 0.5286617948305732\n"
     ]
    }
   ],
   "source": [
    "dtcgl = DecisionTreeClassifier(criterion='gini', max_depth=None, max_features='auto', min_samples_leaf=3, min_samples_split=2, random_state=22)\n",
    "\n",
    "dtcgl.fit(tfidf_X_trainglobal, y_trainglobal)\n",
    "\n",
    "y_pred_dtc_testglobal = dtcgl.predict(tfidf_X_testglobal)\n",
    "\n",
    "print(\"Test Accuracy Score:\", metrics.accuracy_score(y_testglobal, y_pred_dtc_testglobal))\n",
    "print(\"Test Precision Score:\", metrics.precision_score(y_testglobal, y_pred_dtc_testglobal, average = \"weighted\"))\n",
    "print(\"Test Recall Score:\", metrics.recall_score(y_testglobal, y_pred_dtc_testglobal, average = \"weighted\"))\n",
    "print(\"Test F1 Score:\", metrics.f1_score(y_testglobal, y_pred_dtc_testglobal, average = \"weighted\"))"
   ]
  },
  {
   "cell_type": "markdown",
   "metadata": {},
   "source": [
    "Compare to:\n",
    "- Test Accuracy Score: 0.5834363411619283 (INCREASE)\n",
    "- Test Precision Score: 0.5487798909975826 (DECREASE)\n",
    "- Test Recall Score: 0.5834363411619283 (INCREASE)\n",
    "- Test F1 Score: 0.5635746063734657 (DECREASE)"
   ]
  },
  {
   "cell_type": "code",
   "execution_count": 45,
   "metadata": {},
   "outputs": [
    {
     "data": {
      "text/plain": [
       "Text(91.68, 0.5, 'Predicted Rating')"
      ]
     },
     "execution_count": 45,
     "metadata": {},
     "output_type": "execute_result"
    },
    {
     "data": {
      "image/png": "[encoded data removed]",
      "text/plain": [
       "<Figure size 432x288 with 1 Axes>"
      ]
     },
     "metadata": {
      "needs_background": "light"
     },
     "output_type": "display_data"
    }
   ],
   "source": [
    "matrix = confusion_matrix(y_testglobal, y_pred_dtc_testglobal)\n",
    "sns.heatmap(matrix.T, square=True, annot=True, fmt='d', cbar=False, \n",
    "            xticklabels=['1','2','3','4','5'], yticklabels=['1','2','3','4','5'])\n",
    "\n",
    "plt.xlabel('Actual Rating')\n",
    "plt.ylabel('Predicted Rating')"
   ]
  },
  {
   "cell_type": "markdown",
   "metadata": {},
   "source": [
    "### SEA"
   ]
  },
  {
   "cell_type": "code",
   "execution_count": 46,
   "metadata": {},
   "outputs": [
    {
     "name": "stdout",
     "output_type": "stream",
     "text": [
      "1:01:07.326005\n"
     ]
    }
   ],
   "source": [
    "starttime = datetime.now()\n",
    "\n",
    "#######\n",
    "\n",
    "dt_gridsea = GridSearchCV(dtcsea, dtc_param_grid, cv=5, return_train_score=True)\n",
    "\n",
    "dt_gridsea.fit(tfidf_X_trainsea, y_trainsea)\n",
    "\n",
    "#######\n",
    "\n",
    "print(datetime.now() - starttime)"
   ]
  },
  {
   "cell_type": "code",
   "execution_count": 48,
   "metadata": {},
   "outputs": [
    {
     "name": "stdout",
     "output_type": "stream",
     "text": [
      "Mean Training Score:  54.50%\n",
      "Mean Test Score:  76.34%\n",
      "Best Parameter Combination Found During Grid Search:\n"
     ]
    },
    {
     "data": {
      "text/plain": [
       "{'criterion': 'gini',\n",
       " 'max_depth': None,\n",
       " 'max_features': 'auto',\n",
       " 'min_samples_leaf': 2,\n",
       " 'min_samples_split': 2}"
      ]
     },
     "execution_count": 48,
     "metadata": {},
     "output_type": "execute_result"
    }
   ],
   "source": [
    "dt_grid_trainscoresea = np.mean(dt_gridsea.cv_results_['mean_train_score'])\n",
    "\n",
    "dt_grid_testscoresea = dt_gridsea.score(tfidf_X_trainsea, y_trainsea)\n",
    "\n",
    "print(f\"Mean Training Score: {dt_grid_trainscoresea : .2%}\")\n",
    "print(f\"Mean Test Score: {dt_grid_testscoresea : .2%}\")\n",
    "print(\"Best Parameter Combination Found During Grid Search:\")\n",
    "dt_gridsea.best_params_"
   ]
  },
  {
   "cell_type": "code",
   "execution_count": 49,
   "metadata": {},
   "outputs": [
    {
     "name": "stdout",
     "output_type": "stream",
     "text": [
      "Test Accuracy Score: 0.7209134748628124\n",
      "Test Precision Score: 0.6480584233819887\n",
      "Test Recall Score: 0.7209134748628124\n",
      "Test F1 Score: 0.6733166501322316\n"
     ]
    }
   ],
   "source": [
    "dtcsea = DecisionTreeClassifier(criterion='gini', max_depth=None, max_features='auto', min_samples_leaf=2, min_samples_split=2, random_state=22)\n",
    "\n",
    "dtcsea.fit(tfidf_X_trainsea, y_trainsea)\n",
    "\n",
    "y_pred_dtc_testsea = dtcsea.predict(tfidf_X_testsea)\n",
    "\n",
    "print(\"Test Accuracy Score:\", metrics.accuracy_score(y_testsea, y_pred_dtc_testsea))\n",
    "print(\"Test Precision Score:\", metrics.precision_score(y_testsea, y_pred_dtc_testsea, average = \"weighted\"))\n",
    "print(\"Test Recall Score:\", metrics.recall_score(y_testsea, y_pred_dtc_testsea, average = \"weighted\"))\n",
    "print(\"Test F1 Score:\", metrics.f1_score(y_testsea, y_pred_dtc_testsea, average = \"weighted\"))"
   ]
  },
  {
   "cell_type": "code",
   "execution_count": 51,
   "metadata": {},
   "outputs": [
    {
     "data": {
      "text/plain": [
       "Text(91.68, 0.5, 'Predicted Rating')"
      ]
     },
     "execution_count": 51,
     "metadata": {},
     "output_type": "execute_result"
    },
    {
     "data": {
      "image/png": "[encoded data removed]",
      "text/plain": [
       "<Figure size 432x288 with 1 Axes>"
      ]
     },
     "metadata": {
      "needs_background": "light"
     },
     "output_type": "display_data"
    }
   ],
   "source": [
    "matrix = confusion_matrix(y_testsea, y_pred_dtc_testsea)\n",
    "sns.heatmap(matrix.T, square=True, annot=True, fmt='d', cbar=False, \n",
    "            xticklabels=['1','2','3','4','5'], yticklabels=['1','2','3','4','5'])\n",
    "\n",
    "plt.xlabel('Actual Rating')\n",
    "plt.ylabel('Predicted Rating')"
   ]
  },
  {
   "cell_type": "markdown",
   "metadata": {},
   "source": [
    "## Gridsearch (Random Forest)"
   ]
  },
  {
   "cell_type": "code",
   "execution_count": 52,
   "metadata": {},
   "outputs": [],
   "source": [
    "rf_param_grid = {\n",
    "    'n_estimators' : [50, 100],\n",
    "    'criterion' : ['gini'],\n",
    "    'max_depth' : [None, 2, 4],\n",
    "    'max_features': ['auto', 'log2', None],\n",
    "    'min_samples_split' : [5, 10],\n",
    "    'min_samples_leaf' : [1, 3]\n",
    "}"
   ]
  },
  {
   "cell_type": "markdown",
   "metadata": {},
   "source": [
    "### Global"
   ]
  },
  {
   "cell_type": "code",
   "execution_count": 53,
   "metadata": {},
   "outputs": [
    {
     "name": "stdout",
     "output_type": "stream",
     "text": [
      "0:12:38.999151\n"
     ]
    }
   ],
   "source": [
    "starttime = datetime.now()\n",
    "\n",
    "#######\n",
    "\n",
    "rf_gridgl = GridSearchCV(rfcgl, rf_param_grid, cv=5)\n",
    "\n",
    "rf_gridgl.fit(tfidf_X_trainglobal, y_trainglobal)\n",
    "\n",
    "#######\n",
    "\n",
    "print(datetime.now() - starttime)"
   ]
  },
  {
   "cell_type": "code",
   "execution_count": 55,
   "metadata": {
    "scrolled": true
   },
   "outputs": [
    {
     "name": "stdout",
     "output_type": "stream",
     "text": [
      "Training Accuracy:  66.63%\n",
      "Best Parameter Combination Found During Grid Search:\n"
     ]
    },
    {
     "data": {
      "text/plain": [
       "{'criterion': 'gini',\n",
       " 'max_depth': None,\n",
       " 'max_features': 'log2',\n",
       " 'min_samples_leaf': 1,\n",
       " 'min_samples_split': 10,\n",
       " 'n_estimators': 100}"
      ]
     },
     "execution_count": 55,
     "metadata": {},
     "output_type": "execute_result"
    }
   ],
   "source": [
    "print(f\"Training Accuracy: {rf_gridgl.best_score_ : .2%}\")\n",
    "print(\"Best Parameter Combination Found During Grid Search:\")\n",
    "rf_gridgl.best_params_"
   ]
  },
  {
   "cell_type": "code",
   "execution_count": 56,
   "metadata": {},
   "outputs": [
    {
     "name": "stdout",
     "output_type": "stream",
     "text": [
      "Test Accuracy Score: 0.6749072929542645\n",
      "Test Precision Score: 0.5535034764322491\n",
      "Test Recall Score: 0.6749072929542645\n",
      "Test F1 Score: 0.5838392159702722\n"
     ]
    }
   ],
   "source": [
    "rfcgl = RandomForestClassifier(n_estimators = 100, criterion='gini', max_depth=None, max_features='log2', min_samples_leaf=1, min_samples_split=10, random_state = 11, n_jobs=-1)\n",
    "\n",
    "rfcgl.fit(tfidf_X_trainglobal, y_trainglobal)\n",
    "\n",
    "y_pred_rfc_testglobal = rfcgl.predict(tfidf_X_testglobal)\n",
    "\n",
    "print(\"Test Accuracy Score:\", metrics.accuracy_score(y_testglobal, y_pred_rfc_testglobal))\n",
    "print(\"Test Precision Score:\", metrics.precision_score(y_testglobal, y_pred_rfc_testglobal, average = \"weighted\"))\n",
    "print(\"Test Recall Score:\", metrics.recall_score(y_testglobal, y_pred_rfc_testglobal, average = \"weighted\"))\n",
    "print(\"Test F1 Score:\", metrics.f1_score(y_testglobal, y_pred_rfc_testglobal, average = \"weighted\"))"
   ]
  },
  {
   "cell_type": "markdown",
   "metadata": {},
   "source": [
    "Compare to:\n",
    "- Test Accuracy Score: 0.6594561186650185 (INCREASE)\n",
    "- Test Precision Score: 0.5453759642720786 (INCREASE)\n",
    "- Test Recall Score: 0.6594561186650185 (INCREASE)\n",
    "- Test F1 Score: 0.5759200816094541 (INCREASE)"
   ]
  },
  {
   "cell_type": "code",
   "execution_count": 57,
   "metadata": {
    "scrolled": false
   },
   "outputs": [
    {
     "data": {
      "text/plain": [
       "Text(91.68, 0.5, 'Predicted Rating')"
      ]
     },
     "execution_count": 57,
     "metadata": {},
     "output_type": "execute_result"
    },
    {
     "data": {
      "image/png": "[encoded data removed]",
      "text/plain": [
       "<Figure size 432x288 with 1 Axes>"
      ]
     },
     "metadata": {
      "needs_background": "light"
     },
     "output_type": "display_data"
    }
   ],
   "source": [
    "matrix = confusion_matrix(y_testglobal, y_pred_rfc_testglobal)\n",
    "sns.heatmap(matrix.T, square=True, annot=True, fmt='d', cbar=False, \n",
    "            xticklabels=['1','2','3','4','5'], yticklabels=['1','2','3','4','5'])\n",
    "\n",
    "plt.xlabel('Actual Rating')\n",
    "plt.ylabel('Predicted Rating')"
   ]
  },
  {
   "cell_type": "markdown",
   "metadata": {},
   "source": [
    "### SEA"
   ]
  },
  {
   "cell_type": "code",
   "execution_count": 60,
   "metadata": {},
   "outputs": [
    {
     "name": "stdout",
     "output_type": "stream",
     "text": [
      "0:00:00.000073\n"
     ]
    }
   ],
   "source": [
    "starttime = datetime.now()\n",
    "\n",
    "#######\n",
    "\n",
    "#rf_gridsea = GridSearchCV(rfcsea, rf_param_grid, cv=5)\n",
    "\n",
    "#rf_gridsea.fit(tfidf_X_trainsea, y_trainsea)\n",
    "\n",
    "#######\n",
    "\n",
    "print(datetime.now() - starttime)\n",
    "\n",
    "# Takes too long to run"
   ]
  },
  {
   "cell_type": "code",
   "execution_count": 61,
   "metadata": {},
   "outputs": [],
   "source": [
    "#print(f\"Training Accuracy: {rf_gridsea.best_score_ : .2%}\")\n",
    "#print(\"Best Parameter Combination Found During Grid Search:\")\n",
    "#rf_gridsea.best_params_"
   ]
  },
  {
   "cell_type": "code",
   "execution_count": 62,
   "metadata": {},
   "outputs": [
    {
     "name": "stdout",
     "output_type": "stream",
     "text": [
      "Test Accuracy Score: 0.7599357020120836\n",
      "Test Precision Score: 0.6736791608861975\n",
      "Test Recall Score: 0.7599357020120836\n",
      "Test F1 Score: 0.7004761029755466\n"
     ]
    }
   ],
   "source": [
    "rfcsea = RandomForestClassifier(n_estimators = 100, criterion='gini', max_depth=None, max_features='log2', min_samples_leaf=1, min_samples_split=10, random_state = 11, n_jobs=-1)\n",
    "\n",
    "rfcsea.fit(tfidf_X_trainsea, y_trainsea)\n",
    "\n",
    "y_pred_rfc_testsea = rfcsea.predict(tfidf_X_testsea)\n",
    "\n",
    "print(\"Test Accuracy Score:\", metrics.accuracy_score(y_testsea, y_pred_rfc_testsea))\n",
    "print(\"Test Precision Score:\", metrics.precision_score(y_testsea, y_pred_rfc_testsea, average = \"weighted\"))\n",
    "print(\"Test Recall Score:\", metrics.recall_score(y_testsea, y_pred_rfc_testsea, average = \"weighted\"))\n",
    "print(\"Test F1 Score:\", metrics.f1_score(y_testsea, y_pred_rfc_testsea, average = \"weighted\"))"
   ]
  },
  {
   "cell_type": "markdown",
   "metadata": {},
   "source": [
    "Compared to:\n",
    "\n",
    "- Test Accuracy Score: 0.7543927720192894 (INCREASE)\n",
    "- Test Precision Score: 0.6683298836617787 (INCREASE)\n",
    "- Test Recall Score: 0.7543927720192894 (INCREASE)\n",
    "- Test F1 Score: 0.6975917159300834 (INCREASE)"
   ]
  },
  {
   "cell_type": "code",
   "execution_count": 63,
   "metadata": {},
   "outputs": [
    {
     "data": {
      "text/plain": [
       "Text(91.68, 0.5, 'Predicted Rating')"
      ]
     },
     "execution_count": 63,
     "metadata": {},
     "output_type": "execute_result"
    },
    {
     "data": {
      "image/png": "[encoded data removed]",
      "text/plain": [
       "<Figure size 432x288 with 1 Axes>"
      ]
     },
     "metadata": {
      "needs_background": "light"
     },
     "output_type": "display_data"
    }
   ],
   "source": [
    "matrix = confusion_matrix(y_testsea, y_pred_rfc_testsea)\n",
    "sns.heatmap(matrix.T, square=True, annot=True, fmt='d', cbar=False, \n",
    "            xticklabels=['1','2','3','4','5'], yticklabels=['1','2','3','4','5'])\n",
    "\n",
    "plt.xlabel('Actual Rating')\n",
    "plt.ylabel('Predicted Rating')"
   ]
  },
  {
   "cell_type": "markdown",
   "metadata": {},
   "source": [
    "## Gridsearch (Support Vector Machine)"
   ]
  },
  {
   "cell_type": "code",
   "execution_count": 58,
   "metadata": {},
   "outputs": [],
   "source": [
    "svm_param_grid = {\n",
    "    'C' : [0.1, 1, 10, 100, 1000],\n",
    "    'gamma' : [1, 0.1, 0.01, 0.001, 0.0001],\n",
    "    'kernel' : ['rbf', 'linear', 'nonlinear', 'sigmoid', 'polynomial']\n",
    "}"
   ]
  },
  {
   "cell_type": "code",
   "execution_count": 37,
   "metadata": {},
   "outputs": [
    {
     "name": "stdout",
     "output_type": "stream",
     "text": [
      "Fitting 5 folds for each of 125 candidates, totalling 625 fits\n",
      "[CV] C=0.1, gamma=1, kernel=rbf ......................................\n"
     ]
    },
    {
     "name": "stderr",
     "output_type": "stream",
     "text": [
      "[Parallel(n_jobs=1)]: Using backend SequentialBackend with 1 concurrent workers.\n"
     ]
    },
    {
     "name": "stdout",
     "output_type": "stream",
     "text": [
      "[CV] .......... C=0.1, gamma=1, kernel=rbf, score=0.498, total=   2.9s\n",
      "[CV] C=0.1, gamma=1, kernel=rbf ......................................\n"
     ]
    },
    {
     "name": "stderr",
     "output_type": "stream",
     "text": [
      "[Parallel(n_jobs=1)]: Done   1 out of   1 | elapsed:    2.9s remaining:    0.0s\n"
     ]
    },
    {
     "name": "stdout",
     "output_type": "stream",
     "text": [
      "[CV] .......... C=0.1, gamma=1, kernel=rbf, score=0.503, total=   3.0s\n",
      "[CV] C=0.1, gamma=1, kernel=rbf ......................................\n"
     ]
    },
    {
     "name": "stderr",
     "output_type": "stream",
     "text": [
      "[Parallel(n_jobs=1)]: Done   2 out of   2 | elapsed:    5.9s remaining:    0.0s\n"
     ]
    },
    {
     "name": "stdout",
     "output_type": "stream",
     "text": [
      "[CV] .......... C=0.1, gamma=1, kernel=rbf, score=0.502, total=   2.9s\n",
      "[CV] C=0.1, gamma=1, kernel=rbf ......................................\n",
      "[CV] .......... C=0.1, gamma=1, kernel=rbf, score=0.501, total=   2.9s\n",
      "[CV] C=0.1, gamma=1, kernel=rbf ......................................\n",
      "[CV] .......... C=0.1, gamma=1, kernel=rbf, score=0.509, total=   2.9s\n",
      "[CV] C=0.1, gamma=1, kernel=linear ...................................\n",
      "[CV] ....... C=0.1, gamma=1, kernel=linear, score=0.662, total=   2.2s\n",
      "[CV] C=0.1, gamma=1, kernel=linear ...................................\n",
      "[CV] ....... C=0.1, gamma=1, kernel=linear, score=0.658, total=   2.2s\n",
      "[CV] C=0.1, gamma=1, kernel=linear ...................................\n",
      "[CV] ....... C=0.1, gamma=1, kernel=linear, score=0.655, total=   2.1s\n",
      "[CV] C=0.1, gamma=1, kernel=linear ...................................\n",
      "[CV] ....... C=0.1, gamma=1, kernel=linear, score=0.669, total=   2.2s\n",
      "[CV] C=0.1, gamma=1, kernel=linear ...................................\n",
      "[CV] ....... C=0.1, gamma=1, kernel=linear, score=0.654, total=   2.2s\n",
      "[CV] C=0.1, gamma=1, kernel=nonlinear ................................\n",
      "[CV] ...... C=0.1, gamma=1, kernel=nonlinear, score=nan, total=   0.0s\n",
      "[CV] C=0.1, gamma=1, kernel=nonlinear ................................\n",
      "[CV] ...... C=0.1, gamma=1, kernel=nonlinear, score=nan, total=   0.0s\n",
      "[CV] C=0.1, gamma=1, kernel=nonlinear ................................\n",
      "[CV] ...... C=0.1, gamma=1, kernel=nonlinear, score=nan, total=   0.0s\n",
      "[CV] C=0.1, gamma=1, kernel=nonlinear ................................\n",
      "[CV] ...... C=0.1, gamma=1, kernel=nonlinear, score=nan, total=   0.0s\n",
      "[CV] C=0.1, gamma=1, kernel=nonlinear ................................\n",
      "[CV] ...... C=0.1, gamma=1, kernel=nonlinear, score=nan, total=   0.0s\n",
      "[CV] C=0.1, gamma=1, kernel=sigmoid ..................................\n"
     ]
    },
    {
     "name": "stderr",
     "output_type": "stream",
     "text": [
      "/opt/anaconda3/lib/python3.7/site-packages/sklearn/model_selection/_validation.py:552: FitFailedWarning: Estimator fit failed. The score on this train-test partition for these parameters will be set to nan. Details: \n",
      "Traceback (most recent call last):\n",
      "  File \"/opt/anaconda3/lib/python3.7/site-packages/sklearn/model_selection/_validation.py\", line 531, in _fit_and_score\n",
      "    estimator.fit(X_train, y_train, **fit_params)\n",
      "  File \"/opt/anaconda3/lib/python3.7/site-packages/sklearn/svm/_base.py\", line 217, in fit\n",
      "    fit(X, y, sample_weight, solver_type, kernel, random_seed=seed)\n",
      "  File \"/opt/anaconda3/lib/python3.7/site-packages/sklearn/svm/_base.py\", line 285, in _sparse_fit\n",
      "    kernel_type = self._sparse_kernels.index(kernel)\n",
      "ValueError: 'nonlinear' is not in list\n",
      "\n",
      "  FitFailedWarning)\n"
     ]
    },
    {
     "name": "stdout",
     "output_type": "stream",
     "text": [
      "[CV] ...... C=0.1, gamma=1, kernel=sigmoid, score=0.658, total=   2.2s\n",
      "[CV] C=0.1, gamma=1, kernel=sigmoid ..................................\n",
      "[CV] ...... C=0.1, gamma=1, kernel=sigmoid, score=0.653, total=   2.2s\n",
      "[CV] C=0.1, gamma=1, kernel=sigmoid ..................................\n",
      "[CV] ...... C=0.1, gamma=1, kernel=sigmoid, score=0.652, total=   2.2s\n",
      "[CV] C=0.1, gamma=1, kernel=sigmoid ..................................\n",
      "[CV] ...... C=0.1, gamma=1, kernel=sigmoid, score=0.662, total=   2.2s\n",
      "[CV] C=0.1, gamma=1, kernel=sigmoid ..................................\n",
      "[CV] ...... C=0.1, gamma=1, kernel=sigmoid, score=0.647, total=   2.2s\n",
      "[CV] C=0.1, gamma=1, kernel=polynomial ...............................\n",
      "[CV] ..... C=0.1, gamma=1, kernel=polynomial, score=nan, total=   0.0s\n",
      "[CV] C=0.1, gamma=1, kernel=polynomial ...............................\n",
      "[CV] ..... C=0.1, gamma=1, kernel=polynomial, score=nan, total=   0.0s\n",
      "[CV] C=0.1, gamma=1, kernel=polynomial ...............................\n",
      "[CV] ..... C=0.1, gamma=1, kernel=polynomial, score=nan, total=   0.0s\n",
      "[CV] C=0.1, gamma=1, kernel=polynomial ...............................\n",
      "[CV] ..... C=0.1, gamma=1, kernel=polynomial, score=nan, total=   0.0s\n",
      "[CV] C=0.1, gamma=1, kernel=polynomial ...............................\n",
      "[CV] ..... C=0.1, gamma=1, kernel=polynomial, score=nan, total=   0.0s\n",
      "[CV] C=0.1, gamma=0.1, kernel=rbf ....................................\n"
     ]
    },
    {
     "name": "stderr",
     "output_type": "stream",
     "text": [
      "/opt/anaconda3/lib/python3.7/site-packages/sklearn/model_selection/_validation.py:552: FitFailedWarning: Estimator fit failed. The score on this train-test partition for these parameters will be set to nan. Details: \n",
      "Traceback (most recent call last):\n",
      "  File \"/opt/anaconda3/lib/python3.7/site-packages/sklearn/model_selection/_validation.py\", line 531, in _fit_and_score\n",
      "    estimator.fit(X_train, y_train, **fit_params)\n",
      "  File \"/opt/anaconda3/lib/python3.7/site-packages/sklearn/svm/_base.py\", line 217, in fit\n",
      "    fit(X, y, sample_weight, solver_type, kernel, random_seed=seed)\n",
      "  File \"/opt/anaconda3/lib/python3.7/site-packages/sklearn/svm/_base.py\", line 285, in _sparse_fit\n",
      "    kernel_type = self._sparse_kernels.index(kernel)\n",
      "ValueError: 'polynomial' is not in list\n",
      "\n",
      "  FitFailedWarning)\n"
     ]
    },
    {
     "name": "stdout",
     "output_type": "stream",
     "text": [
      "[CV] ........ C=0.1, gamma=0.1, kernel=rbf, score=0.484, total=   2.4s\n",
      "[CV] C=0.1, gamma=0.1, kernel=rbf ....................................\n",
      "[CV] ........ C=0.1, gamma=0.1, kernel=rbf, score=0.484, total=   2.4s\n",
      "[CV] C=0.1, gamma=0.1, kernel=rbf ....................................\n",
      "[CV] ........ C=0.1, gamma=0.1, kernel=rbf, score=0.483, total=   2.3s\n",
      "[CV] C=0.1, gamma=0.1, kernel=rbf ....................................\n",
      "[CV] ........ C=0.1, gamma=0.1, kernel=rbf, score=0.483, total=   2.3s\n",
      "[CV] C=0.1, gamma=0.1, kernel=rbf ....................................\n",
      "[CV] ........ C=0.1, gamma=0.1, kernel=rbf, score=0.483, total=   2.3s\n",
      "[CV] C=0.1, gamma=0.1, kernel=linear .................................\n",
      "[CV] ..... C=0.1, gamma=0.1, kernel=linear, score=0.662, total=   2.1s\n",
      "[CV] C=0.1, gamma=0.1, kernel=linear .................................\n",
      "[CV] ..... C=0.1, gamma=0.1, kernel=linear, score=0.658, total=   2.2s\n",
      "[CV] C=0.1, gamma=0.1, kernel=linear .................................\n",
      "[CV] ..... C=0.1, gamma=0.1, kernel=linear, score=0.655, total=   2.1s\n",
      "[CV] C=0.1, gamma=0.1, kernel=linear .................................\n",
      "[CV] ..... C=0.1, gamma=0.1, kernel=linear, score=0.669, total=   2.1s\n",
      "[CV] C=0.1, gamma=0.1, kernel=linear .................................\n",
      "[CV] ..... C=0.1, gamma=0.1, kernel=linear, score=0.654, total=   2.2s\n",
      "[CV] C=0.1, gamma=0.1, kernel=nonlinear ..............................\n",
      "[CV] .... C=0.1, gamma=0.1, kernel=nonlinear, score=nan, total=   0.0s\n",
      "[CV] C=0.1, gamma=0.1, kernel=nonlinear ..............................\n",
      "[CV] .... C=0.1, gamma=0.1, kernel=nonlinear, score=nan, total=   0.0s\n",
      "[CV] C=0.1, gamma=0.1, kernel=nonlinear ..............................\n",
      "[CV] .... C=0.1, gamma=0.1, kernel=nonlinear, score=nan, total=   0.0s\n",
      "[CV] C=0.1, gamma=0.1, kernel=nonlinear ..............................\n",
      "[CV] .... C=0.1, gamma=0.1, kernel=nonlinear, score=nan, total=   0.0s\n",
      "[CV] C=0.1, gamma=0.1, kernel=nonlinear ..............................\n",
      "[CV] .... C=0.1, gamma=0.1, kernel=nonlinear, score=nan, total=   0.0s\n",
      "[CV] C=0.1, gamma=0.1, kernel=sigmoid ................................\n",
      "[CV] .... C=0.1, gamma=0.1, kernel=sigmoid, score=0.484, total=   2.3s\n",
      "[CV] C=0.1, gamma=0.1, kernel=sigmoid ................................\n",
      "[CV] .... C=0.1, gamma=0.1, kernel=sigmoid, score=0.484, total=   2.3s\n",
      "[CV] C=0.1, gamma=0.1, kernel=sigmoid ................................\n",
      "[CV] .... C=0.1, gamma=0.1, kernel=sigmoid, score=0.483, total=   2.3s\n",
      "[CV] C=0.1, gamma=0.1, kernel=sigmoid ................................\n",
      "[CV] .... C=0.1, gamma=0.1, kernel=sigmoid, score=0.483, total=   2.3s\n",
      "[CV] C=0.1, gamma=0.1, kernel=sigmoid ................................\n",
      "[CV] .... C=0.1, gamma=0.1, kernel=sigmoid, score=0.483, total=   2.3s\n",
      "[CV] C=0.1, gamma=0.1, kernel=polynomial .............................\n",
      "[CV] ... C=0.1, gamma=0.1, kernel=polynomial, score=nan, total=   0.0s\n",
      "[CV] C=0.1, gamma=0.1, kernel=polynomial .............................\n",
      "[CV] ... C=0.1, gamma=0.1, kernel=polynomial, score=nan, total=   0.0s\n",
      "[CV] C=0.1, gamma=0.1, kernel=polynomial .............................\n",
      "[CV] ... C=0.1, gamma=0.1, kernel=polynomial, score=nan, total=   0.0s\n",
      "[CV] C=0.1, gamma=0.1, kernel=polynomial .............................\n",
      "[CV] ... C=0.1, gamma=0.1, kernel=polynomial, score=nan, total=   0.0s\n",
      "[CV] C=0.1, gamma=0.1, kernel=polynomial .............................\n",
      "[CV] ... C=0.1, gamma=0.1, kernel=polynomial, score=nan, total=   0.0s\n",
      "[CV] C=0.1, gamma=0.01, kernel=rbf ...................................\n",
      "[CV] ....... C=0.1, gamma=0.01, kernel=rbf, score=0.484, total=   2.1s\n",
      "[CV] C=0.1, gamma=0.01, kernel=rbf ...................................\n",
      "[CV] ....... C=0.1, gamma=0.01, kernel=rbf, score=0.484, total=   2.1s\n",
      "[CV] C=0.1, gamma=0.01, kernel=rbf ...................................\n",
      "[CV] ....... C=0.1, gamma=0.01, kernel=rbf, score=0.483, total=   2.1s\n",
      "[CV] C=0.1, gamma=0.01, kernel=rbf ...................................\n",
      "[CV] ....... C=0.1, gamma=0.01, kernel=rbf, score=0.483, total=   2.1s\n",
      "[CV] C=0.1, gamma=0.01, kernel=rbf ...................................\n",
      "[CV] ....... C=0.1, gamma=0.01, kernel=rbf, score=0.483, total=   2.1s\n",
      "[CV] C=0.1, gamma=0.01, kernel=linear ................................\n",
      "[CV] .... C=0.1, gamma=0.01, kernel=linear, score=0.662, total=   2.1s\n",
      "[CV] C=0.1, gamma=0.01, kernel=linear ................................\n",
      "[CV] .... C=0.1, gamma=0.01, kernel=linear, score=0.658, total=   2.2s\n",
      "[CV] C=0.1, gamma=0.01, kernel=linear ................................\n",
      "[CV] .... C=0.1, gamma=0.01, kernel=linear, score=0.655, total=   2.1s\n",
      "[CV] C=0.1, gamma=0.01, kernel=linear ................................\n",
      "[CV] .... C=0.1, gamma=0.01, kernel=linear, score=0.669, total=   2.1s\n",
      "[CV] C=0.1, gamma=0.01, kernel=linear ................................\n",
      "[CV] .... C=0.1, gamma=0.01, kernel=linear, score=0.654, total=   2.1s\n",
      "[CV] C=0.1, gamma=0.01, kernel=nonlinear .............................\n",
      "[CV] ... C=0.1, gamma=0.01, kernel=nonlinear, score=nan, total=   0.0s\n",
      "[CV] C=0.1, gamma=0.01, kernel=nonlinear .............................\n",
      "[CV] ... C=0.1, gamma=0.01, kernel=nonlinear, score=nan, total=   0.0s\n",
      "[CV] C=0.1, gamma=0.01, kernel=nonlinear .............................\n",
      "[CV] ... C=0.1, gamma=0.01, kernel=nonlinear, score=nan, total=   0.0s\n",
      "[CV] C=0.1, gamma=0.01, kernel=nonlinear .............................\n",
      "[CV] ... C=0.1, gamma=0.01, kernel=nonlinear, score=nan, total=   0.0s\n",
      "[CV] C=0.1, gamma=0.01, kernel=nonlinear .............................\n",
      "[CV] ... C=0.1, gamma=0.01, kernel=nonlinear, score=nan, total=   0.0s\n",
      "[CV] C=0.1, gamma=0.01, kernel=sigmoid ...............................\n",
      "[CV] ... C=0.1, gamma=0.01, kernel=sigmoid, score=0.484, total=   2.0s\n",
      "[CV] C=0.1, gamma=0.01, kernel=sigmoid ...............................\n",
      "[CV] ... C=0.1, gamma=0.01, kernel=sigmoid, score=0.484, total=   2.0s\n",
      "[CV] C=0.1, gamma=0.01, kernel=sigmoid ...............................\n",
      "[CV] ... C=0.1, gamma=0.01, kernel=sigmoid, score=0.483, total=   2.0s\n",
      "[CV] C=0.1, gamma=0.01, kernel=sigmoid ...............................\n",
      "[CV] ... C=0.1, gamma=0.01, kernel=sigmoid, score=0.483, total=   2.0s\n",
      "[CV] C=0.1, gamma=0.01, kernel=sigmoid ...............................\n",
      "[CV] ... C=0.1, gamma=0.01, kernel=sigmoid, score=0.483, total=   2.0s\n",
      "[CV] C=0.1, gamma=0.01, kernel=polynomial ............................\n",
      "[CV] .. C=0.1, gamma=0.01, kernel=polynomial, score=nan, total=   0.0s\n",
      "[CV] C=0.1, gamma=0.01, kernel=polynomial ............................\n",
      "[CV] .. C=0.1, gamma=0.01, kernel=polynomial, score=nan, total=   0.0s\n",
      "[CV] C=0.1, gamma=0.01, kernel=polynomial ............................\n",
      "[CV] .. C=0.1, gamma=0.01, kernel=polynomial, score=nan, total=   0.0s\n",
      "[CV] C=0.1, gamma=0.01, kernel=polynomial ............................\n",
      "[CV] .. C=0.1, gamma=0.01, kernel=polynomial, score=nan, total=   0.0s\n",
      "[CV] C=0.1, gamma=0.01, kernel=polynomial ............................\n",
      "[CV] .. C=0.1, gamma=0.01, kernel=polynomial, score=nan, total=   0.0s\n",
      "[CV] C=0.1, gamma=0.001, kernel=rbf ..................................\n",
      "[CV] ...... C=0.1, gamma=0.001, kernel=rbf, score=0.484, total=   1.9s\n",
      "[CV] C=0.1, gamma=0.001, kernel=rbf ..................................\n",
      "[CV] ...... C=0.1, gamma=0.001, kernel=rbf, score=0.484, total=   1.9s\n",
      "[CV] C=0.1, gamma=0.001, kernel=rbf ..................................\n",
      "[CV] ...... C=0.1, gamma=0.001, kernel=rbf, score=0.483, total=   1.9s\n",
      "[CV] C=0.1, gamma=0.001, kernel=rbf ..................................\n",
      "[CV] ...... C=0.1, gamma=0.001, kernel=rbf, score=0.483, total=   1.9s\n",
      "[CV] C=0.1, gamma=0.001, kernel=rbf ..................................\n",
      "[CV] ...... C=0.1, gamma=0.001, kernel=rbf, score=0.483, total=   1.9s\n",
      "[CV] C=0.1, gamma=0.001, kernel=linear ...............................\n",
      "[CV] ... C=0.1, gamma=0.001, kernel=linear, score=0.662, total=   2.1s\n",
      "[CV] C=0.1, gamma=0.001, kernel=linear ...............................\n",
      "[CV] ... C=0.1, gamma=0.001, kernel=linear, score=0.658, total=   2.2s\n",
      "[CV] C=0.1, gamma=0.001, kernel=linear ...............................\n",
      "[CV] ... C=0.1, gamma=0.001, kernel=linear, score=0.655, total=   2.1s\n",
      "[CV] C=0.1, gamma=0.001, kernel=linear ...............................\n"
     ]
    },
    {
     "name": "stdout",
     "output_type": "stream",
     "text": [
      "[CV] ... C=0.1, gamma=0.001, kernel=linear, score=0.669, total=   2.1s\n",
      "[CV] C=0.1, gamma=0.001, kernel=linear ...............................\n",
      "[CV] ... C=0.1, gamma=0.001, kernel=linear, score=0.654, total=   2.1s\n",
      "[CV] C=0.1, gamma=0.001, kernel=nonlinear ............................\n",
      "[CV] .. C=0.1, gamma=0.001, kernel=nonlinear, score=nan, total=   0.0s\n",
      "[CV] C=0.1, gamma=0.001, kernel=nonlinear ............................\n",
      "[CV] .. C=0.1, gamma=0.001, kernel=nonlinear, score=nan, total=   0.0s\n",
      "[CV] C=0.1, gamma=0.001, kernel=nonlinear ............................\n",
      "[CV] .. C=0.1, gamma=0.001, kernel=nonlinear, score=nan, total=   0.0s\n",
      "[CV] C=0.1, gamma=0.001, kernel=nonlinear ............................\n",
      "[CV] .. C=0.1, gamma=0.001, kernel=nonlinear, score=nan, total=   0.0s\n",
      "[CV] C=0.1, gamma=0.001, kernel=nonlinear ............................\n",
      "[CV] .. C=0.1, gamma=0.001, kernel=nonlinear, score=nan, total=   0.0s\n",
      "[CV] C=0.1, gamma=0.001, kernel=sigmoid ..............................\n",
      "[CV] .. C=0.1, gamma=0.001, kernel=sigmoid, score=0.484, total=   1.9s\n",
      "[CV] C=0.1, gamma=0.001, kernel=sigmoid ..............................\n",
      "[CV] .. C=0.1, gamma=0.001, kernel=sigmoid, score=0.484, total=   1.9s\n",
      "[CV] C=0.1, gamma=0.001, kernel=sigmoid ..............................\n",
      "[CV] .. C=0.1, gamma=0.001, kernel=sigmoid, score=0.483, total=   1.9s\n",
      "[CV] C=0.1, gamma=0.001, kernel=sigmoid ..............................\n",
      "[CV] .. C=0.1, gamma=0.001, kernel=sigmoid, score=0.483, total=   1.9s\n",
      "[CV] C=0.1, gamma=0.001, kernel=sigmoid ..............................\n",
      "[CV] .. C=0.1, gamma=0.001, kernel=sigmoid, score=0.483, total=   1.9s\n",
      "[CV] C=0.1, gamma=0.001, kernel=polynomial ...........................\n",
      "[CV] . C=0.1, gamma=0.001, kernel=polynomial, score=nan, total=   0.0s\n",
      "[CV] C=0.1, gamma=0.001, kernel=polynomial ...........................\n",
      "[CV] . C=0.1, gamma=0.001, kernel=polynomial, score=nan, total=   0.0s\n",
      "[CV] C=0.1, gamma=0.001, kernel=polynomial ...........................\n",
      "[CV] . C=0.1, gamma=0.001, kernel=polynomial, score=nan, total=   0.0s\n",
      "[CV] C=0.1, gamma=0.001, kernel=polynomial ...........................\n",
      "[CV] . C=0.1, gamma=0.001, kernel=polynomial, score=nan, total=   0.0s\n",
      "[CV] C=0.1, gamma=0.001, kernel=polynomial ...........................\n",
      "[CV] . C=0.1, gamma=0.001, kernel=polynomial, score=nan, total=   0.0s\n",
      "[CV] C=0.1, gamma=0.0001, kernel=rbf .................................\n",
      "[CV] ..... C=0.1, gamma=0.0001, kernel=rbf, score=0.484, total=   1.9s\n",
      "[CV] C=0.1, gamma=0.0001, kernel=rbf .................................\n",
      "[CV] ..... C=0.1, gamma=0.0001, kernel=rbf, score=0.484, total=   1.9s\n",
      "[CV] C=0.1, gamma=0.0001, kernel=rbf .................................\n",
      "[CV] ..... C=0.1, gamma=0.0001, kernel=rbf, score=0.483, total=   1.8s\n",
      "[CV] C=0.1, gamma=0.0001, kernel=rbf .................................\n",
      "[CV] ..... C=0.1, gamma=0.0001, kernel=rbf, score=0.483, total=   1.9s\n",
      "[CV] C=0.1, gamma=0.0001, kernel=rbf .................................\n",
      "[CV] ..... C=0.1, gamma=0.0001, kernel=rbf, score=0.483, total=   1.9s\n",
      "[CV] C=0.1, gamma=0.0001, kernel=linear ..............................\n",
      "[CV] .. C=0.1, gamma=0.0001, kernel=linear, score=0.662, total=   2.2s\n",
      "[CV] C=0.1, gamma=0.0001, kernel=linear ..............................\n",
      "[CV] .. C=0.1, gamma=0.0001, kernel=linear, score=0.658, total=   2.2s\n",
      "[CV] C=0.1, gamma=0.0001, kernel=linear ..............................\n",
      "[CV] .. C=0.1, gamma=0.0001, kernel=linear, score=0.655, total=   2.1s\n",
      "[CV] C=0.1, gamma=0.0001, kernel=linear ..............................\n",
      "[CV] .. C=0.1, gamma=0.0001, kernel=linear, score=0.669, total=   2.1s\n",
      "[CV] C=0.1, gamma=0.0001, kernel=linear ..............................\n",
      "[CV] .. C=0.1, gamma=0.0001, kernel=linear, score=0.654, total=   2.2s\n",
      "[CV] C=0.1, gamma=0.0001, kernel=nonlinear ...........................\n",
      "[CV] . C=0.1, gamma=0.0001, kernel=nonlinear, score=nan, total=   0.0s\n",
      "[CV] C=0.1, gamma=0.0001, kernel=nonlinear ...........................\n",
      "[CV] . C=0.1, gamma=0.0001, kernel=nonlinear, score=nan, total=   0.0s\n",
      "[CV] C=0.1, gamma=0.0001, kernel=nonlinear ...........................\n",
      "[CV] . C=0.1, gamma=0.0001, kernel=nonlinear, score=nan, total=   0.0s\n",
      "[CV] C=0.1, gamma=0.0001, kernel=nonlinear ...........................\n",
      "[CV] . C=0.1, gamma=0.0001, kernel=nonlinear, score=nan, total=   0.0s\n",
      "[CV] C=0.1, gamma=0.0001, kernel=nonlinear ...........................\n",
      "[CV] . C=0.1, gamma=0.0001, kernel=nonlinear, score=nan, total=   0.0s\n",
      "[CV] C=0.1, gamma=0.0001, kernel=sigmoid .............................\n",
      "[CV] . C=0.1, gamma=0.0001, kernel=sigmoid, score=0.484, total=   1.9s\n",
      "[CV] C=0.1, gamma=0.0001, kernel=sigmoid .............................\n",
      "[CV] . C=0.1, gamma=0.0001, kernel=sigmoid, score=0.484, total=   1.9s\n",
      "[CV] C=0.1, gamma=0.0001, kernel=sigmoid .............................\n",
      "[CV] . C=0.1, gamma=0.0001, kernel=sigmoid, score=0.483, total=   1.9s\n",
      "[CV] C=0.1, gamma=0.0001, kernel=sigmoid .............................\n",
      "[CV] . C=0.1, gamma=0.0001, kernel=sigmoid, score=0.483, total=   1.9s\n",
      "[CV] C=0.1, gamma=0.0001, kernel=sigmoid .............................\n",
      "[CV] . C=0.1, gamma=0.0001, kernel=sigmoid, score=0.483, total=   1.9s\n",
      "[CV] C=0.1, gamma=0.0001, kernel=polynomial ..........................\n",
      "[CV]  C=0.1, gamma=0.0001, kernel=polynomial, score=nan, total=   0.0s\n",
      "[CV] C=0.1, gamma=0.0001, kernel=polynomial ..........................\n",
      "[CV]  C=0.1, gamma=0.0001, kernel=polynomial, score=nan, total=   0.0s\n",
      "[CV] C=0.1, gamma=0.0001, kernel=polynomial ..........................\n",
      "[CV]  C=0.1, gamma=0.0001, kernel=polynomial, score=nan, total=   0.0s\n",
      "[CV] C=0.1, gamma=0.0001, kernel=polynomial ..........................\n",
      "[CV]  C=0.1, gamma=0.0001, kernel=polynomial, score=nan, total=   0.0s\n",
      "[CV] C=0.1, gamma=0.0001, kernel=polynomial ..........................\n",
      "[CV]  C=0.1, gamma=0.0001, kernel=polynomial, score=nan, total=   0.0s\n",
      "[CV] C=1, gamma=1, kernel=rbf ........................................\n",
      "[CV] ............ C=1, gamma=1, kernel=rbf, score=0.690, total=   2.8s\n",
      "[CV] C=1, gamma=1, kernel=rbf ........................................\n",
      "[CV] ............ C=1, gamma=1, kernel=rbf, score=0.683, total=   2.9s\n",
      "[CV] C=1, gamma=1, kernel=rbf ........................................\n",
      "[CV] ............ C=1, gamma=1, kernel=rbf, score=0.690, total=   2.8s\n",
      "[CV] C=1, gamma=1, kernel=rbf ........................................\n",
      "[CV] ............ C=1, gamma=1, kernel=rbf, score=0.686, total=   2.8s\n",
      "[CV] C=1, gamma=1, kernel=rbf ........................................\n",
      "[CV] ............ C=1, gamma=1, kernel=rbf, score=0.688, total=   2.9s\n",
      "[CV] C=1, gamma=1, kernel=linear .....................................\n",
      "[CV] ......... C=1, gamma=1, kernel=linear, score=0.691, total=   2.0s\n",
      "[CV] C=1, gamma=1, kernel=linear .....................................\n",
      "[CV] ......... C=1, gamma=1, kernel=linear, score=0.686, total=   2.0s\n",
      "[CV] C=1, gamma=1, kernel=linear .....................................\n",
      "[CV] ......... C=1, gamma=1, kernel=linear, score=0.701, total=   2.0s\n",
      "[CV] C=1, gamma=1, kernel=linear .....................................\n",
      "[CV] ......... C=1, gamma=1, kernel=linear, score=0.686, total=   2.0s\n",
      "[CV] C=1, gamma=1, kernel=linear .....................................\n",
      "[CV] ......... C=1, gamma=1, kernel=linear, score=0.683, total=   2.0s\n",
      "[CV] C=1, gamma=1, kernel=nonlinear ..................................\n",
      "[CV] ........ C=1, gamma=1, kernel=nonlinear, score=nan, total=   0.0s\n",
      "[CV] C=1, gamma=1, kernel=nonlinear ..................................\n",
      "[CV] ........ C=1, gamma=1, kernel=nonlinear, score=nan, total=   0.0s\n",
      "[CV] C=1, gamma=1, kernel=nonlinear ..................................\n",
      "[CV] ........ C=1, gamma=1, kernel=nonlinear, score=nan, total=   0.0s\n",
      "[CV] C=1, gamma=1, kernel=nonlinear ..................................\n",
      "[CV] ........ C=1, gamma=1, kernel=nonlinear, score=nan, total=   0.0s\n",
      "[CV] C=1, gamma=1, kernel=nonlinear ..................................\n",
      "[CV] ........ C=1, gamma=1, kernel=nonlinear, score=nan, total=   0.0s\n",
      "[CV] C=1, gamma=1, kernel=sigmoid ....................................\n",
      "[CV] ........ C=1, gamma=1, kernel=sigmoid, score=0.688, total=   1.9s\n",
      "[CV] C=1, gamma=1, kernel=sigmoid ....................................\n"
     ]
    },
    {
     "name": "stdout",
     "output_type": "stream",
     "text": [
      "[CV] ........ C=1, gamma=1, kernel=sigmoid, score=0.683, total=   2.0s\n",
      "[CV] C=1, gamma=1, kernel=sigmoid ....................................\n",
      "[CV] ........ C=1, gamma=1, kernel=sigmoid, score=0.703, total=   1.9s\n",
      "[CV] C=1, gamma=1, kernel=sigmoid ....................................\n",
      "[CV] ........ C=1, gamma=1, kernel=sigmoid, score=0.685, total=   1.9s\n",
      "[CV] C=1, gamma=1, kernel=sigmoid ....................................\n",
      "[CV] ........ C=1, gamma=1, kernel=sigmoid, score=0.678, total=   1.9s\n",
      "[CV] C=1, gamma=1, kernel=polynomial .................................\n",
      "[CV] ....... C=1, gamma=1, kernel=polynomial, score=nan, total=   0.0s\n",
      "[CV] C=1, gamma=1, kernel=polynomial .................................\n",
      "[CV] ....... C=1, gamma=1, kernel=polynomial, score=nan, total=   0.0s\n",
      "[CV] C=1, gamma=1, kernel=polynomial .................................\n",
      "[CV] ....... C=1, gamma=1, kernel=polynomial, score=nan, total=   0.0s\n",
      "[CV] C=1, gamma=1, kernel=polynomial .................................\n",
      "[CV] ....... C=1, gamma=1, kernel=polynomial, score=nan, total=   0.0s\n",
      "[CV] C=1, gamma=1, kernel=polynomial .................................\n",
      "[CV] ....... C=1, gamma=1, kernel=polynomial, score=nan, total=   0.0s\n",
      "[CV] C=1, gamma=0.1, kernel=rbf ......................................\n",
      "[CV] .......... C=1, gamma=0.1, kernel=rbf, score=0.679, total=   2.2s\n",
      "[CV] C=1, gamma=0.1, kernel=rbf ......................................\n",
      "[CV] .......... C=1, gamma=0.1, kernel=rbf, score=0.670, total=   2.3s\n",
      "[CV] C=1, gamma=0.1, kernel=rbf ......................................\n",
      "[CV] .......... C=1, gamma=0.1, kernel=rbf, score=0.676, total=   2.2s\n",
      "[CV] C=1, gamma=0.1, kernel=rbf ......................................\n",
      "[CV] .......... C=1, gamma=0.1, kernel=rbf, score=0.681, total=   2.3s\n",
      "[CV] C=1, gamma=0.1, kernel=rbf ......................................\n",
      "[CV] .......... C=1, gamma=0.1, kernel=rbf, score=0.669, total=   2.2s\n",
      "[CV] C=1, gamma=0.1, kernel=linear ...................................\n",
      "[CV] ....... C=1, gamma=0.1, kernel=linear, score=0.691, total=   2.0s\n",
      "[CV] C=1, gamma=0.1, kernel=linear ...................................\n",
      "[CV] ....... C=1, gamma=0.1, kernel=linear, score=0.686, total=   2.0s\n",
      "[CV] C=1, gamma=0.1, kernel=linear ...................................\n",
      "[CV] ....... C=1, gamma=0.1, kernel=linear, score=0.701, total=   2.0s\n",
      "[CV] C=1, gamma=0.1, kernel=linear ...................................\n",
      "[CV] ....... C=1, gamma=0.1, kernel=linear, score=0.686, total=   2.0s\n",
      "[CV] C=1, gamma=0.1, kernel=linear ...................................\n",
      "[CV] ....... C=1, gamma=0.1, kernel=linear, score=0.683, total=   2.0s\n",
      "[CV] C=1, gamma=0.1, kernel=nonlinear ................................\n",
      "[CV] ...... C=1, gamma=0.1, kernel=nonlinear, score=nan, total=   0.0s\n",
      "[CV] C=1, gamma=0.1, kernel=nonlinear ................................\n",
      "[CV] ...... C=1, gamma=0.1, kernel=nonlinear, score=nan, total=   0.0s\n",
      "[CV] C=1, gamma=0.1, kernel=nonlinear ................................\n",
      "[CV] ...... C=1, gamma=0.1, kernel=nonlinear, score=nan, total=   0.0s\n",
      "[CV] C=1, gamma=0.1, kernel=nonlinear ................................\n",
      "[CV] ...... C=1, gamma=0.1, kernel=nonlinear, score=nan, total=   0.0s\n",
      "[CV] C=1, gamma=0.1, kernel=nonlinear ................................\n",
      "[CV] ...... C=1, gamma=0.1, kernel=nonlinear, score=nan, total=   0.0s\n",
      "[CV] C=1, gamma=0.1, kernel=sigmoid ..................................\n",
      "[CV] ...... C=1, gamma=0.1, kernel=sigmoid, score=0.662, total=   2.3s\n",
      "[CV] C=1, gamma=0.1, kernel=sigmoid ..................................\n",
      "[CV] ...... C=1, gamma=0.1, kernel=sigmoid, score=0.658, total=   2.3s\n",
      "[CV] C=1, gamma=0.1, kernel=sigmoid ..................................\n",
      "[CV] ...... C=1, gamma=0.1, kernel=sigmoid, score=0.655, total=   2.3s\n",
      "[CV] C=1, gamma=0.1, kernel=sigmoid ..................................\n",
      "[CV] ...... C=1, gamma=0.1, kernel=sigmoid, score=0.669, total=   2.3s\n",
      "[CV] C=1, gamma=0.1, kernel=sigmoid ..................................\n",
      "[CV] ...... C=1, gamma=0.1, kernel=sigmoid, score=0.654, total=   2.3s\n",
      "[CV] C=1, gamma=0.1, kernel=polynomial ...............................\n",
      "[CV] ..... C=1, gamma=0.1, kernel=polynomial, score=nan, total=   0.0s\n",
      "[CV] C=1, gamma=0.1, kernel=polynomial ...............................\n",
      "[CV] ..... C=1, gamma=0.1, kernel=polynomial, score=nan, total=   0.0s\n",
      "[CV] C=1, gamma=0.1, kernel=polynomial ...............................\n",
      "[CV] ..... C=1, gamma=0.1, kernel=polynomial, score=nan, total=   0.0s\n",
      "[CV] C=1, gamma=0.1, kernel=polynomial ...............................\n",
      "[CV] ..... C=1, gamma=0.1, kernel=polynomial, score=nan, total=   0.0s\n",
      "[CV] C=1, gamma=0.1, kernel=polynomial ...............................\n",
      "[CV] ..... C=1, gamma=0.1, kernel=polynomial, score=nan, total=   0.0s\n",
      "[CV] C=1, gamma=0.01, kernel=rbf .....................................\n",
      "[CV] ......... C=1, gamma=0.01, kernel=rbf, score=0.484, total=   2.4s\n",
      "[CV] C=1, gamma=0.01, kernel=rbf .....................................\n",
      "[CV] ......... C=1, gamma=0.01, kernel=rbf, score=0.484, total=   2.4s\n",
      "[CV] C=1, gamma=0.01, kernel=rbf .....................................\n",
      "[CV] ......... C=1, gamma=0.01, kernel=rbf, score=0.483, total=   2.4s\n",
      "[CV] C=1, gamma=0.01, kernel=rbf .....................................\n",
      "[CV] ......... C=1, gamma=0.01, kernel=rbf, score=0.483, total=   2.4s\n",
      "[CV] C=1, gamma=0.01, kernel=rbf .....................................\n",
      "[CV] ......... C=1, gamma=0.01, kernel=rbf, score=0.483, total=   2.4s\n",
      "[CV] C=1, gamma=0.01, kernel=linear ..................................\n",
      "[CV] ...... C=1, gamma=0.01, kernel=linear, score=0.691, total=   2.0s\n",
      "[CV] C=1, gamma=0.01, kernel=linear ..................................\n",
      "[CV] ...... C=1, gamma=0.01, kernel=linear, score=0.686, total=   2.0s\n",
      "[CV] C=1, gamma=0.01, kernel=linear ..................................\n",
      "[CV] ...... C=1, gamma=0.01, kernel=linear, score=0.701, total=   2.0s\n",
      "[CV] C=1, gamma=0.01, kernel=linear ..................................\n",
      "[CV] ...... C=1, gamma=0.01, kernel=linear, score=0.686, total=   2.0s\n",
      "[CV] C=1, gamma=0.01, kernel=linear ..................................\n",
      "[CV] ...... C=1, gamma=0.01, kernel=linear, score=0.683, total=   2.0s\n",
      "[CV] C=1, gamma=0.01, kernel=nonlinear ...............................\n",
      "[CV] ..... C=1, gamma=0.01, kernel=nonlinear, score=nan, total=   0.0s\n",
      "[CV] C=1, gamma=0.01, kernel=nonlinear ...............................\n",
      "[CV] ..... C=1, gamma=0.01, kernel=nonlinear, score=nan, total=   0.0s\n",
      "[CV] C=1, gamma=0.01, kernel=nonlinear ...............................\n",
      "[CV] ..... C=1, gamma=0.01, kernel=nonlinear, score=nan, total=   0.0s\n",
      "[CV] C=1, gamma=0.01, kernel=nonlinear ...............................\n",
      "[CV] ..... C=1, gamma=0.01, kernel=nonlinear, score=nan, total=   0.0s\n",
      "[CV] C=1, gamma=0.01, kernel=nonlinear ...............................\n",
      "[CV] ..... C=1, gamma=0.01, kernel=nonlinear, score=nan, total=   0.0s\n",
      "[CV] C=1, gamma=0.01, kernel=sigmoid .................................\n",
      "[CV] ..... C=1, gamma=0.01, kernel=sigmoid, score=0.484, total=   2.4s\n",
      "[CV] C=1, gamma=0.01, kernel=sigmoid .................................\n",
      "[CV] ..... C=1, gamma=0.01, kernel=sigmoid, score=0.484, total=   2.4s\n",
      "[CV] C=1, gamma=0.01, kernel=sigmoid .................................\n",
      "[CV] ..... C=1, gamma=0.01, kernel=sigmoid, score=0.483, total=   2.3s\n",
      "[CV] C=1, gamma=0.01, kernel=sigmoid .................................\n",
      "[CV] ..... C=1, gamma=0.01, kernel=sigmoid, score=0.483, total=   2.4s\n",
      "[CV] C=1, gamma=0.01, kernel=sigmoid .................................\n",
      "[CV] ..... C=1, gamma=0.01, kernel=sigmoid, score=0.483, total=   2.4s\n",
      "[CV] C=1, gamma=0.01, kernel=polynomial ..............................\n",
      "[CV] .... C=1, gamma=0.01, kernel=polynomial, score=nan, total=   0.0s\n",
      "[CV] C=1, gamma=0.01, kernel=polynomial ..............................\n",
      "[CV] .... C=1, gamma=0.01, kernel=polynomial, score=nan, total=   0.0s\n",
      "[CV] C=1, gamma=0.01, kernel=polynomial ..............................\n",
      "[CV] .... C=1, gamma=0.01, kernel=polynomial, score=nan, total=   0.0s\n",
      "[CV] C=1, gamma=0.01, kernel=polynomial ..............................\n",
      "[CV] .... C=1, gamma=0.01, kernel=polynomial, score=nan, total=   0.0s\n",
      "[CV] C=1, gamma=0.01, kernel=polynomial ..............................\n",
      "[CV] .... C=1, gamma=0.01, kernel=polynomial, score=nan, total=   0.0s\n",
      "[CV] C=1, gamma=0.001, kernel=rbf ....................................\n"
     ]
    },
    {
     "name": "stdout",
     "output_type": "stream",
     "text": [
      "[CV] ........ C=1, gamma=0.001, kernel=rbf, score=0.484, total=   2.2s\n",
      "[CV] C=1, gamma=0.001, kernel=rbf ....................................\n",
      "[CV] ........ C=1, gamma=0.001, kernel=rbf, score=0.484, total=   2.2s\n",
      "[CV] C=1, gamma=0.001, kernel=rbf ....................................\n",
      "[CV] ........ C=1, gamma=0.001, kernel=rbf, score=0.483, total=   2.2s\n",
      "[CV] C=1, gamma=0.001, kernel=rbf ....................................\n",
      "[CV] ........ C=1, gamma=0.001, kernel=rbf, score=0.483, total=   2.2s\n",
      "[CV] C=1, gamma=0.001, kernel=rbf ....................................\n",
      "[CV] ........ C=1, gamma=0.001, kernel=rbf, score=0.483, total=   2.2s\n",
      "[CV] C=1, gamma=0.001, kernel=linear .................................\n",
      "[CV] ..... C=1, gamma=0.001, kernel=linear, score=0.691, total=   2.0s\n",
      "[CV] C=1, gamma=0.001, kernel=linear .................................\n",
      "[CV] ..... C=1, gamma=0.001, kernel=linear, score=0.686, total=   2.0s\n",
      "[CV] C=1, gamma=0.001, kernel=linear .................................\n",
      "[CV] ..... C=1, gamma=0.001, kernel=linear, score=0.701, total=   2.0s\n",
      "[CV] C=1, gamma=0.001, kernel=linear .................................\n",
      "[CV] ..... C=1, gamma=0.001, kernel=linear, score=0.686, total=   2.0s\n",
      "[CV] C=1, gamma=0.001, kernel=linear .................................\n",
      "[CV] ..... C=1, gamma=0.001, kernel=linear, score=0.683, total=   2.0s\n",
      "[CV] C=1, gamma=0.001, kernel=nonlinear ..............................\n",
      "[CV] .... C=1, gamma=0.001, kernel=nonlinear, score=nan, total=   0.0s\n",
      "[CV] C=1, gamma=0.001, kernel=nonlinear ..............................\n",
      "[CV] .... C=1, gamma=0.001, kernel=nonlinear, score=nan, total=   0.0s\n",
      "[CV] C=1, gamma=0.001, kernel=nonlinear ..............................\n",
      "[CV] .... C=1, gamma=0.001, kernel=nonlinear, score=nan, total=   0.0s\n",
      "[CV] C=1, gamma=0.001, kernel=nonlinear ..............................\n",
      "[CV] .... C=1, gamma=0.001, kernel=nonlinear, score=nan, total=   0.0s\n",
      "[CV] C=1, gamma=0.001, kernel=nonlinear ..............................\n",
      "[CV] .... C=1, gamma=0.001, kernel=nonlinear, score=nan, total=   0.0s\n",
      "[CV] C=1, gamma=0.001, kernel=sigmoid ................................\n",
      "[CV] .... C=1, gamma=0.001, kernel=sigmoid, score=0.484, total=   2.1s\n",
      "[CV] C=1, gamma=0.001, kernel=sigmoid ................................\n",
      "[CV] .... C=1, gamma=0.001, kernel=sigmoid, score=0.484, total=   2.1s\n",
      "[CV] C=1, gamma=0.001, kernel=sigmoid ................................\n",
      "[CV] .... C=1, gamma=0.001, kernel=sigmoid, score=0.483, total=   2.1s\n",
      "[CV] C=1, gamma=0.001, kernel=sigmoid ................................\n",
      "[CV] .... C=1, gamma=0.001, kernel=sigmoid, score=0.483, total=   2.1s\n",
      "[CV] C=1, gamma=0.001, kernel=sigmoid ................................\n",
      "[CV] .... C=1, gamma=0.001, kernel=sigmoid, score=0.483, total=   2.1s\n",
      "[CV] C=1, gamma=0.001, kernel=polynomial .............................\n",
      "[CV] ... C=1, gamma=0.001, kernel=polynomial, score=nan, total=   0.0s\n",
      "[CV] C=1, gamma=0.001, kernel=polynomial .............................\n",
      "[CV] ... C=1, gamma=0.001, kernel=polynomial, score=nan, total=   0.0s\n",
      "[CV] C=1, gamma=0.001, kernel=polynomial .............................\n",
      "[CV] ... C=1, gamma=0.001, kernel=polynomial, score=nan, total=   0.0s\n",
      "[CV] C=1, gamma=0.001, kernel=polynomial .............................\n",
      "[CV] ... C=1, gamma=0.001, kernel=polynomial, score=nan, total=   0.0s\n",
      "[CV] C=1, gamma=0.001, kernel=polynomial .............................\n",
      "[CV] ... C=1, gamma=0.001, kernel=polynomial, score=nan, total=   0.0s\n",
      "[CV] C=1, gamma=0.0001, kernel=rbf ...................................\n",
      "[CV] ....... C=1, gamma=0.0001, kernel=rbf, score=0.484, total=   2.0s\n",
      "[CV] C=1, gamma=0.0001, kernel=rbf ...................................\n",
      "[CV] ....... C=1, gamma=0.0001, kernel=rbf, score=0.484, total=   2.0s\n",
      "[CV] C=1, gamma=0.0001, kernel=rbf ...................................\n",
      "[CV] ....... C=1, gamma=0.0001, kernel=rbf, score=0.483, total=   2.0s\n",
      "[CV] C=1, gamma=0.0001, kernel=rbf ...................................\n",
      "[CV] ....... C=1, gamma=0.0001, kernel=rbf, score=0.483, total=   2.0s\n",
      "[CV] C=1, gamma=0.0001, kernel=rbf ...................................\n",
      "[CV] ....... C=1, gamma=0.0001, kernel=rbf, score=0.483, total=   2.0s\n",
      "[CV] C=1, gamma=0.0001, kernel=linear ................................\n",
      "[CV] .... C=1, gamma=0.0001, kernel=linear, score=0.691, total=   2.0s\n",
      "[CV] C=1, gamma=0.0001, kernel=linear ................................\n",
      "[CV] .... C=1, gamma=0.0001, kernel=linear, score=0.686, total=   2.0s\n",
      "[CV] C=1, gamma=0.0001, kernel=linear ................................\n",
      "[CV] .... C=1, gamma=0.0001, kernel=linear, score=0.701, total=   2.0s\n",
      "[CV] C=1, gamma=0.0001, kernel=linear ................................\n",
      "[CV] .... C=1, gamma=0.0001, kernel=linear, score=0.686, total=   2.0s\n",
      "[CV] C=1, gamma=0.0001, kernel=linear ................................\n",
      "[CV] .... C=1, gamma=0.0001, kernel=linear, score=0.683, total=   2.0s\n",
      "[CV] C=1, gamma=0.0001, kernel=nonlinear .............................\n",
      "[CV] ... C=1, gamma=0.0001, kernel=nonlinear, score=nan, total=   0.0s\n",
      "[CV] C=1, gamma=0.0001, kernel=nonlinear .............................\n",
      "[CV] ... C=1, gamma=0.0001, kernel=nonlinear, score=nan, total=   0.0s\n",
      "[CV] C=1, gamma=0.0001, kernel=nonlinear .............................\n",
      "[CV] ... C=1, gamma=0.0001, kernel=nonlinear, score=nan, total=   0.0s\n",
      "[CV] C=1, gamma=0.0001, kernel=nonlinear .............................\n",
      "[CV] ... C=1, gamma=0.0001, kernel=nonlinear, score=nan, total=   0.0s\n",
      "[CV] C=1, gamma=0.0001, kernel=nonlinear .............................\n",
      "[CV] ... C=1, gamma=0.0001, kernel=nonlinear, score=nan, total=   0.0s\n",
      "[CV] C=1, gamma=0.0001, kernel=sigmoid ...............................\n",
      "[CV] ... C=1, gamma=0.0001, kernel=sigmoid, score=0.484, total=   2.0s\n",
      "[CV] C=1, gamma=0.0001, kernel=sigmoid ...............................\n",
      "[CV] ... C=1, gamma=0.0001, kernel=sigmoid, score=0.484, total=   1.9s\n",
      "[CV] C=1, gamma=0.0001, kernel=sigmoid ...............................\n",
      "[CV] ... C=1, gamma=0.0001, kernel=sigmoid, score=0.483, total=   1.9s\n",
      "[CV] C=1, gamma=0.0001, kernel=sigmoid ...............................\n",
      "[CV] ... C=1, gamma=0.0001, kernel=sigmoid, score=0.483, total=   1.9s\n",
      "[CV] C=1, gamma=0.0001, kernel=sigmoid ...............................\n",
      "[CV] ... C=1, gamma=0.0001, kernel=sigmoid, score=0.483, total=   1.9s\n",
      "[CV] C=1, gamma=0.0001, kernel=polynomial ............................\n",
      "[CV] .. C=1, gamma=0.0001, kernel=polynomial, score=nan, total=   0.0s\n",
      "[CV] C=1, gamma=0.0001, kernel=polynomial ............................\n",
      "[CV] .. C=1, gamma=0.0001, kernel=polynomial, score=nan, total=   0.0s\n",
      "[CV] C=1, gamma=0.0001, kernel=polynomial ............................\n",
      "[CV] .. C=1, gamma=0.0001, kernel=polynomial, score=nan, total=   0.0s\n",
      "[CV] C=1, gamma=0.0001, kernel=polynomial ............................\n",
      "[CV] .. C=1, gamma=0.0001, kernel=polynomial, score=nan, total=   0.0s\n",
      "[CV] C=1, gamma=0.0001, kernel=polynomial ............................\n",
      "[CV] .. C=1, gamma=0.0001, kernel=polynomial, score=nan, total=   0.0s\n",
      "[CV] C=10, gamma=1, kernel=rbf .......................................\n",
      "[CV] ........... C=10, gamma=1, kernel=rbf, score=0.680, total=   3.2s\n",
      "[CV] C=10, gamma=1, kernel=rbf .......................................\n",
      "[CV] ........... C=10, gamma=1, kernel=rbf, score=0.676, total=   3.2s\n",
      "[CV] C=10, gamma=1, kernel=rbf .......................................\n",
      "[CV] ........... C=10, gamma=1, kernel=rbf, score=0.692, total=   3.2s\n",
      "[CV] C=10, gamma=1, kernel=rbf .......................................\n",
      "[CV] ........... C=10, gamma=1, kernel=rbf, score=0.682, total=   3.3s\n",
      "[CV] C=10, gamma=1, kernel=rbf .......................................\n",
      "[CV] ........... C=10, gamma=1, kernel=rbf, score=0.687, total=   3.2s\n",
      "[CV] C=10, gamma=1, kernel=linear ....................................\n",
      "[CV] ........ C=10, gamma=1, kernel=linear, score=0.628, total=   2.3s\n",
      "[CV] C=10, gamma=1, kernel=linear ....................................\n",
      "[CV] ........ C=10, gamma=1, kernel=linear, score=0.642, total=   2.2s\n",
      "[CV] C=10, gamma=1, kernel=linear ....................................\n",
      "[CV] ........ C=10, gamma=1, kernel=linear, score=0.640, total=   2.3s\n",
      "[CV] C=10, gamma=1, kernel=linear ....................................\n"
     ]
    },
    {
     "name": "stdout",
     "output_type": "stream",
     "text": [
      "[CV] ........ C=10, gamma=1, kernel=linear, score=0.657, total=   2.2s\n",
      "[CV] C=10, gamma=1, kernel=linear ....................................\n",
      "[CV] ........ C=10, gamma=1, kernel=linear, score=0.650, total=   2.3s\n",
      "[CV] C=10, gamma=1, kernel=nonlinear .................................\n",
      "[CV] ....... C=10, gamma=1, kernel=nonlinear, score=nan, total=   0.0s\n",
      "[CV] C=10, gamma=1, kernel=nonlinear .................................\n",
      "[CV] ....... C=10, gamma=1, kernel=nonlinear, score=nan, total=   0.0s\n",
      "[CV] C=10, gamma=1, kernel=nonlinear .................................\n",
      "[CV] ....... C=10, gamma=1, kernel=nonlinear, score=nan, total=   0.0s\n",
      "[CV] C=10, gamma=1, kernel=nonlinear .................................\n",
      "[CV] ....... C=10, gamma=1, kernel=nonlinear, score=nan, total=   0.0s\n",
      "[CV] C=10, gamma=1, kernel=nonlinear .................................\n",
      "[CV] ....... C=10, gamma=1, kernel=nonlinear, score=nan, total=   0.0s\n",
      "[CV] C=10, gamma=1, kernel=sigmoid ...................................\n",
      "[CV] ....... C=10, gamma=1, kernel=sigmoid, score=0.621, total=   2.2s\n",
      "[CV] C=10, gamma=1, kernel=sigmoid ...................................\n",
      "[CV] ....... C=10, gamma=1, kernel=sigmoid, score=0.602, total=   2.1s\n",
      "[CV] C=10, gamma=1, kernel=sigmoid ...................................\n",
      "[CV] ....... C=10, gamma=1, kernel=sigmoid, score=0.626, total=   2.2s\n",
      "[CV] C=10, gamma=1, kernel=sigmoid ...................................\n",
      "[CV] ....... C=10, gamma=1, kernel=sigmoid, score=0.635, total=   2.2s\n",
      "[CV] C=10, gamma=1, kernel=sigmoid ...................................\n",
      "[CV] ....... C=10, gamma=1, kernel=sigmoid, score=0.616, total=   2.6s\n",
      "[CV] C=10, gamma=1, kernel=polynomial ................................\n",
      "[CV] ...... C=10, gamma=1, kernel=polynomial, score=nan, total=   0.0s\n",
      "[CV] C=10, gamma=1, kernel=polynomial ................................\n",
      "[CV] ...... C=10, gamma=1, kernel=polynomial, score=nan, total=   0.0s\n",
      "[CV] C=10, gamma=1, kernel=polynomial ................................\n",
      "[CV] ...... C=10, gamma=1, kernel=polynomial, score=nan, total=   0.0s\n",
      "[CV] C=10, gamma=1, kernel=polynomial ................................\n",
      "[CV] ...... C=10, gamma=1, kernel=polynomial, score=nan, total=   0.0s\n",
      "[CV] C=10, gamma=1, kernel=polynomial ................................\n",
      "[CV] ...... C=10, gamma=1, kernel=polynomial, score=nan, total=   0.0s\n",
      "[CV] C=10, gamma=0.1, kernel=rbf .....................................\n",
      "[CV] ......... C=10, gamma=0.1, kernel=rbf, score=0.668, total=   2.4s\n",
      "[CV] C=10, gamma=0.1, kernel=rbf .....................................\n",
      "[CV] ......... C=10, gamma=0.1, kernel=rbf, score=0.672, total=   2.3s\n",
      "[CV] C=10, gamma=0.1, kernel=rbf .....................................\n",
      "[CV] ......... C=10, gamma=0.1, kernel=rbf, score=0.693, total=   2.3s\n",
      "[CV] C=10, gamma=0.1, kernel=rbf .....................................\n",
      "[CV] ......... C=10, gamma=0.1, kernel=rbf, score=0.684, total=   2.4s\n",
      "[CV] C=10, gamma=0.1, kernel=rbf .....................................\n",
      "[CV] ......... C=10, gamma=0.1, kernel=rbf, score=0.672, total=   2.4s\n",
      "[CV] C=10, gamma=0.1, kernel=linear ..................................\n",
      "[CV] ...... C=10, gamma=0.1, kernel=linear, score=0.628, total=   2.3s\n",
      "[CV] C=10, gamma=0.1, kernel=linear ..................................\n",
      "[CV] ...... C=10, gamma=0.1, kernel=linear, score=0.642, total=   2.2s\n",
      "[CV] C=10, gamma=0.1, kernel=linear ..................................\n",
      "[CV] ...... C=10, gamma=0.1, kernel=linear, score=0.640, total=   2.3s\n",
      "[CV] C=10, gamma=0.1, kernel=linear ..................................\n",
      "[CV] ...... C=10, gamma=0.1, kernel=linear, score=0.657, total=   2.3s\n",
      "[CV] C=10, gamma=0.1, kernel=linear ..................................\n",
      "[CV] ...... C=10, gamma=0.1, kernel=linear, score=0.650, total=   2.3s\n",
      "[CV] C=10, gamma=0.1, kernel=nonlinear ...............................\n",
      "[CV] ..... C=10, gamma=0.1, kernel=nonlinear, score=nan, total=   0.0s\n",
      "[CV] C=10, gamma=0.1, kernel=nonlinear ...............................\n",
      "[CV] ..... C=10, gamma=0.1, kernel=nonlinear, score=nan, total=   0.0s\n",
      "[CV] C=10, gamma=0.1, kernel=nonlinear ...............................\n",
      "[CV] ..... C=10, gamma=0.1, kernel=nonlinear, score=nan, total=   0.0s\n",
      "[CV] C=10, gamma=0.1, kernel=nonlinear ...............................\n",
      "[CV] ..... C=10, gamma=0.1, kernel=nonlinear, score=nan, total=   0.0s\n",
      "[CV] C=10, gamma=0.1, kernel=nonlinear ...............................\n",
      "[CV] ..... C=10, gamma=0.1, kernel=nonlinear, score=nan, total=   0.0s\n",
      "[CV] C=10, gamma=0.1, kernel=sigmoid .................................\n",
      "[CV] ..... C=10, gamma=0.1, kernel=sigmoid, score=0.691, total=   2.1s\n",
      "[CV] C=10, gamma=0.1, kernel=sigmoid .................................\n",
      "[CV] ..... C=10, gamma=0.1, kernel=sigmoid, score=0.686, total=   2.1s\n",
      "[CV] C=10, gamma=0.1, kernel=sigmoid .................................\n",
      "[CV] ..... C=10, gamma=0.1, kernel=sigmoid, score=0.701, total=   2.1s\n",
      "[CV] C=10, gamma=0.1, kernel=sigmoid .................................\n",
      "[CV] ..... C=10, gamma=0.1, kernel=sigmoid, score=0.686, total=   2.1s\n",
      "[CV] C=10, gamma=0.1, kernel=sigmoid .................................\n",
      "[CV] ..... C=10, gamma=0.1, kernel=sigmoid, score=0.683, total=   2.1s\n",
      "[CV] C=10, gamma=0.1, kernel=polynomial ..............................\n",
      "[CV] .... C=10, gamma=0.1, kernel=polynomial, score=nan, total=   0.0s\n",
      "[CV] C=10, gamma=0.1, kernel=polynomial ..............................\n",
      "[CV] .... C=10, gamma=0.1, kernel=polynomial, score=nan, total=   0.0s\n",
      "[CV] C=10, gamma=0.1, kernel=polynomial ..............................\n",
      "[CV] .... C=10, gamma=0.1, kernel=polynomial, score=nan, total=   0.0s\n",
      "[CV] C=10, gamma=0.1, kernel=polynomial ..............................\n",
      "[CV] .... C=10, gamma=0.1, kernel=polynomial, score=nan, total=   0.0s\n",
      "[CV] C=10, gamma=0.1, kernel=polynomial ..............................\n",
      "[CV] .... C=10, gamma=0.1, kernel=polynomial, score=nan, total=   0.0s\n",
      "[CV] C=10, gamma=0.01, kernel=rbf ....................................\n",
      "[CV] ........ C=10, gamma=0.01, kernel=rbf, score=0.680, total=   2.2s\n",
      "[CV] C=10, gamma=0.01, kernel=rbf ....................................\n",
      "[CV] ........ C=10, gamma=0.01, kernel=rbf, score=0.672, total=   2.3s\n",
      "[CV] C=10, gamma=0.01, kernel=rbf ....................................\n",
      "[CV] ........ C=10, gamma=0.01, kernel=rbf, score=0.679, total=   2.2s\n",
      "[CV] C=10, gamma=0.01, kernel=rbf ....................................\n",
      "[CV] ........ C=10, gamma=0.01, kernel=rbf, score=0.682, total=   2.3s\n",
      "[CV] C=10, gamma=0.01, kernel=rbf ....................................\n",
      "[CV] ........ C=10, gamma=0.01, kernel=rbf, score=0.671, total=   2.2s\n",
      "[CV] C=10, gamma=0.01, kernel=linear .................................\n",
      "[CV] ..... C=10, gamma=0.01, kernel=linear, score=0.628, total=   2.3s\n",
      "[CV] C=10, gamma=0.01, kernel=linear .................................\n",
      "[CV] ..... C=10, gamma=0.01, kernel=linear, score=0.642, total=   2.2s\n",
      "[CV] C=10, gamma=0.01, kernel=linear .................................\n",
      "[CV] ..... C=10, gamma=0.01, kernel=linear, score=0.640, total=   2.3s\n",
      "[CV] C=10, gamma=0.01, kernel=linear .................................\n",
      "[CV] ..... C=10, gamma=0.01, kernel=linear, score=0.657, total=   2.2s\n",
      "[CV] C=10, gamma=0.01, kernel=linear .................................\n",
      "[CV] ..... C=10, gamma=0.01, kernel=linear, score=0.650, total=   2.2s\n",
      "[CV] C=10, gamma=0.01, kernel=nonlinear ..............................\n",
      "[CV] .... C=10, gamma=0.01, kernel=nonlinear, score=nan, total=   0.0s\n",
      "[CV] C=10, gamma=0.01, kernel=nonlinear ..............................\n",
      "[CV] .... C=10, gamma=0.01, kernel=nonlinear, score=nan, total=   0.0s\n",
      "[CV] C=10, gamma=0.01, kernel=nonlinear ..............................\n",
      "[CV] .... C=10, gamma=0.01, kernel=nonlinear, score=nan, total=   0.0s\n",
      "[CV] C=10, gamma=0.01, kernel=nonlinear ..............................\n",
      "[CV] .... C=10, gamma=0.01, kernel=nonlinear, score=nan, total=   0.0s\n",
      "[CV] C=10, gamma=0.01, kernel=nonlinear ..............................\n",
      "[CV] .... C=10, gamma=0.01, kernel=nonlinear, score=nan, total=   0.0s\n",
      "[CV] C=10, gamma=0.01, kernel=sigmoid ................................\n",
      "[CV] .... C=10, gamma=0.01, kernel=sigmoid, score=0.662, total=   2.3s\n",
      "[CV] C=10, gamma=0.01, kernel=sigmoid ................................\n"
     ]
    },
    {
     "name": "stdout",
     "output_type": "stream",
     "text": [
      "[CV] .... C=10, gamma=0.01, kernel=sigmoid, score=0.658, total=   2.3s\n",
      "[CV] C=10, gamma=0.01, kernel=sigmoid ................................\n",
      "[CV] .... C=10, gamma=0.01, kernel=sigmoid, score=0.655, total=   2.3s\n",
      "[CV] C=10, gamma=0.01, kernel=sigmoid ................................\n",
      "[CV] .... C=10, gamma=0.01, kernel=sigmoid, score=0.669, total=   2.3s\n",
      "[CV] C=10, gamma=0.01, kernel=sigmoid ................................\n",
      "[CV] .... C=10, gamma=0.01, kernel=sigmoid, score=0.654, total=   2.3s\n",
      "[CV] C=10, gamma=0.01, kernel=polynomial .............................\n",
      "[CV] ... C=10, gamma=0.01, kernel=polynomial, score=nan, total=   0.0s\n",
      "[CV] C=10, gamma=0.01, kernel=polynomial .............................\n",
      "[CV] ... C=10, gamma=0.01, kernel=polynomial, score=nan, total=   0.0s\n",
      "[CV] C=10, gamma=0.01, kernel=polynomial .............................\n",
      "[CV] ... C=10, gamma=0.01, kernel=polynomial, score=nan, total=   0.0s\n",
      "[CV] C=10, gamma=0.01, kernel=polynomial .............................\n",
      "[CV] ... C=10, gamma=0.01, kernel=polynomial, score=nan, total=   0.0s\n",
      "[CV] C=10, gamma=0.01, kernel=polynomial .............................\n",
      "[CV] ... C=10, gamma=0.01, kernel=polynomial, score=nan, total=   0.0s\n",
      "[CV] C=10, gamma=0.001, kernel=rbf ...................................\n",
      "[CV] ....... C=10, gamma=0.001, kernel=rbf, score=0.484, total=   2.4s\n",
      "[CV] C=10, gamma=0.001, kernel=rbf ...................................\n",
      "[CV] ....... C=10, gamma=0.001, kernel=rbf, score=0.484, total=   2.4s\n",
      "[CV] C=10, gamma=0.001, kernel=rbf ...................................\n",
      "[CV] ....... C=10, gamma=0.001, kernel=rbf, score=0.483, total=   2.3s\n",
      "[CV] C=10, gamma=0.001, kernel=rbf ...................................\n",
      "[CV] ....... C=10, gamma=0.001, kernel=rbf, score=0.483, total=   2.4s\n",
      "[CV] C=10, gamma=0.001, kernel=rbf ...................................\n",
      "[CV] ....... C=10, gamma=0.001, kernel=rbf, score=0.483, total=   2.4s\n",
      "[CV] C=10, gamma=0.001, kernel=linear ................................\n",
      "[CV] .... C=10, gamma=0.001, kernel=linear, score=0.628, total=   2.3s\n",
      "[CV] C=10, gamma=0.001, kernel=linear ................................\n",
      "[CV] .... C=10, gamma=0.001, kernel=linear, score=0.642, total=   2.2s\n",
      "[CV] C=10, gamma=0.001, kernel=linear ................................\n",
      "[CV] .... C=10, gamma=0.001, kernel=linear, score=0.640, total=   2.3s\n",
      "[CV] C=10, gamma=0.001, kernel=linear ................................\n",
      "[CV] .... C=10, gamma=0.001, kernel=linear, score=0.657, total=   2.2s\n",
      "[CV] C=10, gamma=0.001, kernel=linear ................................\n",
      "[CV] .... C=10, gamma=0.001, kernel=linear, score=0.650, total=   2.3s\n",
      "[CV] C=10, gamma=0.001, kernel=nonlinear .............................\n",
      "[CV] ... C=10, gamma=0.001, kernel=nonlinear, score=nan, total=   0.0s\n",
      "[CV] C=10, gamma=0.001, kernel=nonlinear .............................\n",
      "[CV] ... C=10, gamma=0.001, kernel=nonlinear, score=nan, total=   0.0s\n",
      "[CV] C=10, gamma=0.001, kernel=nonlinear .............................\n",
      "[CV] ... C=10, gamma=0.001, kernel=nonlinear, score=nan, total=   0.0s\n",
      "[CV] C=10, gamma=0.001, kernel=nonlinear .............................\n",
      "[CV] ... C=10, gamma=0.001, kernel=nonlinear, score=nan, total=   0.0s\n",
      "[CV] C=10, gamma=0.001, kernel=nonlinear .............................\n",
      "[CV] ... C=10, gamma=0.001, kernel=nonlinear, score=nan, total=   0.0s\n",
      "[CV] C=10, gamma=0.001, kernel=sigmoid ...............................\n",
      "[CV] ... C=10, gamma=0.001, kernel=sigmoid, score=0.484, total=   2.3s\n",
      "[CV] C=10, gamma=0.001, kernel=sigmoid ...............................\n",
      "[CV] ... C=10, gamma=0.001, kernel=sigmoid, score=0.484, total=   2.4s\n",
      "[CV] C=10, gamma=0.001, kernel=sigmoid ...............................\n",
      "[CV] ... C=10, gamma=0.001, kernel=sigmoid, score=0.483, total=   2.3s\n",
      "[CV] C=10, gamma=0.001, kernel=sigmoid ...............................\n",
      "[CV] ... C=10, gamma=0.001, kernel=sigmoid, score=0.483, total=   2.3s\n",
      "[CV] C=10, gamma=0.001, kernel=sigmoid ...............................\n",
      "[CV] ... C=10, gamma=0.001, kernel=sigmoid, score=0.483, total=   2.3s\n",
      "[CV] C=10, gamma=0.001, kernel=polynomial ............................\n",
      "[CV] .. C=10, gamma=0.001, kernel=polynomial, score=nan, total=   0.0s\n",
      "[CV] C=10, gamma=0.001, kernel=polynomial ............................\n",
      "[CV] .. C=10, gamma=0.001, kernel=polynomial, score=nan, total=   0.0s\n",
      "[CV] C=10, gamma=0.001, kernel=polynomial ............................\n",
      "[CV] .. C=10, gamma=0.001, kernel=polynomial, score=nan, total=   0.0s\n",
      "[CV] C=10, gamma=0.001, kernel=polynomial ............................\n",
      "[CV] .. C=10, gamma=0.001, kernel=polynomial, score=nan, total=   0.0s\n",
      "[CV] C=10, gamma=0.001, kernel=polynomial ............................\n",
      "[CV] .. C=10, gamma=0.001, kernel=polynomial, score=nan, total=   0.0s\n",
      "[CV] C=10, gamma=0.0001, kernel=rbf ..................................\n",
      "[CV] ...... C=10, gamma=0.0001, kernel=rbf, score=0.484, total=   2.2s\n",
      "[CV] C=10, gamma=0.0001, kernel=rbf ..................................\n",
      "[CV] ...... C=10, gamma=0.0001, kernel=rbf, score=0.484, total=   2.2s\n",
      "[CV] C=10, gamma=0.0001, kernel=rbf ..................................\n",
      "[CV] ...... C=10, gamma=0.0001, kernel=rbf, score=0.483, total=   2.1s\n",
      "[CV] C=10, gamma=0.0001, kernel=rbf ..................................\n",
      "[CV] ...... C=10, gamma=0.0001, kernel=rbf, score=0.483, total=   2.2s\n",
      "[CV] C=10, gamma=0.0001, kernel=rbf ..................................\n",
      "[CV] ...... C=10, gamma=0.0001, kernel=rbf, score=0.483, total=   2.2s\n",
      "[CV] C=10, gamma=0.0001, kernel=linear ...............................\n",
      "[CV] ... C=10, gamma=0.0001, kernel=linear, score=0.628, total=   2.3s\n",
      "[CV] C=10, gamma=0.0001, kernel=linear ...............................\n",
      "[CV] ... C=10, gamma=0.0001, kernel=linear, score=0.642, total=   2.2s\n",
      "[CV] C=10, gamma=0.0001, kernel=linear ...............................\n",
      "[CV] ... C=10, gamma=0.0001, kernel=linear, score=0.640, total=   2.3s\n",
      "[CV] C=10, gamma=0.0001, kernel=linear ...............................\n",
      "[CV] ... C=10, gamma=0.0001, kernel=linear, score=0.657, total=   2.2s\n",
      "[CV] C=10, gamma=0.0001, kernel=linear ...............................\n",
      "[CV] ... C=10, gamma=0.0001, kernel=linear, score=0.650, total=   2.2s\n",
      "[CV] C=10, gamma=0.0001, kernel=nonlinear ............................\n",
      "[CV] .. C=10, gamma=0.0001, kernel=nonlinear, score=nan, total=   0.0s\n",
      "[CV] C=10, gamma=0.0001, kernel=nonlinear ............................\n",
      "[CV] .. C=10, gamma=0.0001, kernel=nonlinear, score=nan, total=   0.0s\n",
      "[CV] C=10, gamma=0.0001, kernel=nonlinear ............................\n",
      "[CV] .. C=10, gamma=0.0001, kernel=nonlinear, score=nan, total=   0.0s\n",
      "[CV] C=10, gamma=0.0001, kernel=nonlinear ............................\n",
      "[CV] .. C=10, gamma=0.0001, kernel=nonlinear, score=nan, total=   0.0s\n",
      "[CV] C=10, gamma=0.0001, kernel=nonlinear ............................\n",
      "[CV] .. C=10, gamma=0.0001, kernel=nonlinear, score=nan, total=   0.0s\n",
      "[CV] C=10, gamma=0.0001, kernel=sigmoid ..............................\n",
      "[CV] .. C=10, gamma=0.0001, kernel=sigmoid, score=0.484, total=   2.0s\n",
      "[CV] C=10, gamma=0.0001, kernel=sigmoid ..............................\n",
      "[CV] .. C=10, gamma=0.0001, kernel=sigmoid, score=0.484, total=   2.0s\n",
      "[CV] C=10, gamma=0.0001, kernel=sigmoid ..............................\n",
      "[CV] .. C=10, gamma=0.0001, kernel=sigmoid, score=0.483, total=   2.0s\n",
      "[CV] C=10, gamma=0.0001, kernel=sigmoid ..............................\n",
      "[CV] .. C=10, gamma=0.0001, kernel=sigmoid, score=0.483, total=   2.0s\n",
      "[CV] C=10, gamma=0.0001, kernel=sigmoid ..............................\n",
      "[CV] .. C=10, gamma=0.0001, kernel=sigmoid, score=0.483, total=   2.0s\n",
      "[CV] C=10, gamma=0.0001, kernel=polynomial ...........................\n",
      "[CV] . C=10, gamma=0.0001, kernel=polynomial, score=nan, total=   0.0s\n",
      "[CV] C=10, gamma=0.0001, kernel=polynomial ...........................\n",
      "[CV] . C=10, gamma=0.0001, kernel=polynomial, score=nan, total=   0.0s\n",
      "[CV] C=10, gamma=0.0001, kernel=polynomial ...........................\n",
      "[CV] . C=10, gamma=0.0001, kernel=polynomial, score=nan, total=   0.0s\n",
      "[CV] C=10, gamma=0.0001, kernel=polynomial ...........................\n",
      "[CV] . C=10, gamma=0.0001, kernel=polynomial, score=nan, total=   0.0s\n",
      "[CV] C=10, gamma=0.0001, kernel=polynomial ...........................\n",
      "[CV] . C=10, gamma=0.0001, kernel=polynomial, score=nan, total=   0.0s\n",
      "[CV] C=100, gamma=1, kernel=rbf ......................................\n"
     ]
    },
    {
     "name": "stdout",
     "output_type": "stream",
     "text": [
      "[CV] .......... C=100, gamma=1, kernel=rbf, score=0.681, total=   3.2s\n",
      "[CV] C=100, gamma=1, kernel=rbf ......................................\n",
      "[CV] .......... C=100, gamma=1, kernel=rbf, score=0.676, total=   3.2s\n",
      "[CV] C=100, gamma=1, kernel=rbf ......................................\n",
      "[CV] .......... C=100, gamma=1, kernel=rbf, score=0.692, total=   3.1s\n",
      "[CV] C=100, gamma=1, kernel=rbf ......................................\n",
      "[CV] .......... C=100, gamma=1, kernel=rbf, score=0.682, total=   3.2s\n",
      "[CV] C=100, gamma=1, kernel=rbf ......................................\n",
      "[CV] .......... C=100, gamma=1, kernel=rbf, score=0.686, total=   3.2s\n",
      "[CV] C=100, gamma=1, kernel=linear ...................................\n",
      "[CV] ....... C=100, gamma=1, kernel=linear, score=0.615, total=   2.2s\n",
      "[CV] C=100, gamma=1, kernel=linear ...................................\n",
      "[CV] ....... C=100, gamma=1, kernel=linear, score=0.621, total=   2.2s\n",
      "[CV] C=100, gamma=1, kernel=linear ...................................\n",
      "[CV] ....... C=100, gamma=1, kernel=linear, score=0.638, total=   2.2s\n",
      "[CV] C=100, gamma=1, kernel=linear ...................................\n",
      "[CV] ....... C=100, gamma=1, kernel=linear, score=0.628, total=   2.1s\n",
      "[CV] C=100, gamma=1, kernel=linear ...................................\n",
      "[CV] ....... C=100, gamma=1, kernel=linear, score=0.627, total=   2.3s\n",
      "[CV] C=100, gamma=1, kernel=nonlinear ................................\n",
      "[CV] ...... C=100, gamma=1, kernel=nonlinear, score=nan, total=   0.0s\n",
      "[CV] C=100, gamma=1, kernel=nonlinear ................................\n",
      "[CV] ...... C=100, gamma=1, kernel=nonlinear, score=nan, total=   0.0s\n",
      "[CV] C=100, gamma=1, kernel=nonlinear ................................\n",
      "[CV] ...... C=100, gamma=1, kernel=nonlinear, score=nan, total=   0.0s\n",
      "[CV] C=100, gamma=1, kernel=nonlinear ................................\n",
      "[CV] ...... C=100, gamma=1, kernel=nonlinear, score=nan, total=   0.0s\n",
      "[CV] C=100, gamma=1, kernel=nonlinear ................................\n",
      "[CV] ...... C=100, gamma=1, kernel=nonlinear, score=nan, total=   0.0s\n",
      "[CV] C=100, gamma=1, kernel=sigmoid ..................................\n",
      "[CV] ...... C=100, gamma=1, kernel=sigmoid, score=0.560, total=   2.0s\n",
      "[CV] C=100, gamma=1, kernel=sigmoid ..................................\n",
      "[CV] ...... C=100, gamma=1, kernel=sigmoid, score=0.584, total=   2.3s\n",
      "[CV] C=100, gamma=1, kernel=sigmoid ..................................\n",
      "[CV] ...... C=100, gamma=1, kernel=sigmoid, score=0.576, total=   2.1s\n",
      "[CV] C=100, gamma=1, kernel=sigmoid ..................................\n",
      "[CV] ...... C=100, gamma=1, kernel=sigmoid, score=0.600, total=   2.8s\n",
      "[CV] C=100, gamma=1, kernel=sigmoid ..................................\n",
      "[CV] ...... C=100, gamma=1, kernel=sigmoid, score=0.594, total=   2.5s\n",
      "[CV] C=100, gamma=1, kernel=polynomial ...............................\n",
      "[CV] ..... C=100, gamma=1, kernel=polynomial, score=nan, total=   0.0s\n",
      "[CV] C=100, gamma=1, kernel=polynomial ...............................\n",
      "[CV] ..... C=100, gamma=1, kernel=polynomial, score=nan, total=   0.0s\n",
      "[CV] C=100, gamma=1, kernel=polynomial ...............................\n",
      "[CV] ..... C=100, gamma=1, kernel=polynomial, score=nan, total=   0.0s\n",
      "[CV] C=100, gamma=1, kernel=polynomial ...............................\n",
      "[CV] ..... C=100, gamma=1, kernel=polynomial, score=nan, total=   0.0s\n",
      "[CV] C=100, gamma=1, kernel=polynomial ...............................\n",
      "[CV] ..... C=100, gamma=1, kernel=polynomial, score=nan, total=   0.0s\n",
      "[CV] C=100, gamma=0.1, kernel=rbf ....................................\n",
      "[CV] ........ C=100, gamma=0.1, kernel=rbf, score=0.636, total=   2.4s\n",
      "[CV] C=100, gamma=0.1, kernel=rbf ....................................\n",
      "[CV] ........ C=100, gamma=0.1, kernel=rbf, score=0.647, total=   2.5s\n",
      "[CV] C=100, gamma=0.1, kernel=rbf ....................................\n",
      "[CV] ........ C=100, gamma=0.1, kernel=rbf, score=0.647, total=   2.5s\n",
      "[CV] C=100, gamma=0.1, kernel=rbf ....................................\n",
      "[CV] ........ C=100, gamma=0.1, kernel=rbf, score=0.650, total=   2.5s\n",
      "[CV] C=100, gamma=0.1, kernel=rbf ....................................\n",
      "[CV] ........ C=100, gamma=0.1, kernel=rbf, score=0.650, total=   2.5s\n",
      "[CV] C=100, gamma=0.1, kernel=linear .................................\n",
      "[CV] ..... C=100, gamma=0.1, kernel=linear, score=0.615, total=   2.2s\n",
      "[CV] C=100, gamma=0.1, kernel=linear .................................\n",
      "[CV] ..... C=100, gamma=0.1, kernel=linear, score=0.621, total=   2.2s\n",
      "[CV] C=100, gamma=0.1, kernel=linear .................................\n",
      "[CV] ..... C=100, gamma=0.1, kernel=linear, score=0.638, total=   2.2s\n",
      "[CV] C=100, gamma=0.1, kernel=linear .................................\n",
      "[CV] ..... C=100, gamma=0.1, kernel=linear, score=0.628, total=   2.2s\n",
      "[CV] C=100, gamma=0.1, kernel=linear .................................\n",
      "[CV] ..... C=100, gamma=0.1, kernel=linear, score=0.627, total=   2.3s\n",
      "[CV] C=100, gamma=0.1, kernel=nonlinear ..............................\n",
      "[CV] .... C=100, gamma=0.1, kernel=nonlinear, score=nan, total=   0.0s\n",
      "[CV] C=100, gamma=0.1, kernel=nonlinear ..............................\n",
      "[CV] .... C=100, gamma=0.1, kernel=nonlinear, score=nan, total=   0.0s\n",
      "[CV] C=100, gamma=0.1, kernel=nonlinear ..............................\n",
      "[CV] .... C=100, gamma=0.1, kernel=nonlinear, score=nan, total=   0.0s\n",
      "[CV] C=100, gamma=0.1, kernel=nonlinear ..............................\n",
      "[CV] .... C=100, gamma=0.1, kernel=nonlinear, score=nan, total=   0.0s\n",
      "[CV] C=100, gamma=0.1, kernel=nonlinear ..............................\n",
      "[CV] .... C=100, gamma=0.1, kernel=nonlinear, score=nan, total=   0.0s\n",
      "[CV] C=100, gamma=0.1, kernel=sigmoid ................................\n",
      "[CV] .... C=100, gamma=0.1, kernel=sigmoid, score=0.629, total=   2.5s\n",
      "[CV] C=100, gamma=0.1, kernel=sigmoid ................................\n",
      "[CV] .... C=100, gamma=0.1, kernel=sigmoid, score=0.642, total=   2.4s\n",
      "[CV] C=100, gamma=0.1, kernel=sigmoid ................................\n",
      "[CV] .... C=100, gamma=0.1, kernel=sigmoid, score=0.641, total=   2.4s\n",
      "[CV] C=100, gamma=0.1, kernel=sigmoid ................................\n",
      "[CV] .... C=100, gamma=0.1, kernel=sigmoid, score=0.659, total=   2.3s\n",
      "[CV] C=100, gamma=0.1, kernel=sigmoid ................................\n",
      "[CV] .... C=100, gamma=0.1, kernel=sigmoid, score=0.649, total=   2.6s\n",
      "[CV] C=100, gamma=0.1, kernel=polynomial .............................\n",
      "[CV] ... C=100, gamma=0.1, kernel=polynomial, score=nan, total=   0.0s\n",
      "[CV] C=100, gamma=0.1, kernel=polynomial .............................\n",
      "[CV] ... C=100, gamma=0.1, kernel=polynomial, score=nan, total=   0.0s\n",
      "[CV] C=100, gamma=0.1, kernel=polynomial .............................\n",
      "[CV] ... C=100, gamma=0.1, kernel=polynomial, score=nan, total=   0.0s\n",
      "[CV] C=100, gamma=0.1, kernel=polynomial .............................\n",
      "[CV] ... C=100, gamma=0.1, kernel=polynomial, score=nan, total=   0.0s\n",
      "[CV] C=100, gamma=0.1, kernel=polynomial .............................\n",
      "[CV] ... C=100, gamma=0.1, kernel=polynomial, score=nan, total=   0.0s\n",
      "[CV] C=100, gamma=0.01, kernel=rbf ...................................\n",
      "[CV] ....... C=100, gamma=0.01, kernel=rbf, score=0.672, total=   2.2s\n",
      "[CV] C=100, gamma=0.01, kernel=rbf ...................................\n",
      "[CV] ....... C=100, gamma=0.01, kernel=rbf, score=0.669, total=   2.2s\n",
      "[CV] C=100, gamma=0.01, kernel=rbf ...................................\n",
      "[CV] ....... C=100, gamma=0.01, kernel=rbf, score=0.688, total=   2.1s\n",
      "[CV] C=100, gamma=0.01, kernel=rbf ...................................\n",
      "[CV] ....... C=100, gamma=0.01, kernel=rbf, score=0.683, total=   2.2s\n",
      "[CV] C=100, gamma=0.01, kernel=rbf ...................................\n",
      "[CV] ....... C=100, gamma=0.01, kernel=rbf, score=0.670, total=   2.1s\n",
      "[CV] C=100, gamma=0.01, kernel=linear ................................\n",
      "[CV] .... C=100, gamma=0.01, kernel=linear, score=0.615, total=   2.2s\n",
      "[CV] C=100, gamma=0.01, kernel=linear ................................\n",
      "[CV] .... C=100, gamma=0.01, kernel=linear, score=0.621, total=   2.2s\n",
      "[CV] C=100, gamma=0.01, kernel=linear ................................\n",
      "[CV] .... C=100, gamma=0.01, kernel=linear, score=0.638, total=   2.2s\n",
      "[CV] C=100, gamma=0.01, kernel=linear ................................\n"
     ]
    },
    {
     "name": "stdout",
     "output_type": "stream",
     "text": [
      "[CV] .... C=100, gamma=0.01, kernel=linear, score=0.628, total=   2.2s\n",
      "[CV] C=100, gamma=0.01, kernel=linear ................................\n",
      "[CV] .... C=100, gamma=0.01, kernel=linear, score=0.627, total=   2.3s\n",
      "[CV] C=100, gamma=0.01, kernel=nonlinear .............................\n",
      "[CV] ... C=100, gamma=0.01, kernel=nonlinear, score=nan, total=   0.0s\n",
      "[CV] C=100, gamma=0.01, kernel=nonlinear .............................\n",
      "[CV] ... C=100, gamma=0.01, kernel=nonlinear, score=nan, total=   0.0s\n",
      "[CV] C=100, gamma=0.01, kernel=nonlinear .............................\n",
      "[CV] ... C=100, gamma=0.01, kernel=nonlinear, score=nan, total=   0.0s\n",
      "[CV] C=100, gamma=0.01, kernel=nonlinear .............................\n",
      "[CV] ... C=100, gamma=0.01, kernel=nonlinear, score=nan, total=   0.0s\n",
      "[CV] C=100, gamma=0.01, kernel=nonlinear .............................\n",
      "[CV] ... C=100, gamma=0.01, kernel=nonlinear, score=nan, total=   0.0s\n",
      "[CV] C=100, gamma=0.01, kernel=sigmoid ...............................\n",
      "[CV] ... C=100, gamma=0.01, kernel=sigmoid, score=0.691, total=   2.1s\n",
      "[CV] C=100, gamma=0.01, kernel=sigmoid ...............................\n",
      "[CV] ... C=100, gamma=0.01, kernel=sigmoid, score=0.686, total=   2.1s\n",
      "[CV] C=100, gamma=0.01, kernel=sigmoid ...............................\n",
      "[CV] ... C=100, gamma=0.01, kernel=sigmoid, score=0.701, total=   2.0s\n",
      "[CV] C=100, gamma=0.01, kernel=sigmoid ...............................\n",
      "[CV] ... C=100, gamma=0.01, kernel=sigmoid, score=0.686, total=   2.1s\n",
      "[CV] C=100, gamma=0.01, kernel=sigmoid ...............................\n",
      "[CV] ... C=100, gamma=0.01, kernel=sigmoid, score=0.683, total=   2.1s\n",
      "[CV] C=100, gamma=0.01, kernel=polynomial ............................\n",
      "[CV] .. C=100, gamma=0.01, kernel=polynomial, score=nan, total=   0.0s\n",
      "[CV] C=100, gamma=0.01, kernel=polynomial ............................\n",
      "[CV] .. C=100, gamma=0.01, kernel=polynomial, score=nan, total=   0.0s\n",
      "[CV] C=100, gamma=0.01, kernel=polynomial ............................\n",
      "[CV] .. C=100, gamma=0.01, kernel=polynomial, score=nan, total=   0.0s\n",
      "[CV] C=100, gamma=0.01, kernel=polynomial ............................\n",
      "[CV] .. C=100, gamma=0.01, kernel=polynomial, score=nan, total=   0.0s\n",
      "[CV] C=100, gamma=0.01, kernel=polynomial ............................\n",
      "[CV] .. C=100, gamma=0.01, kernel=polynomial, score=nan, total=   0.0s\n",
      "[CV] C=100, gamma=0.001, kernel=rbf ..................................\n",
      "[CV] ...... C=100, gamma=0.001, kernel=rbf, score=0.679, total=   2.2s\n",
      "[CV] C=100, gamma=0.001, kernel=rbf ..................................\n",
      "[CV] ...... C=100, gamma=0.001, kernel=rbf, score=0.672, total=   2.2s\n",
      "[CV] C=100, gamma=0.001, kernel=rbf ..................................\n",
      "[CV] ...... C=100, gamma=0.001, kernel=rbf, score=0.679, total=   2.2s\n",
      "[CV] C=100, gamma=0.001, kernel=rbf ..................................\n",
      "[CV] ...... C=100, gamma=0.001, kernel=rbf, score=0.681, total=   2.2s\n",
      "[CV] C=100, gamma=0.001, kernel=rbf ..................................\n",
      "[CV] ...... C=100, gamma=0.001, kernel=rbf, score=0.671, total=   2.2s\n",
      "[CV] C=100, gamma=0.001, kernel=linear ...............................\n",
      "[CV] ... C=100, gamma=0.001, kernel=linear, score=0.615, total=   2.2s\n",
      "[CV] C=100, gamma=0.001, kernel=linear ...............................\n",
      "[CV] ... C=100, gamma=0.001, kernel=linear, score=0.621, total=   2.2s\n",
      "[CV] C=100, gamma=0.001, kernel=linear ...............................\n",
      "[CV] ... C=100, gamma=0.001, kernel=linear, score=0.638, total=   2.2s\n",
      "[CV] C=100, gamma=0.001, kernel=linear ...............................\n",
      "[CV] ... C=100, gamma=0.001, kernel=linear, score=0.628, total=   2.2s\n",
      "[CV] C=100, gamma=0.001, kernel=linear ...............................\n",
      "[CV] ... C=100, gamma=0.001, kernel=linear, score=0.627, total=   2.3s\n",
      "[CV] C=100, gamma=0.001, kernel=nonlinear ............................\n",
      "[CV] .. C=100, gamma=0.001, kernel=nonlinear, score=nan, total=   0.0s\n",
      "[CV] C=100, gamma=0.001, kernel=nonlinear ............................\n",
      "[CV] .. C=100, gamma=0.001, kernel=nonlinear, score=nan, total=   0.0s\n",
      "[CV] C=100, gamma=0.001, kernel=nonlinear ............................\n",
      "[CV] .. C=100, gamma=0.001, kernel=nonlinear, score=nan, total=   0.0s\n",
      "[CV] C=100, gamma=0.001, kernel=nonlinear ............................\n",
      "[CV] .. C=100, gamma=0.001, kernel=nonlinear, score=nan, total=   0.0s\n",
      "[CV] C=100, gamma=0.001, kernel=nonlinear ............................\n",
      "[CV] .. C=100, gamma=0.001, kernel=nonlinear, score=nan, total=   0.0s\n",
      "[CV] C=100, gamma=0.001, kernel=sigmoid ..............................\n",
      "[CV] .. C=100, gamma=0.001, kernel=sigmoid, score=0.662, total=   2.3s\n",
      "[CV] C=100, gamma=0.001, kernel=sigmoid ..............................\n",
      "[CV] .. C=100, gamma=0.001, kernel=sigmoid, score=0.658, total=   2.3s\n",
      "[CV] C=100, gamma=0.001, kernel=sigmoid ..............................\n",
      "[CV] .. C=100, gamma=0.001, kernel=sigmoid, score=0.655, total=   2.2s\n",
      "[CV] C=100, gamma=0.001, kernel=sigmoid ..............................\n",
      "[CV] .. C=100, gamma=0.001, kernel=sigmoid, score=0.669, total=   2.3s\n",
      "[CV] C=100, gamma=0.001, kernel=sigmoid ..............................\n",
      "[CV] .. C=100, gamma=0.001, kernel=sigmoid, score=0.654, total=   2.3s\n",
      "[CV] C=100, gamma=0.001, kernel=polynomial ...........................\n",
      "[CV] . C=100, gamma=0.001, kernel=polynomial, score=nan, total=   0.0s\n",
      "[CV] C=100, gamma=0.001, kernel=polynomial ...........................\n",
      "[CV] . C=100, gamma=0.001, kernel=polynomial, score=nan, total=   0.0s\n",
      "[CV] C=100, gamma=0.001, kernel=polynomial ...........................\n",
      "[CV] . C=100, gamma=0.001, kernel=polynomial, score=nan, total=   0.0s\n",
      "[CV] C=100, gamma=0.001, kernel=polynomial ...........................\n",
      "[CV] . C=100, gamma=0.001, kernel=polynomial, score=nan, total=   0.0s\n",
      "[CV] C=100, gamma=0.001, kernel=polynomial ...........................\n",
      "[CV] . C=100, gamma=0.001, kernel=polynomial, score=nan, total=   0.0s\n",
      "[CV] C=100, gamma=0.0001, kernel=rbf .................................\n",
      "[CV] ..... C=100, gamma=0.0001, kernel=rbf, score=0.484, total=   2.3s\n",
      "[CV] C=100, gamma=0.0001, kernel=rbf .................................\n",
      "[CV] ..... C=100, gamma=0.0001, kernel=rbf, score=0.484, total=   2.3s\n",
      "[CV] C=100, gamma=0.0001, kernel=rbf .................................\n",
      "[CV] ..... C=100, gamma=0.0001, kernel=rbf, score=0.483, total=   2.3s\n",
      "[CV] C=100, gamma=0.0001, kernel=rbf .................................\n",
      "[CV] ..... C=100, gamma=0.0001, kernel=rbf, score=0.483, total=   2.3s\n",
      "[CV] C=100, gamma=0.0001, kernel=rbf .................................\n",
      "[CV] ..... C=100, gamma=0.0001, kernel=rbf, score=0.483, total=   2.3s\n",
      "[CV] C=100, gamma=0.0001, kernel=linear ..............................\n",
      "[CV] .. C=100, gamma=0.0001, kernel=linear, score=0.615, total=   2.2s\n",
      "[CV] C=100, gamma=0.0001, kernel=linear ..............................\n",
      "[CV] .. C=100, gamma=0.0001, kernel=linear, score=0.621, total=   2.2s\n",
      "[CV] C=100, gamma=0.0001, kernel=linear ..............................\n",
      "[CV] .. C=100, gamma=0.0001, kernel=linear, score=0.638, total=   2.2s\n",
      "[CV] C=100, gamma=0.0001, kernel=linear ..............................\n",
      "[CV] .. C=100, gamma=0.0001, kernel=linear, score=0.628, total=   2.1s\n",
      "[CV] C=100, gamma=0.0001, kernel=linear ..............................\n",
      "[CV] .. C=100, gamma=0.0001, kernel=linear, score=0.627, total=   2.3s\n",
      "[CV] C=100, gamma=0.0001, kernel=nonlinear ...........................\n",
      "[CV] . C=100, gamma=0.0001, kernel=nonlinear, score=nan, total=   0.0s\n",
      "[CV] C=100, gamma=0.0001, kernel=nonlinear ...........................\n",
      "[CV] . C=100, gamma=0.0001, kernel=nonlinear, score=nan, total=   0.0s\n",
      "[CV] C=100, gamma=0.0001, kernel=nonlinear ...........................\n",
      "[CV] . C=100, gamma=0.0001, kernel=nonlinear, score=nan, total=   0.0s\n",
      "[CV] C=100, gamma=0.0001, kernel=nonlinear ...........................\n",
      "[CV] . C=100, gamma=0.0001, kernel=nonlinear, score=nan, total=   0.0s\n",
      "[CV] C=100, gamma=0.0001, kernel=nonlinear ...........................\n",
      "[CV] . C=100, gamma=0.0001, kernel=nonlinear, score=nan, total=   0.0s\n",
      "[CV] C=100, gamma=0.0001, kernel=sigmoid .............................\n",
      "[CV] . C=100, gamma=0.0001, kernel=sigmoid, score=0.484, total=   2.3s\n",
      "[CV] C=100, gamma=0.0001, kernel=sigmoid .............................\n"
     ]
    },
    {
     "name": "stdout",
     "output_type": "stream",
     "text": [
      "[CV] . C=100, gamma=0.0001, kernel=sigmoid, score=0.484, total=   2.3s\n",
      "[CV] C=100, gamma=0.0001, kernel=sigmoid .............................\n",
      "[CV] . C=100, gamma=0.0001, kernel=sigmoid, score=0.483, total=   2.3s\n",
      "[CV] C=100, gamma=0.0001, kernel=sigmoid .............................\n",
      "[CV] . C=100, gamma=0.0001, kernel=sigmoid, score=0.483, total=   2.3s\n",
      "[CV] C=100, gamma=0.0001, kernel=sigmoid .............................\n",
      "[CV] . C=100, gamma=0.0001, kernel=sigmoid, score=0.483, total=   2.3s\n",
      "[CV] C=100, gamma=0.0001, kernel=polynomial ..........................\n",
      "[CV]  C=100, gamma=0.0001, kernel=polynomial, score=nan, total=   0.0s\n",
      "[CV] C=100, gamma=0.0001, kernel=polynomial ..........................\n",
      "[CV]  C=100, gamma=0.0001, kernel=polynomial, score=nan, total=   0.0s\n",
      "[CV] C=100, gamma=0.0001, kernel=polynomial ..........................\n",
      "[CV]  C=100, gamma=0.0001, kernel=polynomial, score=nan, total=   0.0s\n",
      "[CV] C=100, gamma=0.0001, kernel=polynomial ..........................\n",
      "[CV]  C=100, gamma=0.0001, kernel=polynomial, score=nan, total=   0.0s\n",
      "[CV] C=100, gamma=0.0001, kernel=polynomial ..........................\n",
      "[CV]  C=100, gamma=0.0001, kernel=polynomial, score=nan, total=   0.0s\n",
      "[CV] C=1000, gamma=1, kernel=rbf .....................................\n",
      "[CV] ......... C=1000, gamma=1, kernel=rbf, score=0.681, total=   3.2s\n",
      "[CV] C=1000, gamma=1, kernel=rbf .....................................\n",
      "[CV] ......... C=1000, gamma=1, kernel=rbf, score=0.676, total=   3.2s\n",
      "[CV] C=1000, gamma=1, kernel=rbf .....................................\n",
      "[CV] ......... C=1000, gamma=1, kernel=rbf, score=0.692, total=   3.1s\n",
      "[CV] C=1000, gamma=1, kernel=rbf .....................................\n",
      "[CV] ......... C=1000, gamma=1, kernel=rbf, score=0.682, total=   3.2s\n",
      "[CV] C=1000, gamma=1, kernel=rbf .....................................\n",
      "[CV] ......... C=1000, gamma=1, kernel=rbf, score=0.686, total=   3.1s\n",
      "[CV] C=1000, gamma=1, kernel=linear ..................................\n",
      "[CV] ...... C=1000, gamma=1, kernel=linear, score=0.602, total=   2.4s\n",
      "[CV] C=1000, gamma=1, kernel=linear ..................................\n",
      "[CV] ...... C=1000, gamma=1, kernel=linear, score=0.613, total=   2.7s\n",
      "[CV] C=1000, gamma=1, kernel=linear ..................................\n",
      "[CV] ...... C=1000, gamma=1, kernel=linear, score=0.619, total=   2.6s\n",
      "[CV] C=1000, gamma=1, kernel=linear ..................................\n",
      "[CV] ...... C=1000, gamma=1, kernel=linear, score=0.603, total=   2.4s\n",
      "[CV] C=1000, gamma=1, kernel=linear ..................................\n",
      "[CV] ...... C=1000, gamma=1, kernel=linear, score=0.619, total=   2.3s\n",
      "[CV] C=1000, gamma=1, kernel=nonlinear ...............................\n",
      "[CV] ..... C=1000, gamma=1, kernel=nonlinear, score=nan, total=   0.0s\n",
      "[CV] C=1000, gamma=1, kernel=nonlinear ...............................\n",
      "[CV] ..... C=1000, gamma=1, kernel=nonlinear, score=nan, total=   0.0s\n",
      "[CV] C=1000, gamma=1, kernel=nonlinear ...............................\n",
      "[CV] ..... C=1000, gamma=1, kernel=nonlinear, score=nan, total=   0.0s\n",
      "[CV] C=1000, gamma=1, kernel=nonlinear ...............................\n",
      "[CV] ..... C=1000, gamma=1, kernel=nonlinear, score=nan, total=   0.0s\n",
      "[CV] C=1000, gamma=1, kernel=nonlinear ...............................\n",
      "[CV] ..... C=1000, gamma=1, kernel=nonlinear, score=nan, total=   0.0s\n",
      "[CV] C=1000, gamma=1, kernel=sigmoid .................................\n",
      "[CV] ..... C=1000, gamma=1, kernel=sigmoid, score=0.570, total=   2.4s\n",
      "[CV] C=1000, gamma=1, kernel=sigmoid .................................\n",
      "[CV] ..... C=1000, gamma=1, kernel=sigmoid, score=0.579, total=   2.2s\n",
      "[CV] C=1000, gamma=1, kernel=sigmoid .................................\n",
      "[CV] ..... C=1000, gamma=1, kernel=sigmoid, score=0.572, total=   2.2s\n",
      "[CV] C=1000, gamma=1, kernel=sigmoid .................................\n",
      "[CV] ..... C=1000, gamma=1, kernel=sigmoid, score=0.595, total=   2.7s\n",
      "[CV] C=1000, gamma=1, kernel=sigmoid .................................\n",
      "[CV] ..... C=1000, gamma=1, kernel=sigmoid, score=0.595, total=   2.4s\n",
      "[CV] C=1000, gamma=1, kernel=polynomial ..............................\n",
      "[CV] .... C=1000, gamma=1, kernel=polynomial, score=nan, total=   0.0s\n",
      "[CV] C=1000, gamma=1, kernel=polynomial ..............................\n",
      "[CV] .... C=1000, gamma=1, kernel=polynomial, score=nan, total=   0.0s\n",
      "[CV] C=1000, gamma=1, kernel=polynomial ..............................\n",
      "[CV] .... C=1000, gamma=1, kernel=polynomial, score=nan, total=   0.0s\n",
      "[CV] C=1000, gamma=1, kernel=polynomial ..............................\n",
      "[CV] .... C=1000, gamma=1, kernel=polynomial, score=nan, total=   0.0s\n",
      "[CV] C=1000, gamma=1, kernel=polynomial ..............................\n",
      "[CV] .... C=1000, gamma=1, kernel=polynomial, score=nan, total=   0.0s\n",
      "[CV] C=1000, gamma=0.1, kernel=rbf ...................................\n",
      "[CV] ....... C=1000, gamma=0.1, kernel=rbf, score=0.634, total=   2.4s\n",
      "[CV] C=1000, gamma=0.1, kernel=rbf ...................................\n",
      "[CV] ....... C=1000, gamma=0.1, kernel=rbf, score=0.649, total=   2.5s\n",
      "[CV] C=1000, gamma=0.1, kernel=rbf ...................................\n",
      "[CV] ....... C=1000, gamma=0.1, kernel=rbf, score=0.650, total=   2.4s\n",
      "[CV] C=1000, gamma=0.1, kernel=rbf ...................................\n",
      "[CV] ....... C=1000, gamma=0.1, kernel=rbf, score=0.652, total=   2.5s\n",
      "[CV] C=1000, gamma=0.1, kernel=rbf ...................................\n",
      "[CV] ....... C=1000, gamma=0.1, kernel=rbf, score=0.650, total=   2.5s\n",
      "[CV] C=1000, gamma=0.1, kernel=linear ................................\n",
      "[CV] .... C=1000, gamma=0.1, kernel=linear, score=0.602, total=   2.4s\n",
      "[CV] C=1000, gamma=0.1, kernel=linear ................................\n",
      "[CV] .... C=1000, gamma=0.1, kernel=linear, score=0.613, total=   2.7s\n",
      "[CV] C=1000, gamma=0.1, kernel=linear ................................\n",
      "[CV] .... C=1000, gamma=0.1, kernel=linear, score=0.619, total=   2.6s\n",
      "[CV] C=1000, gamma=0.1, kernel=linear ................................\n",
      "[CV] .... C=1000, gamma=0.1, kernel=linear, score=0.603, total=   2.4s\n",
      "[CV] C=1000, gamma=0.1, kernel=linear ................................\n",
      "[CV] .... C=1000, gamma=0.1, kernel=linear, score=0.619, total=   2.3s\n",
      "[CV] C=1000, gamma=0.1, kernel=nonlinear .............................\n",
      "[CV] ... C=1000, gamma=0.1, kernel=nonlinear, score=nan, total=   0.0s\n",
      "[CV] C=1000, gamma=0.1, kernel=nonlinear .............................\n",
      "[CV] ... C=1000, gamma=0.1, kernel=nonlinear, score=nan, total=   0.0s\n",
      "[CV] C=1000, gamma=0.1, kernel=nonlinear .............................\n",
      "[CV] ... C=1000, gamma=0.1, kernel=nonlinear, score=nan, total=   0.0s\n",
      "[CV] C=1000, gamma=0.1, kernel=nonlinear .............................\n",
      "[CV] ... C=1000, gamma=0.1, kernel=nonlinear, score=nan, total=   0.0s\n",
      "[CV] C=1000, gamma=0.1, kernel=nonlinear .............................\n",
      "[CV] ... C=1000, gamma=0.1, kernel=nonlinear, score=nan, total=   0.0s\n",
      "[CV] C=1000, gamma=0.1, kernel=sigmoid ...............................\n",
      "[CV] ... C=1000, gamma=0.1, kernel=sigmoid, score=0.616, total=   2.5s\n",
      "[CV] C=1000, gamma=0.1, kernel=sigmoid ...............................\n",
      "[CV] ... C=1000, gamma=0.1, kernel=sigmoid, score=0.613, total=   2.6s\n",
      "[CV] C=1000, gamma=0.1, kernel=sigmoid ...............................\n",
      "[CV] ... C=1000, gamma=0.1, kernel=sigmoid, score=0.635, total=   2.6s\n",
      "[CV] C=1000, gamma=0.1, kernel=sigmoid ...............................\n",
      "[CV] ... C=1000, gamma=0.1, kernel=sigmoid, score=0.623, total=   2.4s\n",
      "[CV] C=1000, gamma=0.1, kernel=sigmoid ...............................\n",
      "[CV] ... C=1000, gamma=0.1, kernel=sigmoid, score=0.626, total=   2.7s\n",
      "[CV] C=1000, gamma=0.1, kernel=polynomial ............................\n",
      "[CV] .. C=1000, gamma=0.1, kernel=polynomial, score=nan, total=   0.0s\n",
      "[CV] C=1000, gamma=0.1, kernel=polynomial ............................\n",
      "[CV] .. C=1000, gamma=0.1, kernel=polynomial, score=nan, total=   0.0s\n",
      "[CV] C=1000, gamma=0.1, kernel=polynomial ............................\n",
      "[CV] .. C=1000, gamma=0.1, kernel=polynomial, score=nan, total=   0.0s\n",
      "[CV] C=1000, gamma=0.1, kernel=polynomial ............................\n",
      "[CV] .. C=1000, gamma=0.1, kernel=polynomial, score=nan, total=   0.0s\n",
      "[CV] C=1000, gamma=0.1, kernel=polynomial ............................\n",
      "[CV] .. C=1000, gamma=0.1, kernel=polynomial, score=nan, total=   0.0s\n",
      "[CV] C=1000, gamma=0.01, kernel=rbf ..................................\n"
     ]
    },
    {
     "name": "stdout",
     "output_type": "stream",
     "text": [
      "[CV] ...... C=1000, gamma=0.01, kernel=rbf, score=0.622, total=   2.4s\n",
      "[CV] C=1000, gamma=0.01, kernel=rbf ..................................\n",
      "[CV] ...... C=1000, gamma=0.01, kernel=rbf, score=0.637, total=   2.3s\n",
      "[CV] C=1000, gamma=0.01, kernel=rbf ..................................\n",
      "[CV] ...... C=1000, gamma=0.01, kernel=rbf, score=0.635, total=   2.3s\n",
      "[CV] C=1000, gamma=0.01, kernel=rbf ..................................\n",
      "[CV] ...... C=1000, gamma=0.01, kernel=rbf, score=0.650, total=   2.3s\n",
      "[CV] C=1000, gamma=0.01, kernel=rbf ..................................\n",
      "[CV] ...... C=1000, gamma=0.01, kernel=rbf, score=0.652, total=   2.4s\n",
      "[CV] C=1000, gamma=0.01, kernel=linear ...............................\n",
      "[CV] ... C=1000, gamma=0.01, kernel=linear, score=0.602, total=   2.4s\n",
      "[CV] C=1000, gamma=0.01, kernel=linear ...............................\n",
      "[CV] ... C=1000, gamma=0.01, kernel=linear, score=0.613, total=   2.8s\n",
      "[CV] C=1000, gamma=0.01, kernel=linear ...............................\n",
      "[CV] ... C=1000, gamma=0.01, kernel=linear, score=0.619, total=   2.6s\n",
      "[CV] C=1000, gamma=0.01, kernel=linear ...............................\n",
      "[CV] ... C=1000, gamma=0.01, kernel=linear, score=0.603, total=   2.4s\n",
      "[CV] C=1000, gamma=0.01, kernel=linear ...............................\n",
      "[CV] ... C=1000, gamma=0.01, kernel=linear, score=0.619, total=   2.3s\n",
      "[CV] C=1000, gamma=0.01, kernel=nonlinear ............................\n",
      "[CV] .. C=1000, gamma=0.01, kernel=nonlinear, score=nan, total=   0.0s\n",
      "[CV] C=1000, gamma=0.01, kernel=nonlinear ............................\n",
      "[CV] .. C=1000, gamma=0.01, kernel=nonlinear, score=nan, total=   0.0s\n",
      "[CV] C=1000, gamma=0.01, kernel=nonlinear ............................\n",
      "[CV] .. C=1000, gamma=0.01, kernel=nonlinear, score=nan, total=   0.0s\n",
      "[CV] C=1000, gamma=0.01, kernel=nonlinear ............................\n",
      "[CV] .. C=1000, gamma=0.01, kernel=nonlinear, score=nan, total=   0.0s\n",
      "[CV] C=1000, gamma=0.01, kernel=nonlinear ............................\n",
      "[CV] .. C=1000, gamma=0.01, kernel=nonlinear, score=nan, total=   0.0s\n",
      "[CV] C=1000, gamma=0.01, kernel=sigmoid ..............................\n",
      "[CV] .. C=1000, gamma=0.01, kernel=sigmoid, score=0.628, total=   2.3s\n",
      "[CV] C=1000, gamma=0.01, kernel=sigmoid ..............................\n",
      "[CV] .. C=1000, gamma=0.01, kernel=sigmoid, score=0.642, total=   2.3s\n",
      "[CV] C=1000, gamma=0.01, kernel=sigmoid ..............................\n",
      "[CV] .. C=1000, gamma=0.01, kernel=sigmoid, score=0.641, total=   2.4s\n",
      "[CV] C=1000, gamma=0.01, kernel=sigmoid ..............................\n",
      "[CV] .. C=1000, gamma=0.01, kernel=sigmoid, score=0.657, total=   2.3s\n",
      "[CV] C=1000, gamma=0.01, kernel=sigmoid ..............................\n",
      "[CV] .. C=1000, gamma=0.01, kernel=sigmoid, score=0.650, total=   2.3s\n",
      "[CV] C=1000, gamma=0.01, kernel=polynomial ...........................\n",
      "[CV] . C=1000, gamma=0.01, kernel=polynomial, score=nan, total=   0.0s\n",
      "[CV] C=1000, gamma=0.01, kernel=polynomial ...........................\n",
      "[CV] . C=1000, gamma=0.01, kernel=polynomial, score=nan, total=   0.0s\n",
      "[CV] C=1000, gamma=0.01, kernel=polynomial ...........................\n",
      "[CV] . C=1000, gamma=0.01, kernel=polynomial, score=nan, total=   0.0s\n",
      "[CV] C=1000, gamma=0.01, kernel=polynomial ...........................\n",
      "[CV] . C=1000, gamma=0.01, kernel=polynomial, score=nan, total=   0.0s\n",
      "[CV] C=1000, gamma=0.01, kernel=polynomial ...........................\n",
      "[CV] . C=1000, gamma=0.01, kernel=polynomial, score=nan, total=   0.0s\n",
      "[CV] C=1000, gamma=0.001, kernel=rbf .................................\n",
      "[CV] ..... C=1000, gamma=0.001, kernel=rbf, score=0.670, total=   2.1s\n",
      "[CV] C=1000, gamma=0.001, kernel=rbf .................................\n",
      "[CV] ..... C=1000, gamma=0.001, kernel=rbf, score=0.669, total=   2.1s\n",
      "[CV] C=1000, gamma=0.001, kernel=rbf .................................\n",
      "[CV] ..... C=1000, gamma=0.001, kernel=rbf, score=0.689, total=   2.1s\n",
      "[CV] C=1000, gamma=0.001, kernel=rbf .................................\n",
      "[CV] ..... C=1000, gamma=0.001, kernel=rbf, score=0.683, total=   2.1s\n",
      "[CV] C=1000, gamma=0.001, kernel=rbf .................................\n",
      "[CV] ..... C=1000, gamma=0.001, kernel=rbf, score=0.669, total=   2.1s\n",
      "[CV] C=1000, gamma=0.001, kernel=linear ..............................\n",
      "[CV] .. C=1000, gamma=0.001, kernel=linear, score=0.602, total=   2.4s\n",
      "[CV] C=1000, gamma=0.001, kernel=linear ..............................\n",
      "[CV] .. C=1000, gamma=0.001, kernel=linear, score=0.613, total=   2.8s\n",
      "[CV] C=1000, gamma=0.001, kernel=linear ..............................\n",
      "[CV] .. C=1000, gamma=0.001, kernel=linear, score=0.619, total=   2.7s\n",
      "[CV] C=1000, gamma=0.001, kernel=linear ..............................\n",
      "[CV] .. C=1000, gamma=0.001, kernel=linear, score=0.603, total=   2.4s\n",
      "[CV] C=1000, gamma=0.001, kernel=linear ..............................\n",
      "[CV] .. C=1000, gamma=0.001, kernel=linear, score=0.619, total=   2.3s\n",
      "[CV] C=1000, gamma=0.001, kernel=nonlinear ...........................\n",
      "[CV] . C=1000, gamma=0.001, kernel=nonlinear, score=nan, total=   0.0s\n",
      "[CV] C=1000, gamma=0.001, kernel=nonlinear ...........................\n",
      "[CV] . C=1000, gamma=0.001, kernel=nonlinear, score=nan, total=   0.0s\n",
      "[CV] C=1000, gamma=0.001, kernel=nonlinear ...........................\n",
      "[CV] . C=1000, gamma=0.001, kernel=nonlinear, score=nan, total=   0.0s\n",
      "[CV] C=1000, gamma=0.001, kernel=nonlinear ...........................\n",
      "[CV] . C=1000, gamma=0.001, kernel=nonlinear, score=nan, total=   0.0s\n",
      "[CV] C=1000, gamma=0.001, kernel=nonlinear ...........................\n",
      "[CV] . C=1000, gamma=0.001, kernel=nonlinear, score=nan, total=   0.0s\n",
      "[CV] C=1000, gamma=0.001, kernel=sigmoid .............................\n",
      "[CV] . C=1000, gamma=0.001, kernel=sigmoid, score=0.691, total=   2.1s\n",
      "[CV] C=1000, gamma=0.001, kernel=sigmoid .............................\n",
      "[CV] . C=1000, gamma=0.001, kernel=sigmoid, score=0.686, total=   2.1s\n",
      "[CV] C=1000, gamma=0.001, kernel=sigmoid .............................\n",
      "[CV] . C=1000, gamma=0.001, kernel=sigmoid, score=0.701, total=   2.0s\n",
      "[CV] C=1000, gamma=0.001, kernel=sigmoid .............................\n",
      "[CV] . C=1000, gamma=0.001, kernel=sigmoid, score=0.686, total=   2.1s\n",
      "[CV] C=1000, gamma=0.001, kernel=sigmoid .............................\n",
      "[CV] . C=1000, gamma=0.001, kernel=sigmoid, score=0.683, total=   2.1s\n",
      "[CV] C=1000, gamma=0.001, kernel=polynomial ..........................\n",
      "[CV]  C=1000, gamma=0.001, kernel=polynomial, score=nan, total=   0.0s\n",
      "[CV] C=1000, gamma=0.001, kernel=polynomial ..........................\n",
      "[CV]  C=1000, gamma=0.001, kernel=polynomial, score=nan, total=   0.0s\n",
      "[CV] C=1000, gamma=0.001, kernel=polynomial ..........................\n",
      "[CV]  C=1000, gamma=0.001, kernel=polynomial, score=nan, total=   0.0s\n",
      "[CV] C=1000, gamma=0.001, kernel=polynomial ..........................\n",
      "[CV]  C=1000, gamma=0.001, kernel=polynomial, score=nan, total=   0.0s\n",
      "[CV] C=1000, gamma=0.001, kernel=polynomial ..........................\n",
      "[CV]  C=1000, gamma=0.001, kernel=polynomial, score=nan, total=   0.0s\n",
      "[CV] C=1000, gamma=0.0001, kernel=rbf ................................\n",
      "[CV] .... C=1000, gamma=0.0001, kernel=rbf, score=0.680, total=   2.2s\n",
      "[CV] C=1000, gamma=0.0001, kernel=rbf ................................\n",
      "[CV] .... C=1000, gamma=0.0001, kernel=rbf, score=0.672, total=   2.2s\n",
      "[CV] C=1000, gamma=0.0001, kernel=rbf ................................\n",
      "[CV] .... C=1000, gamma=0.0001, kernel=rbf, score=0.679, total=   2.1s\n",
      "[CV] C=1000, gamma=0.0001, kernel=rbf ................................\n",
      "[CV] .... C=1000, gamma=0.0001, kernel=rbf, score=0.681, total=   2.2s\n",
      "[CV] C=1000, gamma=0.0001, kernel=rbf ................................\n",
      "[CV] .... C=1000, gamma=0.0001, kernel=rbf, score=0.671, total=   2.1s\n",
      "[CV] C=1000, gamma=0.0001, kernel=linear .............................\n",
      "[CV] . C=1000, gamma=0.0001, kernel=linear, score=0.602, total=   2.4s\n",
      "[CV] C=1000, gamma=0.0001, kernel=linear .............................\n",
      "[CV] . C=1000, gamma=0.0001, kernel=linear, score=0.613, total=   2.7s\n",
      "[CV] C=1000, gamma=0.0001, kernel=linear .............................\n",
      "[CV] . C=1000, gamma=0.0001, kernel=linear, score=0.619, total=   2.6s\n",
      "[CV] C=1000, gamma=0.0001, kernel=linear .............................\n"
     ]
    },
    {
     "name": "stdout",
     "output_type": "stream",
     "text": [
      "[CV] . C=1000, gamma=0.0001, kernel=linear, score=0.603, total=   2.4s\n",
      "[CV] C=1000, gamma=0.0001, kernel=linear .............................\n",
      "[CV] . C=1000, gamma=0.0001, kernel=linear, score=0.619, total=   2.3s\n",
      "[CV] C=1000, gamma=0.0001, kernel=nonlinear ..........................\n",
      "[CV]  C=1000, gamma=0.0001, kernel=nonlinear, score=nan, total=   0.0s\n",
      "[CV] C=1000, gamma=0.0001, kernel=nonlinear ..........................\n",
      "[CV]  C=1000, gamma=0.0001, kernel=nonlinear, score=nan, total=   0.0s\n",
      "[CV] C=1000, gamma=0.0001, kernel=nonlinear ..........................\n",
      "[CV]  C=1000, gamma=0.0001, kernel=nonlinear, score=nan, total=   0.0s\n",
      "[CV] C=1000, gamma=0.0001, kernel=nonlinear ..........................\n",
      "[CV]  C=1000, gamma=0.0001, kernel=nonlinear, score=nan, total=   0.0s\n",
      "[CV] C=1000, gamma=0.0001, kernel=nonlinear ..........................\n",
      "[CV]  C=1000, gamma=0.0001, kernel=nonlinear, score=nan, total=   0.0s\n",
      "[CV] C=1000, gamma=0.0001, kernel=sigmoid ............................\n",
      "[CV]  C=1000, gamma=0.0001, kernel=sigmoid, score=0.662, total=   2.2s\n",
      "[CV] C=1000, gamma=0.0001, kernel=sigmoid ............................\n",
      "[CV]  C=1000, gamma=0.0001, kernel=sigmoid, score=0.658, total=   2.3s\n",
      "[CV] C=1000, gamma=0.0001, kernel=sigmoid ............................\n",
      "[CV]  C=1000, gamma=0.0001, kernel=sigmoid, score=0.655, total=   2.2s\n",
      "[CV] C=1000, gamma=0.0001, kernel=sigmoid ............................\n",
      "[CV]  C=1000, gamma=0.0001, kernel=sigmoid, score=0.669, total=   2.2s\n",
      "[CV] C=1000, gamma=0.0001, kernel=sigmoid ............................\n",
      "[CV]  C=1000, gamma=0.0001, kernel=sigmoid, score=0.654, total=   2.3s\n",
      "[CV] C=1000, gamma=0.0001, kernel=polynomial .........................\n",
      "[CV]  C=1000, gamma=0.0001, kernel=polynomial, score=nan, total=   0.0s\n",
      "[CV] C=1000, gamma=0.0001, kernel=polynomial .........................\n",
      "[CV]  C=1000, gamma=0.0001, kernel=polynomial, score=nan, total=   0.0s\n",
      "[CV] C=1000, gamma=0.0001, kernel=polynomial .........................\n",
      "[CV]  C=1000, gamma=0.0001, kernel=polynomial, score=nan, total=   0.0s\n",
      "[CV] C=1000, gamma=0.0001, kernel=polynomial .........................\n",
      "[CV]  C=1000, gamma=0.0001, kernel=polynomial, score=nan, total=   0.0s\n",
      "[CV] C=1000, gamma=0.0001, kernel=polynomial .........................\n",
      "[CV]  C=1000, gamma=0.0001, kernel=polynomial, score=nan, total=   0.0s\n"
     ]
    },
    {
     "name": "stderr",
     "output_type": "stream",
     "text": [
      "[Parallel(n_jobs=1)]: Done 625 out of 625 | elapsed: 14.2min finished\n"
     ]
    },
    {
     "name": "stdout",
     "output_type": "stream",
     "text": [
      "0:14:14.655374\n"
     ]
    }
   ],
   "source": [
    "starttime = datetime.now()\n",
    "\n",
    "#######\n",
    "\n",
    "svm_grid = GridSearchCV(SVM, svm_param_grid, refit=True, verbose=3)\n",
    "\n",
    "svm_grid.fit(tfidf_X_train, y_train)\n",
    "\n",
    "#######\n",
    "\n",
    "print(datetime.now() - starttime)"
   ]
  },
  {
   "cell_type": "code",
   "execution_count": 38,
   "metadata": {},
   "outputs": [
    {
     "name": "stdout",
     "output_type": "stream",
     "text": [
      "{'C': 1, 'gamma': 1, 'kernel': 'linear'}\n",
      "SVC(C=1, gamma=1, kernel='linear')\n"
     ]
    }
   ],
   "source": [
    "print(svm_grid.best_params_)\n",
    "print(svm_grid.best_estimator_)"
   ]
  },
  {
   "cell_type": "code",
   "execution_count": 39,
   "metadata": {},
   "outputs": [
    {
     "name": "stdout",
     "output_type": "stream",
     "text": [
      "Test Accuracy Score: 0.6728855721393034\n",
      "Test Precision Score: 0.5796878109452736\n",
      "Test Recall Score: 0.6728855721393034\n",
      "Test F1 Score: 0.5961049438901596\n"
     ]
    }
   ],
   "source": [
    "SVM = svm.SVC(C=1, gamma=1, kernel='linear')\n",
    "SVM.fit(tfidf_X_train, y_train)\n",
    "\n",
    "y_pred_SVM_test = SVM.predict(tfidf_X_test)\n",
    "\n",
    "print(\"Test Accuracy Score:\", metrics.accuracy_score(y_test, y_pred_SVM_test))\n",
    "print(\"Test Precision Score:\", metrics.precision_score(y_test, y_pred_SVM_test, average = \"weighted\"))\n",
    "print(\"Test Recall Score:\", metrics.recall_score(y_test, y_pred_SVM_test, average = \"weighted\"))\n",
    "print(\"Test F1 Score:\", metrics.f1_score(y_test, y_pred_SVM_test, average = \"weighted\"))"
   ]
  },
  {
   "cell_type": "markdown",
   "metadata": {},
   "source": [
    "Compared to:\n",
    "- Test Accuracy Score: 0.6685323383084577 (INCREASE)\n",
    "- Test Precision Score: 0.5906748506677536 (DECREASE)\n",
    "- Test Recall Score: 0.6685323383084577 (INCREASE)\n",
    "- Test F1 Score: 0.576083340899136 (INCREASE)"
   ]
  },
  {
   "cell_type": "code",
   "execution_count": 40,
   "metadata": {},
   "outputs": [
    {
     "data": {
      "text/plain": [
       "Text(91.68, 0.5, 'Predicted Rating')"
      ]
     },
     "execution_count": 40,
     "metadata": {},
     "output_type": "execute_result"
    },
    {
     "data": {
      "image/png": "[encoded data removed]",
      "text/plain": [
       "<Figure size 432x288 with 1 Axes>"
      ]
     },
     "metadata": {
      "needs_background": "light"
     },
     "output_type": "display_data"
    }
   ],
   "source": [
    "matrix = confusion_matrix(y_test, y_pred_SVM_test)\n",
    "sns.heatmap(matrix.T, square=True, annot=True, fmt='d', cbar=False, \n",
    "            xticklabels=['1','2','3','4','5'], yticklabels=['1','2','3','4','5'])\n",
    "\n",
    "plt.xlabel('Actual Rating')\n",
    "plt.ylabel('Predicted Rating')"
   ]
  }
 ],
 "metadata": {
  "kernelspec": {
   "display_name": "Python 3",
   "language": "python",
   "name": "python3"
  },
  "language_info": {
   "codemirror_mode": {
    "name": "ipython",
    "version": 3
   },
   "file_extension": ".py",
   "mimetype": "text/x-python",
   "name": "python",
   "nbconvert_exporter": "python",
   "pygments_lexer": "ipython3",
   "version": "3.7.6"
  }
 },
 "nbformat": 4,
 "nbformat_minor": 4
}
