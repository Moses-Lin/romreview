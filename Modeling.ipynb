{
 "cells": [
  {
   "cell_type": "markdown",
   "metadata": {},
   "source": [
    "# Importing necessary things"
   ]
  },
  {
   "cell_type": "code",
   "execution_count": 1,
   "metadata": {},
   "outputs": [],
   "source": [
    "import pandas as pd\n",
    "import numpy as np\n",
    "import sklearn\n",
    "\n",
    "import sklearn.metrics as metrics\n",
    "from sklearn.utils import resample\n",
    "from sklearn.preprocessing import MinMaxScaler\n",
    "from sklearn.model_selection import train_test_split, GridSearchCV, cross_val_score\n",
    "from sklearn.preprocessing import LabelEncoder\n",
    "from sklearn.naive_bayes import MultinomialNB\n",
    "from sklearn.ensemble import RandomForestClassifier\n",
    "from sklearn.tree import DecisionTreeClassifier\n",
    "from sklearn.metrics import accuracy_score, confusion_matrix, f1_score, recall_score, precision_score\n",
    "from sklearn.feature_extraction.text import TfidfVectorizer, CountVectorizer\n",
    "from sklearn import svm\n",
    "from sklearn.svm import SVC\n",
    "\n",
    "from tqdm import tqdm\n",
    "\n",
    "import string\n",
    "import nltk\n",
    "from nltk.corpus import stopwords\n",
    "from nltk.stem import WordNetLemmatizer\n",
    "from nltk import word_tokenize, RegexpTokenizer, TweetTokenizer\n",
    "\n",
    "import matplotlib.pyplot as plt\n",
    "import seaborn as sns\n",
    "\n",
    "import re\n",
    "from datetime import datetime\n",
    "\n",
    "import pickle"
   ]
  },
  {
   "cell_type": "markdown",
   "metadata": {},
   "source": [
    "=================================================================================================================="
   ]
  },
  {
   "cell_type": "markdown",
   "metadata": {},
   "source": [
    "# Preparing text for modeling"
   ]
  },
  {
   "cell_type": "code",
   "execution_count": 2,
   "metadata": {},
   "outputs": [],
   "source": [
    "# Retreiving our tokens.\n",
    "\n",
    "from pathlib import Path\n",
    "\n",
    "root = Path('.')\n",
    "\n",
    "#global\n",
    "my_path1 = root / \"tokens\" / \"processedreviewrating1.pbz2\"\n",
    "my_path2 = root / \"tokens\" / \"processedreviewrating2.pbz2\"\n",
    "my_path3 = root / \"tokens\" / \"processedreviewrating3.pbz2\"\n",
    "my_path4 = root / \"tokens\" / \"processedreviewrating4.pbz2\"\n",
    "my_path5 = root / \"tokens\" / \"processedreviewrating5.pbz2\"\n",
    "\n",
    "#sea\n",
    "my_path6 = root / \"tokens\" / \"processedreviewrating6.pbz2\"\n",
    "my_path7 = root / \"tokens\" / \"processedreviewrating7.pbz2\"\n",
    "my_path8 = root / \"tokens\" / \"processedreviewrating8.pbz2\"\n",
    "my_path9 = root / \"tokens\" / \"processedreviewrating9.pbz2\"\n",
    "my_path10 = root / \"tokens\" / \"processedreviewrating10.pbz2\"\n",
    "\n",
    "#globalapple\n",
    "my_path11 = root / \"tokens\" / \"processedreviewrating11.pbz2\"\n",
    "my_path12 = root / \"tokens\" / \"processedreviewrating12.pbz2\"\n",
    "my_path13 = root / \"tokens\" / \"processedreviewrating13.pbz2\"\n",
    "my_path14 = root / \"tokens\" / \"processedreviewrating14.pbz2\"\n",
    "my_path15 = root / \"tokens\" / \"processedreviewrating15.pbz2\"\n",
    "\n",
    "import bz2\n",
    "\n",
    "def compressed_pickle(path, data):\n",
    "    with bz2.BZ2File(path, 'w') as f:\n",
    "        pickle.dump(data, f)\n",
    "\n",
    "def decompress_pickle(file):\n",
    "    data = bz2.BZ2File(file, 'rb')\n",
    "    data = pickle.load(data)\n",
    "    return data"
   ]
  },
  {
   "cell_type": "code",
   "execution_count": 3,
   "metadata": {},
   "outputs": [],
   "source": [
    "# Retrieve our pickled dataframes\n",
    "\n",
    "rating1global = decompress_pickle(my_path1)\n",
    "rating2global = decompress_pickle(my_path2)\n",
    "rating3global = decompress_pickle(my_path3)\n",
    "rating4global = decompress_pickle(my_path4)\n",
    "rating5global = decompress_pickle(my_path5)\n",
    "\n",
    "rating1sea = decompress_pickle(my_path6)\n",
    "rating2sea = decompress_pickle(my_path7)\n",
    "rating3sea = decompress_pickle(my_path8)\n",
    "rating4sea = decompress_pickle(my_path9)\n",
    "rating5sea = decompress_pickle(my_path10)\n",
    "\n",
    "rating1apple = decompress_pickle(my_path11)\n",
    "rating2apple = decompress_pickle(my_path12)\n",
    "rating3apple = decompress_pickle(my_path13)\n",
    "rating4apple = decompress_pickle(my_path14)\n",
    "rating5apple = decompress_pickle(my_path15)"
   ]
  },
  {
   "cell_type": "code",
   "execution_count": 4,
   "metadata": {},
   "outputs": [],
   "source": [
    "# Putting everything together.\n",
    "\n",
    "dfglobal = pd.concat([rating1global, rating2global, rating3global, rating4global, rating5global])\n",
    "dfsea = pd.concat([rating1sea, rating2sea, rating3sea, rating4sea, rating5sea])\n",
    "dfapple = pd.concat([rating1apple, rating2apple, rating3apple, rating4apple, rating5apple])"
   ]
  },
  {
   "cell_type": "code",
   "execution_count": 5,
   "metadata": {},
   "outputs": [
    {
     "name": "stdout",
     "output_type": "stream",
     "text": [
      "                                                content  score\n",
      "0     Game full of bots on auto-attack who kill all ...      1\n",
      "18    No, they have to actually finish the original ...      1\n",
      "23                          Scam with gacha, stay away.      1\n",
      "25                                      Cant download..      1\n",
      "43    doesn't work well at all. on screen controls d...      1\n",
      "...                                                 ...    ...\n",
      "6526  The game just released, downloading it now. Lo...      5\n",
      "6528     the best gaming experience for a mobile mmorpg      5\n",
      "6529                                nice game, pls dont      5\n",
      "6531  Gravity❤❤❤ R.O.Mobile version 😍😍😍! So, excitin...      5\n",
      "6532  I love the old game can't wait to fall in love...      5\n",
      "\n",
      "[6533 rows x 2 columns]\n",
      "------------------------------------------------------------\n",
      "      score                                            content\n",
      "4         1  First I’d like to point out your own website p...\n",
      "12        1  This game is done.  They encourage emulators f...\n",
      "19        1  It’s a shame the unregulation of 3rd party use...\n",
      "22        1  Developers (alleged hackers, but clearly devel...\n",
      "23        1  Honestly, this is a great game, visually appea...\n",
      "...     ...                                                ...\n",
      "1305      5                                               nice\n",
      "1306      5                                           Fun game\n",
      "1308      5              Best game ever, so cool just amazing.\n",
      "1314      5                                          I love it\n",
      "1316      5  Brings back some childhood memories!\n",
      "But bette...\n",
      "\n",
      "[1318 rows x 2 columns]\n"
     ]
    }
   ],
   "source": [
    "# Combining the Global reviews and ratings for both Google Play Store and Apple Store\n",
    "\n",
    "dfglobal.drop(dfglobal.columns.difference(['content','score']), 1, inplace=True)\n",
    "dfapple.drop(dfapple.columns.difference(['content','score']), 1, inplace=True)\n",
    "\n",
    "print(dfglobal)\n",
    "print('------------------------------------------------------------')\n",
    "print(dfapple)"
   ]
  },
  {
   "cell_type": "code",
   "execution_count": 6,
   "metadata": {},
   "outputs": [
    {
     "data": {
      "text/html": [
       "<div>\n",
       "<style scoped>\n",
       "    .dataframe tbody tr th:only-of-type {\n",
       "        vertical-align: middle;\n",
       "    }\n",
       "\n",
       "    .dataframe tbody tr th {\n",
       "        vertical-align: top;\n",
       "    }\n",
       "\n",
       "    .dataframe thead th {\n",
       "        text-align: right;\n",
       "    }\n",
       "</style>\n",
       "<table border=\"1\" class=\"dataframe\">\n",
       "  <thead>\n",
       "    <tr style=\"text-align: right;\">\n",
       "      <th></th>\n",
       "      <th>content</th>\n",
       "      <th>score</th>\n",
       "    </tr>\n",
       "  </thead>\n",
       "  <tbody>\n",
       "    <tr>\n",
       "      <th>0</th>\n",
       "      <td>Game full of bots on auto-attack who kill all ...</td>\n",
       "      <td>1</td>\n",
       "    </tr>\n",
       "    <tr>\n",
       "      <th>1</th>\n",
       "      <td>No, they have to actually finish the original ...</td>\n",
       "      <td>1</td>\n",
       "    </tr>\n",
       "    <tr>\n",
       "      <th>2</th>\n",
       "      <td>Scam with gacha, stay away.</td>\n",
       "      <td>1</td>\n",
       "    </tr>\n",
       "    <tr>\n",
       "      <th>3</th>\n",
       "      <td>Cant download..</td>\n",
       "      <td>1</td>\n",
       "    </tr>\n",
       "    <tr>\n",
       "      <th>4</th>\n",
       "      <td>doesn't work well at all. on screen controls d...</td>\n",
       "      <td>1</td>\n",
       "    </tr>\n",
       "    <tr>\n",
       "      <th>...</th>\n",
       "      <td>...</td>\n",
       "      <td>...</td>\n",
       "    </tr>\n",
       "    <tr>\n",
       "      <th>7846</th>\n",
       "      <td>nice</td>\n",
       "      <td>5</td>\n",
       "    </tr>\n",
       "    <tr>\n",
       "      <th>7847</th>\n",
       "      <td>Fun game</td>\n",
       "      <td>5</td>\n",
       "    </tr>\n",
       "    <tr>\n",
       "      <th>7848</th>\n",
       "      <td>Best game ever, so cool just amazing.</td>\n",
       "      <td>5</td>\n",
       "    </tr>\n",
       "    <tr>\n",
       "      <th>7849</th>\n",
       "      <td>I love it</td>\n",
       "      <td>5</td>\n",
       "    </tr>\n",
       "    <tr>\n",
       "      <th>7850</th>\n",
       "      <td>Brings back some childhood memories!\n",
       "But bette...</td>\n",
       "      <td>5</td>\n",
       "    </tr>\n",
       "  </tbody>\n",
       "</table>\n",
       "<p>7851 rows × 2 columns</p>\n",
       "</div>"
      ],
      "text/plain": [
       "                                                content  score\n",
       "0     Game full of bots on auto-attack who kill all ...      1\n",
       "1     No, they have to actually finish the original ...      1\n",
       "2                           Scam with gacha, stay away.      1\n",
       "3                                       Cant download..      1\n",
       "4     doesn't work well at all. on screen controls d...      1\n",
       "...                                                 ...    ...\n",
       "7846                                               nice      5\n",
       "7847                                           Fun game      5\n",
       "7848              Best game ever, so cool just amazing.      5\n",
       "7849                                          I love it      5\n",
       "7850  Brings back some childhood memories!\n",
       "But bette...      5\n",
       "\n",
       "[7851 rows x 2 columns]"
      ]
     },
     "execution_count": 6,
     "metadata": {},
     "output_type": "execute_result"
    }
   ],
   "source": [
    "dfglobalall = pd.concat([dfglobal, dfapple], ignore_index=True)\n",
    "dfglobalall"
   ]
  },
  {
   "cell_type": "markdown",
   "metadata": {},
   "source": [
    "=================================================================================================================="
   ]
  },
  {
   "cell_type": "code",
   "execution_count": 7,
   "metadata": {},
   "outputs": [],
   "source": [
    "# Remove common words\n",
    "stopwords_list = stopwords.words('english') + list(string.punctuation)\n",
    "# Remove more punctuation\n",
    "stopwords_list += [\"''\", '\"\"', '...', '``']"
   ]
  },
  {
   "cell_type": "code",
   "execution_count": 8,
   "metadata": {},
   "outputs": [],
   "source": [
    "def process_reviews(reviews):\n",
    "    tokens = nltk.word_tokenize(reviews)\n",
    "    stopwords_removed = [token.lower() for token in tokens if token.lower() not in stopwords_list]\n",
    "    return stopwords_removed  \n",
    "\n",
    "lemmatizer = nltk.stem.WordNetLemmatizer()\n",
    "\n",
    "def lemmatize_text(text):\n",
    "    return [lemmatizer.lemmatize(w) for w in text]"
   ]
  },
  {
   "cell_type": "code",
   "execution_count": 9,
   "metadata": {},
   "outputs": [],
   "source": [
    "dfglobalall['wordlist'] = dfglobalall['content'].apply(lambda x: process_reviews(x))\n",
    "dfglobalall['wordlistlem'] = dfglobalall['wordlist'].apply(lemmatize_text)\n",
    "dfglobalall['strings'] = [' '.join(i) for i in dfglobalall['wordlistlem']]\n",
    "\n",
    "dfsea['wordlist'] = dfsea['content'].apply(lambda x: process_reviews(x))\n",
    "dfsea['wordlistlem'] = dfsea['wordlist'].apply(lemmatize_text)\n",
    "dfsea['strings'] = [' '.join(i) for i in dfsea['wordlistlem']]"
   ]
  },
  {
   "cell_type": "code",
   "execution_count": 10,
   "metadata": {},
   "outputs": [
    {
     "data": {
      "text/plain": [
       "0       game full bot auto-attack kill mob 1 hit ca n'...\n",
       "1       actually finish original material game stupid ...\n",
       "2                                    scam gacha stay away\n",
       "3                                         cant download..\n",
       "4       n't work well screen control n't work let 's m...\n",
       "                              ...                        \n",
       "7846                                                 nice\n",
       "7847                                             fun game\n",
       "7848                          best game ever cool amazing\n",
       "7849                                                 love\n",
       "7850               brings back childhood memory better ✌️\n",
       "Name: strings, Length: 7851, dtype: object"
      ]
     },
     "execution_count": 10,
     "metadata": {},
     "output_type": "execute_result"
    }
   ],
   "source": [
    "dfglobalall['strings']"
   ]
  },
  {
   "cell_type": "code",
   "execution_count": 11,
   "metadata": {
    "scrolled": true
   },
   "outputs": [
    {
     "data": {
      "text/plain": [
       "0        trying install game extracting game file alway...\n",
       "1        lagnarok eternal bug .. please fix game.. 'll ...\n",
       "2        trash always trash lot bug cheater developer d...\n",
       "5        game broken aside usual issue game always igno...\n",
       "7                                                devs suck\n",
       "                               ...                        \n",
       "72226                                                     \n",
       "72227                                               1 game\n",
       "72228                                                   hy\n",
       "72229                                           awesoommee\n",
       "72230                                best mobile game ever\n",
       "Name: strings, Length: 72231, dtype: object"
      ]
     },
     "execution_count": 11,
     "metadata": {},
     "output_type": "execute_result"
    }
   ],
   "source": [
    "dfsea['strings']"
   ]
  },
  {
   "cell_type": "markdown",
   "metadata": {},
   "source": [
    "=================================================================================================================="
   ]
  },
  {
   "cell_type": "markdown",
   "metadata": {},
   "source": [
    "# TF-IDF"
   ]
  },
  {
   "cell_type": "code",
   "execution_count": 13,
   "metadata": {},
   "outputs": [],
   "source": [
    "xglobal = dfglobalall['strings']\n",
    "yglobal = dfglobalall['score']\n",
    "\n",
    "X_trainglobal, X_testglobal, y_trainglobal, y_testglobal = train_test_split(xglobal, yglobal, random_state = 44)"
   ]
  },
  {
   "cell_type": "code",
   "execution_count": 14,
   "metadata": {},
   "outputs": [],
   "source": [
    "xsea = dfsea['strings']\n",
    "ysea = dfsea['score']\n",
    "\n",
    "X_trainsea, X_testsea, y_trainsea, y_testsea = train_test_split(xsea, ysea, random_state = 44)"
   ]
  },
  {
   "cell_type": "code",
   "execution_count": 15,
   "metadata": {},
   "outputs": [],
   "source": [
    "vec = TfidfVectorizer()\n",
    "\n",
    "tfidf_X_trainglobal = vec.fit_transform(X_trainglobal)\n",
    "tfidf_X_testglobal = vec.transform(X_testglobal)\n",
    "\n",
    "tfidf_X_trainsea = vec.fit_transform(X_trainsea)\n",
    "tfidf_X_testsea = vec.transform(X_testsea)"
   ]
  },
  {
   "cell_type": "markdown",
   "metadata": {},
   "source": [
    "## Dummy Classifier Baseline Model"
   ]
  },
  {
   "cell_type": "markdown",
   "metadata": {},
   "source": [
    "### Global"
   ]
  },
  {
   "cell_type": "code",
   "execution_count": 16,
   "metadata": {},
   "outputs": [
    {
     "name": "stderr",
     "output_type": "stream",
     "text": [
      "/opt/anaconda3/lib/python3.7/site-packages/sklearn/dummy.py:132: FutureWarning: The default value of strategy will change from stratified to prior in 0.24.\n",
      "  \"stratified to prior in 0.24.\", FutureWarning)\n"
     ]
    }
   ],
   "source": [
    "from sklearn.dummy import DummyClassifier\n",
    "\n",
    "dclfgl = DummyClassifier()\n",
    "dclfgl.fit(tfidf_X_trainglobal, y_trainglobal)\n",
    "y_preds_dummyglobal = dclfgl.predict(tfidf_X_testglobal)"
   ]
  },
  {
   "cell_type": "code",
   "execution_count": 17,
   "metadata": {
    "scrolled": false
   },
   "outputs": [
    {
     "name": "stdout",
     "output_type": "stream",
     "text": [
      "Test Accuracy Score: 0.29495669893020887\n",
      "Test Precision Score: 0.29561302344324925\n",
      "Test Recall Score: 0.29495669893020887\n",
      "Test F1 Score: 0.2952356144078652\n"
     ]
    }
   ],
   "source": [
    "#Evaluation Metrics for Dummy Classifier for ROM Global\n",
    "\n",
    "print(\"Test Accuracy Score:\", metrics.accuracy_score(y_testglobal, y_preds_dummyglobal))\n",
    "print(\"Test Precision Score:\", metrics.precision_score(y_testglobal, y_preds_dummyglobal, average = \"weighted\"))\n",
    "print(\"Test Recall Score:\", metrics.recall_score(y_testglobal, y_preds_dummyglobal, average = \"weighted\"))\n",
    "print(\"Test F1 Score:\", metrics.f1_score(y_testglobal, y_preds_dummyglobal, average = \"weighted\"))"
   ]
  },
  {
   "cell_type": "markdown",
   "metadata": {},
   "source": [
    "### SEA"
   ]
  },
  {
   "cell_type": "code",
   "execution_count": 18,
   "metadata": {},
   "outputs": [],
   "source": [
    "dclfsea = DummyClassifier()\n",
    "dclfsea.fit(tfidf_X_trainsea, y_trainsea)\n",
    "y_preds_dummysea = dclfsea.predict(tfidf_X_testsea)"
   ]
  },
  {
   "cell_type": "code",
   "execution_count": 19,
   "metadata": {
    "scrolled": true
   },
   "outputs": [
    {
     "name": "stdout",
     "output_type": "stream",
     "text": [
      "Test Accuracy Score: 0.37025141211651347\n",
      "Test Precision Score: 0.3706041623084469\n",
      "Test Recall Score: 0.37025141211651347\n",
      "Test F1 Score: 0.3704153454207166\n"
     ]
    }
   ],
   "source": [
    "#Evaluation Metrics for Dummy Classifier for ROM SEA\n",
    "\n",
    "print(\"Test Accuracy Score:\", metrics.accuracy_score(y_testsea, y_preds_dummysea))\n",
    "print(\"Test Precision Score:\", metrics.precision_score(y_testsea, y_preds_dummysea, average = \"weighted\"))\n",
    "print(\"Test Recall Score:\", metrics.recall_score(y_testsea, y_preds_dummysea, average = \"weighted\"))\n",
    "print(\"Test F1 Score:\", metrics.f1_score(y_testsea, y_preds_dummysea, average = \"weighted\"))"
   ]
  },
  {
   "cell_type": "markdown",
   "metadata": {},
   "source": [
    "=================================================================================================================="
   ]
  },
  {
   "cell_type": "markdown",
   "metadata": {},
   "source": [
    "## Naive Bayes"
   ]
  },
  {
   "cell_type": "markdown",
   "metadata": {},
   "source": [
    "### Global"
   ]
  },
  {
   "cell_type": "code",
   "execution_count": 20,
   "metadata": {},
   "outputs": [
    {
     "name": "stdout",
     "output_type": "stream",
     "text": [
      "Test Accuracy Score: 0.6673458991339786\n",
      "Test Precision Score: 0.5740931291949017\n",
      "Test Recall Score: 0.6673458991339786\n",
      "Test F1 Score: 0.588685159438921\n"
     ]
    }
   ],
   "source": [
    "NBgl = MultinomialNB(fit_prior = False)\n",
    "\n",
    "NBgl.fit(tfidf_X_trainglobal,y_trainglobal)\n",
    "\n",
    "y_pred_nb_testglobal = NBgl.predict(tfidf_X_testglobal)\n",
    "\n",
    "print(\"Test Accuracy Score:\", metrics.accuracy_score(y_testglobal, y_pred_nb_testglobal))\n",
    "print(\"Test Precision Score:\", metrics.precision_score(y_testglobal, y_pred_nb_testglobal, average = \"weighted\"))\n",
    "print(\"Test Recall Score:\", metrics.recall_score(y_testglobal, y_pred_nb_testglobal, average = \"weighted\"))\n",
    "print(\"Test F1 Score:\", metrics.f1_score(y_testglobal, y_pred_nb_testglobal, average = \"weighted\"))"
   ]
  },
  {
   "cell_type": "code",
   "execution_count": 21,
   "metadata": {
    "scrolled": true
   },
   "outputs": [
    {
     "data": {
      "text/plain": [
       "Text(91.68, 0.5, 'Predicted Rating')"
      ]
     },
     "execution_count": 21,
     "metadata": {},
     "output_type": "execute_result"
    },
    {
     "data": {
      "image/png": "[encoded data removed]",
      "text/plain": [
       "<Figure size 432x288 with 1 Axes>"
      ]
     },
     "metadata": {
      "needs_background": "light"
     },
     "output_type": "display_data"
    }
   ],
   "source": [
    "matrix = confusion_matrix(y_testglobal, y_pred_nb_testglobal)\n",
    "sns.heatmap(matrix.T, square=True, annot=True, fmt='d', cbar=False, \n",
    "            xticklabels=['1','2','3','4','5'], yticklabels=['1','2','3','4','5'])\n",
    "\n",
    "plt.xlabel('Actual Rating')\n",
    "plt.ylabel('Predicted Rating')"
   ]
  },
  {
   "cell_type": "markdown",
   "metadata": {},
   "source": [
    "### SEA"
   ]
  },
  {
   "cell_type": "code",
   "execution_count": 22,
   "metadata": {},
   "outputs": [
    {
     "name": "stdout",
     "output_type": "stream",
     "text": [
      "Test Accuracy Score: 0.7203455532174106\n",
      "Test Precision Score: 0.677589324408215\n",
      "Test Recall Score: 0.7203455532174106\n",
      "Test F1 Score: 0.6868859004813613\n"
     ]
    }
   ],
   "source": [
    "NBsea = MultinomialNB(fit_prior = False)\n",
    "\n",
    "NBsea.fit(tfidf_X_trainsea,y_trainsea)\n",
    "\n",
    "y_pred_nb_testsea = NBsea.predict(tfidf_X_testsea)\n",
    "\n",
    "print(\"Test Accuracy Score:\", metrics.accuracy_score(y_testsea, y_pred_nb_testsea))\n",
    "print(\"Test Precision Score:\", metrics.precision_score(y_testsea, y_pred_nb_testsea, average = \"weighted\"))\n",
    "print(\"Test Recall Score:\", metrics.recall_score(y_testsea, y_pred_nb_testsea, average = \"weighted\"))\n",
    "print(\"Test F1 Score:\", metrics.f1_score(y_testsea, y_pred_nb_testsea, average = \"weighted\"))"
   ]
  },
  {
   "cell_type": "code",
   "execution_count": 23,
   "metadata": {
    "scrolled": true
   },
   "outputs": [
    {
     "data": {
      "text/plain": [
       "Text(91.68, 0.5, 'Predicted Rating')"
      ]
     },
     "execution_count": 23,
     "metadata": {},
     "output_type": "execute_result"
    },
    {
     "data": {
      "image/png": "[encoded data removed]",
      "text/plain": [
       "<Figure size 432x288 with 1 Axes>"
      ]
     },
     "metadata": {
      "needs_background": "light"
     },
     "output_type": "display_data"
    }
   ],
   "source": [
    "matrix = confusion_matrix(y_testsea, y_pred_nb_testsea)\n",
    "sns.heatmap(matrix.T, square=True, annot=True, fmt='d', cbar=False, \n",
    "            xticklabels=['1','2','3','4','5'], yticklabels=['1','2','3','4','5'])\n",
    "\n",
    "plt.xlabel('Actual Rating')\n",
    "plt.ylabel('Predicted Rating')"
   ]
  },
  {
   "cell_type": "markdown",
   "metadata": {},
   "source": [
    "=================================================================================================================="
   ]
  },
  {
   "cell_type": "markdown",
   "metadata": {},
   "source": [
    "## Decision Tree"
   ]
  },
  {
   "cell_type": "markdown",
   "metadata": {},
   "source": [
    "### Global"
   ]
  },
  {
   "cell_type": "code",
   "execution_count": 24,
   "metadata": {},
   "outputs": [
    {
     "name": "stdout",
     "output_type": "stream",
     "text": [
      "Test Accuracy Score: 0.5634233316352522\n",
      "Test Precision Score: 0.5322297598550632\n",
      "Test Recall Score: 0.5634233316352522\n",
      "Test F1 Score: 0.5458594692827115\n"
     ]
    }
   ],
   "source": [
    "dtcgl = DecisionTreeClassifier()\n",
    "\n",
    "dtcgl.fit(tfidf_X_trainglobal, y_trainglobal)\n",
    "\n",
    "y_pred_dtc_testglobal = dtcgl.predict(tfidf_X_testglobal)\n",
    "\n",
    "print(\"Test Accuracy Score:\", metrics.accuracy_score(y_testglobal, y_pred_dtc_testglobal))\n",
    "print(\"Test Precision Score:\", metrics.precision_score(y_testglobal, y_pred_dtc_testglobal, average = \"weighted\"))\n",
    "print(\"Test Recall Score:\", metrics.recall_score(y_testglobal, y_pred_dtc_testglobal, average = \"weighted\"))\n",
    "print(\"Test F1 Score:\", metrics.f1_score(y_testglobal, y_pred_dtc_testglobal, average = \"weighted\"))"
   ]
  },
  {
   "cell_type": "code",
   "execution_count": 25,
   "metadata": {
    "scrolled": true
   },
   "outputs": [
    {
     "data": {
      "text/plain": [
       "Text(91.68, 0.5, 'Predicted Rating')"
      ]
     },
     "execution_count": 25,
     "metadata": {},
     "output_type": "execute_result"
    },
    {
     "data": {
      "image/png": "[encoded data removed]",
      "text/plain": [
       "<Figure size 432x288 with 1 Axes>"
      ]
     },
     "metadata": {
      "needs_background": "light"
     },
     "output_type": "display_data"
    }
   ],
   "source": [
    "matrix = confusion_matrix(y_testglobal, y_pred_dtc_testglobal)\n",
    "sns.heatmap(matrix.T, square=True, annot=True, fmt='d', cbar=False, \n",
    "            xticklabels=['1','2','3','4','5'], yticklabels=['1','2','3','4','5'])\n",
    "\n",
    "plt.xlabel('Actual Rating')\n",
    "plt.ylabel('Predicted Rating')"
   ]
  },
  {
   "cell_type": "markdown",
   "metadata": {},
   "source": [
    "### SEA"
   ]
  },
  {
   "cell_type": "code",
   "execution_count": 26,
   "metadata": {},
   "outputs": [
    {
     "name": "stdout",
     "output_type": "stream",
     "text": [
      "Test Accuracy Score: 0.6972532949385314\n",
      "Test Precision Score: 0.6585108180786039\n",
      "Test Recall Score: 0.6972532949385314\n",
      "Test F1 Score: 0.6759994193310968\n"
     ]
    }
   ],
   "source": [
    "dtcsea = DecisionTreeClassifier()\n",
    "\n",
    "dtcsea.fit(tfidf_X_trainsea, y_trainsea)\n",
    "\n",
    "y_pred_dtc_testsea = dtcsea.predict(tfidf_X_testsea)\n",
    "\n",
    "print(\"Test Accuracy Score:\", metrics.accuracy_score(y_testsea, y_pred_dtc_testsea))\n",
    "print(\"Test Precision Score:\", metrics.precision_score(y_testsea, y_pred_dtc_testsea, average = \"weighted\"))\n",
    "print(\"Test Recall Score:\", metrics.recall_score(y_testsea, y_pred_dtc_testsea, average = \"weighted\"))\n",
    "print(\"Test F1 Score:\", metrics.f1_score(y_testsea, y_pred_dtc_testsea, average = \"weighted\"))"
   ]
  },
  {
   "cell_type": "code",
   "execution_count": 27,
   "metadata": {
    "scrolled": true
   },
   "outputs": [
    {
     "data": {
      "text/plain": [
       "Text(91.68, 0.5, 'Predicted Rating')"
      ]
     },
     "execution_count": 27,
     "metadata": {},
     "output_type": "execute_result"
    },
    {
     "data": {
      "image/png": "[encoded data removed]",
      "text/plain": [
       "<Figure size 432x288 with 1 Axes>"
      ]
     },
     "metadata": {
      "needs_background": "light"
     },
     "output_type": "display_data"
    }
   ],
   "source": [
    "matrix = confusion_matrix(y_testsea, y_pred_dtc_testsea)\n",
    "sns.heatmap(matrix.T, square=True, annot=True, fmt='d', cbar=False, \n",
    "            xticklabels=['1','2','3','4','5'], yticklabels=['1','2','3','4','5'])\n",
    "\n",
    "plt.xlabel('Actual Rating')\n",
    "plt.ylabel('Predicted Rating')"
   ]
  },
  {
   "cell_type": "markdown",
   "metadata": {},
   "source": [
    "=================================================================================================================="
   ]
  },
  {
   "cell_type": "markdown",
   "metadata": {},
   "source": [
    "## Random Forest"
   ]
  },
  {
   "cell_type": "markdown",
   "metadata": {},
   "source": [
    "### Global"
   ]
  },
  {
   "cell_type": "code",
   "execution_count": 28,
   "metadata": {},
   "outputs": [
    {
     "name": "stdout",
     "output_type": "stream",
     "text": [
      "Test Accuracy Score: 0.6597045338767193\n",
      "Test Precision Score: 0.5260389149089545\n",
      "Test Recall Score: 0.6597045338767193\n",
      "Test F1 Score: 0.5733577055814678\n"
     ]
    }
   ],
   "source": [
    "rfcgl = RandomForestClassifier()\n",
    "\n",
    "rfcgl.fit(tfidf_X_trainglobal, y_trainglobal)\n",
    "\n",
    "y_pred_rfc_testglobal = rfcgl.predict(tfidf_X_testglobal)\n",
    "\n",
    "print(\"Test Accuracy Score:\", metrics.accuracy_score(y_testglobal, y_pred_rfc_testglobal))\n",
    "print(\"Test Precision Score:\", metrics.precision_score(y_testglobal, y_pred_rfc_testglobal, average = \"weighted\"))\n",
    "print(\"Test Recall Score:\", metrics.recall_score(y_testglobal, y_pred_rfc_testglobal, average = \"weighted\"))\n",
    "print(\"Test F1 Score:\", metrics.f1_score(y_testglobal, y_pred_rfc_testglobal, average = \"weighted\"))"
   ]
  },
  {
   "cell_type": "code",
   "execution_count": 29,
   "metadata": {
    "scrolled": true
   },
   "outputs": [
    {
     "data": {
      "text/plain": [
       "Text(91.68, 0.5, 'Predicted Rating')"
      ]
     },
     "execution_count": 29,
     "metadata": {},
     "output_type": "execute_result"
    },
    {
     "data": {
      "image/png": "[encoded data removed]",
      "text/plain": [
       "<Figure size 432x288 with 1 Axes>"
      ]
     },
     "metadata": {
      "needs_background": "light"
     },
     "output_type": "display_data"
    }
   ],
   "source": [
    "matrix = confusion_matrix(y_testglobal, y_pred_rfc_testglobal)\n",
    "sns.heatmap(matrix.T, square=True, annot=True, fmt='d', cbar=False, \n",
    "            xticklabels=['1','2','3','4','5'], yticklabels=['1','2','3','4','5'])\n",
    "\n",
    "plt.xlabel('Actual Rating')\n",
    "plt.ylabel('Predicted Rating')"
   ]
  },
  {
   "cell_type": "markdown",
   "metadata": {},
   "source": [
    "### SEA"
   ]
  },
  {
   "cell_type": "code",
   "execution_count": 30,
   "metadata": {},
   "outputs": [
    {
     "name": "stdout",
     "output_type": "stream",
     "text": [
      "Test Accuracy Score: 0.749640048731864\n",
      "Test Precision Score: 0.6636095594508509\n",
      "Test Recall Score: 0.749640048731864\n",
      "Test F1 Score: 0.692184302259743\n"
     ]
    }
   ],
   "source": [
    "rfcsea = RandomForestClassifier()\n",
    "\n",
    "rfcsea.fit(tfidf_X_trainsea, y_trainsea)\n",
    "\n",
    "y_pred_rfc_testsea = rfcsea.predict(tfidf_X_testsea)\n",
    "\n",
    "print(\"Test Accuracy Score:\", metrics.accuracy_score(y_testsea, y_pred_rfc_testsea))\n",
    "print(\"Test Precision Score:\", metrics.precision_score(y_testsea, y_pred_rfc_testsea, average = \"weighted\"))\n",
    "print(\"Test Recall Score:\", metrics.recall_score(y_testsea, y_pred_rfc_testsea, average = \"weighted\"))\n",
    "print(\"Test F1 Score:\", metrics.f1_score(y_testsea, y_pred_rfc_testsea, average = \"weighted\"))"
   ]
  },
  {
   "cell_type": "code",
   "execution_count": 31,
   "metadata": {
    "scrolled": true
   },
   "outputs": [
    {
     "data": {
      "text/plain": [
       "Text(91.68, 0.5, 'Predicted Rating')"
      ]
     },
     "execution_count": 31,
     "metadata": {},
     "output_type": "execute_result"
    },
    {
     "data": {
      "image/png": "[encoded data removed]",
      "text/plain": [
       "<Figure size 432x288 with 1 Axes>"
      ]
     },
     "metadata": {
      "needs_background": "light"
     },
     "output_type": "display_data"
    }
   ],
   "source": [
    "matrix = confusion_matrix(y_testsea, y_pred_rfc_testsea)\n",
    "sns.heatmap(matrix.T, square=True, annot=True, fmt='d', cbar=False, \n",
    "            xticklabels=['1','2','3','4','5'], yticklabels=['1','2','3','4','5'])\n",
    "\n",
    "plt.xlabel('Actual Rating')\n",
    "plt.ylabel('Predicted Rating')"
   ]
  },
  {
   "cell_type": "markdown",
   "metadata": {},
   "source": [
    "=================================================================================================================="
   ]
  },
  {
   "cell_type": "markdown",
   "metadata": {},
   "source": [
    "## Support Vector Machine"
   ]
  },
  {
   "cell_type": "markdown",
   "metadata": {},
   "source": [
    "### Global"
   ]
  },
  {
   "cell_type": "code",
   "execution_count": 32,
   "metadata": {},
   "outputs": [
    {
     "name": "stdout",
     "output_type": "stream",
     "text": [
      "Test Accuracy Score: 0.6861946001018848\n",
      "Test Precision Score: 0.5976588974378213\n",
      "Test Recall Score: 0.6861946001018848\n",
      "Test F1 Score: 0.5965860085863044\n"
     ]
    },
    {
     "name": "stderr",
     "output_type": "stream",
     "text": [
      "/opt/anaconda3/lib/python3.7/site-packages/sklearn/metrics/_classification.py:1221: UndefinedMetricWarning: Precision is ill-defined and being set to 0.0 in labels with no predicted samples. Use `zero_division` parameter to control this behavior.\n",
      "  _warn_prf(average, modifier, msg_start, len(result))\n"
     ]
    }
   ],
   "source": [
    "SVMgl = svm.SVC()\n",
    "SVMgl.fit(tfidf_X_trainglobal, y_trainglobal)\n",
    "\n",
    "y_pred_SVM_testglobal = SVMgl.predict(tfidf_X_testglobal)\n",
    "\n",
    "print(\"Test Accuracy Score:\", metrics.accuracy_score(y_testglobal, y_pred_SVM_testglobal))\n",
    "print(\"Test Precision Score:\", metrics.precision_score(y_testglobal, y_pred_SVM_testglobal, average = \"weighted\"))\n",
    "print(\"Test Recall Score:\", metrics.recall_score(y_testglobal, y_pred_SVM_testglobal, average = \"weighted\"))\n",
    "print(\"Test F1 Score:\", metrics.f1_score(y_testglobal, y_pred_SVM_testglobal, average = \"weighted\"))"
   ]
  },
  {
   "cell_type": "code",
   "execution_count": 33,
   "metadata": {
    "scrolled": true
   },
   "outputs": [
    {
     "data": {
      "text/plain": [
       "Text(91.68, 0.5, 'Predicted Rating')"
      ]
     },
     "execution_count": 33,
     "metadata": {},
     "output_type": "execute_result"
    },
    {
     "data": {
      "image/png": "[encoded data removed]",
      "text/plain": [
       "<Figure size 432x288 with 1 Axes>"
      ]
     },
     "metadata": {
      "needs_background": "light"
     },
     "output_type": "display_data"
    }
   ],
   "source": [
    "matrix = confusion_matrix(y_testglobal, y_pred_SVM_testglobal)\n",
    "sns.heatmap(matrix.T, square=True, annot=True, fmt='d', cbar=False, \n",
    "            xticklabels=['1','2','3','4','5'], yticklabels=['1','2','3','4','5'])\n",
    "\n",
    "plt.xlabel('Actual Rating')\n",
    "plt.ylabel('Predicted Rating')"
   ]
  },
  {
   "cell_type": "markdown",
   "metadata": {},
   "source": [
    "### SEA"
   ]
  },
  {
   "cell_type": "code",
   "execution_count": 34,
   "metadata": {},
   "outputs": [
    {
     "name": "stdout",
     "output_type": "stream",
     "text": [
      "Test Accuracy Score: 0.7664193155388194\n",
      "Test Precision Score: 0.6768463421761219\n",
      "Test Recall Score: 0.7664193155388194\n",
      "Test F1 Score: 0.7035571569517362\n",
      "------------------------\n",
      "0:11:37.737786\n"
     ]
    }
   ],
   "source": [
    "starttime = datetime.now()\n",
    "\n",
    "#######\n",
    "\n",
    "SVMsea = svm.SVC()\n",
    "SVMsea.fit(tfidf_X_trainsea, y_trainsea)\n",
    "\n",
    "y_pred_SVM_testsea = SVMsea.predict(tfidf_X_testsea)\n",
    "\n",
    "print(\"Test Accuracy Score:\", metrics.accuracy_score(y_testsea, y_pred_SVM_testsea))\n",
    "print(\"Test Precision Score:\", metrics.precision_score(y_testsea, y_pred_SVM_testsea, average = \"weighted\"))\n",
    "print(\"Test Recall Score:\", metrics.recall_score(y_testsea, y_pred_SVM_testsea, average = \"weighted\"))\n",
    "print(\"Test F1 Score:\", metrics.f1_score(y_testsea, y_pred_SVM_testsea, average = \"weighted\"))\n",
    "\n",
    "#######\n",
    "\n",
    "print('------------------------')\n",
    "print(datetime.now() - starttime)"
   ]
  },
  {
   "cell_type": "code",
   "execution_count": 35,
   "metadata": {
    "scrolled": true
   },
   "outputs": [
    {
     "data": {
      "text/plain": [
       "Text(91.68, 0.5, 'Predicted Rating')"
      ]
     },
     "execution_count": 35,
     "metadata": {},
     "output_type": "execute_result"
    },
    {
     "data": {
      "image/png": "[encoded data removed]",
      "text/plain": [
       "<Figure size 432x288 with 1 Axes>"
      ]
     },
     "metadata": {
      "needs_background": "light"
     },
     "output_type": "display_data"
    }
   ],
   "source": [
    "matrix = confusion_matrix(y_testsea, y_pred_SVM_testsea)\n",
    "sns.heatmap(matrix.T, square=True, annot=True, fmt='d', cbar=False, \n",
    "            xticklabels=['1','2','3','4','5'], yticklabels=['1','2','3','4','5'])\n",
    "\n",
    "plt.xlabel('Actual Rating')\n",
    "plt.ylabel('Predicted Rating')"
   ]
  },
  {
   "cell_type": "markdown",
   "metadata": {},
   "source": [
    "=================================================================================================================="
   ]
  },
  {
   "cell_type": "markdown",
   "metadata": {},
   "source": [
    "## Gridsearch (Decision Tree)"
   ]
  },
  {
   "cell_type": "code",
   "execution_count": 36,
   "metadata": {},
   "outputs": [],
   "source": [
    "dtc_param_grid = {\n",
    "    'criterion' : ['gini', 'entropy'],\n",
    "    'max_depth' : [None, 2, 3, 4, 5, 6],\n",
    "    'max_features': ['auto', 'log2', None],\n",
    "    'min_samples_split' : [2, 3, 4, 5, 10, 15],\n",
    "    'min_samples_leaf' : [1, 2, 3, 4, 5, 10]\n",
    "}\n"
   ]
  },
  {
   "cell_type": "markdown",
   "metadata": {},
   "source": [
    "### Global"
   ]
  },
  {
   "cell_type": "code",
   "execution_count": 37,
   "metadata": {},
   "outputs": [
    {
     "name": "stdout",
     "output_type": "stream",
     "text": [
      "0:03:57.727065\n"
     ]
    }
   ],
   "source": [
    "starttime = datetime.now()\n",
    "\n",
    "#######\n",
    "\n",
    "dt_gridgl = GridSearchCV(dtcgl, dtc_param_grid, cv=5, return_train_score=True)\n",
    "\n",
    "dt_gridgl.fit(tfidf_X_trainglobal, y_trainglobal)\n",
    "\n",
    "#######\n",
    "\n",
    "print(datetime.now() - starttime)"
   ]
  },
  {
   "cell_type": "code",
   "execution_count": 38,
   "metadata": {
    "scrolled": false
   },
   "outputs": [
    {
     "name": "stdout",
     "output_type": "stream",
     "text": [
      "Mean Training Score:  52.73%\n",
      "Mean Test Score:  66.34%\n",
      "Best Parameter Combination Found During Grid Search:\n"
     ]
    },
    {
     "data": {
      "text/plain": [
       "{'criterion': 'gini',\n",
       " 'max_depth': None,\n",
       " 'max_features': 'auto',\n",
       " 'min_samples_leaf': 3,\n",
       " 'min_samples_split': 5}"
      ]
     },
     "execution_count": 38,
     "metadata": {},
     "output_type": "execute_result"
    }
   ],
   "source": [
    "dt_grid_trainscoregl = np.mean(dt_gridgl.cv_results_['mean_train_score'])\n",
    "\n",
    "dt_grid_testscoregl = dt_gridgl.score(tfidf_X_trainglobal, y_trainglobal)\n",
    "\n",
    "print(f\"Mean Training Score: {dt_grid_trainscoregl : .2%}\")\n",
    "print(f\"Mean Test Score: {dt_grid_testscoregl : .2%}\")\n",
    "print(\"Best Parameter Combination Found During Grid Search:\")\n",
    "dt_gridgl.best_params_"
   ]
  },
  {
   "cell_type": "code",
   "execution_count": 39,
   "metadata": {},
   "outputs": [
    {
     "name": "stdout",
     "output_type": "stream",
     "text": [
      "Test Accuracy Score: 0.5858380030565461\n",
      "Test Precision Score: 0.503245271479975\n",
      "Test Recall Score: 0.5858380030565461\n",
      "Test F1 Score: 0.5296044005973025\n"
     ]
    }
   ],
   "source": [
    "dtcgl = DecisionTreeClassifier(criterion='gini', max_depth=None, max_features='auto', min_samples_leaf=3, min_samples_split=5, random_state=22)\n",
    "\n",
    "dtcgl.fit(tfidf_X_trainglobal, y_trainglobal)\n",
    "\n",
    "y_pred_dtc_testglobal = dtcgl.predict(tfidf_X_testglobal)\n",
    "\n",
    "print(\"Test Accuracy Score:\", metrics.accuracy_score(y_testglobal, y_pred_dtc_testglobal))\n",
    "print(\"Test Precision Score:\", metrics.precision_score(y_testglobal, y_pred_dtc_testglobal, average = \"weighted\"))\n",
    "print(\"Test Recall Score:\", metrics.recall_score(y_testglobal, y_pred_dtc_testglobal, average = \"weighted\"))\n",
    "print(\"Test F1 Score:\", metrics.f1_score(y_testglobal, y_pred_dtc_testglobal, average = \"weighted\"))"
   ]
  },
  {
   "cell_type": "markdown",
   "metadata": {},
   "source": [
    "Compare to:\n",
    "- Test Accuracy Score: 0.5828182941903585 (INCREASE)\n",
    "- Test Precision Score: 0.5517076557322531 (INCREASE)\n",
    "- Test Recall Score: 0.5828182941903585 (INCREASE)\n",
    "- Test F1 Score: 0.5650720155946124 (INCREASE)"
   ]
  },
  {
   "cell_type": "code",
   "execution_count": 40,
   "metadata": {},
   "outputs": [
    {
     "data": {
      "text/plain": [
       "Text(91.68, 0.5, 'Predicted Rating')"
      ]
     },
     "execution_count": 40,
     "metadata": {},
     "output_type": "execute_result"
    },
    {
     "data": {
      "image/png": "[encoded data removed]",
      "text/plain": [
       "<Figure size 432x288 with 1 Axes>"
      ]
     },
     "metadata": {
      "needs_background": "light"
     },
     "output_type": "display_data"
    }
   ],
   "source": [
    "matrix = confusion_matrix(y_testglobal, y_pred_dtc_testglobal)\n",
    "sns.heatmap(matrix.T, square=True, annot=True, fmt='d', cbar=False, \n",
    "            xticklabels=['1','2','3','4','5'], yticklabels=['1','2','3','4','5'])\n",
    "\n",
    "plt.xlabel('Actual Rating')\n",
    "plt.ylabel('Predicted Rating')"
   ]
  },
  {
   "cell_type": "markdown",
   "metadata": {},
   "source": [
    "### SEA"
   ]
  },
  {
   "cell_type": "code",
   "execution_count": 41,
   "metadata": {},
   "outputs": [
    {
     "name": "stdout",
     "output_type": "stream",
     "text": [
      "0:59:55.033356\n"
     ]
    }
   ],
   "source": [
    "starttime = datetime.now()\n",
    "\n",
    "#######\n",
    "\n",
    "dt_gridsea = GridSearchCV(dtcsea, dtc_param_grid, cv=5, return_train_score=True)\n",
    "\n",
    "dt_gridsea.fit(tfidf_X_trainsea, y_trainsea)\n",
    "\n",
    "#######\n",
    "\n",
    "print(datetime.now() - starttime)"
   ]
  },
  {
   "cell_type": "code",
   "execution_count": 42,
   "metadata": {},
   "outputs": [
    {
     "name": "stdout",
     "output_type": "stream",
     "text": [
      "Mean Training Score:  54.53%\n",
      "Mean Test Score:  74.49%\n",
      "Best Parameter Combination Found During Grid Search:\n"
     ]
    },
    {
     "data": {
      "text/plain": [
       "{'criterion': 'entropy',\n",
       " 'max_depth': None,\n",
       " 'max_features': 'auto',\n",
       " 'min_samples_leaf': 3,\n",
       " 'min_samples_split': 15}"
      ]
     },
     "execution_count": 42,
     "metadata": {},
     "output_type": "execute_result"
    }
   ],
   "source": [
    "dt_grid_trainscoresea = np.mean(dt_gridsea.cv_results_['mean_train_score'])\n",
    "\n",
    "dt_grid_testscoresea = dt_gridsea.score(tfidf_X_trainsea, y_trainsea)\n",
    "\n",
    "print(f\"Mean Training Score: {dt_grid_trainscoresea : .2%}\")\n",
    "print(f\"Mean Test Score: {dt_grid_testscoresea : .2%}\")\n",
    "print(\"Best Parameter Combination Found During Grid Search:\")\n",
    "dt_gridsea.best_params_"
   ]
  },
  {
   "cell_type": "code",
   "execution_count": 43,
   "metadata": {
    "scrolled": true
   },
   "outputs": [
    {
     "name": "stdout",
     "output_type": "stream",
     "text": [
      "Test Accuracy Score: 0.7163584007088271\n",
      "Test Precision Score: 0.6408979197806333\n",
      "Test Recall Score: 0.7163584007088271\n",
      "Test F1 Score: 0.6676494912355879\n"
     ]
    }
   ],
   "source": [
    "dtcsea = DecisionTreeClassifier(criterion='gini', max_depth=None, max_features='auto', min_samples_leaf=2, min_samples_split=2, random_state=22)\n",
    "\n",
    "dtcsea.fit(tfidf_X_trainsea, y_trainsea)\n",
    "\n",
    "y_pred_dtc_testsea = dtcsea.predict(tfidf_X_testsea)\n",
    "\n",
    "print(\"Test Accuracy Score:\", metrics.accuracy_score(y_testsea, y_pred_dtc_testsea))\n",
    "print(\"Test Precision Score:\", metrics.precision_score(y_testsea, y_pred_dtc_testsea, average = \"weighted\"))\n",
    "print(\"Test Recall Score:\", metrics.recall_score(y_testsea, y_pred_dtc_testsea, average = \"weighted\"))\n",
    "print(\"Test F1 Score:\", metrics.f1_score(y_testsea, y_pred_dtc_testsea, average = \"weighted\"))"
   ]
  },
  {
   "cell_type": "markdown",
   "metadata": {},
   "source": [
    "- Test Accuracy Score: 0.6986863255917077 (INCREASE)\n",
    "- Test Precision Score: 0.6647125048305412 (DECREASE)\n",
    "- Test Recall Score: 0.6986863255917077 (INCREASE)\n",
    "- Test F1 Score: 0.6803483128842415 (DECREASE)"
   ]
  },
  {
   "cell_type": "code",
   "execution_count": 44,
   "metadata": {
    "scrolled": true
   },
   "outputs": [
    {
     "data": {
      "text/plain": [
       "Text(91.68, 0.5, 'Predicted Rating')"
      ]
     },
     "execution_count": 44,
     "metadata": {},
     "output_type": "execute_result"
    },
    {
     "data": {
      "image/png": "[encoded data removed]",
      "text/plain": [
       "<Figure size 432x288 with 1 Axes>"
      ]
     },
     "metadata": {
      "needs_background": "light"
     },
     "output_type": "display_data"
    }
   ],
   "source": [
    "matrix = confusion_matrix(y_testsea, y_pred_dtc_testsea)\n",
    "sns.heatmap(matrix.T, square=True, annot=True, fmt='d', cbar=False, \n",
    "            xticklabels=['1','2','3','4','5'], yticklabels=['1','2','3','4','5'])\n",
    "\n",
    "plt.xlabel('Actual Rating')\n",
    "plt.ylabel('Predicted Rating')"
   ]
  },
  {
   "cell_type": "markdown",
   "metadata": {},
   "source": [
    "=================================================================================================================="
   ]
  },
  {
   "cell_type": "markdown",
   "metadata": {},
   "source": [
    "## Gridsearch (Random Forest)"
   ]
  },
  {
   "cell_type": "code",
   "execution_count": 45,
   "metadata": {},
   "outputs": [],
   "source": [
    "rf_param_grid = {\n",
    "    'n_estimators' : [50, 100],\n",
    "    'criterion' : ['gini'],\n",
    "    'max_depth' : [None, 2, 4],\n",
    "    'max_features': ['auto', 'log2', None],\n",
    "    'min_samples_split' : [5, 10],\n",
    "    'min_samples_leaf' : [1, 3]\n",
    "}"
   ]
  },
  {
   "cell_type": "markdown",
   "metadata": {},
   "source": [
    "### Global"
   ]
  },
  {
   "cell_type": "code",
   "execution_count": 46,
   "metadata": {},
   "outputs": [
    {
     "name": "stdout",
     "output_type": "stream",
     "text": [
      "0:17:13.084152\n"
     ]
    }
   ],
   "source": [
    "starttime = datetime.now()\n",
    "\n",
    "#######\n",
    "\n",
    "rf_gridgl = GridSearchCV(rfcgl, rf_param_grid, cv=5)\n",
    "\n",
    "rf_gridgl.fit(tfidf_X_trainglobal, y_trainglobal)\n",
    "\n",
    "#######\n",
    "\n",
    "print(datetime.now() - starttime)"
   ]
  },
  {
   "cell_type": "code",
   "execution_count": 47,
   "metadata": {
    "scrolled": true
   },
   "outputs": [
    {
     "name": "stdout",
     "output_type": "stream",
     "text": [
      "Training Accuracy:  66.17%\n",
      "Best Parameter Combination Found During Grid Search:\n"
     ]
    },
    {
     "data": {
      "text/plain": [
       "{'criterion': 'gini',\n",
       " 'max_depth': None,\n",
       " 'max_features': 'log2',\n",
       " 'min_samples_leaf': 1,\n",
       " 'min_samples_split': 5,\n",
       " 'n_estimators': 100}"
      ]
     },
     "execution_count": 47,
     "metadata": {},
     "output_type": "execute_result"
    }
   ],
   "source": [
    "print(f\"Training Accuracy: {rf_gridgl.best_score_ : .2%}\")\n",
    "print(\"Best Parameter Combination Found During Grid Search:\")\n",
    "rf_gridgl.best_params_"
   ]
  },
  {
   "cell_type": "code",
   "execution_count": 48,
   "metadata": {},
   "outputs": [
    {
     "name": "stdout",
     "output_type": "stream",
     "text": [
      "Test Accuracy Score: 0.6704024452368823\n",
      "Test Precision Score: 0.5337384150710118\n",
      "Test Recall Score: 0.6704024452368823\n",
      "Test F1 Score: 0.5793401087215709\n"
     ]
    }
   ],
   "source": [
    "rfcgl = RandomForestClassifier(n_estimators = 100, criterion='gini', max_depth=None, max_features='log2', min_samples_leaf=1, min_samples_split=10, random_state = 11, n_jobs=-1)\n",
    "\n",
    "rfcgl.fit(tfidf_X_trainglobal, y_trainglobal)\n",
    "\n",
    "y_pred_rfc_testglobal = rfcgl.predict(tfidf_X_testglobal)\n",
    "\n",
    "print(\"Test Accuracy Score:\", metrics.accuracy_score(y_testglobal, y_pred_rfc_testglobal))\n",
    "print(\"Test Precision Score:\", metrics.precision_score(y_testglobal, y_pred_rfc_testglobal, average = \"weighted\"))\n",
    "print(\"Test Recall Score:\", metrics.recall_score(y_testglobal, y_pred_rfc_testglobal, average = \"weighted\"))\n",
    "print(\"Test F1 Score:\", metrics.f1_score(y_testglobal, y_pred_rfc_testglobal, average = \"weighted\"))"
   ]
  },
  {
   "cell_type": "markdown",
   "metadata": {},
   "source": [
    "Compare to:\n",
    "\n",
    "- Test Accuracy Score: 0.6674907292954264 (INCREASE)\n",
    "- Test Precision Score: 0.5651900373859852 (DECREASE)\n",
    "- Test Recall Score: 0.6674907292954264 (INCREASE)\n",
    "- Test F1 Score: 0.579991930811728 (INCREASE)"
   ]
  },
  {
   "cell_type": "code",
   "execution_count": 49,
   "metadata": {
    "scrolled": false
   },
   "outputs": [
    {
     "data": {
      "text/plain": [
       "Text(91.68, 0.5, 'Predicted Rating')"
      ]
     },
     "execution_count": 49,
     "metadata": {},
     "output_type": "execute_result"
    },
    {
     "data": {
      "image/png": "[encoded data removed]",
      "text/plain": [
       "<Figure size 432x288 with 1 Axes>"
      ]
     },
     "metadata": {
      "needs_background": "light"
     },
     "output_type": "display_data"
    }
   ],
   "source": [
    "matrix = confusion_matrix(y_testglobal, y_pred_rfc_testglobal)\n",
    "sns.heatmap(matrix.T, square=True, annot=True, fmt='d', cbar=False, \n",
    "            xticklabels=['1','2','3','4','5'], yticklabels=['1','2','3','4','5'])\n",
    "\n",
    "plt.xlabel('Actual Rating')\n",
    "plt.ylabel('Predicted Rating')"
   ]
  },
  {
   "cell_type": "markdown",
   "metadata": {},
   "source": [
    "### SEA"
   ]
  },
  {
   "cell_type": "code",
   "execution_count": 50,
   "metadata": {},
   "outputs": [
    {
     "name": "stdout",
     "output_type": "stream",
     "text": [
      "0:00:00.000036\n"
     ]
    }
   ],
   "source": [
    "starttime = datetime.now()\n",
    "\n",
    "#######\n",
    "\n",
    "#rf_gridsea = GridSearchCV(rfcsea, rf_param_grid, cv=5)\n",
    "\n",
    "#rf_gridsea.fit(tfidf_X_trainsea, y_trainsea)\n",
    "\n",
    "#######\n",
    "\n",
    "print(datetime.now() - starttime)\n",
    "\n",
    "# Takes too long to run"
   ]
  },
  {
   "cell_type": "code",
   "execution_count": 51,
   "metadata": {},
   "outputs": [],
   "source": [
    "#print(f\"Training Accuracy: {rf_gridsea.best_score_ : .2%}\")\n",
    "#print(\"Best Parameter Combination Found During Grid Search:\")\n",
    "#rf_gridsea.best_params_"
   ]
  },
  {
   "cell_type": "code",
   "execution_count": 52,
   "metadata": {},
   "outputs": [
    {
     "name": "stdout",
     "output_type": "stream",
     "text": [
      "Test Accuracy Score: 0.755177760549341\n",
      "Test Precision Score: 0.6819003888470866\n",
      "Test Recall Score: 0.755177760549341\n",
      "Test F1 Score: 0.6956134392887675\n"
     ]
    }
   ],
   "source": [
    "rfcsea = RandomForestClassifier(n_estimators = 100, criterion='gini', max_depth=None, max_features='log2', min_samples_leaf=1, min_samples_split=10, random_state = 11, n_jobs=-1)\n",
    "\n",
    "rfcsea.fit(tfidf_X_trainsea, y_trainsea)\n",
    "\n",
    "y_pred_rfc_testsea = rfcsea.predict(tfidf_X_testsea)\n",
    "\n",
    "print(\"Test Accuracy Score:\", metrics.accuracy_score(y_testsea, y_pred_rfc_testsea))\n",
    "print(\"Test Precision Score:\", metrics.precision_score(y_testsea, y_pred_rfc_testsea, average = \"weighted\"))\n",
    "print(\"Test Recall Score:\", metrics.recall_score(y_testsea, y_pred_rfc_testsea, average = \"weighted\"))\n",
    "print(\"Test F1 Score:\", metrics.f1_score(y_testsea, y_pred_rfc_testsea, average = \"weighted\"))"
   ]
  },
  {
   "cell_type": "markdown",
   "metadata": {},
   "source": [
    "Compared to:\n",
    "\n",
    "- Test Accuracy Score: 0.7553904994179923 (INCREASE)\n",
    "- Test Precision Score: 0.6689902317348971 (INCREASE)\n",
    "- Test Recall Score: 0.7553904994179923 (INCREASE)\n",
    "- Test F1 Score: 0.6981747064250369 (INCREASE)"
   ]
  },
  {
   "cell_type": "code",
   "execution_count": 53,
   "metadata": {
    "scrolled": true
   },
   "outputs": [
    {
     "data": {
      "text/plain": [
       "Text(91.68, 0.5, 'Predicted Rating')"
      ]
     },
     "execution_count": 53,
     "metadata": {},
     "output_type": "execute_result"
    },
    {
     "data": {
      "image/png": "[encoded data removed]",
      "text/plain": [
       "<Figure size 432x288 with 1 Axes>"
      ]
     },
     "metadata": {
      "needs_background": "light"
     },
     "output_type": "display_data"
    }
   ],
   "source": [
    "matrix = confusion_matrix(y_testsea, y_pred_rfc_testsea)\n",
    "sns.heatmap(matrix.T, square=True, annot=True, fmt='d', cbar=False, \n",
    "            xticklabels=['1','2','3','4','5'], yticklabels=['1','2','3','4','5'])\n",
    "\n",
    "plt.xlabel('Actual Rating')\n",
    "plt.ylabel('Predicted Rating')"
   ]
  },
  {
   "cell_type": "markdown",
   "metadata": {},
   "source": [
    "=================================================================================================================="
   ]
  },
  {
   "cell_type": "markdown",
   "metadata": {},
   "source": [
    "## Gridsearch (Support Vector Machine)"
   ]
  },
  {
   "cell_type": "code",
   "execution_count": 54,
   "metadata": {},
   "outputs": [],
   "source": [
    "svm_param_grid = {\n",
    "    'C' : [0.1, 1, 10],\n",
    "    'gamma' : [1, 0.1, 0.01],\n",
    "    'kernel' : ['linear', 'nonlinear', 'sigmoid', 'polynomial']\n",
    "}"
   ]
  },
  {
   "cell_type": "markdown",
   "metadata": {},
   "source": [
    "### Global"
   ]
  },
  {
   "cell_type": "code",
   "execution_count": 55,
   "metadata": {},
   "outputs": [
    {
     "name": "stdout",
     "output_type": "stream",
     "text": [
      "Fitting 5 folds for each of 36 candidates, totalling 180 fits\n",
      "[CV] C=0.1, gamma=1, kernel=linear ...................................\n"
     ]
    },
    {
     "name": "stderr",
     "output_type": "stream",
     "text": [
      "[Parallel(n_jobs=1)]: Using backend SequentialBackend with 1 concurrent workers.\n"
     ]
    },
    {
     "name": "stdout",
     "output_type": "stream",
     "text": [
      "[CV] ....... C=0.1, gamma=1, kernel=linear, score=0.658, total=   3.3s\n",
      "[CV] C=0.1, gamma=1, kernel=linear ...................................\n"
     ]
    },
    {
     "name": "stderr",
     "output_type": "stream",
     "text": [
      "[Parallel(n_jobs=1)]: Done   1 out of   1 | elapsed:    3.3s remaining:    0.0s\n"
     ]
    },
    {
     "name": "stdout",
     "output_type": "stream",
     "text": [
      "[CV] ....... C=0.1, gamma=1, kernel=linear, score=0.666, total=   3.4s\n",
      "[CV] C=0.1, gamma=1, kernel=linear ...................................\n"
     ]
    },
    {
     "name": "stderr",
     "output_type": "stream",
     "text": [
      "[Parallel(n_jobs=1)]: Done   2 out of   2 | elapsed:    6.7s remaining:    0.0s\n"
     ]
    },
    {
     "name": "stdout",
     "output_type": "stream",
     "text": [
      "[CV] ....... C=0.1, gamma=1, kernel=linear, score=0.655, total=   3.4s\n",
      "[CV] C=0.1, gamma=1, kernel=linear ...................................\n",
      "[CV] ....... C=0.1, gamma=1, kernel=linear, score=0.645, total=   3.4s\n",
      "[CV] C=0.1, gamma=1, kernel=linear ...................................\n",
      "[CV] ....... C=0.1, gamma=1, kernel=linear, score=0.649, total=   3.3s\n",
      "[CV] C=0.1, gamma=1, kernel=nonlinear ................................\n",
      "[CV] ...... C=0.1, gamma=1, kernel=nonlinear, score=nan, total=   0.0s\n",
      "[CV] C=0.1, gamma=1, kernel=nonlinear ................................\n",
      "[CV] ...... C=0.1, gamma=1, kernel=nonlinear, score=nan, total=   0.0s\n",
      "[CV] C=0.1, gamma=1, kernel=nonlinear ................................\n",
      "[CV] ...... C=0.1, gamma=1, kernel=nonlinear, score=nan, total=   0.0s\n",
      "[CV] C=0.1, gamma=1, kernel=nonlinear ................................\n",
      "[CV] ...... C=0.1, gamma=1, kernel=nonlinear, score=nan, total=   0.0s\n",
      "[CV] C=0.1, gamma=1, kernel=nonlinear ................................\n",
      "[CV] ...... C=0.1, gamma=1, kernel=nonlinear, score=nan, total=   0.0s\n",
      "[CV] C=0.1, gamma=1, kernel=sigmoid ..................................\n"
     ]
    },
    {
     "name": "stderr",
     "output_type": "stream",
     "text": [
      "/opt/anaconda3/lib/python3.7/site-packages/sklearn/model_selection/_validation.py:552: FitFailedWarning: Estimator fit failed. The score on this train-test partition for these parameters will be set to nan. Details: \n",
      "Traceback (most recent call last):\n",
      "  File \"/opt/anaconda3/lib/python3.7/site-packages/sklearn/model_selection/_validation.py\", line 531, in _fit_and_score\n",
      "    estimator.fit(X_train, y_train, **fit_params)\n",
      "  File \"/opt/anaconda3/lib/python3.7/site-packages/sklearn/svm/_base.py\", line 217, in fit\n",
      "    fit(X, y, sample_weight, solver_type, kernel, random_seed=seed)\n",
      "  File \"/opt/anaconda3/lib/python3.7/site-packages/sklearn/svm/_base.py\", line 285, in _sparse_fit\n",
      "    kernel_type = self._sparse_kernels.index(kernel)\n",
      "ValueError: 'nonlinear' is not in list\n",
      "\n",
      "  FitFailedWarning)\n"
     ]
    },
    {
     "name": "stdout",
     "output_type": "stream",
     "text": [
      "[CV] ...... C=0.1, gamma=1, kernel=sigmoid, score=0.658, total=   3.4s\n",
      "[CV] C=0.1, gamma=1, kernel=sigmoid ..................................\n",
      "[CV] ...... C=0.1, gamma=1, kernel=sigmoid, score=0.663, total=   3.4s\n",
      "[CV] C=0.1, gamma=1, kernel=sigmoid ..................................\n",
      "[CV] ...... C=0.1, gamma=1, kernel=sigmoid, score=0.654, total=   3.4s\n",
      "[CV] C=0.1, gamma=1, kernel=sigmoid ..................................\n",
      "[CV] ...... C=0.1, gamma=1, kernel=sigmoid, score=0.642, total=   3.4s\n",
      "[CV] C=0.1, gamma=1, kernel=sigmoid ..................................\n",
      "[CV] ...... C=0.1, gamma=1, kernel=sigmoid, score=0.650, total=   3.4s\n",
      "[CV] C=0.1, gamma=1, kernel=polynomial ...............................\n",
      "[CV] ..... C=0.1, gamma=1, kernel=polynomial, score=nan, total=   0.0s\n",
      "[CV] C=0.1, gamma=1, kernel=polynomial ...............................\n",
      "[CV] ..... C=0.1, gamma=1, kernel=polynomial, score=nan, total=   0.0s\n",
      "[CV] C=0.1, gamma=1, kernel=polynomial ...............................\n",
      "[CV] ..... C=0.1, gamma=1, kernel=polynomial, score=nan, total=   0.0s\n",
      "[CV] C=0.1, gamma=1, kernel=polynomial ...............................\n",
      "[CV] ..... C=0.1, gamma=1, kernel=polynomial, score=nan, total=   0.0s\n",
      "[CV] C=0.1, gamma=1, kernel=polynomial ...............................\n",
      "[CV] ..... C=0.1, gamma=1, kernel=polynomial, score=nan, total=   0.0s\n",
      "[CV] C=0.1, gamma=0.1, kernel=linear .................................\n"
     ]
    },
    {
     "name": "stderr",
     "output_type": "stream",
     "text": [
      "/opt/anaconda3/lib/python3.7/site-packages/sklearn/model_selection/_validation.py:552: FitFailedWarning: Estimator fit failed. The score on this train-test partition for these parameters will be set to nan. Details: \n",
      "Traceback (most recent call last):\n",
      "  File \"/opt/anaconda3/lib/python3.7/site-packages/sklearn/model_selection/_validation.py\", line 531, in _fit_and_score\n",
      "    estimator.fit(X_train, y_train, **fit_params)\n",
      "  File \"/opt/anaconda3/lib/python3.7/site-packages/sklearn/svm/_base.py\", line 217, in fit\n",
      "    fit(X, y, sample_weight, solver_type, kernel, random_seed=seed)\n",
      "  File \"/opt/anaconda3/lib/python3.7/site-packages/sklearn/svm/_base.py\", line 285, in _sparse_fit\n",
      "    kernel_type = self._sparse_kernels.index(kernel)\n",
      "ValueError: 'polynomial' is not in list\n",
      "\n",
      "  FitFailedWarning)\n"
     ]
    },
    {
     "name": "stdout",
     "output_type": "stream",
     "text": [
      "[CV] ..... C=0.1, gamma=0.1, kernel=linear, score=0.658, total=   3.3s\n",
      "[CV] C=0.1, gamma=0.1, kernel=linear .................................\n",
      "[CV] ..... C=0.1, gamma=0.1, kernel=linear, score=0.666, total=   3.4s\n",
      "[CV] C=0.1, gamma=0.1, kernel=linear .................................\n",
      "[CV] ..... C=0.1, gamma=0.1, kernel=linear, score=0.655, total=   3.4s\n",
      "[CV] C=0.1, gamma=0.1, kernel=linear .................................\n",
      "[CV] ..... C=0.1, gamma=0.1, kernel=linear, score=0.645, total=   3.4s\n",
      "[CV] C=0.1, gamma=0.1, kernel=linear .................................\n",
      "[CV] ..... C=0.1, gamma=0.1, kernel=linear, score=0.649, total=   3.3s\n",
      "[CV] C=0.1, gamma=0.1, kernel=nonlinear ..............................\n",
      "[CV] .... C=0.1, gamma=0.1, kernel=nonlinear, score=nan, total=   0.0s\n",
      "[CV] C=0.1, gamma=0.1, kernel=nonlinear ..............................\n",
      "[CV] .... C=0.1, gamma=0.1, kernel=nonlinear, score=nan, total=   0.0s\n",
      "[CV] C=0.1, gamma=0.1, kernel=nonlinear ..............................\n",
      "[CV] .... C=0.1, gamma=0.1, kernel=nonlinear, score=nan, total=   0.0s\n",
      "[CV] C=0.1, gamma=0.1, kernel=nonlinear ..............................\n",
      "[CV] .... C=0.1, gamma=0.1, kernel=nonlinear, score=nan, total=   0.0s\n",
      "[CV] C=0.1, gamma=0.1, kernel=nonlinear ..............................\n",
      "[CV] .... C=0.1, gamma=0.1, kernel=nonlinear, score=nan, total=   0.0s\n",
      "[CV] C=0.1, gamma=0.1, kernel=sigmoid ................................\n",
      "[CV] .... C=0.1, gamma=0.1, kernel=sigmoid, score=0.460, total=   3.6s\n",
      "[CV] C=0.1, gamma=0.1, kernel=sigmoid ................................\n",
      "[CV] .... C=0.1, gamma=0.1, kernel=sigmoid, score=0.460, total=   3.6s\n",
      "[CV] C=0.1, gamma=0.1, kernel=sigmoid ................................\n",
      "[CV] .... C=0.1, gamma=0.1, kernel=sigmoid, score=0.459, total=   3.6s\n",
      "[CV] C=0.1, gamma=0.1, kernel=sigmoid ................................\n",
      "[CV] .... C=0.1, gamma=0.1, kernel=sigmoid, score=0.460, total=   3.6s\n",
      "[CV] C=0.1, gamma=0.1, kernel=sigmoid ................................\n",
      "[CV] .... C=0.1, gamma=0.1, kernel=sigmoid, score=0.460, total=   3.6s\n",
      "[CV] C=0.1, gamma=0.1, kernel=polynomial .............................\n",
      "[CV] ... C=0.1, gamma=0.1, kernel=polynomial, score=nan, total=   0.0s\n",
      "[CV] C=0.1, gamma=0.1, kernel=polynomial .............................\n",
      "[CV] ... C=0.1, gamma=0.1, kernel=polynomial, score=nan, total=   0.0s\n",
      "[CV] C=0.1, gamma=0.1, kernel=polynomial .............................\n",
      "[CV] ... C=0.1, gamma=0.1, kernel=polynomial, score=nan, total=   0.0s\n",
      "[CV] C=0.1, gamma=0.1, kernel=polynomial .............................\n",
      "[CV] ... C=0.1, gamma=0.1, kernel=polynomial, score=nan, total=   0.0s\n",
      "[CV] C=0.1, gamma=0.1, kernel=polynomial .............................\n",
      "[CV] ... C=0.1, gamma=0.1, kernel=polynomial, score=nan, total=   0.0s\n",
      "[CV] C=0.1, gamma=0.01, kernel=linear ................................\n",
      "[CV] .... C=0.1, gamma=0.01, kernel=linear, score=0.658, total=   3.3s\n",
      "[CV] C=0.1, gamma=0.01, kernel=linear ................................\n",
      "[CV] .... C=0.1, gamma=0.01, kernel=linear, score=0.666, total=   3.4s\n",
      "[CV] C=0.1, gamma=0.01, kernel=linear ................................\n",
      "[CV] .... C=0.1, gamma=0.01, kernel=linear, score=0.655, total=   3.4s\n",
      "[CV] C=0.1, gamma=0.01, kernel=linear ................................\n",
      "[CV] .... C=0.1, gamma=0.01, kernel=linear, score=0.645, total=   3.4s\n",
      "[CV] C=0.1, gamma=0.01, kernel=linear ................................\n",
      "[CV] .... C=0.1, gamma=0.01, kernel=linear, score=0.649, total=   3.3s\n",
      "[CV] C=0.1, gamma=0.01, kernel=nonlinear .............................\n",
      "[CV] ... C=0.1, gamma=0.01, kernel=nonlinear, score=nan, total=   0.0s\n",
      "[CV] C=0.1, gamma=0.01, kernel=nonlinear .............................\n",
      "[CV] ... C=0.1, gamma=0.01, kernel=nonlinear, score=nan, total=   0.0s\n",
      "[CV] C=0.1, gamma=0.01, kernel=nonlinear .............................\n",
      "[CV] ... C=0.1, gamma=0.01, kernel=nonlinear, score=nan, total=   0.0s\n",
      "[CV] C=0.1, gamma=0.01, kernel=nonlinear .............................\n",
      "[CV] ... C=0.1, gamma=0.01, kernel=nonlinear, score=nan, total=   0.0s\n",
      "[CV] C=0.1, gamma=0.01, kernel=nonlinear .............................\n",
      "[CV] ... C=0.1, gamma=0.01, kernel=nonlinear, score=nan, total=   0.0s\n",
      "[CV] C=0.1, gamma=0.01, kernel=sigmoid ...............................\n",
      "[CV] ... C=0.1, gamma=0.01, kernel=sigmoid, score=0.460, total=   3.2s\n",
      "[CV] C=0.1, gamma=0.01, kernel=sigmoid ...............................\n",
      "[CV] ... C=0.1, gamma=0.01, kernel=sigmoid, score=0.460, total=   3.2s\n",
      "[CV] C=0.1, gamma=0.01, kernel=sigmoid ...............................\n",
      "[CV] ... C=0.1, gamma=0.01, kernel=sigmoid, score=0.459, total=   3.3s\n",
      "[CV] C=0.1, gamma=0.01, kernel=sigmoid ...............................\n",
      "[CV] ... C=0.1, gamma=0.01, kernel=sigmoid, score=0.460, total=   3.3s\n",
      "[CV] C=0.1, gamma=0.01, kernel=sigmoid ...............................\n",
      "[CV] ... C=0.1, gamma=0.01, kernel=sigmoid, score=0.460, total=   3.2s\n",
      "[CV] C=0.1, gamma=0.01, kernel=polynomial ............................\n",
      "[CV] .. C=0.1, gamma=0.01, kernel=polynomial, score=nan, total=   0.0s\n",
      "[CV] C=0.1, gamma=0.01, kernel=polynomial ............................\n",
      "[CV] .. C=0.1, gamma=0.01, kernel=polynomial, score=nan, total=   0.0s\n",
      "[CV] C=0.1, gamma=0.01, kernel=polynomial ............................\n",
      "[CV] .. C=0.1, gamma=0.01, kernel=polynomial, score=nan, total=   0.0s\n",
      "[CV] C=0.1, gamma=0.01, kernel=polynomial ............................\n",
      "[CV] .. C=0.1, gamma=0.01, kernel=polynomial, score=nan, total=   0.0s\n",
      "[CV] C=0.1, gamma=0.01, kernel=polynomial ............................\n",
      "[CV] .. C=0.1, gamma=0.01, kernel=polynomial, score=nan, total=   0.0s\n",
      "[CV] C=1, gamma=1, kernel=linear .....................................\n",
      "[CV] ......... C=1, gamma=1, kernel=linear, score=0.663, total=   3.1s\n",
      "[CV] C=1, gamma=1, kernel=linear .....................................\n",
      "[CV] ......... C=1, gamma=1, kernel=linear, score=0.683, total=   3.1s\n",
      "[CV] C=1, gamma=1, kernel=linear .....................................\n",
      "[CV] ......... C=1, gamma=1, kernel=linear, score=0.677, total=   3.1s\n",
      "[CV] C=1, gamma=1, kernel=linear .....................................\n",
      "[CV] ......... C=1, gamma=1, kernel=linear, score=0.665, total=   3.1s\n",
      "[CV] C=1, gamma=1, kernel=linear .....................................\n",
      "[CV] ......... C=1, gamma=1, kernel=linear, score=0.662, total=   3.0s\n",
      "[CV] C=1, gamma=1, kernel=nonlinear ..................................\n",
      "[CV] ........ C=1, gamma=1, kernel=nonlinear, score=nan, total=   0.0s\n",
      "[CV] C=1, gamma=1, kernel=nonlinear ..................................\n",
      "[CV] ........ C=1, gamma=1, kernel=nonlinear, score=nan, total=   0.0s\n",
      "[CV] C=1, gamma=1, kernel=nonlinear ..................................\n",
      "[CV] ........ C=1, gamma=1, kernel=nonlinear, score=nan, total=   0.0s\n",
      "[CV] C=1, gamma=1, kernel=nonlinear ..................................\n",
      "[CV] ........ C=1, gamma=1, kernel=nonlinear, score=nan, total=   0.0s\n",
      "[CV] C=1, gamma=1, kernel=nonlinear ..................................\n",
      "[CV] ........ C=1, gamma=1, kernel=nonlinear, score=nan, total=   0.0s\n",
      "[CV] C=1, gamma=1, kernel=sigmoid ....................................\n",
      "[CV] ........ C=1, gamma=1, kernel=sigmoid, score=0.664, total=   2.9s\n",
      "[CV] C=1, gamma=1, kernel=sigmoid ....................................\n",
      "[CV] ........ C=1, gamma=1, kernel=sigmoid, score=0.681, total=   3.0s\n",
      "[CV] C=1, gamma=1, kernel=sigmoid ....................................\n",
      "[CV] ........ C=1, gamma=1, kernel=sigmoid, score=0.676, total=   3.0s\n",
      "[CV] C=1, gamma=1, kernel=sigmoid ....................................\n",
      "[CV] ........ C=1, gamma=1, kernel=sigmoid, score=0.668, total=   3.0s\n",
      "[CV] C=1, gamma=1, kernel=sigmoid ....................................\n",
      "[CV] ........ C=1, gamma=1, kernel=sigmoid, score=0.655, total=   3.0s\n",
      "[CV] C=1, gamma=1, kernel=polynomial .................................\n",
      "[CV] ....... C=1, gamma=1, kernel=polynomial, score=nan, total=   0.0s\n",
      "[CV] C=1, gamma=1, kernel=polynomial .................................\n",
      "[CV] ....... C=1, gamma=1, kernel=polynomial, score=nan, total=   0.0s\n",
      "[CV] C=1, gamma=1, kernel=polynomial .................................\n",
      "[CV] ....... C=1, gamma=1, kernel=polynomial, score=nan, total=   0.0s\n",
      "[CV] C=1, gamma=1, kernel=polynomial .................................\n",
      "[CV] ....... C=1, gamma=1, kernel=polynomial, score=nan, total=   0.0s\n",
      "[CV] C=1, gamma=1, kernel=polynomial .................................\n",
      "[CV] ....... C=1, gamma=1, kernel=polynomial, score=nan, total=   0.0s\n",
      "[CV] C=1, gamma=0.1, kernel=linear ...................................\n"
     ]
    },
    {
     "name": "stdout",
     "output_type": "stream",
     "text": [
      "[CV] ....... C=1, gamma=0.1, kernel=linear, score=0.663, total=   3.1s\n",
      "[CV] C=1, gamma=0.1, kernel=linear ...................................\n",
      "[CV] ....... C=1, gamma=0.1, kernel=linear, score=0.683, total=   3.1s\n",
      "[CV] C=1, gamma=0.1, kernel=linear ...................................\n",
      "[CV] ....... C=1, gamma=0.1, kernel=linear, score=0.677, total=   3.1s\n",
      "[CV] C=1, gamma=0.1, kernel=linear ...................................\n",
      "[CV] ....... C=1, gamma=0.1, kernel=linear, score=0.665, total=   3.1s\n",
      "[CV] C=1, gamma=0.1, kernel=linear ...................................\n",
      "[CV] ....... C=1, gamma=0.1, kernel=linear, score=0.662, total=   3.0s\n",
      "[CV] C=1, gamma=0.1, kernel=nonlinear ................................\n",
      "[CV] ...... C=1, gamma=0.1, kernel=nonlinear, score=nan, total=   0.0s\n",
      "[CV] C=1, gamma=0.1, kernel=nonlinear ................................\n",
      "[CV] ...... C=1, gamma=0.1, kernel=nonlinear, score=nan, total=   0.0s\n",
      "[CV] C=1, gamma=0.1, kernel=nonlinear ................................\n",
      "[CV] ...... C=1, gamma=0.1, kernel=nonlinear, score=nan, total=   0.0s\n",
      "[CV] C=1, gamma=0.1, kernel=nonlinear ................................\n",
      "[CV] ...... C=1, gamma=0.1, kernel=nonlinear, score=nan, total=   0.0s\n",
      "[CV] C=1, gamma=0.1, kernel=nonlinear ................................\n",
      "[CV] ...... C=1, gamma=0.1, kernel=nonlinear, score=nan, total=   0.0s\n",
      "[CV] C=1, gamma=0.1, kernel=sigmoid ..................................\n",
      "[CV] ...... C=1, gamma=0.1, kernel=sigmoid, score=0.658, total=   3.5s\n",
      "[CV] C=1, gamma=0.1, kernel=sigmoid ..................................\n",
      "[CV] ...... C=1, gamma=0.1, kernel=sigmoid, score=0.666, total=   3.5s\n",
      "[CV] C=1, gamma=0.1, kernel=sigmoid ..................................\n",
      "[CV] ...... C=1, gamma=0.1, kernel=sigmoid, score=0.655, total=   3.5s\n",
      "[CV] C=1, gamma=0.1, kernel=sigmoid ..................................\n",
      "[CV] ...... C=1, gamma=0.1, kernel=sigmoid, score=0.645, total=   3.5s\n",
      "[CV] C=1, gamma=0.1, kernel=sigmoid ..................................\n",
      "[CV] ...... C=1, gamma=0.1, kernel=sigmoid, score=0.649, total=   3.5s\n",
      "[CV] C=1, gamma=0.1, kernel=polynomial ...............................\n",
      "[CV] ..... C=1, gamma=0.1, kernel=polynomial, score=nan, total=   0.0s\n",
      "[CV] C=1, gamma=0.1, kernel=polynomial ...............................\n",
      "[CV] ..... C=1, gamma=0.1, kernel=polynomial, score=nan, total=   0.0s\n",
      "[CV] C=1, gamma=0.1, kernel=polynomial ...............................\n",
      "[CV] ..... C=1, gamma=0.1, kernel=polynomial, score=nan, total=   0.0s\n",
      "[CV] C=1, gamma=0.1, kernel=polynomial ...............................\n",
      "[CV] ..... C=1, gamma=0.1, kernel=polynomial, score=nan, total=   0.0s\n",
      "[CV] C=1, gamma=0.1, kernel=polynomial ...............................\n",
      "[CV] ..... C=1, gamma=0.1, kernel=polynomial, score=nan, total=   0.0s\n",
      "[CV] C=1, gamma=0.01, kernel=linear ..................................\n",
      "[CV] ...... C=1, gamma=0.01, kernel=linear, score=0.663, total=   3.1s\n",
      "[CV] C=1, gamma=0.01, kernel=linear ..................................\n",
      "[CV] ...... C=1, gamma=0.01, kernel=linear, score=0.683, total=   3.1s\n",
      "[CV] C=1, gamma=0.01, kernel=linear ..................................\n",
      "[CV] ...... C=1, gamma=0.01, kernel=linear, score=0.677, total=   3.1s\n",
      "[CV] C=1, gamma=0.01, kernel=linear ..................................\n",
      "[CV] ...... C=1, gamma=0.01, kernel=linear, score=0.665, total=   3.1s\n",
      "[CV] C=1, gamma=0.01, kernel=linear ..................................\n",
      "[CV] ...... C=1, gamma=0.01, kernel=linear, score=0.662, total=   3.1s\n",
      "[CV] C=1, gamma=0.01, kernel=nonlinear ...............................\n",
      "[CV] ..... C=1, gamma=0.01, kernel=nonlinear, score=nan, total=   0.0s\n",
      "[CV] C=1, gamma=0.01, kernel=nonlinear ...............................\n",
      "[CV] ..... C=1, gamma=0.01, kernel=nonlinear, score=nan, total=   0.0s\n",
      "[CV] C=1, gamma=0.01, kernel=nonlinear ...............................\n",
      "[CV] ..... C=1, gamma=0.01, kernel=nonlinear, score=nan, total=   0.0s\n",
      "[CV] C=1, gamma=0.01, kernel=nonlinear ...............................\n",
      "[CV] ..... C=1, gamma=0.01, kernel=nonlinear, score=nan, total=   0.0s\n",
      "[CV] C=1, gamma=0.01, kernel=nonlinear ...............................\n",
      "[CV] ..... C=1, gamma=0.01, kernel=nonlinear, score=nan, total=   0.0s\n",
      "[CV] C=1, gamma=0.01, kernel=sigmoid .................................\n",
      "[CV] ..... C=1, gamma=0.01, kernel=sigmoid, score=0.460, total=   3.6s\n",
      "[CV] C=1, gamma=0.01, kernel=sigmoid .................................\n",
      "[CV] ..... C=1, gamma=0.01, kernel=sigmoid, score=0.460, total=   3.6s\n",
      "[CV] C=1, gamma=0.01, kernel=sigmoid .................................\n",
      "[CV] ..... C=1, gamma=0.01, kernel=sigmoid, score=0.459, total=   3.6s\n",
      "[CV] C=1, gamma=0.01, kernel=sigmoid .................................\n",
      "[CV] ..... C=1, gamma=0.01, kernel=sigmoid, score=0.460, total=   3.6s\n",
      "[CV] C=1, gamma=0.01, kernel=sigmoid .................................\n",
      "[CV] ..... C=1, gamma=0.01, kernel=sigmoid, score=0.460, total=   3.6s\n",
      "[CV] C=1, gamma=0.01, kernel=polynomial ..............................\n",
      "[CV] .... C=1, gamma=0.01, kernel=polynomial, score=nan, total=   0.0s\n",
      "[CV] C=1, gamma=0.01, kernel=polynomial ..............................\n",
      "[CV] .... C=1, gamma=0.01, kernel=polynomial, score=nan, total=   0.0s\n",
      "[CV] C=1, gamma=0.01, kernel=polynomial ..............................\n",
      "[CV] .... C=1, gamma=0.01, kernel=polynomial, score=nan, total=   0.0s\n",
      "[CV] C=1, gamma=0.01, kernel=polynomial ..............................\n",
      "[CV] .... C=1, gamma=0.01, kernel=polynomial, score=nan, total=   0.0s\n",
      "[CV] C=1, gamma=0.01, kernel=polynomial ..............................\n",
      "[CV] .... C=1, gamma=0.01, kernel=polynomial, score=nan, total=   0.0s\n",
      "[CV] C=10, gamma=1, kernel=linear ....................................\n",
      "[CV] ........ C=10, gamma=1, kernel=linear, score=0.608, total=   3.5s\n",
      "[CV] C=10, gamma=1, kernel=linear ....................................\n",
      "[CV] ........ C=10, gamma=1, kernel=linear, score=0.616, total=   3.4s\n",
      "[CV] C=10, gamma=1, kernel=linear ....................................\n",
      "[CV] ........ C=10, gamma=1, kernel=linear, score=0.629, total=   3.4s\n",
      "[CV] C=10, gamma=1, kernel=linear ....................................\n",
      "[CV] ........ C=10, gamma=1, kernel=linear, score=0.613, total=   3.5s\n",
      "[CV] C=10, gamma=1, kernel=linear ....................................\n",
      "[CV] ........ C=10, gamma=1, kernel=linear, score=0.605, total=   3.4s\n",
      "[CV] C=10, gamma=1, kernel=nonlinear .................................\n",
      "[CV] ....... C=10, gamma=1, kernel=nonlinear, score=nan, total=   0.0s\n",
      "[CV] C=10, gamma=1, kernel=nonlinear .................................\n",
      "[CV] ....... C=10, gamma=1, kernel=nonlinear, score=nan, total=   0.0s\n",
      "[CV] C=10, gamma=1, kernel=nonlinear .................................\n",
      "[CV] ....... C=10, gamma=1, kernel=nonlinear, score=nan, total=   0.0s\n",
      "[CV] C=10, gamma=1, kernel=nonlinear .................................\n",
      "[CV] ....... C=10, gamma=1, kernel=nonlinear, score=nan, total=   0.0s\n",
      "[CV] C=10, gamma=1, kernel=nonlinear .................................\n",
      "[CV] ....... C=10, gamma=1, kernel=nonlinear, score=nan, total=   0.0s\n",
      "[CV] C=10, gamma=1, kernel=sigmoid ...................................\n",
      "[CV] ....... C=10, gamma=1, kernel=sigmoid, score=0.575, total=   3.0s\n",
      "[CV] C=10, gamma=1, kernel=sigmoid ...................................\n",
      "[CV] ....... C=10, gamma=1, kernel=sigmoid, score=0.588, total=   3.7s\n",
      "[CV] C=10, gamma=1, kernel=sigmoid ...................................\n",
      "[CV] ....... C=10, gamma=1, kernel=sigmoid, score=0.610, total=   3.3s\n",
      "[CV] C=10, gamma=1, kernel=sigmoid ...................................\n",
      "[CV] ....... C=10, gamma=1, kernel=sigmoid, score=0.601, total=   3.2s\n",
      "[CV] C=10, gamma=1, kernel=sigmoid ...................................\n",
      "[CV] ....... C=10, gamma=1, kernel=sigmoid, score=0.607, total=   3.4s\n",
      "[CV] C=10, gamma=1, kernel=polynomial ................................\n",
      "[CV] ...... C=10, gamma=1, kernel=polynomial, score=nan, total=   0.0s\n",
      "[CV] C=10, gamma=1, kernel=polynomial ................................\n",
      "[CV] ...... C=10, gamma=1, kernel=polynomial, score=nan, total=   0.0s\n",
      "[CV] C=10, gamma=1, kernel=polynomial ................................\n",
      "[CV] ...... C=10, gamma=1, kernel=polynomial, score=nan, total=   0.0s\n",
      "[CV] C=10, gamma=1, kernel=polynomial ................................\n",
      "[CV] ...... C=10, gamma=1, kernel=polynomial, score=nan, total=   0.0s\n",
      "[CV] C=10, gamma=1, kernel=polynomial ................................\n",
      "[CV] ...... C=10, gamma=1, kernel=polynomial, score=nan, total=   0.0s\n",
      "[CV] C=10, gamma=0.1, kernel=linear ..................................\n"
     ]
    },
    {
     "name": "stdout",
     "output_type": "stream",
     "text": [
      "[CV] ...... C=10, gamma=0.1, kernel=linear, score=0.608, total=   3.5s\n",
      "[CV] C=10, gamma=0.1, kernel=linear ..................................\n",
      "[CV] ...... C=10, gamma=0.1, kernel=linear, score=0.616, total=   3.4s\n",
      "[CV] C=10, gamma=0.1, kernel=linear ..................................\n",
      "[CV] ...... C=10, gamma=0.1, kernel=linear, score=0.629, total=   3.4s\n",
      "[CV] C=10, gamma=0.1, kernel=linear ..................................\n",
      "[CV] ...... C=10, gamma=0.1, kernel=linear, score=0.613, total=   3.5s\n",
      "[CV] C=10, gamma=0.1, kernel=linear ..................................\n",
      "[CV] ...... C=10, gamma=0.1, kernel=linear, score=0.605, total=   3.4s\n",
      "[CV] C=10, gamma=0.1, kernel=nonlinear ...............................\n",
      "[CV] ..... C=10, gamma=0.1, kernel=nonlinear, score=nan, total=   0.0s\n",
      "[CV] C=10, gamma=0.1, kernel=nonlinear ...............................\n",
      "[CV] ..... C=10, gamma=0.1, kernel=nonlinear, score=nan, total=   0.0s\n",
      "[CV] C=10, gamma=0.1, kernel=nonlinear ...............................\n",
      "[CV] ..... C=10, gamma=0.1, kernel=nonlinear, score=nan, total=   0.0s\n",
      "[CV] C=10, gamma=0.1, kernel=nonlinear ...............................\n",
      "[CV] ..... C=10, gamma=0.1, kernel=nonlinear, score=nan, total=   0.0s\n",
      "[CV] C=10, gamma=0.1, kernel=nonlinear ...............................\n",
      "[CV] ..... C=10, gamma=0.1, kernel=nonlinear, score=nan, total=   0.0s\n",
      "[CV] C=10, gamma=0.1, kernel=sigmoid .................................\n",
      "[CV] ..... C=10, gamma=0.1, kernel=sigmoid, score=0.664, total=   3.2s\n",
      "[CV] C=10, gamma=0.1, kernel=sigmoid .................................\n",
      "[CV] ..... C=10, gamma=0.1, kernel=sigmoid, score=0.683, total=   3.2s\n",
      "[CV] C=10, gamma=0.1, kernel=sigmoid .................................\n",
      "[CV] ..... C=10, gamma=0.1, kernel=sigmoid, score=0.676, total=   3.2s\n",
      "[CV] C=10, gamma=0.1, kernel=sigmoid .................................\n",
      "[CV] ..... C=10, gamma=0.1, kernel=sigmoid, score=0.665, total=   3.2s\n",
      "[CV] C=10, gamma=0.1, kernel=sigmoid .................................\n",
      "[CV] ..... C=10, gamma=0.1, kernel=sigmoid, score=0.661, total=   3.2s\n",
      "[CV] C=10, gamma=0.1, kernel=polynomial ..............................\n",
      "[CV] .... C=10, gamma=0.1, kernel=polynomial, score=nan, total=   0.0s\n",
      "[CV] C=10, gamma=0.1, kernel=polynomial ..............................\n",
      "[CV] .... C=10, gamma=0.1, kernel=polynomial, score=nan, total=   0.0s\n",
      "[CV] C=10, gamma=0.1, kernel=polynomial ..............................\n",
      "[CV] .... C=10, gamma=0.1, kernel=polynomial, score=nan, total=   0.0s\n",
      "[CV] C=10, gamma=0.1, kernel=polynomial ..............................\n",
      "[CV] .... C=10, gamma=0.1, kernel=polynomial, score=nan, total=   0.0s\n",
      "[CV] C=10, gamma=0.1, kernel=polynomial ..............................\n",
      "[CV] .... C=10, gamma=0.1, kernel=polynomial, score=nan, total=   0.0s\n",
      "[CV] C=10, gamma=0.01, kernel=linear .................................\n",
      "[CV] ..... C=10, gamma=0.01, kernel=linear, score=0.608, total=   3.5s\n",
      "[CV] C=10, gamma=0.01, kernel=linear .................................\n",
      "[CV] ..... C=10, gamma=0.01, kernel=linear, score=0.616, total=   3.4s\n",
      "[CV] C=10, gamma=0.01, kernel=linear .................................\n",
      "[CV] ..... C=10, gamma=0.01, kernel=linear, score=0.629, total=   3.4s\n",
      "[CV] C=10, gamma=0.01, kernel=linear .................................\n",
      "[CV] ..... C=10, gamma=0.01, kernel=linear, score=0.613, total=   3.5s\n",
      "[CV] C=10, gamma=0.01, kernel=linear .................................\n",
      "[CV] ..... C=10, gamma=0.01, kernel=linear, score=0.605, total=   3.4s\n",
      "[CV] C=10, gamma=0.01, kernel=nonlinear ..............................\n",
      "[CV] .... C=10, gamma=0.01, kernel=nonlinear, score=nan, total=   0.0s\n",
      "[CV] C=10, gamma=0.01, kernel=nonlinear ..............................\n",
      "[CV] .... C=10, gamma=0.01, kernel=nonlinear, score=nan, total=   0.0s\n",
      "[CV] C=10, gamma=0.01, kernel=nonlinear ..............................\n",
      "[CV] .... C=10, gamma=0.01, kernel=nonlinear, score=nan, total=   0.0s\n",
      "[CV] C=10, gamma=0.01, kernel=nonlinear ..............................\n",
      "[CV] .... C=10, gamma=0.01, kernel=nonlinear, score=nan, total=   0.0s\n",
      "[CV] C=10, gamma=0.01, kernel=nonlinear ..............................\n",
      "[CV] .... C=10, gamma=0.01, kernel=nonlinear, score=nan, total=   0.0s\n",
      "[CV] C=10, gamma=0.01, kernel=sigmoid ................................\n",
      "[CV] .... C=10, gamma=0.01, kernel=sigmoid, score=0.658, total=   3.5s\n",
      "[CV] C=10, gamma=0.01, kernel=sigmoid ................................\n",
      "[CV] .... C=10, gamma=0.01, kernel=sigmoid, score=0.666, total=   3.5s\n",
      "[CV] C=10, gamma=0.01, kernel=sigmoid ................................\n",
      "[CV] .... C=10, gamma=0.01, kernel=sigmoid, score=0.655, total=   3.5s\n",
      "[CV] C=10, gamma=0.01, kernel=sigmoid ................................\n",
      "[CV] .... C=10, gamma=0.01, kernel=sigmoid, score=0.645, total=   3.5s\n",
      "[CV] C=10, gamma=0.01, kernel=sigmoid ................................\n",
      "[CV] .... C=10, gamma=0.01, kernel=sigmoid, score=0.649, total=   3.5s\n",
      "[CV] C=10, gamma=0.01, kernel=polynomial .............................\n",
      "[CV] ... C=10, gamma=0.01, kernel=polynomial, score=nan, total=   0.0s\n",
      "[CV] C=10, gamma=0.01, kernel=polynomial .............................\n",
      "[CV] ... C=10, gamma=0.01, kernel=polynomial, score=nan, total=   0.0s\n",
      "[CV] C=10, gamma=0.01, kernel=polynomial .............................\n",
      "[CV] ... C=10, gamma=0.01, kernel=polynomial, score=nan, total=   0.0s\n",
      "[CV] C=10, gamma=0.01, kernel=polynomial .............................\n",
      "[CV] ... C=10, gamma=0.01, kernel=polynomial, score=nan, total=   0.0s\n",
      "[CV] C=10, gamma=0.01, kernel=polynomial .............................\n",
      "[CV] ... C=10, gamma=0.01, kernel=polynomial, score=nan, total=   0.0s\n"
     ]
    },
    {
     "name": "stderr",
     "output_type": "stream",
     "text": [
      "[Parallel(n_jobs=1)]: Done 180 out of 180 | elapsed:  5.0min finished\n"
     ]
    },
    {
     "name": "stdout",
     "output_type": "stream",
     "text": [
      "0:05:03.730796\n"
     ]
    }
   ],
   "source": [
    "starttime = datetime.now()\n",
    "\n",
    "#######\n",
    "\n",
    "svm_gridgl = GridSearchCV(SVMgl, svm_param_grid, refit=True, verbose=3)\n",
    "\n",
    "svm_gridgl.fit(tfidf_X_trainglobal, y_trainglobal)\n",
    "\n",
    "#######\n",
    "\n",
    "print(datetime.now() - starttime)"
   ]
  },
  {
   "cell_type": "code",
   "execution_count": 56,
   "metadata": {},
   "outputs": [
    {
     "name": "stdout",
     "output_type": "stream",
     "text": [
      "{'C': 1, 'gamma': 1, 'kernel': 'linear'}\n",
      "SVC(C=1, gamma=1, kernel='linear')\n"
     ]
    }
   ],
   "source": [
    "print(svm_gridgl.best_params_)\n",
    "print(svm_gridgl.best_estimator_)"
   ]
  },
  {
   "cell_type": "code",
   "execution_count": 57,
   "metadata": {},
   "outputs": [
    {
     "name": "stdout",
     "output_type": "stream",
     "text": [
      "Test Accuracy Score: 0.6856851757514009\n",
      "Test Precision Score: 0.5969984084375664\n",
      "Test Recall Score: 0.6856851757514009\n",
      "Test F1 Score: 0.6160057129216149\n"
     ]
    }
   ],
   "source": [
    "SVMgl = svm.SVC(C=10, gamma=0.1, kernel='sigmoid')\n",
    "SVMgl.fit(tfidf_X_trainglobal, y_trainglobal)\n",
    "\n",
    "y_pred_SVM_testglobal = SVMgl.predict(tfidf_X_testglobal)\n",
    "\n",
    "print(\"Test Accuracy Score:\", metrics.accuracy_score(y_testglobal, y_pred_SVM_testglobal))\n",
    "print(\"Test Precision Score:\", metrics.precision_score(y_testglobal, y_pred_SVM_testglobal, average = \"weighted\"))\n",
    "print(\"Test Recall Score:\", metrics.recall_score(y_testglobal, y_pred_SVM_testglobal, average = \"weighted\"))\n",
    "print(\"Test F1 Score:\", metrics.f1_score(y_testglobal, y_pred_SVM_testglobal, average = \"weighted\"))"
   ]
  },
  {
   "cell_type": "markdown",
   "metadata": {},
   "source": [
    "Compared to:\n",
    "\n",
    "- Test Accuracy Score: 0.6841779975278122 (INCREASE)\n",
    "- Test Precision Score: 0.5872740271369469 (DECREASE)\n",
    "- Test Recall Score: 0.6841779975278122 (INCREASE)\n",
    "- Test F1 Score: 0.5949577097822947 (INCREASE)"
   ]
  },
  {
   "cell_type": "code",
   "execution_count": 58,
   "metadata": {
    "scrolled": true
   },
   "outputs": [
    {
     "data": {
      "text/plain": [
       "Text(91.68, 0.5, 'Predicted Rating')"
      ]
     },
     "execution_count": 58,
     "metadata": {},
     "output_type": "execute_result"
    },
    {
     "data": {
      "image/png": "[encoded data removed]",
      "text/plain": [
       "<Figure size 432x288 with 1 Axes>"
      ]
     },
     "metadata": {
      "needs_background": "light"
     },
     "output_type": "display_data"
    }
   ],
   "source": [
    "matrix = confusion_matrix(y_testglobal, y_pred_SVM_testglobal)\n",
    "sns.heatmap(matrix.T, square=True, annot=True, fmt='d', cbar=False, \n",
    "            xticklabels=['1','2','3','4','5'], yticklabels=['1','2','3','4','5'])\n",
    "\n",
    "plt.xlabel('Actual Rating')\n",
    "plt.ylabel('Predicted Rating')"
   ]
  },
  {
   "cell_type": "markdown",
   "metadata": {},
   "source": [
    "### SEA"
   ]
  },
  {
   "cell_type": "code",
   "execution_count": 59,
   "metadata": {},
   "outputs": [
    {
     "name": "stdout",
     "output_type": "stream",
     "text": [
      "0:00:00.000043\n"
     ]
    }
   ],
   "source": [
    "starttime = datetime.now()\n",
    "\n",
    "#######\n",
    "\n",
    "#svm_gridsea = GridSearchCV(SVMsea, svm_param_grid, refit=True, verbose=3)\n",
    "\n",
    "#svm_gridsea.fit(tfidf_X_trainsea, y_trainsea)\n",
    "\n",
    "#######\n",
    "\n",
    "print(datetime.now() - starttime)\n",
    "\n",
    "# Takes too long to run."
   ]
  },
  {
   "cell_type": "code",
   "execution_count": 60,
   "metadata": {},
   "outputs": [],
   "source": [
    "#print(svm_gridsea.best_params_)\n",
    "#print(svm_gridsea.best_estimator_)"
   ]
  },
  {
   "cell_type": "code",
   "execution_count": 61,
   "metadata": {
    "scrolled": true
   },
   "outputs": [
    {
     "name": "stdout",
     "output_type": "stream",
     "text": [
      "Test Accuracy Score: 0.7623767859120612\n",
      "Test Precision Score: 0.6698630640639892\n",
      "Test Recall Score: 0.7623767859120612\n",
      "Test F1 Score: 0.7018641845256975\n",
      "---------------------\n",
      "0:05:36.678101\n"
     ]
    }
   ],
   "source": [
    "starttime = datetime.now()\n",
    "\n",
    "#######\n",
    "\n",
    "SVMsea = svm.SVC(C=1, gamma=1, kernel='linear')\n",
    "SVMsea.fit(tfidf_X_trainsea, y_trainsea)\n",
    "\n",
    "y_pred_SVM_testsea = SVMsea.predict(tfidf_X_testsea)\n",
    "\n",
    "print(\"Test Accuracy Score:\", metrics.accuracy_score(y_testsea, y_pred_SVM_testsea))\n",
    "print(\"Test Precision Score:\", metrics.precision_score(y_testsea, y_pred_SVM_testsea, average = \"weighted\"))\n",
    "print(\"Test Recall Score:\", metrics.recall_score(y_testsea, y_pred_SVM_testsea, average = \"weighted\"))\n",
    "print(\"Test F1 Score:\", metrics.f1_score(y_testsea, y_pred_SVM_testsea, average = \"weighted\"))\n",
    "\n",
    "#######\n",
    "\n",
    "print('---------------------')\n",
    "print(datetime.now() - starttime)"
   ]
  },
  {
   "cell_type": "markdown",
   "metadata": {},
   "source": [
    "Compared to:\n",
    "- Test Accuracy Score: 0.7723518651959426 (DECREASE)\n",
    "- Test Precision Score: 0.6895906690359215 (DECREASE)\n",
    "- Test Recall Score: 0.7723518651959426 (DECREASE)\n",
    "- Test F1 Score: 0.7100195104243602 (DECREASE)"
   ]
  },
  {
   "cell_type": "code",
   "execution_count": 62,
   "metadata": {},
   "outputs": [
    {
     "data": {
      "text/plain": [
       "Text(91.68, 0.5, 'Predicted Rating')"
      ]
     },
     "execution_count": 62,
     "metadata": {},
     "output_type": "execute_result"
    },
    {
     "data": {
      "image/png": "[encoded data removed]",
      "text/plain": [
       "<Figure size 432x288 with 1 Axes>"
      ]
     },
     "metadata": {
      "needs_background": "light"
     },
     "output_type": "display_data"
    }
   ],
   "source": [
    "matrix = confusion_matrix(y_testsea, y_pred_SVM_testsea)\n",
    "sns.heatmap(matrix.T, square=True, annot=True, fmt='d', cbar=False, \n",
    "            xticklabels=['1','2','3','4','5'], yticklabels=['1','2','3','4','5'])\n",
    "\n",
    "plt.xlabel('Actual Rating')\n",
    "plt.ylabel('Predicted Rating')"
   ]
  },
  {
   "cell_type": "markdown",
   "metadata": {},
   "source": [
    "=================================================================================================================="
   ]
  },
  {
   "cell_type": "markdown",
   "metadata": {},
   "source": [
    "# Summary of Models"
   ]
  },
  {
   "cell_type": "markdown",
   "metadata": {},
   "source": [
    "We will be using Accuracy and F1 score to indicate performance of the models"
   ]
  },
  {
   "cell_type": "markdown",
   "metadata": {},
   "source": [
    "## Global Models:\n",
    "\n",
    "- Dummy Classifier: 33.19% Accuracy, 32.79% F1 Score\n",
    "- Naive Bayes: 66.87% Accuracy, 58.90% F1 Score\n",
    "- Decision Tree: 58.28% Accuracy, 56.51% F1 Score\n",
    "- Random Forest: 66.75% Accuracy, 58.00% F1 Score\n",
    "- Support Vector Machine: 68.42% Accuracy, 59.50% F1 Score\n",
    "\n",
    "#### GridSearch Global\n",
    "\n",
    "- DT: 59.15% Accuracy, 52.87% F1 Score\n",
    "- RF: 67.49% Accuracy, 58.38% F1 Score\n",
    "- SVT: 68.72% Accuracy, 61.93% F1 Score\n",
    "\n",
    "## SEA Models:\n",
    "\n",
    "- Dummy Classifier: 36.67% Accuracy, 36.84% F1 Score\n",
    "- Naive Bayes: 72.62% Accuracy, 69.06% F1 Score\n",
    "- Decision Tree 69.87% Accuracy, 68.03% F1 Score\n",
    "- Random Forest: 75.54% Accuracy, 69.82% F1 Score\n",
    "- Support Vector Machine: 77.24% Accuracy, 71.00% F1 Score\n",
    "\n",
    "#### GridSearch SEA\n",
    "\n",
    "- DT: 72.09% Accuracy, 67.33% F1 Score\n",
    "- RF: N/A (75.44% Accuracy, 70.05% F1 Score)\n",
    "- SVT: N/A (76.84% Accuracy, 70.83% F1 Score)"
   ]
  },
  {
   "cell_type": "markdown",
   "metadata": {},
   "source": [
    "# Best Models"
   ]
  },
  {
   "cell_type": "markdown",
   "metadata": {},
   "source": [
    "Global:\n",
    "\n",
    "- Support Vector Machine (gridsearch): 68.73% Accuracy, 61.93% F1 Score"
   ]
  },
  {
   "cell_type": "markdown",
   "metadata": {},
   "source": [
    "SEA:\n",
    "\n",
    "- Support Vector Machine (no gridsearch): 77.24% Accuracy, 71.00% F1 Score"
   ]
  }
 ],
 "metadata": {
  "kernelspec": {
   "display_name": "Python 3",
   "language": "python",
   "name": "python3"
  },
  "language_info": {
   "codemirror_mode": {
    "name": "ipython",
    "version": 3
   },
   "file_extension": ".py",
   "mimetype": "text/x-python",
   "name": "python",
   "nbconvert_exporter": "python",
   "pygments_lexer": "ipython3",
   "version": "3.7.6"
  }
 },
 "nbformat": 4,
 "nbformat_minor": 4
}
