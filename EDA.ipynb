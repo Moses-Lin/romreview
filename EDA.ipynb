{
 "cells": [
  {
   "cell_type": "markdown",
   "metadata": {},
   "source": [
    "# Importing necessary things"
   ]
  },
  {
   "cell_type": "code",
   "execution_count": 24,
   "metadata": {},
   "outputs": [],
   "source": [
    "import pandas as pd\n",
    "import numpy as np\n",
    "import sklearn\n",
    "\n",
    "import sklearn.metrics as metrics\n",
    "from sklearn.utils import resample\n",
    "from sklearn.preprocessing import MinMaxScaler\n",
    "from sklearn.model_selection import train_test_split\n",
    "from sklearn.preprocessing import LabelEncoder\n",
    "from sklearn.naive_bayes import MultinomialNB\n",
    "from sklearn.ensemble import RandomForestClassifier\n",
    "from sklearn.tree import DecisionTreeClassifier\n",
    "from sklearn.metrics import accuracy_score, confusion_matrix, f1_score, recall_score, precision_score\n",
    "from sklearn.feature_extraction.text import TfidfVectorizer, CountVectorizer\n",
    "from sklearn.svm import SVC\n",
    "\n",
    "import nltk\n",
    "from nltk.corpus import stopwords\n",
    "from nltk import word_tokenize, RegexpTokenizer, TweetTokenizer\n",
    "from nltk.stem import WordNetLemmatizer\n",
    "from nltk.stem import PorterStemmer\n",
    "from nltk.probability import FreqDist\n",
    "\n",
    "import matplotlib.pyplot as plt\n",
    "import seaborn as sns\n",
    "from matplotlib import cm\n",
    "\n",
    "import re\n",
    "from datetime import datetime\n",
    "\n",
    "import pickle\n",
    "\n",
    "import string"
   ]
  },
  {
   "cell_type": "markdown",
   "metadata": {},
   "source": [
    "=================================================================================================================="
   ]
  },
  {
   "cell_type": "markdown",
   "metadata": {},
   "source": [
    "# EDA"
   ]
  },
  {
   "cell_type": "code",
   "execution_count": 2,
   "metadata": {},
   "outputs": [],
   "source": [
    "# Retrieving the list.\n",
    "\n",
    "import bz2\n",
    "\n",
    "def decompress_pickle(file):\n",
    "    data = bz2.BZ2File(file, 'rb')\n",
    "    data = pickle.load(data)\n",
    "    return data"
   ]
  },
  {
   "cell_type": "code",
   "execution_count": 3,
   "metadata": {},
   "outputs": [
    {
     "data": {
      "text/plain": [
       "6432"
      ]
     },
     "execution_count": 3,
     "metadata": {},
     "output_type": "execute_result"
    }
   ],
   "source": [
    "reviewlist = decompress_pickle('compressedlistreview.pbz2')\n",
    "len(reviewlist)"
   ]
  },
  {
   "cell_type": "code",
   "execution_count": 5,
   "metadata": {},
   "outputs": [
    {
     "data": {
      "text/html": [
       "<div>\n",
       "<style scoped>\n",
       "    .dataframe tbody tr th:only-of-type {\n",
       "        vertical-align: middle;\n",
       "    }\n",
       "\n",
       "    .dataframe tbody tr th {\n",
       "        vertical-align: top;\n",
       "    }\n",
       "\n",
       "    .dataframe thead th {\n",
       "        text-align: right;\n",
       "    }\n",
       "</style>\n",
       "<table border=\"1\" class=\"dataframe\">\n",
       "  <thead>\n",
       "    <tr style=\"text-align: right;\">\n",
       "      <th></th>\n",
       "      <th>content</th>\n",
       "      <th>score</th>\n",
       "      <th>thumbsUpCount</th>\n",
       "      <th>reviewCreatedVersion</th>\n",
       "      <th>appId</th>\n",
       "    </tr>\n",
       "  </thead>\n",
       "  <tbody>\n",
       "    <tr>\n",
       "      <th>0</th>\n",
       "      <td>stamina system ruined it for me. any game that...</td>\n",
       "      <td>1</td>\n",
       "      <td>5</td>\n",
       "      <td>1.2.4</td>\n",
       "      <td>com.gravity.romNAg</td>\n",
       "    </tr>\n",
       "    <tr>\n",
       "      <th>1</th>\n",
       "      <td>An epic remake! I just wish it was less of a c...</td>\n",
       "      <td>4</td>\n",
       "      <td>5</td>\n",
       "      <td>1.2.4</td>\n",
       "      <td>com.gravity.romNAg</td>\n",
       "    </tr>\n",
       "    <tr>\n",
       "      <th>2</th>\n",
       "      <td>It crashes a lot. I've turned down all the set...</td>\n",
       "      <td>2</td>\n",
       "      <td>4</td>\n",
       "      <td>1.2.4</td>\n",
       "      <td>com.gravity.romNAg</td>\n",
       "    </tr>\n",
       "    <tr>\n",
       "      <th>3</th>\n",
       "      <td>I was a big fan when this came out mobile. I'v...</td>\n",
       "      <td>1</td>\n",
       "      <td>7</td>\n",
       "      <td>1.2.4</td>\n",
       "      <td>com.gravity.romNAg</td>\n",
       "    </tr>\n",
       "    <tr>\n",
       "      <th>4</th>\n",
       "      <td>It's a nice game at the moment of my first exp...</td>\n",
       "      <td>3</td>\n",
       "      <td>2</td>\n",
       "      <td>1.2.4</td>\n",
       "      <td>com.gravity.romNAg</td>\n",
       "    </tr>\n",
       "    <tr>\n",
       "      <th>...</th>\n",
       "      <td>...</td>\n",
       "      <td>...</td>\n",
       "      <td>...</td>\n",
       "      <td>...</td>\n",
       "      <td>...</td>\n",
       "    </tr>\n",
       "    <tr>\n",
       "      <th>6427</th>\n",
       "      <td>Good</td>\n",
       "      <td>5</td>\n",
       "      <td>0</td>\n",
       "      <td>1.2.2</td>\n",
       "      <td>com.gravity.romNAg</td>\n",
       "    </tr>\n",
       "    <tr>\n",
       "      <th>6428</th>\n",
       "      <td>Nice</td>\n",
       "      <td>5</td>\n",
       "      <td>0</td>\n",
       "      <td>None</td>\n",
       "      <td>com.gravity.romNAg</td>\n",
       "    </tr>\n",
       "    <tr>\n",
       "      <th>6429</th>\n",
       "      <td>good</td>\n",
       "      <td>4</td>\n",
       "      <td>0</td>\n",
       "      <td>None</td>\n",
       "      <td>com.gravity.romNAg</td>\n",
       "    </tr>\n",
       "    <tr>\n",
       "      <th>6430</th>\n",
       "      <td>i love it</td>\n",
       "      <td>1</td>\n",
       "      <td>0</td>\n",
       "      <td>None</td>\n",
       "      <td>com.gravity.romNAg</td>\n",
       "    </tr>\n",
       "    <tr>\n",
       "      <th>6431</th>\n",
       "      <td>good</td>\n",
       "      <td>5</td>\n",
       "      <td>0</td>\n",
       "      <td>None</td>\n",
       "      <td>com.gravity.romNAg</td>\n",
       "    </tr>\n",
       "  </tbody>\n",
       "</table>\n",
       "<p>6432 rows × 5 columns</p>\n",
       "</div>"
      ],
      "text/plain": [
       "                                                content  score  thumbsUpCount  \\\n",
       "0     stamina system ruined it for me. any game that...      1              5   \n",
       "1     An epic remake! I just wish it was less of a c...      4              5   \n",
       "2     It crashes a lot. I've turned down all the set...      2              4   \n",
       "3     I was a big fan when this came out mobile. I'v...      1              7   \n",
       "4     It's a nice game at the moment of my first exp...      3              2   \n",
       "...                                                 ...    ...            ...   \n",
       "6427                                               Good      5              0   \n",
       "6428                                               Nice      5              0   \n",
       "6429                                               good      4              0   \n",
       "6430                                          i love it      1              0   \n",
       "6431                                               good      5              0   \n",
       "\n",
       "     reviewCreatedVersion               appId  \n",
       "0                   1.2.4  com.gravity.romNAg  \n",
       "1                   1.2.4  com.gravity.romNAg  \n",
       "2                   1.2.4  com.gravity.romNAg  \n",
       "3                   1.2.4  com.gravity.romNAg  \n",
       "4                   1.2.4  com.gravity.romNAg  \n",
       "...                   ...                 ...  \n",
       "6427                1.2.2  com.gravity.romNAg  \n",
       "6428                 None  com.gravity.romNAg  \n",
       "6429                 None  com.gravity.romNAg  \n",
       "6430                 None  com.gravity.romNAg  \n",
       "6431                 None  com.gravity.romNAg  \n",
       "\n",
       "[6432 rows x 5 columns]"
      ]
     },
     "execution_count": 5,
     "metadata": {},
     "output_type": "execute_result"
    }
   ],
   "source": [
    "df = pd.DataFrame(reviewlist)\n",
    "df"
   ]
  },
  {
   "cell_type": "code",
   "execution_count": 7,
   "metadata": {
    "scrolled": true
   },
   "outputs": [
    {
     "data": {
      "text/plain": [
       "content                    0\n",
       "score                      0\n",
       "thumbsUpCount              0\n",
       "reviewCreatedVersion    1175\n",
       "appId                      0\n",
       "dtype: int64"
      ]
     },
     "execution_count": 7,
     "metadata": {},
     "output_type": "execute_result"
    }
   ],
   "source": [
    "# checking for null values.\n",
    "\n",
    "df.isna().sum()"
   ]
  },
  {
   "cell_type": "code",
   "execution_count": 8,
   "metadata": {
    "scrolled": true
   },
   "outputs": [
    {
     "data": {
      "text/plain": [
       "5    3063\n",
       "1    1765\n",
       "4     639\n",
       "3     560\n",
       "2     405\n",
       "Name: score, dtype: int64"
      ]
     },
     "execution_count": 8,
     "metadata": {},
     "output_type": "execute_result"
    }
   ],
   "source": [
    "df['score'].value_counts()"
   ]
  },
  {
   "cell_type": "code",
   "execution_count": 11,
   "metadata": {},
   "outputs": [],
   "source": [
    "count1 = len(df[df['score'] == 1])\n",
    "count2 = len(df[df['score'] == 2])\n",
    "count3 = len(df[df['score'] == 3])\n",
    "count4 = len(df[df['score'] == 4])\n",
    "count5 = len(df[df['score'] == 5])\n",
    "\n",
    "total = count1 + count2 + count3 + count4 + count5"
   ]
  },
  {
   "cell_type": "code",
   "execution_count": 14,
   "metadata": {},
   "outputs": [
    {
     "data": {
      "image/png": "[encoded data removed]",
      "text/plain": [
       "<Figure size 720x720 with 1 Axes>"
      ]
     },
     "metadata": {
      "needs_background": "light"
     },
     "output_type": "display_data"
    }
   ],
   "source": [
    "# Plotting distribution of ratings out of all the reviews\n",
    "# Interestingly, it is very similar to overall rating distribution across all top mobile games.\n",
    "\n",
    "plt.figure(figsize=(10,10))\n",
    "\n",
    "xaxis = ['1', '2', '3', '4', '5']\n",
    "yaxis = [count1, count2, count3, count4, count5]\n",
    "ax = sns.barplot(xaxis, yaxis)\n",
    "\n",
    "plt.title('% Rating for Ragnarok Online Mobile')\n",
    "plt.ylabel('Count', fontsize = 20)\n",
    "plt.xlabel('Rating', fontsize = 20)\n",
    "\n",
    "\n",
    "for p in ax.patches:\n",
    "             ax.annotate(\"%.2f\" % (p.get_height()*100/total)+'%', (p.get_x() + p.get_width() / 2., p.get_height()),\n",
    "                 ha='center', va='center', fontsize=15, color='black', xytext=(0, 20),\n",
    "                 textcoords='offset points')"
   ]
  },
  {
   "cell_type": "code",
   "execution_count": 9,
   "metadata": {
    "scrolled": false
   },
   "outputs": [
    {
     "data": {
      "text/plain": [
       "0      4656\n",
       "1       906\n",
       "2       307\n",
       "3       130\n",
       "4        86\n",
       "       ... \n",
       "101       1\n",
       "97        1\n",
       "89        1\n",
       "65        1\n",
       "145       1\n",
       "Name: thumbsUpCount, Length: 70, dtype: int64"
      ]
     },
     "execution_count": 9,
     "metadata": {},
     "output_type": "execute_result"
    }
   ],
   "source": [
    "df['thumbsUpCount'].value_counts()"
   ]
  },
  {
   "cell_type": "code",
   "execution_count": 10,
   "metadata": {},
   "outputs": [
    {
     "data": {
      "text/plain": [
       "1.0.1    4442\n",
       "1.0.7     218\n",
       "1.1.3     149\n",
       "1.0.5     147\n",
       "1.1.0     133\n",
       "1.2.0      75\n",
       "1.2.2      60\n",
       "1.2.4      33\n",
       "Name: reviewCreatedVersion, dtype: int64"
      ]
     },
     "execution_count": 10,
     "metadata": {},
     "output_type": "execute_result"
    }
   ],
   "source": [
    "df['reviewCreatedVersion'].value_counts()"
   ]
  },
  {
   "cell_type": "markdown",
   "metadata": {},
   "source": [
    "=================================================================================================================="
   ]
  },
  {
   "cell_type": "code",
   "execution_count": 15,
   "metadata": {},
   "outputs": [],
   "source": [
    "# Separating reviews into their scores.\n",
    "\n",
    "rating1 = df.loc[df['score'] == 1]\n",
    "rating2 = df.loc[df['score'] == 2]\n",
    "rating3 = df.loc[df['score'] == 3]\n",
    "rating4 = df.loc[df['score'] == 4]\n",
    "rating5 = df.loc[df['score'] == 5]"
   ]
  },
  {
   "cell_type": "code",
   "execution_count": 25,
   "metadata": {},
   "outputs": [],
   "source": [
    "# Remove common words\n",
    "stopwords_list = stopwords.words('english') + list(string.punctuation)\n",
    "# Remove more punctuation\n",
    "stopwords_list += [\"''\", '\"\"', '...', '``']\n",
    "# Remove random numerals\n",
    "stopwords_list += ['0', '1', '2', '3', '4', '5', '6', '7', '8', '9']\n",
    "# Remove contractions\n",
    "stopwords_list += [\"'d\", \"'ve\", \"ca\", \"n't\",  \"'t\", \"'re\", \"'ll\", \"'s\"]"
   ]
  },
  {
   "cell_type": "code",
   "execution_count": 26,
   "metadata": {},
   "outputs": [],
   "source": [
    "def process_reviews(reviews):\n",
    "    tokens = nltk.word_tokenize(reviews)\n",
    "    stopwords_removed = [token.lower() for token in tokens if token.lower() not in stopwords_list]\n",
    "    return stopwords_removed   "
   ]
  },
  {
   "cell_type": "code",
   "execution_count": 27,
   "metadata": {},
   "outputs": [
    {
     "name": "stderr",
     "output_type": "stream",
     "text": [
      "/opt/anaconda3/lib/python3.7/site-packages/ipykernel_launcher.py:3: SettingWithCopyWarning: \n",
      "A value is trying to be set on a copy of a slice from a DataFrame.\n",
      "Try using .loc[row_indexer,col_indexer] = value instead\n",
      "\n",
      "See the caveats in the documentation: https://pandas.pydata.org/pandas-docs/stable/user_guide/indexing.html#returning-a-view-versus-a-copy\n",
      "  This is separate from the ipykernel package so we can avoid doing imports until\n",
      "/opt/anaconda3/lib/python3.7/site-packages/ipykernel_launcher.py:4: SettingWithCopyWarning: \n",
      "A value is trying to be set on a copy of a slice from a DataFrame.\n",
      "Try using .loc[row_indexer,col_indexer] = value instead\n",
      "\n",
      "See the caveats in the documentation: https://pandas.pydata.org/pandas-docs/stable/user_guide/indexing.html#returning-a-view-versus-a-copy\n",
      "  after removing the cwd from sys.path.\n",
      "/opt/anaconda3/lib/python3.7/site-packages/ipykernel_launcher.py:5: SettingWithCopyWarning: \n",
      "A value is trying to be set on a copy of a slice from a DataFrame.\n",
      "Try using .loc[row_indexer,col_indexer] = value instead\n",
      "\n",
      "See the caveats in the documentation: https://pandas.pydata.org/pandas-docs/stable/user_guide/indexing.html#returning-a-view-versus-a-copy\n",
      "  \"\"\"\n",
      "/opt/anaconda3/lib/python3.7/site-packages/ipykernel_launcher.py:6: SettingWithCopyWarning: \n",
      "A value is trying to be set on a copy of a slice from a DataFrame.\n",
      "Try using .loc[row_indexer,col_indexer] = value instead\n",
      "\n",
      "See the caveats in the documentation: https://pandas.pydata.org/pandas-docs/stable/user_guide/indexing.html#returning-a-view-versus-a-copy\n",
      "  \n"
     ]
    },
    {
     "name": "stdout",
     "output_type": "stream",
     "text": [
      "0:00:01.730808\n"
     ]
    },
    {
     "name": "stderr",
     "output_type": "stream",
     "text": [
      "/opt/anaconda3/lib/python3.7/site-packages/ipykernel_launcher.py:7: SettingWithCopyWarning: \n",
      "A value is trying to be set on a copy of a slice from a DataFrame.\n",
      "Try using .loc[row_indexer,col_indexer] = value instead\n",
      "\n",
      "See the caveats in the documentation: https://pandas.pydata.org/pandas-docs/stable/user_guide/indexing.html#returning-a-view-versus-a-copy\n",
      "  import sys\n"
     ]
    }
   ],
   "source": [
    "starttime = datetime.now()\n",
    "\n",
    "rating1['wordlist'] = rating1['content'].apply(lambda x: process_reviews(x))\n",
    "rating2['wordlist'] = rating2['content'].apply(lambda x: process_reviews(x))\n",
    "rating3['wordlist'] = rating3['content'].apply(lambda x: process_reviews(x))\n",
    "rating4['wordlist'] = rating4['content'].apply(lambda x: process_reviews(x))\n",
    "rating5['wordlist'] = rating5['content'].apply(lambda x: process_reviews(x))\n",
    "\n",
    "print(datetime.now() - starttime)"
   ]
  },
  {
   "cell_type": "code",
   "execution_count": 28,
   "metadata": {},
   "outputs": [],
   "source": [
    "lemmatizer = nltk.stem.WordNetLemmatizer()\n",
    "\n",
    "def lemmatize_text(text):\n",
    "    return [lemmatizer.lemmatize(w) for w in text]"
   ]
  },
  {
   "cell_type": "code",
   "execution_count": 29,
   "metadata": {},
   "outputs": [
    {
     "name": "stdout",
     "output_type": "stream",
     "text": [
      "0:00:01.741035\n"
     ]
    },
    {
     "name": "stderr",
     "output_type": "stream",
     "text": [
      "/opt/anaconda3/lib/python3.7/site-packages/ipykernel_launcher.py:3: SettingWithCopyWarning: \n",
      "A value is trying to be set on a copy of a slice from a DataFrame.\n",
      "Try using .loc[row_indexer,col_indexer] = value instead\n",
      "\n",
      "See the caveats in the documentation: https://pandas.pydata.org/pandas-docs/stable/user_guide/indexing.html#returning-a-view-versus-a-copy\n",
      "  This is separate from the ipykernel package so we can avoid doing imports until\n",
      "/opt/anaconda3/lib/python3.7/site-packages/ipykernel_launcher.py:4: SettingWithCopyWarning: \n",
      "A value is trying to be set on a copy of a slice from a DataFrame.\n",
      "Try using .loc[row_indexer,col_indexer] = value instead\n",
      "\n",
      "See the caveats in the documentation: https://pandas.pydata.org/pandas-docs/stable/user_guide/indexing.html#returning-a-view-versus-a-copy\n",
      "  after removing the cwd from sys.path.\n",
      "/opt/anaconda3/lib/python3.7/site-packages/ipykernel_launcher.py:5: SettingWithCopyWarning: \n",
      "A value is trying to be set on a copy of a slice from a DataFrame.\n",
      "Try using .loc[row_indexer,col_indexer] = value instead\n",
      "\n",
      "See the caveats in the documentation: https://pandas.pydata.org/pandas-docs/stable/user_guide/indexing.html#returning-a-view-versus-a-copy\n",
      "  \"\"\"\n",
      "/opt/anaconda3/lib/python3.7/site-packages/ipykernel_launcher.py:6: SettingWithCopyWarning: \n",
      "A value is trying to be set on a copy of a slice from a DataFrame.\n",
      "Try using .loc[row_indexer,col_indexer] = value instead\n",
      "\n",
      "See the caveats in the documentation: https://pandas.pydata.org/pandas-docs/stable/user_guide/indexing.html#returning-a-view-versus-a-copy\n",
      "  \n",
      "/opt/anaconda3/lib/python3.7/site-packages/ipykernel_launcher.py:7: SettingWithCopyWarning: \n",
      "A value is trying to be set on a copy of a slice from a DataFrame.\n",
      "Try using .loc[row_indexer,col_indexer] = value instead\n",
      "\n",
      "See the caveats in the documentation: https://pandas.pydata.org/pandas-docs/stable/user_guide/indexing.html#returning-a-view-versus-a-copy\n",
      "  import sys\n"
     ]
    }
   ],
   "source": [
    "starttime = datetime.now()\n",
    "\n",
    "rating1['wordlistlem'] = rating1['wordlist'].apply(lemmatize_text)\n",
    "rating2['wordlistlem'] = rating2['wordlist'].apply(lemmatize_text)\n",
    "rating3['wordlistlem'] = rating3['wordlist'].apply(lemmatize_text)\n",
    "rating4['wordlistlem'] = rating4['wordlist'].apply(lemmatize_text)\n",
    "rating5['wordlistlem'] = rating5['wordlist'].apply(lemmatize_text)\n",
    "\n",
    "print(datetime.now() - starttime)"
   ]
  },
  {
   "cell_type": "code",
   "execution_count": 31,
   "metadata": {},
   "outputs": [
    {
     "name": "stdout",
     "output_type": "stream",
     "text": [
      "0:00:00.008963\n",
      "------------\n",
      "31875\n",
      "8383\n",
      "10817\n",
      "9368\n",
      "24793\n"
     ]
    }
   ],
   "source": [
    "starttime = datetime.now()\n",
    "\n",
    "processedreviewrating1 = [item for elem in rating1['wordlistlem'] for item in elem]\n",
    "processedreviewrating2 = [item for elem in rating2['wordlistlem'] for item in elem]\n",
    "processedreviewrating3 = [item for elem in rating3['wordlistlem'] for item in elem]\n",
    "processedreviewrating4 = [item for elem in rating4['wordlistlem'] for item in elem]\n",
    "processedreviewrating5 = [item for elem in rating5['wordlistlem'] for item in elem]\n",
    "\n",
    "print(datetime.now() - starttime)\n",
    "print('------------')\n",
    "print(len(processedreviewrating1))\n",
    "print(len(processedreviewrating2))\n",
    "print(len(processedreviewrating3))\n",
    "print(len(processedreviewrating4))\n",
    "print(len(processedreviewrating5))"
   ]
  },
  {
   "cell_type": "code",
   "execution_count": 32,
   "metadata": {},
   "outputs": [
    {
     "data": {
      "text/plain": [
       "85236"
      ]
     },
     "execution_count": 32,
     "metadata": {},
     "output_type": "execute_result"
    }
   ],
   "source": [
    "totalprocessedreviews = processedreviewrating1 + processedreviewrating2 + processedreviewrating3 + processedreviewrating4 + processedreviewrating5\n",
    "len(totalprocessedreviews)"
   ]
  },
  {
   "cell_type": "code",
   "execution_count": 33,
   "metadata": {},
   "outputs": [
    {
     "data": {
      "text/plain": [
       "[('game', 4826),\n",
       " ('play', 1150),\n",
       " ('time', 832),\n",
       " ('get', 766),\n",
       " ('good', 760),\n",
       " ('love', 697),\n",
       " ('great', 696),\n",
       " ('like', 669),\n",
       " ('fun', 624),\n",
       " ('screen', 604),\n",
       " ('even', 510),\n",
       " ('issue', 437),\n",
       " ('fix', 423),\n",
       " ('would', 423),\n",
       " ('day', 417),\n",
       " ('really', 412),\n",
       " ('ragnarok', 412),\n",
       " ('mobile', 406),\n",
       " ('playing', 406),\n",
       " ('still', 388)]"
      ]
     },
     "execution_count": 33,
     "metadata": {},
     "output_type": "execute_result"
    }
   ],
   "source": [
    "review_freqdist = FreqDist(totalprocessedreviews)\n",
    "review_freqdist.most_common(20)"
   ]
  },
  {
   "cell_type": "code",
   "execution_count": 34,
   "metadata": {
    "scrolled": true
   },
   "outputs": [
    {
     "data": {
      "image/png": "[encoded data removed]",
      "text/plain": [
       "<Figure size 1296x1008 with 1 Axes>"
      ]
     },
     "metadata": {
      "needs_background": "light"
     },
     "output_type": "display_data"
    }
   ],
   "source": [
    "mostcommonwords20 = review_freqdist.most_common(20)\n",
    "\n",
    "yaxis20 = [val[1] for val in mostcommonwords20]\n",
    "\n",
    "xaxis20 = [val[0] for val in mostcommonwords20]\n",
    "\n",
    "plt.figure(figsize=(18, 14))\n",
    "ax = sns.barplot(xaxis20, yaxis20)\n",
    "plt.title('Top 20 Most Common Words in Ragnarok Mobile Reviews', fontsize = 25)\n",
    "plt.ylabel('Frequency of word', fontsize = 20)\n",
    "plt.xticks(rotation=45, fontsize = 15)\n",
    "\n",
    "for p in ax.patches:\n",
    "             ax.annotate(\"%.2f\" % (p.get_height()*100/sum(yaxis20))+'%', (p.get_x() + p.get_width() / 2., p.get_height()),\n",
    "                 ha='center', va='center', fontsize=13, color='black', xytext=(0, 20),\n",
    "                 textcoords='offset points')"
   ]
  },
  {
   "cell_type": "markdown",
   "metadata": {},
   "source": [
    "# Top 20 words per Rating [Lemmatized]"
   ]
  },
  {
   "cell_type": "code",
   "execution_count": 37,
   "metadata": {},
   "outputs": [],
   "source": [
    "uselesswords = ['game', 'play', 'get', 'still', 'would']\n",
    "processedreviewrating1[:] = [x for x in processedreviewrating1 if x not in uselesswords]"
   ]
  },
  {
   "cell_type": "code",
   "execution_count": 38,
   "metadata": {},
   "outputs": [
    {
     "data": {
      "text/plain": [
       "[('even', 340),\n",
       " ('time', 333),\n",
       " ('screen', 272),\n",
       " ('fix', 196),\n",
       " ('money', 185),\n",
       " ('player', 176),\n",
       " ('start', 175),\n",
       " ('app', 168),\n",
       " ('issue', 165),\n",
       " ('day', 164),\n",
       " ('download', 159),\n",
       " ('phone', 156),\n",
       " ('account', 151),\n",
       " ('cant', 148),\n",
       " ('like', 144),\n",
       " ('update', 144),\n",
       " ('keep', 137),\n",
       " ('open', 137),\n",
       " ('log', 132),\n",
       " ('support', 126)]"
      ]
     },
     "execution_count": 38,
     "metadata": {},
     "output_type": "execute_result"
    }
   ],
   "source": [
    "review1_freqdist = FreqDist(processedreviewrating1)\n",
    "review1_freqdist.most_common(20)"
   ]
  },
  {
   "cell_type": "code",
   "execution_count": 39,
   "metadata": {},
   "outputs": [],
   "source": [
    "processedreviewrating2[:] = [x for x in processedreviewrating2 if x not in uselesswords]"
   ]
  },
  {
   "cell_type": "code",
   "execution_count": 40,
   "metadata": {},
   "outputs": [
    {
     "data": {
      "text/plain": [
       "[('screen', 93),\n",
       " ('time', 90),\n",
       " ('issue', 64),\n",
       " ('fix', 59),\n",
       " ('start', 53),\n",
       " ('reinstall', 53),\n",
       " ('like', 52),\n",
       " ('day', 51),\n",
       " ('log', 50),\n",
       " ('every', 47),\n",
       " ('even', 46),\n",
       " ('really', 45),\n",
       " ('good', 44),\n",
       " ('playing', 43),\n",
       " ('work', 43),\n",
       " ('phone', 43),\n",
       " ('star', 42),\n",
       " ('login', 42),\n",
       " ('update', 40),\n",
       " ('make', 39)]"
      ]
     },
     "execution_count": 40,
     "metadata": {},
     "output_type": "execute_result"
    }
   ],
   "source": [
    "review2_freqdist = FreqDist(processedreviewrating2)\n",
    "review2_freqdist.most_common(20)"
   ]
  },
  {
   "cell_type": "code",
   "execution_count": 41,
   "metadata": {},
   "outputs": [],
   "source": [
    "processedreviewrating3[:] = [x for x in processedreviewrating3 if x not in uselesswords]"
   ]
  },
  {
   "cell_type": "code",
   "execution_count": 42,
   "metadata": {},
   "outputs": [
    {
     "data": {
      "text/plain": [
       "[('time', 124),\n",
       " ('screen', 111),\n",
       " ('like', 98),\n",
       " ('good', 86),\n",
       " ('star', 82),\n",
       " ('fix', 81),\n",
       " ('issue', 74),\n",
       " ('start', 73),\n",
       " ('every', 70),\n",
       " ('great', 65),\n",
       " ('reinstall', 64),\n",
       " ('playing', 63),\n",
       " ('day', 62),\n",
       " ('fun', 62),\n",
       " (\"'m\", 60),\n",
       " ('really', 59),\n",
       " ('need', 57),\n",
       " ('log', 56),\n",
       " ('login', 55),\n",
       " ('even', 52)]"
      ]
     },
     "execution_count": 42,
     "metadata": {},
     "output_type": "execute_result"
    }
   ],
   "source": [
    "review3_freqdist = FreqDist(processedreviewrating3)\n",
    "review3_freqdist.most_common(20)"
   ]
  },
  {
   "cell_type": "code",
   "execution_count": 43,
   "metadata": {},
   "outputs": [],
   "source": [
    "processedreviewrating4[:] = [x for x in processedreviewrating4 if x not in uselesswords]"
   ]
  },
  {
   "cell_type": "code",
   "execution_count": 44,
   "metadata": {},
   "outputs": [
    {
     "data": {
      "text/plain": [
       "[('good', 133),\n",
       " ('great', 113),\n",
       " ('fun', 97),\n",
       " ('like', 87),\n",
       " ('time', 85),\n",
       " ('love', 76),\n",
       " ('screen', 68),\n",
       " ('issue', 67),\n",
       " ('really', 55),\n",
       " ('star', 55),\n",
       " ('ragnarok', 54),\n",
       " ('mobile', 54),\n",
       " ('ro', 54),\n",
       " ('far', 52),\n",
       " ('playing', 49),\n",
       " ('pretty', 49),\n",
       " ('lot', 48),\n",
       " ('fix', 45),\n",
       " ('original', 45),\n",
       " ('one', 43)]"
      ]
     },
     "execution_count": 44,
     "metadata": {},
     "output_type": "execute_result"
    }
   ],
   "source": [
    "review4_freqdist = FreqDist(processedreviewrating4)\n",
    "review4_freqdist.most_common(20)"
   ]
  },
  {
   "cell_type": "code",
   "execution_count": 45,
   "metadata": {},
   "outputs": [],
   "source": [
    "processedreviewrating5[:] = [x for x in processedreviewrating5 if x not in uselesswords]"
   ]
  },
  {
   "cell_type": "code",
   "execution_count": 46,
   "metadata": {},
   "outputs": [
    {
     "data": {
      "text/plain": [
       "[('love', 471),\n",
       " ('great', 417),\n",
       " ('good', 410),\n",
       " ('fun', 368),\n",
       " ('like', 288),\n",
       " ('mobile', 258),\n",
       " ('ragnarok', 238),\n",
       " ('ro', 236),\n",
       " ('back', 216),\n",
       " ('best', 208),\n",
       " ('time', 200),\n",
       " ('original', 184),\n",
       " ('old', 170),\n",
       " ('really', 166),\n",
       " ('amazing', 164),\n",
       " ('far', 161),\n",
       " ('awesome', 158),\n",
       " ('played', 150),\n",
       " ('nice', 144),\n",
       " ('pc', 143)]"
      ]
     },
     "execution_count": 46,
     "metadata": {},
     "output_type": "execute_result"
    }
   ],
   "source": [
    "review5_freqdist = FreqDist(processedreviewrating5)\n",
    "review5_freqdist.most_common(20)"
   ]
  },
  {
   "cell_type": "markdown",
   "metadata": {},
   "source": [
    "# Bigrams/Trigrams"
   ]
  },
  {
   "cell_type": "code",
   "execution_count": 47,
   "metadata": {},
   "outputs": [],
   "source": [
    "def n_gramall(df_col, n=None):\n",
    "    # Build the vectorizer, specify inputted n-gram, remove stop words\n",
    "    vect = CountVectorizer(ngram_range = (n,n), stop_words = gramstopwords_list, min_df = 10)\n",
    "    # fit/transform vectorizer on specified column\n",
    "    vect_fit = vect.fit_transform(df_col.values.astype('U'))\n",
    "    # get all words and store in a list\n",
    "    word_list = vect.get_feature_names()\n",
    "    # get a count of all the words\n",
    "    count_list = vect_fit.toarray().sum(axis=0)\n",
    "    #create a dictionary of word to count pairings\n",
    "    count_dict = dict(zip(word_list, count_list))\n",
    "    # sort the dictionary to show highest counted words on top\n",
    "    sort_vocab = sorted(count_dict.items(), key=lambda x: x[1], reverse=True)\n",
    "    return sort_vocab"
   ]
  },
  {
   "cell_type": "code",
   "execution_count": 48,
   "metadata": {},
   "outputs": [],
   "source": [
    "gramstopwords_list = stopwords.words('english') + list(string.punctuation)\n",
    "gramstopwords_list += [\"''\", '\"\"', '...', '``']"
   ]
  },
  {
   "cell_type": "code",
   "execution_count": 50,
   "metadata": {},
   "outputs": [
    {
     "data": {
      "text/plain": [
       "[('great game', 285),\n",
       " ('love game', 211),\n",
       " ('play game', 182),\n",
       " ('good game', 176),\n",
       " ('please fix', 128),\n",
       " ('fun game', 115),\n",
       " ('pay win', 111),\n",
       " ('brings back', 109),\n",
       " ('ragnarok online', 97),\n",
       " ('uninstall reinstall', 85),\n",
       " ('reinstall game', 84),\n",
       " ('game play', 76),\n",
       " ('start game', 76),\n",
       " ('touch start', 74),\n",
       " ('playing game', 73),\n",
       " ('start screen', 73),\n",
       " ('every time', 71),\n",
       " ('mobile game', 70),\n",
       " ('game great', 68),\n",
       " ('login screen', 67)]"
      ]
     },
     "execution_count": 50,
     "metadata": {},
     "output_type": "execute_result"
    }
   ],
   "source": [
    "bigramall = n_gramall(df['content'], n=2)\n",
    "bigramall[:20]"
   ]
  },
  {
   "cell_type": "code",
   "execution_count": 51,
   "metadata": {},
   "outputs": [
    {
     "data": {
      "text/plain": [
       "[('best game ever', 36),\n",
       " ('brings back memories', 32),\n",
       " ('uninstall reinstall game', 28),\n",
       " ('touch start game', 27),\n",
       " ('game brings back', 25),\n",
       " ('stuck loading screen', 23),\n",
       " ('using google account', 23),\n",
       " ('stuck login screen', 22),\n",
       " ('original ragnarok online', 20),\n",
       " ('touch start screen', 20),\n",
       " ('cant even play', 16),\n",
       " ('cant get past', 16),\n",
       " ('brings back many', 15),\n",
       " ('past touch start', 15),\n",
       " ('screen please fix', 14),\n",
       " ('brings back old', 13),\n",
       " ('stuck title screen', 13),\n",
       " ('tried clearing cache', 13),\n",
       " ('able play game', 12),\n",
       " ('even play game', 12)]"
      ]
     },
     "execution_count": 51,
     "metadata": {},
     "output_type": "execute_result"
    }
   ],
   "source": [
    "trigramall = n_gramall(df['content'], n=3)\n",
    "trigramall[:20]"
   ]
  },
  {
   "cell_type": "code",
   "execution_count": null,
   "metadata": {},
   "outputs": [],
   "source": []
  }
 ],
 "metadata": {
  "kernelspec": {
   "display_name": "Python 3",
   "language": "python",
   "name": "python3"
  },
  "language_info": {
   "codemirror_mode": {
    "name": "ipython",
    "version": 3
   },
   "file_extension": ".py",
   "mimetype": "text/x-python",
   "name": "python",
   "nbconvert_exporter": "python",
   "pygments_lexer": "ipython3",
   "version": "3.7.6"
  }
 },
 "nbformat": 4,
 "nbformat_minor": 4
}
