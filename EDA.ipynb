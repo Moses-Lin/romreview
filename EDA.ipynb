{
 "cells": [
  {
   "cell_type": "markdown",
   "metadata": {},
   "source": [
    "# Importing necessary things"
   ]
  },
  {
   "cell_type": "code",
   "execution_count": 26,
   "metadata": {},
   "outputs": [],
   "source": [
    "import pandas as pd\n",
    "import numpy as np\n",
    "import sklearn\n",
    "\n",
    "import sklearn.metrics as metrics\n",
    "from sklearn.utils import resample\n",
    "from sklearn.preprocessing import MinMaxScaler\n",
    "from sklearn.model_selection import train_test_split\n",
    "from sklearn.preprocessing import LabelEncoder\n",
    "from sklearn.naive_bayes import MultinomialNB\n",
    "from sklearn.ensemble import RandomForestClassifier\n",
    "from sklearn.tree import DecisionTreeClassifier\n",
    "from sklearn.metrics import accuracy_score, confusion_matrix, f1_score, recall_score, precision_score\n",
    "from sklearn.feature_extraction.text import TfidfVectorizer, CountVectorizer\n",
    "from sklearn.svm import SVC\n",
    "\n",
    "import nltk\n",
    "from nltk.corpus import stopwords\n",
    "from nltk import word_tokenize, RegexpTokenizer, TweetTokenizer\n",
    "from nltk.stem import WordNetLemmatizer\n",
    "from nltk.stem import PorterStemmer\n",
    "from nltk.probability import FreqDist\n",
    "\n",
    "import matplotlib.pyplot as plt\n",
    "import seaborn as sns\n",
    "from matplotlib import cm\n",
    "\n",
    "from collections import Counter\n",
    "\n",
    "import re\n",
    "from datetime import datetime\n",
    "\n",
    "import pickle\n",
    "\n",
    "import string"
   ]
  },
  {
   "cell_type": "markdown",
   "metadata": {},
   "source": [
    "=================================================================================================================="
   ]
  },
  {
   "cell_type": "markdown",
   "metadata": {},
   "source": [
    "# EDA"
   ]
  },
  {
   "cell_type": "code",
   "execution_count": 2,
   "metadata": {},
   "outputs": [],
   "source": [
    "# Retrieving the list.\n",
    "\n",
    "import bz2\n",
    "\n",
    "def decompress_pickle(file):\n",
    "    data = bz2.BZ2File(file, 'rb')\n",
    "    data = pickle.load(data)\n",
    "    return data"
   ]
  },
  {
   "cell_type": "code",
   "execution_count": 3,
   "metadata": {},
   "outputs": [
    {
     "data": {
      "text/plain": [
       "6470"
      ]
     },
     "execution_count": 3,
     "metadata": {},
     "output_type": "execute_result"
    }
   ],
   "source": [
    "reviewlist = decompress_pickle('compressedlistreview.pbz2')\n",
    "len(reviewlist)"
   ]
  },
  {
   "cell_type": "code",
   "execution_count": 4,
   "metadata": {
    "scrolled": true
   },
   "outputs": [
    {
     "data": {
      "text/html": [
       "<div>\n",
       "<style scoped>\n",
       "    .dataframe tbody tr th:only-of-type {\n",
       "        vertical-align: middle;\n",
       "    }\n",
       "\n",
       "    .dataframe tbody tr th {\n",
       "        vertical-align: top;\n",
       "    }\n",
       "\n",
       "    .dataframe thead th {\n",
       "        text-align: right;\n",
       "    }\n",
       "</style>\n",
       "<table border=\"1\" class=\"dataframe\">\n",
       "  <thead>\n",
       "    <tr style=\"text-align: right;\">\n",
       "      <th></th>\n",
       "      <th>content</th>\n",
       "      <th>score</th>\n",
       "      <th>thumbsUpCount</th>\n",
       "      <th>reviewCreatedVersion</th>\n",
       "      <th>at</th>\n",
       "      <th>replyContent</th>\n",
       "      <th>appId</th>\n",
       "    </tr>\n",
       "  </thead>\n",
       "  <tbody>\n",
       "    <tr>\n",
       "      <th>0</th>\n",
       "      <td>pretty good</td>\n",
       "      <td>5</td>\n",
       "      <td>0</td>\n",
       "      <td>1.0.1</td>\n",
       "      <td>2019-01-15 22:34:05</td>\n",
       "      <td>None</td>\n",
       "      <td>com.gravity.romNAg</td>\n",
       "    </tr>\n",
       "    <tr>\n",
       "      <th>1</th>\n",
       "      <td>oh how I have missed this game</td>\n",
       "      <td>5</td>\n",
       "      <td>0</td>\n",
       "      <td>1.0.1</td>\n",
       "      <td>2019-01-12 09:36:02</td>\n",
       "      <td>None</td>\n",
       "      <td>com.gravity.romNAg</td>\n",
       "    </tr>\n",
       "    <tr>\n",
       "      <th>2</th>\n",
       "      <td>Just like the original Ragnarok Online on PC. ...</td>\n",
       "      <td>5</td>\n",
       "      <td>1</td>\n",
       "      <td>1.0.5</td>\n",
       "      <td>2019-08-12 02:33:52</td>\n",
       "      <td>None</td>\n",
       "      <td>com.gravity.romNAg</td>\n",
       "    </tr>\n",
       "    <tr>\n",
       "      <th>3</th>\n",
       "      <td>Good so far</td>\n",
       "      <td>5</td>\n",
       "      <td>0</td>\n",
       "      <td>1.2.2</td>\n",
       "      <td>2020-08-12 19:28:59</td>\n",
       "      <td>None</td>\n",
       "      <td>com.gravity.romNAg</td>\n",
       "    </tr>\n",
       "    <tr>\n",
       "      <th>4</th>\n",
       "      <td>love it</td>\n",
       "      <td>5</td>\n",
       "      <td>0</td>\n",
       "      <td>1.0.1</td>\n",
       "      <td>2019-03-14 17:33:28</td>\n",
       "      <td>None</td>\n",
       "      <td>com.gravity.romNAg</td>\n",
       "    </tr>\n",
       "    <tr>\n",
       "      <th>...</th>\n",
       "      <td>...</td>\n",
       "      <td>...</td>\n",
       "      <td>...</td>\n",
       "      <td>...</td>\n",
       "      <td>...</td>\n",
       "      <td>...</td>\n",
       "      <td>...</td>\n",
       "    </tr>\n",
       "    <tr>\n",
       "      <th>6465</th>\n",
       "      <td>Umm hellooo can I please atleast try the game ...</td>\n",
       "      <td>1</td>\n",
       "      <td>1</td>\n",
       "      <td>1.0.1</td>\n",
       "      <td>2020-01-30 17:26:22</td>\n",
       "      <td>None</td>\n",
       "      <td>com.gravity.romNAg</td>\n",
       "    </tr>\n",
       "    <tr>\n",
       "      <th>6466</th>\n",
       "      <td>This update is awful for emulators. What happe...</td>\n",
       "      <td>1</td>\n",
       "      <td>7</td>\n",
       "      <td>1.2.6</td>\n",
       "      <td>2020-11-28 01:03:21</td>\n",
       "      <td>None</td>\n",
       "      <td>com.gravity.romNAg</td>\n",
       "    </tr>\n",
       "    <tr>\n",
       "      <th>6467</th>\n",
       "      <td>Awful. With the recent update, I am unable to ...</td>\n",
       "      <td>1</td>\n",
       "      <td>2</td>\n",
       "      <td>1.2.6</td>\n",
       "      <td>2020-12-01 03:13:58</td>\n",
       "      <td>None</td>\n",
       "      <td>com.gravity.romNAg</td>\n",
       "    </tr>\n",
       "    <tr>\n",
       "      <th>6468</th>\n",
       "      <td>This new patch update made the game so laggy, ...</td>\n",
       "      <td>1</td>\n",
       "      <td>2</td>\n",
       "      <td>1.2.6</td>\n",
       "      <td>2020-12-08 16:22:50</td>\n",
       "      <td>None</td>\n",
       "      <td>com.gravity.romNAg</td>\n",
       "    </tr>\n",
       "    <tr>\n",
       "      <th>6469</th>\n",
       "      <td>Cashgrab</td>\n",
       "      <td>1</td>\n",
       "      <td>0</td>\n",
       "      <td>None</td>\n",
       "      <td>2020-12-11 19:12:59</td>\n",
       "      <td>None</td>\n",
       "      <td>com.gravity.romNAg</td>\n",
       "    </tr>\n",
       "  </tbody>\n",
       "</table>\n",
       "<p>6470 rows × 7 columns</p>\n",
       "</div>"
      ],
      "text/plain": [
       "                                                content score thumbsUpCount  \\\n",
       "0                                           pretty good     5             0   \n",
       "1                        oh how I have missed this game     5             0   \n",
       "2     Just like the original Ragnarok Online on PC. ...     5             1   \n",
       "3                                           Good so far     5             0   \n",
       "4                                               love it     5             0   \n",
       "...                                                 ...   ...           ...   \n",
       "6465  Umm hellooo can I please atleast try the game ...     1             1   \n",
       "6466  This update is awful for emulators. What happe...     1             7   \n",
       "6467  Awful. With the recent update, I am unable to ...     1             2   \n",
       "6468  This new patch update made the game so laggy, ...     1             2   \n",
       "6469                                           Cashgrab     1             0   \n",
       "\n",
       "     reviewCreatedVersion                   at replyContent  \\\n",
       "0                   1.0.1  2019-01-15 22:34:05         None   \n",
       "1                   1.0.1  2019-01-12 09:36:02         None   \n",
       "2                   1.0.5  2019-08-12 02:33:52         None   \n",
       "3                   1.2.2  2020-08-12 19:28:59         None   \n",
       "4                   1.0.1  2019-03-14 17:33:28         None   \n",
       "...                   ...                  ...          ...   \n",
       "6465                1.0.1  2020-01-30 17:26:22         None   \n",
       "6466                1.2.6  2020-11-28 01:03:21         None   \n",
       "6467                1.2.6  2020-12-01 03:13:58         None   \n",
       "6468                1.2.6  2020-12-08 16:22:50         None   \n",
       "6469                 None  2020-12-11 19:12:59         None   \n",
       "\n",
       "                   appId  \n",
       "0     com.gravity.romNAg  \n",
       "1     com.gravity.romNAg  \n",
       "2     com.gravity.romNAg  \n",
       "3     com.gravity.romNAg  \n",
       "4     com.gravity.romNAg  \n",
       "...                  ...  \n",
       "6465  com.gravity.romNAg  \n",
       "6466  com.gravity.romNAg  \n",
       "6467  com.gravity.romNAg  \n",
       "6468  com.gravity.romNAg  \n",
       "6469  com.gravity.romNAg  \n",
       "\n",
       "[6470 rows x 7 columns]"
      ]
     },
     "execution_count": 4,
     "metadata": {},
     "output_type": "execute_result"
    }
   ],
   "source": [
    "df = pd.DataFrame(reviewlist)\n",
    "#df"
   ]
  },
  {
   "cell_type": "code",
   "execution_count": 16,
   "metadata": {
    "scrolled": false
   },
   "outputs": [
    {
     "data": {
      "text/plain": [
       "content                 object\n",
       "score                   object\n",
       "thumbsUpCount           object\n",
       "reviewCreatedVersion    object\n",
       "at                      object\n",
       "replyContent            object\n",
       "appId                   object\n",
       "dtype: object"
      ]
     },
     "execution_count": 16,
     "metadata": {},
     "output_type": "execute_result"
    }
   ],
   "source": [
    "#Changing datatype to correct datatype\n",
    "\n",
    "df.dtypes"
   ]
  },
  {
   "cell_type": "code",
   "execution_count": 21,
   "metadata": {},
   "outputs": [
    {
     "data": {
      "text/plain": [
       "content                 string\n",
       "score                    int64\n",
       "thumbsUpCount            int64\n",
       "reviewCreatedVersion    string\n",
       "at                      string\n",
       "replyContent            string\n",
       "appId                   string\n",
       "dtype: object"
      ]
     },
     "execution_count": 21,
     "metadata": {},
     "output_type": "execute_result"
    }
   ],
   "source": [
    "df['content'] = df['content'].astype('string')\n",
    "df['score'] = df['score'].astype('int')\n",
    "df['thumbsUpCount'] = df['thumbsUpCount'].astype('int')\n",
    "df['reviewCreatedVersion'] = df['reviewCreatedVersion'].astype('string')\n",
    "df['at'] = df['at'].astype('string')\n",
    "df['replyContent'] = df['replyContent'].astype('string')\n",
    "df['appId'] = df['appId'].astype('string')\n",
    "df.dtypes"
   ]
  },
  {
   "cell_type": "code",
   "execution_count": 22,
   "metadata": {
    "scrolled": true
   },
   "outputs": [
    {
     "data": {
      "text/plain": [
       "content                 0\n",
       "score                   0\n",
       "thumbsUpCount           0\n",
       "reviewCreatedVersion    0\n",
       "at                      0\n",
       "replyContent            0\n",
       "appId                   0\n",
       "dtype: int64"
      ]
     },
     "execution_count": 22,
     "metadata": {},
     "output_type": "execute_result"
    }
   ],
   "source": [
    "# checking for null values.\n",
    "\n",
    "df.isna().sum()"
   ]
  },
  {
   "cell_type": "code",
   "execution_count": 23,
   "metadata": {
    "scrolled": false
   },
   "outputs": [
    {
     "data": {
      "text/plain": [
       "5    3082\n",
       "1    1767\n",
       "4     649\n",
       "3     565\n",
       "2     407\n",
       "Name: score, dtype: int64"
      ]
     },
     "execution_count": 23,
     "metadata": {},
     "output_type": "execute_result"
    }
   ],
   "source": [
    "df['score'].value_counts()"
   ]
  },
  {
   "cell_type": "code",
   "execution_count": 28,
   "metadata": {},
   "outputs": [
    {
     "data": {
      "text/plain": [
       "[(5, 3082), (1, 1767), (4, 649), (3, 565), (2, 407)]"
      ]
     },
     "execution_count": 28,
     "metadata": {},
     "output_type": "execute_result"
    }
   ],
   "source": [
    "scorecount = Counter(df['score'])\n",
    "scorecount.most_common(5)"
   ]
  },
  {
   "cell_type": "code",
   "execution_count": 30,
   "metadata": {},
   "outputs": [
    {
     "data": {
      "image/png": "[encoded data removed]",
      "text/plain": [
       "<Figure size 720x720 with 1 Axes>"
      ]
     },
     "metadata": {
      "needs_background": "light"
     },
     "output_type": "display_data"
    }
   ],
   "source": [
    "# Plotting distribution of ratings out of all the reviews\n",
    "# Interestingly, it is very similar to overall rating distribution across all top mobile games.\n",
    "\n",
    "\n",
    "xaxis = [val[1] for val in scorecount.most_common(5)]\n",
    "yaxis = [val[0] for val in scorecount.most_common(5)]\n",
    "\n",
    "plt.figure(figsize=(10,10))\n",
    "ax = sns.barplot(xaxis, yaxis)\n",
    "\n",
    "plt.title('% Rating for Ragnarok Online Mobile')\n",
    "plt.ylabel('Count', fontsize = 20)\n",
    "plt.xlabel('Rating', fontsize = 20)\n",
    "\n",
    "\n",
    "for p in ax.patches:\n",
    "             ax.annotate(\"%.2f\" % (p.get_height()*100/sum(yaxis))+'%', (p.get_x() + p.get_width() / 2., p.get_height()),\n",
    "                 ha='center', va='center', fontsize=15, color='black', xytext=(0, 20),\n",
    "                 textcoords='offset points')"
   ]
  },
  {
   "cell_type": "code",
   "execution_count": null,
   "metadata": {
    "scrolled": false
   },
   "outputs": [],
   "source": [
    "df['thumbsUpCount'].value_counts()"
   ]
  },
  {
   "cell_type": "code",
   "execution_count": null,
   "metadata": {},
   "outputs": [],
   "source": [
    "df['reviewCreatedVersion'].value_counts()"
   ]
  },
  {
   "cell_type": "markdown",
   "metadata": {},
   "source": [
    "=================================================================================================================="
   ]
  },
  {
   "cell_type": "markdown",
   "metadata": {},
   "source": [
    "# Tokenizing"
   ]
  },
  {
   "cell_type": "code",
   "execution_count": null,
   "metadata": {},
   "outputs": [],
   "source": [
    "# Separating reviews into their scores.\n",
    "\n",
    "rating1 = df.loc[df['score'] == 1]\n",
    "rating2 = df.loc[df['score'] == 2]\n",
    "rating3 = df.loc[df['score'] == 3]\n",
    "rating4 = df.loc[df['score'] == 4]\n",
    "rating5 = df.loc[df['score'] == 5]"
   ]
  },
  {
   "cell_type": "code",
   "execution_count": null,
   "metadata": {},
   "outputs": [],
   "source": [
    "# Remove common words\n",
    "stopwords_list = stopwords.words('english') + list(string.punctuation)\n",
    "# Remove more punctuation\n",
    "stopwords_list += [\"''\", '\"\"', '...', '``']\n",
    "# Remove random numerals\n",
    "stopwords_list += ['0', '1', '2', '3', '4', '5', '6', '7', '8', '9']\n",
    "# Remove contractions\n",
    "stopwords_list += [\"'d\", \"'ve\", \"ca\", \"n't\",  \"'t\", \"'re\", \"'ll\", \"'s\"]"
   ]
  },
  {
   "cell_type": "code",
   "execution_count": null,
   "metadata": {},
   "outputs": [],
   "source": [
    "def process_reviews(reviews):\n",
    "    tokens = nltk.word_tokenize(reviews)\n",
    "    stopwords_removed = [token.lower() for token in tokens if token.lower() not in stopwords_list]\n",
    "    return stopwords_removed   "
   ]
  },
  {
   "cell_type": "code",
   "execution_count": null,
   "metadata": {
    "scrolled": true
   },
   "outputs": [],
   "source": [
    "starttime = datetime.now()\n",
    "\n",
    "rating1['wordlist'] = rating1['content'].apply(lambda x: process_reviews(x))\n",
    "rating2['wordlist'] = rating2['content'].apply(lambda x: process_reviews(x))\n",
    "rating3['wordlist'] = rating3['content'].apply(lambda x: process_reviews(x))\n",
    "rating4['wordlist'] = rating4['content'].apply(lambda x: process_reviews(x))\n",
    "rating5['wordlist'] = rating5['content'].apply(lambda x: process_reviews(x))\n",
    "\n",
    "print(datetime.now() - starttime)"
   ]
  },
  {
   "cell_type": "code",
   "execution_count": null,
   "metadata": {},
   "outputs": [],
   "source": [
    "lemmatizer = nltk.stem.WordNetLemmatizer()\n",
    "\n",
    "def lemmatize_text(text):\n",
    "    return [lemmatizer.lemmatize(w) for w in text]"
   ]
  },
  {
   "cell_type": "code",
   "execution_count": null,
   "metadata": {
    "scrolled": false
   },
   "outputs": [],
   "source": [
    "starttime = datetime.now()\n",
    "\n",
    "rating1['wordlistlem'] = rating1['wordlist'].apply(lemmatize_text)\n",
    "rating2['wordlistlem'] = rating2['wordlist'].apply(lemmatize_text)\n",
    "rating3['wordlistlem'] = rating3['wordlist'].apply(lemmatize_text)\n",
    "rating4['wordlistlem'] = rating4['wordlist'].apply(lemmatize_text)\n",
    "rating5['wordlistlem'] = rating5['wordlist'].apply(lemmatize_text)\n",
    "\n",
    "print(datetime.now() - starttime)"
   ]
  },
  {
   "cell_type": "markdown",
   "metadata": {},
   "source": [
    "# Saving Dataframes"
   ]
  },
  {
   "cell_type": "code",
   "execution_count": null,
   "metadata": {},
   "outputs": [],
   "source": [
    "# Saving tokens into a sub-folder in for tidiness.\n",
    "\n",
    "from pathlib import Path\n",
    "\n",
    "root = Path('.')\n",
    "\n",
    "my_path1 = root / \"tokens\" / \"processedreviewrating1.pbz2\"\n",
    "my_path2 = root / \"tokens\" / \"processedreviewrating2.pbz2\"\n",
    "my_path3 = root / \"tokens\" / \"processedreviewrating3.pbz2\"\n",
    "my_path4 = root / \"tokens\" / \"processedreviewrating4.pbz2\"\n",
    "my_path5 = root / \"tokens\" / \"processedreviewrating5.pbz2\"\n",
    "\n",
    "import bz2\n",
    "\n",
    "def compressed_pickle(path, data):\n",
    "    with bz2.BZ2File(path, 'w') as f:\n",
    "        pickle.dump(data, f)"
   ]
  },
  {
   "cell_type": "code",
   "execution_count": null,
   "metadata": {},
   "outputs": [],
   "source": [
    "compressed_pickle(my_path1, rating1)\n",
    "compressed_pickle(my_path2, rating2)\n",
    "compressed_pickle(my_path3, rating3)\n",
    "compressed_pickle(my_path4, rating4)\n",
    "compressed_pickle(my_path5, rating5)"
   ]
  },
  {
   "cell_type": "code",
   "execution_count": null,
   "metadata": {},
   "outputs": [],
   "source": [
    "# Retrieve our pickled dataframes\n",
    "\n",
    "rating1 = decompress_pickle(my_path1)\n",
    "rating2 = decompress_pickle(my_path2)\n",
    "rating3 = decompress_pickle(my_path3)\n",
    "rating4 = decompress_pickle(my_path4)\n",
    "rating5 = decompress_pickle(my_path5)"
   ]
  },
  {
   "cell_type": "markdown",
   "metadata": {},
   "source": [
    "# Word Frequency in all reviews"
   ]
  },
  {
   "cell_type": "code",
   "execution_count": null,
   "metadata": {},
   "outputs": [],
   "source": [
    "starttime = datetime.now()\n",
    "\n",
    "processedreviewrating1 = [item for elem in rating1['wordlistlem'] for item in elem]\n",
    "processedreviewrating2 = [item for elem in rating2['wordlistlem'] for item in elem]\n",
    "processedreviewrating3 = [item for elem in rating3['wordlistlem'] for item in elem]\n",
    "processedreviewrating4 = [item for elem in rating4['wordlistlem'] for item in elem]\n",
    "processedreviewrating5 = [item for elem in rating5['wordlistlem'] for item in elem]\n",
    "\n",
    "print(datetime.now() - starttime)\n",
    "print('------------')\n",
    "print(len(processedreviewrating1))\n",
    "print(len(processedreviewrating2))\n",
    "print(len(processedreviewrating3))\n",
    "print(len(processedreviewrating4))\n",
    "print(len(processedreviewrating5))"
   ]
  },
  {
   "cell_type": "code",
   "execution_count": null,
   "metadata": {},
   "outputs": [],
   "source": [
    "totalprocessedreviews = processedreviewrating1 + processedreviewrating2 + processedreviewrating3 + processedreviewrating4 + processedreviewrating5\n",
    "len(totalprocessedreviews)"
   ]
  },
  {
   "cell_type": "code",
   "execution_count": null,
   "metadata": {},
   "outputs": [],
   "source": [
    "review_freqdist = FreqDist(totalprocessedreviews)\n",
    "review_freqdist.most_common(20)"
   ]
  },
  {
   "cell_type": "code",
   "execution_count": null,
   "metadata": {
    "scrolled": true
   },
   "outputs": [],
   "source": [
    "mostcommonwords20 = review_freqdist.most_common(20)\n",
    "\n",
    "yaxis20 = [val[1] for val in mostcommonwords20]\n",
    "\n",
    "xaxis20 = [val[0] for val in mostcommonwords20]\n",
    "\n",
    "plt.figure(figsize=(18, 14))\n",
    "ax = sns.barplot(xaxis20, yaxis20)\n",
    "plt.title('Top 20 Most Common Words in Ragnarok Mobile Reviews', fontsize = 25)\n",
    "plt.ylabel('Frequency of word', fontsize = 20)\n",
    "plt.xticks(rotation=45, fontsize = 15)\n",
    "\n",
    "for p in ax.patches:\n",
    "             ax.annotate(\"%.2f\" % (p.get_height()*100/sum(yaxis20))+'%', (p.get_x() + p.get_width() / 2., p.get_height()),\n",
    "                 ha='center', va='center', fontsize=13, color='black', xytext=(0, 20),\n",
    "                 textcoords='offset points')"
   ]
  },
  {
   "cell_type": "markdown",
   "metadata": {},
   "source": [
    "# Top 20 words per Rating [Lemmatized]"
   ]
  },
  {
   "cell_type": "code",
   "execution_count": null,
   "metadata": {},
   "outputs": [],
   "source": [
    "uselesswords = ['game', 'play', 'get', 'still', 'would']\n",
    "processedreviewrating1[:] = [x for x in processedreviewrating1 if x not in uselesswords]"
   ]
  },
  {
   "cell_type": "code",
   "execution_count": null,
   "metadata": {
    "scrolled": true
   },
   "outputs": [],
   "source": [
    "review1_freqdist = FreqDist(processedreviewrating1)\n",
    "review1_freqdist.most_common(20)"
   ]
  },
  {
   "cell_type": "code",
   "execution_count": null,
   "metadata": {},
   "outputs": [],
   "source": [
    "mostcommonwords201 = review1_freqdist.most_common(20)\n",
    "\n",
    "yaxis201 = [val[1] for val in mostcommonwords201]\n",
    "\n",
    "xaxis201 = [val[0] for val in mostcommonwords201]\n",
    "\n",
    "plt.figure(figsize=(18, 14))\n",
    "ax = sns.barplot(xaxis201, yaxis201)\n",
    "plt.title('Top 20 Most Common Words in Ragnarok Mobile Reviews for Rating 1', fontsize = 25)\n",
    "plt.ylabel('Frequency of word', fontsize = 20)\n",
    "plt.xticks(rotation=45, fontsize = 15)\n",
    "\n",
    "for p in ax.patches:\n",
    "             ax.annotate(\"%.2f\" % (p.get_height()*100/sum(yaxis201))+'%', (p.get_x() + p.get_width() / 2., p.get_height()),\n",
    "                 ha='center', va='center', fontsize=13, color='black', xytext=(0, 20),\n",
    "                 textcoords='offset points')"
   ]
  },
  {
   "cell_type": "code",
   "execution_count": null,
   "metadata": {},
   "outputs": [],
   "source": [
    "processedreviewrating2[:] = [x for x in processedreviewrating2 if x not in uselesswords]"
   ]
  },
  {
   "cell_type": "code",
   "execution_count": null,
   "metadata": {
    "scrolled": true
   },
   "outputs": [],
   "source": [
    "review2_freqdist = FreqDist(processedreviewrating2)\n",
    "review2_freqdist.most_common(20)"
   ]
  },
  {
   "cell_type": "code",
   "execution_count": null,
   "metadata": {},
   "outputs": [],
   "source": [
    "mostcommonwords202 = review2_freqdist.most_common(20)\n",
    "\n",
    "yaxis202 = [val[1] for val in mostcommonwords202]\n",
    "\n",
    "xaxis202 = [val[0] for val in mostcommonwords202]\n",
    "\n",
    "plt.figure(figsize=(18, 14))\n",
    "ax = sns.barplot(xaxis202, yaxis202)\n",
    "plt.title('Top 20 Most Common Words in Ragnarok Mobile Reviews for Rating 2', fontsize = 25)\n",
    "plt.ylabel('Frequency of word', fontsize = 20)\n",
    "plt.xticks(rotation=45, fontsize = 15)\n",
    "\n",
    "for p in ax.patches:\n",
    "             ax.annotate(\"%.2f\" % (p.get_height()*100/sum(yaxis202))+'%', (p.get_x() + p.get_width() / 2., p.get_height()),\n",
    "                 ha='center', va='center', fontsize=13, color='black', xytext=(0, 20),\n",
    "                 textcoords='offset points')"
   ]
  },
  {
   "cell_type": "code",
   "execution_count": null,
   "metadata": {},
   "outputs": [],
   "source": [
    "processedreviewrating3[:] = [x for x in processedreviewrating3 if x not in uselesswords]"
   ]
  },
  {
   "cell_type": "code",
   "execution_count": null,
   "metadata": {
    "scrolled": true
   },
   "outputs": [],
   "source": [
    "review3_freqdist = FreqDist(processedreviewrating3)\n",
    "review3_freqdist.most_common(20)"
   ]
  },
  {
   "cell_type": "code",
   "execution_count": null,
   "metadata": {},
   "outputs": [],
   "source": [
    "mostcommonwords203 = review3_freqdist.most_common(20)\n",
    "\n",
    "yaxis203 = [val[1] for val in mostcommonwords203]\n",
    "\n",
    "xaxis203 = [val[0] for val in mostcommonwords203]\n",
    "\n",
    "plt.figure(figsize=(18, 14))\n",
    "ax = sns.barplot(xaxis203, yaxis203)\n",
    "plt.title('Top 20 Most Common Words in Ragnarok Mobile Reviews for Rating 3', fontsize = 25)\n",
    "plt.ylabel('Frequency of word', fontsize = 20)\n",
    "plt.xticks(rotation=45, fontsize = 15)\n",
    "\n",
    "for p in ax.patches:\n",
    "             ax.annotate(\"%.2f\" % (p.get_height()*100/sum(yaxis203))+'%', (p.get_x() + p.get_width() / 2., p.get_height()),\n",
    "                 ha='center', va='center', fontsize=13, color='black', xytext=(0, 20),\n",
    "                 textcoords='offset points')"
   ]
  },
  {
   "cell_type": "code",
   "execution_count": null,
   "metadata": {},
   "outputs": [],
   "source": [
    "processedreviewrating4[:] = [x for x in processedreviewrating4 if x not in uselesswords]"
   ]
  },
  {
   "cell_type": "code",
   "execution_count": null,
   "metadata": {
    "scrolled": true
   },
   "outputs": [],
   "source": [
    "review4_freqdist = FreqDist(processedreviewrating4)\n",
    "review4_freqdist.most_common(20)"
   ]
  },
  {
   "cell_type": "code",
   "execution_count": null,
   "metadata": {},
   "outputs": [],
   "source": [
    "mostcommonwords204 = review4_freqdist.most_common(20)\n",
    "\n",
    "yaxis204 = [val[1] for val in mostcommonwords204]\n",
    "\n",
    "xaxis204 = [val[0] for val in mostcommonwords204]\n",
    "\n",
    "plt.figure(figsize=(18, 14))\n",
    "ax = sns.barplot(xaxis204, yaxis204)\n",
    "plt.title('Top 20 Most Common Words in Ragnarok Mobile Reviews for Rating 4', fontsize = 25)\n",
    "plt.ylabel('Frequency of word', fontsize = 20)\n",
    "plt.xticks(rotation=45, fontsize = 15)\n",
    "\n",
    "for p in ax.patches:\n",
    "             ax.annotate(\"%.2f\" % (p.get_height()*100/sum(yaxis204))+'%', (p.get_x() + p.get_width() / 2., p.get_height()),\n",
    "                 ha='center', va='center', fontsize=13, color='black', xytext=(0, 20),\n",
    "                 textcoords='offset points')"
   ]
  },
  {
   "cell_type": "code",
   "execution_count": null,
   "metadata": {},
   "outputs": [],
   "source": [
    "processedreviewrating5[:] = [x for x in processedreviewrating5 if x not in uselesswords]"
   ]
  },
  {
   "cell_type": "code",
   "execution_count": null,
   "metadata": {
    "scrolled": true
   },
   "outputs": [],
   "source": [
    "review5_freqdist = FreqDist(processedreviewrating5)\n",
    "review5_freqdist.most_common(20)"
   ]
  },
  {
   "cell_type": "code",
   "execution_count": null,
   "metadata": {},
   "outputs": [],
   "source": [
    "mostcommonwords205 = review5_freqdist.most_common(20)\n",
    "\n",
    "yaxis205 = [val[1] for val in mostcommonwords205]\n",
    "\n",
    "xaxis205 = [val[0] for val in mostcommonwords205]\n",
    "\n",
    "plt.figure(figsize=(18, 14))\n",
    "ax = sns.barplot(xaxis205, yaxis205)\n",
    "plt.title('Top 20 Most Common Words in Ragnarok Mobile Reviews for Rating 5', fontsize = 25)\n",
    "plt.ylabel('Frequency of word', fontsize = 20)\n",
    "plt.xticks(rotation=45, fontsize = 15)\n",
    "\n",
    "for p in ax.patches:\n",
    "             ax.annotate(\"%.2f\" % (p.get_height()*100/sum(yaxis205))+'%', (p.get_x() + p.get_width() / 2., p.get_height()),\n",
    "                 ha='center', va='center', fontsize=13, color='black', xytext=(0, 20),\n",
    "                 textcoords='offset points')"
   ]
  },
  {
   "cell_type": "markdown",
   "metadata": {},
   "source": [
    "# Bigrams/Trigrams overall"
   ]
  },
  {
   "cell_type": "code",
   "execution_count": null,
   "metadata": {},
   "outputs": [],
   "source": [
    "def n_gramall(df_col, n=None):\n",
    "    # Build the vectorizer, specify inputted n-gram, remove stop words\n",
    "    vect = CountVectorizer(ngram_range = (n,n), stop_words = gramstopwords_list, min_df = 10)\n",
    "    # fit/transform vectorizer on specified column\n",
    "    vect_fit = vect.fit_transform(df_col.values.astype('U'))\n",
    "    # get all words and store in a list\n",
    "    word_list = vect.get_feature_names()\n",
    "    # get a count of all the words\n",
    "    count_list = vect_fit.toarray().sum(axis=0)\n",
    "    #create a dictionary of word to count pairings\n",
    "    count_dict = dict(zip(word_list, count_list))\n",
    "    # sort the dictionary to show highest counted words on top\n",
    "    sort_vocab = sorted(count_dict.items(), key=lambda x: x[1], reverse=True)\n",
    "    return sort_vocab"
   ]
  },
  {
   "cell_type": "code",
   "execution_count": null,
   "metadata": {},
   "outputs": [],
   "source": [
    "gramstopwords_list = stopwords.words('english') + list(string.punctuation)\n",
    "gramstopwords_list += [\"''\", '\"\"', '...', '``']"
   ]
  },
  {
   "cell_type": "code",
   "execution_count": null,
   "metadata": {
    "scrolled": true
   },
   "outputs": [],
   "source": [
    "bigramall = n_gramall(df['content'], n=2)\n",
    "bigramall[:20]"
   ]
  },
  {
   "cell_type": "code",
   "execution_count": null,
   "metadata": {},
   "outputs": [],
   "source": [
    "mostcommonwords20bigram = bigramall[:20]\n",
    "\n",
    "yaxis20bigram = [val[1] for val in mostcommonwords20bigram]\n",
    "\n",
    "xaxis20biram = [val[0] for val in mostcommonwords20bigram]\n",
    "\n",
    "plt.figure(figsize=(18, 14))\n",
    "ax = sns.barplot(xaxis20biram, yaxis20bigram, palette =\"rocket_r\")\n",
    "plt.title('Top 20 Most Bigrams in Ragnarok Mobile Reviews Overall', fontsize = 25)\n",
    "plt.ylabel('Frequency of word', fontsize = 20)\n",
    "plt.xticks(rotation=45, fontsize = 15, ha='right')\n",
    "\n",
    "\n",
    "for p in ax.patches:\n",
    "             ax.annotate(\"%.2f\" % (p.get_height()*100/sum(yaxis20bigram))+'%', (p.get_x() + p.get_width() / 2., p.get_height()),\n",
    "                 ha='center', va='center', fontsize=13, color='black', xytext=(0, 20),\n",
    "                 textcoords='offset points')"
   ]
  },
  {
   "cell_type": "code",
   "execution_count": null,
   "metadata": {
    "scrolled": false
   },
   "outputs": [],
   "source": [
    "trigramall = n_gramall(df['content'], n=3)\n",
    "trigramall[:20]"
   ]
  },
  {
   "cell_type": "code",
   "execution_count": null,
   "metadata": {},
   "outputs": [],
   "source": [
    "mostcommonwords20trigram = trigramall[:20]\n",
    "\n",
    "yaxis20trigram = [val[1] for val in mostcommonwords20trigram]\n",
    "\n",
    "xaxis20triram = [val[0] for val in mostcommonwords20trigram]\n",
    "\n",
    "plt.figure(figsize=(18, 14))\n",
    "ax = sns.barplot(xaxis20triram, yaxis20trigram, palette =\"cubehelix\")\n",
    "plt.title('Top 20 Most Trigrams in Mobile Game Reviews Overall', fontsize = 25)\n",
    "plt.ylabel('Frequency of word', fontsize = 20)\n",
    "plt.xticks(rotation=45, fontsize = 15, ha='right')\n",
    "\n",
    "for p in ax.patches:\n",
    "             ax.annotate(\"%.2f\" % (p.get_height()*100/sum(yaxis20trigram))+'%', (p.get_x() + p.get_width() / 2., p.get_height()),\n",
    "                 ha='center', va='center', fontsize=13, color='black', xytext=(0, 20),\n",
    "                 textcoords='offset points')"
   ]
  },
  {
   "cell_type": "markdown",
   "metadata": {},
   "source": [
    "# Bigrams/Trigrams for specific ratings"
   ]
  },
  {
   "cell_type": "code",
   "execution_count": null,
   "metadata": {
    "scrolled": false
   },
   "outputs": [],
   "source": [
    "# Rating 1\n",
    "\n",
    "bigram1 = n_gramall(rating1['content'], n=2)\n",
    "bigram1[:20]"
   ]
  },
  {
   "cell_type": "code",
   "execution_count": null,
   "metadata": {},
   "outputs": [],
   "source": [
    "mostcommonwords201bi = bigram1[:20]\n",
    "\n",
    "yaxis201bi = [val[1] for val in mostcommonwords201bi]\n",
    "\n",
    "xaxis201bi = [val[0] for val in mostcommonwords201bi]\n",
    "\n",
    "plt.figure(figsize=(18, 14))\n",
    "ax = sns.barplot(xaxis201bi, yaxis201bi, palette =\"vlag_r\")\n",
    "plt.title('Top 20 Most Common Bigrams in Ragnarok Mobile Reviews for 1 Rating', fontsize = 25)\n",
    "plt.ylabel('Frequency of word', fontsize = 20)\n",
    "plt.xticks(rotation=45, fontsize = 15, ha='right')\n",
    "\n",
    "\n",
    "for p in ax.patches:\n",
    "             ax.annotate(\"%.2f\" % (p.get_height()*100/sum(yaxis201bi))+'%', (p.get_x() + p.get_width() / 2., p.get_height()),\n",
    "                 ha='center', va='center', fontsize=13, color='black', xytext=(0, 20),\n",
    "                 textcoords='offset points')"
   ]
  },
  {
   "cell_type": "code",
   "execution_count": null,
   "metadata": {
    "scrolled": false
   },
   "outputs": [],
   "source": [
    "trigram1 = n_gramall(rating1['content'], n=3)\n",
    "trigram1[:20]"
   ]
  },
  {
   "cell_type": "markdown",
   "metadata": {},
   "source": [
    "-------"
   ]
  },
  {
   "cell_type": "code",
   "execution_count": null,
   "metadata": {},
   "outputs": [],
   "source": [
    "# Rating 2\n",
    "\n",
    "bigram2 = n_gramall(rating2['content'], n=2)\n",
    "bigram2[:20]"
   ]
  },
  {
   "cell_type": "code",
   "execution_count": null,
   "metadata": {
    "scrolled": false
   },
   "outputs": [],
   "source": [
    "# Returns nothing.\n",
    "\n",
    "#trigram2 = n_gramall(rating2['content'], n=3)\n",
    "#trigram2[:20]"
   ]
  },
  {
   "cell_type": "markdown",
   "metadata": {},
   "source": [
    "--------"
   ]
  },
  {
   "cell_type": "code",
   "execution_count": null,
   "metadata": {
    "scrolled": false
   },
   "outputs": [],
   "source": [
    "# Rating 3\n",
    "\n",
    "bigram3 = n_gramall(rating3['content'], n=2)\n",
    "bigram3[:20]"
   ]
  },
  {
   "cell_type": "code",
   "execution_count": null,
   "metadata": {},
   "outputs": [],
   "source": [
    "mostcommonwords203bi = bigram3[:20]\n",
    "\n",
    "yaxis203bi = [val[1] for val in mostcommonwords203bi]\n",
    "\n",
    "xaxis203bi = [val[0] for val in mostcommonwords203bi]\n",
    "\n",
    "plt.figure(figsize=(18, 14))\n",
    "ax = sns.barplot(xaxis203bi, yaxis203bi, palette =\"Spectral\")\n",
    "plt.title('Top 20 Most Common Bigrams in Mobile Game Reviews for 3 Rating', fontsize = 25)\n",
    "plt.ylabel('Frequency of word', fontsize = 20)\n",
    "plt.xticks(rotation=45, fontsize = 15, ha='right')\n",
    "\n",
    "\n",
    "for p in ax.patches:\n",
    "             ax.annotate(\"%.2f\" % (p.get_height()*100/sum(yaxis203bi))+'%', (p.get_x() + p.get_width() / 2., p.get_height()),\n",
    "                 ha='center', va='center', fontsize=13, color='black', xytext=(0, 20),\n",
    "                 textcoords='offset points')"
   ]
  },
  {
   "cell_type": "code",
   "execution_count": null,
   "metadata": {},
   "outputs": [],
   "source": [
    "# Returns nothing.\n",
    "\n",
    "#trigram3 = n_gramall(rating3['content'], n=3)\n",
    "#trigram3[:20]"
   ]
  },
  {
   "cell_type": "markdown",
   "metadata": {},
   "source": [
    "---------"
   ]
  },
  {
   "cell_type": "code",
   "execution_count": null,
   "metadata": {},
   "outputs": [],
   "source": [
    "# Rating 4\n",
    "\n",
    "bigram4 = n_gramall(rating4['content'], n=2)\n",
    "bigram4[:20]"
   ]
  },
  {
   "cell_type": "code",
   "execution_count": null,
   "metadata": {},
   "outputs": [],
   "source": [
    "mostcommonwords204bi = bigram4[:20]\n",
    "\n",
    "yaxis204bi = [val[1] for val in mostcommonwords204bi]\n",
    "\n",
    "xaxis204bi = [val[0] for val in mostcommonwords204bi]\n",
    "\n",
    "plt.figure(figsize=(18, 14))\n",
    "ax = sns.barplot(xaxis204bi, yaxis204bi, palette =\"Spectral\")\n",
    "plt.title('Top 20 Most Common Bigrams in Mobile Game Reviews for 5 Rating', fontsize = 25)\n",
    "plt.ylabel('Frequency of word', fontsize = 20)\n",
    "plt.xticks(rotation=45, fontsize = 15, ha='right')\n",
    "\n",
    "\n",
    "for p in ax.patches:\n",
    "             ax.annotate(\"%.2f\" % (p.get_height()*100/sum(yaxis205bi))+'%', (p.get_x() + p.get_width() / 2., p.get_height()),\n",
    "                 ha='center', va='center', fontsize=13, color='black', xytext=(0, 20),\n",
    "                 textcoords='offset points')"
   ]
  },
  {
   "cell_type": "code",
   "execution_count": null,
   "metadata": {},
   "outputs": [],
   "source": [
    "# Returns nothing.\n",
    "\n",
    "#trigram4 = n_gramall(rating4['content'], n=3)\n",
    "#trigram4[:20]"
   ]
  },
  {
   "cell_type": "markdown",
   "metadata": {},
   "source": [
    "------"
   ]
  },
  {
   "cell_type": "code",
   "execution_count": null,
   "metadata": {},
   "outputs": [],
   "source": [
    "# Rating 5\n",
    "\n",
    "bigram5 = n_gramall(rating5['content'], n=2)\n",
    "bigram5[:20]"
   ]
  },
  {
   "cell_type": "code",
   "execution_count": null,
   "metadata": {},
   "outputs": [],
   "source": [
    "mostcommonwords205bi = bigram5[:20]\n",
    "\n",
    "yaxis205bi = [val[1] for val in mostcommonwords205bi]\n",
    "\n",
    "xaxis205bi = [val[0] for val in mostcommonwords205bi]\n",
    "\n",
    "plt.figure(figsize=(18, 14))\n",
    "ax = sns.barplot(xaxis205bi, yaxis205bi, palette =\"Spectral\")\n",
    "plt.title('Top 20 Most Common Bigrams in Mobile Game Reviews for 5 Rating', fontsize = 25)\n",
    "plt.ylabel('Frequency of word', fontsize = 20)\n",
    "plt.xticks(rotation=45, fontsize = 15, ha='right')\n",
    "\n",
    "\n",
    "for p in ax.patches:\n",
    "             ax.annotate(\"%.2f\" % (p.get_height()*100/sum(yaxis205bi))+'%', (p.get_x() + p.get_width() / 2., p.get_height()),\n",
    "                 ha='center', va='center', fontsize=13, color='black', xytext=(0, 20),\n",
    "                 textcoords='offset points')"
   ]
  },
  {
   "cell_type": "code",
   "execution_count": null,
   "metadata": {},
   "outputs": [],
   "source": [
    "trigram5 = n_gramall(rating5['content'], n=3)\n",
    "trigram5[:20]"
   ]
  }
 ],
 "metadata": {
  "kernelspec": {
   "display_name": "Python 3",
   "language": "python",
   "name": "python3"
  },
  "language_info": {
   "codemirror_mode": {
    "name": "ipython",
    "version": 3
   },
   "file_extension": ".py",
   "mimetype": "text/x-python",
   "name": "python",
   "nbconvert_exporter": "python",
   "pygments_lexer": "ipython3",
   "version": "3.7.6"
  }
 },
 "nbformat": 4,
 "nbformat_minor": 4
}
