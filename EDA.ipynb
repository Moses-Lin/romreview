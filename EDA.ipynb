{
 "cells": [
  {
   "cell_type": "markdown",
   "metadata": {},
   "source": [
    "# Importing necessary things"
   ]
  },
  {
   "cell_type": "code",
   "execution_count": 1,
   "metadata": {},
   "outputs": [],
   "source": [
    "import pandas as pd\n",
    "import numpy as np\n",
    "import sklearn\n",
    "\n",
    "import sklearn.metrics as metrics\n",
    "from sklearn.utils import resample\n",
    "from sklearn.preprocessing import MinMaxScaler\n",
    "from sklearn.model_selection import train_test_split\n",
    "from sklearn.preprocessing import LabelEncoder\n",
    "from sklearn.naive_bayes import MultinomialNB\n",
    "from sklearn.ensemble import RandomForestClassifier\n",
    "from sklearn.tree import DecisionTreeClassifier\n",
    "from sklearn.metrics import accuracy_score, confusion_matrix, f1_score, recall_score, precision_score\n",
    "from sklearn.feature_extraction.text import TfidfVectorizer, CountVectorizer\n",
    "from sklearn.svm import SVC\n",
    "\n",
    "import nltk\n",
    "from nltk.corpus import stopwords\n",
    "from nltk import word_tokenize, RegexpTokenizer, TweetTokenizer\n",
    "from nltk.stem import WordNetLemmatizer\n",
    "from nltk.stem import PorterStemmer\n",
    "from nltk.probability import FreqDist\n",
    "\n",
    "import matplotlib.pyplot as plt\n",
    "import seaborn as sns\n",
    "from matplotlib import cm\n",
    "\n",
    "from collections import Counter\n",
    "\n",
    "import re\n",
    "from datetime import datetime\n",
    "\n",
    "import pickle\n",
    "\n",
    "import string"
   ]
  },
  {
   "cell_type": "markdown",
   "metadata": {},
   "source": [
    "=================================================================================================================="
   ]
  },
  {
   "cell_type": "markdown",
   "metadata": {},
   "source": [
    "# Retrieving lists and making Dataframes"
   ]
  },
  {
   "cell_type": "code",
   "execution_count": 2,
   "metadata": {},
   "outputs": [],
   "source": [
    "# Retrieving the lists.\n",
    "\n",
    "import bz2\n",
    "\n",
    "def decompress_pickle(file):\n",
    "    data = bz2.BZ2File(file, 'rb')\n",
    "    data = pickle.load(data)\n",
    "    return data"
   ]
  },
  {
   "cell_type": "code",
   "execution_count": 3,
   "metadata": {},
   "outputs": [
    {
     "name": "stdout",
     "output_type": "stream",
     "text": [
      "6470\n",
      "72164\n"
     ]
    }
   ],
   "source": [
    "# Seeing if everything transferred properly\n",
    "\n",
    "reviewlistglobal = decompress_pickle('compressedlistreview.pbz2')\n",
    "reviewlistsea = decompress_pickle('compressedlistreview2.pbz2')\n",
    "\n",
    "print(len(reviewlistglobal))\n",
    "print(len(reviewlistsea))"
   ]
  },
  {
   "cell_type": "code",
   "execution_count": 4,
   "metadata": {
    "scrolled": true
   },
   "outputs": [
    {
     "data": {
      "text/html": [
       "<div>\n",
       "<style scoped>\n",
       "    .dataframe tbody tr th:only-of-type {\n",
       "        vertical-align: middle;\n",
       "    }\n",
       "\n",
       "    .dataframe tbody tr th {\n",
       "        vertical-align: top;\n",
       "    }\n",
       "\n",
       "    .dataframe thead th {\n",
       "        text-align: right;\n",
       "    }\n",
       "</style>\n",
       "<table border=\"1\" class=\"dataframe\">\n",
       "  <thead>\n",
       "    <tr style=\"text-align: right;\">\n",
       "      <th></th>\n",
       "      <th>content</th>\n",
       "      <th>score</th>\n",
       "      <th>thumbsUpCount</th>\n",
       "      <th>reviewCreatedVersion</th>\n",
       "      <th>at</th>\n",
       "      <th>replyContent</th>\n",
       "      <th>appId</th>\n",
       "    </tr>\n",
       "  </thead>\n",
       "  <tbody>\n",
       "    <tr>\n",
       "      <th>0</th>\n",
       "      <td>Not permitted</td>\n",
       "      <td>1</td>\n",
       "      <td>0</td>\n",
       "      <td>None</td>\n",
       "      <td>2020-12-20 10:14:08</td>\n",
       "      <td>None</td>\n",
       "      <td>com.gravity.romNAg</td>\n",
       "    </tr>\n",
       "    <tr>\n",
       "      <th>1</th>\n",
       "      <td>years of playing on pc and this version came o...</td>\n",
       "      <td>5</td>\n",
       "      <td>0</td>\n",
       "      <td>1.2.6</td>\n",
       "      <td>2020-12-19 06:12:56</td>\n",
       "      <td>None</td>\n",
       "      <td>com.gravity.romNAg</td>\n",
       "    </tr>\n",
       "    <tr>\n",
       "      <th>2</th>\n",
       "      <td>P2W till the end, prices are way too high... A...</td>\n",
       "      <td>1</td>\n",
       "      <td>0</td>\n",
       "      <td>None</td>\n",
       "      <td>2020-12-17 05:01:06</td>\n",
       "      <td>None</td>\n",
       "      <td>com.gravity.romNAg</td>\n",
       "    </tr>\n",
       "    <tr>\n",
       "      <th>3</th>\n",
       "      <td>Great game a Lots fun</td>\n",
       "      <td>5</td>\n",
       "      <td>0</td>\n",
       "      <td>1.2.6</td>\n",
       "      <td>2020-12-17 01:38:27</td>\n",
       "      <td>None</td>\n",
       "      <td>com.gravity.romNAg</td>\n",
       "    </tr>\n",
       "    <tr>\n",
       "      <th>4</th>\n",
       "      <td>I love Eternal Love</td>\n",
       "      <td>5</td>\n",
       "      <td>0</td>\n",
       "      <td>1.2.6</td>\n",
       "      <td>2020-12-12 23:30:19</td>\n",
       "      <td>None</td>\n",
       "      <td>com.gravity.romNAg</td>\n",
       "    </tr>\n",
       "  </tbody>\n",
       "</table>\n",
       "</div>"
      ],
      "text/plain": [
       "                                             content score thumbsUpCount  \\\n",
       "0                                      Not permitted     1             0   \n",
       "1  years of playing on pc and this version came o...     5             0   \n",
       "2  P2W till the end, prices are way too high... A...     1             0   \n",
       "3                              Great game a Lots fun     5             0   \n",
       "4                                I love Eternal Love     5             0   \n",
       "\n",
       "  reviewCreatedVersion                   at replyContent               appId  \n",
       "0                 None  2020-12-20 10:14:08         None  com.gravity.romNAg  \n",
       "1                1.2.6  2020-12-19 06:12:56         None  com.gravity.romNAg  \n",
       "2                 None  2020-12-17 05:01:06         None  com.gravity.romNAg  \n",
       "3                1.2.6  2020-12-17 01:38:27         None  com.gravity.romNAg  \n",
       "4                1.2.6  2020-12-12 23:30:19         None  com.gravity.romNAg  "
      ]
     },
     "execution_count": 4,
     "metadata": {},
     "output_type": "execute_result"
    }
   ],
   "source": [
    "dfglobal = pd.DataFrame(reviewlistglobal)\n",
    "dfglobal.head()"
   ]
  },
  {
   "cell_type": "code",
   "execution_count": 5,
   "metadata": {
    "scrolled": true
   },
   "outputs": [
    {
     "data": {
      "text/html": [
       "<div>\n",
       "<style scoped>\n",
       "    .dataframe tbody tr th:only-of-type {\n",
       "        vertical-align: middle;\n",
       "    }\n",
       "\n",
       "    .dataframe tbody tr th {\n",
       "        vertical-align: top;\n",
       "    }\n",
       "\n",
       "    .dataframe thead th {\n",
       "        text-align: right;\n",
       "    }\n",
       "</style>\n",
       "<table border=\"1\" class=\"dataframe\">\n",
       "  <thead>\n",
       "    <tr style=\"text-align: right;\">\n",
       "      <th></th>\n",
       "      <th>content</th>\n",
       "      <th>score</th>\n",
       "      <th>thumbsUpCount</th>\n",
       "      <th>reviewCreatedVersion</th>\n",
       "      <th>at</th>\n",
       "      <th>replyContent</th>\n",
       "      <th>appId</th>\n",
       "    </tr>\n",
       "  </thead>\n",
       "  <tbody>\n",
       "    <tr>\n",
       "      <th>0</th>\n",
       "      <td>This is a suggestion from one of the known str...</td>\n",
       "      <td>5</td>\n",
       "      <td>0</td>\n",
       "      <td>1.0.33</td>\n",
       "      <td>2020-12-20 10:36:00</td>\n",
       "      <td>None</td>\n",
       "      <td>com.gravity.romg</td>\n",
       "    </tr>\n",
       "    <tr>\n",
       "      <th>1</th>\n",
       "      <td>new update made several freezing screen. can't...</td>\n",
       "      <td>1</td>\n",
       "      <td>0</td>\n",
       "      <td>1.0.35</td>\n",
       "      <td>2020-12-20 10:12:36</td>\n",
       "      <td>None</td>\n",
       "      <td>com.gravity.romg</td>\n",
       "    </tr>\n",
       "    <tr>\n",
       "      <th>2</th>\n",
       "      <td>Very Happy</td>\n",
       "      <td>5</td>\n",
       "      <td>0</td>\n",
       "      <td>None</td>\n",
       "      <td>2020-12-20 09:40:34</td>\n",
       "      <td>None</td>\n",
       "      <td>com.gravity.romg</td>\n",
       "    </tr>\n",
       "    <tr>\n",
       "      <th>3</th>\n",
       "      <td>Lag delay</td>\n",
       "      <td>1</td>\n",
       "      <td>0</td>\n",
       "      <td>1.0.35</td>\n",
       "      <td>2020-12-20 07:18:42</td>\n",
       "      <td>None</td>\n",
       "      <td>com.gravity.romg</td>\n",
       "    </tr>\n",
       "    <tr>\n",
       "      <th>4</th>\n",
       "      <td>Laggy</td>\n",
       "      <td>2</td>\n",
       "      <td>0</td>\n",
       "      <td>1.0.35</td>\n",
       "      <td>2020-12-20 06:50:06</td>\n",
       "      <td>None</td>\n",
       "      <td>com.gravity.romg</td>\n",
       "    </tr>\n",
       "  </tbody>\n",
       "</table>\n",
       "</div>"
      ],
      "text/plain": [
       "                                             content score thumbsUpCount  \\\n",
       "0  This is a suggestion from one of the known str...     5             0   \n",
       "1  new update made several freezing screen. can't...     1             0   \n",
       "2                                         Very Happy     5             0   \n",
       "3                                          Lag delay     1             0   \n",
       "4                                              Laggy     2             0   \n",
       "\n",
       "  reviewCreatedVersion                   at replyContent             appId  \n",
       "0               1.0.33  2020-12-20 10:36:00         None  com.gravity.romg  \n",
       "1               1.0.35  2020-12-20 10:12:36         None  com.gravity.romg  \n",
       "2                 None  2020-12-20 09:40:34         None  com.gravity.romg  \n",
       "3               1.0.35  2020-12-20 07:18:42         None  com.gravity.romg  \n",
       "4               1.0.35  2020-12-20 06:50:06         None  com.gravity.romg  "
      ]
     },
     "execution_count": 5,
     "metadata": {},
     "output_type": "execute_result"
    }
   ],
   "source": [
    "dfsea = pd.DataFrame(reviewlistsea)\n",
    "dfsea.head()"
   ]
  },
  {
   "cell_type": "markdown",
   "metadata": {},
   "source": [
    "# Changing datatypes to correct datatypes."
   ]
  },
  {
   "cell_type": "code",
   "execution_count": 6,
   "metadata": {
    "scrolled": false
   },
   "outputs": [
    {
     "name": "stdout",
     "output_type": "stream",
     "text": [
      "content                 object\n",
      "score                   object\n",
      "thumbsUpCount           object\n",
      "reviewCreatedVersion    object\n",
      "at                      object\n",
      "replyContent            object\n",
      "appId                   object\n",
      "dtype: object\n",
      "content                 object\n",
      "score                   object\n",
      "thumbsUpCount           object\n",
      "reviewCreatedVersion    object\n",
      "at                      object\n",
      "replyContent            object\n",
      "appId                   object\n",
      "dtype: object\n"
     ]
    }
   ],
   "source": [
    "#Changing datatype to correct datatype as they are all objects.\n",
    "\n",
    "print(dfglobal.dtypes)\n",
    "print(dfsea.dtypes)"
   ]
  },
  {
   "cell_type": "code",
   "execution_count": 7,
   "metadata": {},
   "outputs": [],
   "source": [
    "dfglobal['content'] = dfglobal['content'].astype('string')\n",
    "dfglobal['score'] = dfglobal['score'].astype('int')\n",
    "dfglobal['thumbsUpCount'] = dfglobal['thumbsUpCount'].astype('int')\n",
    "dfglobal['reviewCreatedVersion'] = dfglobal['reviewCreatedVersion'].astype('string')\n",
    "dfglobal['at'] = dfglobal['at'].astype('string')\n",
    "dfglobal['replyContent'] = dfglobal['replyContent'].astype('string')\n",
    "dfglobal['appId'] = dfglobal['appId'].astype('string')\n",
    "\n",
    "dfsea['content'] = dfsea['content'].astype('string')\n",
    "dfsea['score'] = dfsea['score'].astype('int')\n",
    "dfsea['thumbsUpCount'] = dfsea['thumbsUpCount'].astype('int')\n",
    "dfsea['reviewCreatedVersion'] = dfsea['reviewCreatedVersion'].astype('string')\n",
    "dfsea['at'] = dfsea['at'].astype('string')\n",
    "dfsea['replyContent'] = dfsea['replyContent'].astype('string')\n",
    "dfsea['appId'] = dfsea['appId'].astype('string')"
   ]
  },
  {
   "cell_type": "code",
   "execution_count": 8,
   "metadata": {
    "scrolled": true
   },
   "outputs": [
    {
     "name": "stdout",
     "output_type": "stream",
     "text": [
      "content                 0\n",
      "score                   0\n",
      "thumbsUpCount           0\n",
      "reviewCreatedVersion    0\n",
      "at                      0\n",
      "replyContent            0\n",
      "appId                   0\n",
      "dtype: int64\n",
      "-------------------------\n",
      "content                 0\n",
      "score                   0\n",
      "thumbsUpCount           0\n",
      "reviewCreatedVersion    0\n",
      "at                      0\n",
      "replyContent            0\n",
      "appId                   0\n",
      "dtype: int64\n"
     ]
    }
   ],
   "source": [
    "# checking for null values.\n",
    "\n",
    "print(dfglobal.isna().sum())\n",
    "print('-------------------------')\n",
    "print(dfsea.isna().sum())"
   ]
  },
  {
   "cell_type": "markdown",
   "metadata": {},
   "source": [
    "=================================================================================================================="
   ]
  },
  {
   "cell_type": "markdown",
   "metadata": {},
   "source": [
    "# EDA"
   ]
  },
  {
   "cell_type": "code",
   "execution_count": 9,
   "metadata": {
    "scrolled": false
   },
   "outputs": [
    {
     "name": "stdout",
     "output_type": "stream",
     "text": [
      "5    3082\n",
      "1    1767\n",
      "4     649\n",
      "3     565\n",
      "2     407\n",
      "Name: score, dtype: int64\n",
      "---------------------\n",
      "5    33320\n",
      "1    27520\n",
      "4     4865\n",
      "3     3843\n",
      "2     2616\n",
      "Name: score, dtype: int64\n"
     ]
    }
   ],
   "source": [
    "# Looking at distribution of ratings in both global and sea\n",
    "\n",
    "print(dfglobal['score'].value_counts())\n",
    "print('---------------------')\n",
    "print(dfsea['score'].value_counts())"
   ]
  },
  {
   "cell_type": "code",
   "execution_count": 11,
   "metadata": {},
   "outputs": [
    {
     "name": "stdout",
     "output_type": "stream",
     "text": [
      "[(5, 3082), (1, 1767), (4, 649), (3, 565), (2, 407)]\n",
      "---------------------\n",
      "[(5, 3082), (1, 1767), (4, 649), (3, 565), (2, 407)]\n"
     ]
    }
   ],
   "source": [
    "scorecountglobal = Counter(dfglobal['score'])\n",
    "scorecountsea = Counter(dfsea['score'])\n",
    "\n",
    "print(scorecountglobal.most_common(5))\n",
    "print('---------------------')\n",
    "print(scorecountglobal.most_common(5))"
   ]
  },
  {
   "cell_type": "code",
   "execution_count": 15,
   "metadata": {},
   "outputs": [
    {
     "data": {
      "image/png": "[encoded data removed]",
      "text/plain": [
       "<Figure size 720x720 with 1 Axes>"
      ]
     },
     "metadata": {
      "needs_background": "light"
     },
     "output_type": "display_data"
    }
   ],
   "source": [
    "# Plotting distribution of ratings out of all the reviews\n",
    "# Interestingly, it is very similar to overall rating distribution across all top mobile games.\n",
    "\n",
    "\n",
    "xaxis = [val[0] for val in scorecountglobal.most_common(5)]\n",
    "yaxis = [val[1] for val in scorecountglobal.most_common(5)]\n",
    "\n",
    "plt.figure(figsize=(10,10))\n",
    "ax = sns.barplot(xaxis, yaxis)\n",
    "\n",
    "plt.title('% Rating for Ragnarok Online Mobile Global')\n",
    "plt.ylabel('Count', fontsize = 20)\n",
    "plt.xlabel('Rating', fontsize = 20)\n",
    "\n",
    "\n",
    "for p in ax.patches:\n",
    "             ax.annotate(\"%.2f\" % (p.get_height()*100/sum(yaxis))+'%', (p.get_x() + p.get_width() / 2., p.get_height()),\n",
    "                 ha='center', va='center', fontsize=13, color='black', xytext=(0, 20),\n",
    "                 textcoords='offset points')\n",
    "        \n",
    "for p in ax.patches:\n",
    "             ax.annotate(str(p.get_height()), (p.get_x() + p.get_width() / 2., p.get_height()),\n",
    "                 ha='center', va='center', fontsize=12, color='black', xytext=(0, -30),\n",
    "                 textcoords='offset points')"
   ]
  },
  {
   "cell_type": "code",
   "execution_count": 14,
   "metadata": {},
   "outputs": [
    {
     "data": {
      "image/png": "[encoded data removed]",
      "text/plain": [
       "<Figure size 720x720 with 1 Axes>"
      ]
     },
     "metadata": {
      "needs_background": "light"
     },
     "output_type": "display_data"
    }
   ],
   "source": [
    "xaxis = [val[0] for val in scorecountsea.most_common(5)]\n",
    "yaxis = [val[1] for val in scorecountsea.most_common(5)]\n",
    "\n",
    "plt.figure(figsize=(10,10))\n",
    "ax = sns.barplot(xaxis, yaxis)\n",
    "\n",
    "plt.title('% Rating for Ragnarok Online Mobile SEA')\n",
    "plt.ylabel('Count', fontsize = 20)\n",
    "plt.xlabel('Rating', fontsize = 20)\n",
    "\n",
    "\n",
    "for p in ax.patches:\n",
    "             ax.annotate(\"%.2f\" % (p.get_height()*100/sum(yaxis))+'%', (p.get_x() + p.get_width() / 2., p.get_height()),\n",
    "                 ha='center', va='center', fontsize=13, color='black', xytext=(0, 20),\n",
    "                 textcoords='offset points')\n",
    "        \n",
    "for p in ax.patches:\n",
    "             ax.annotate(str(p.get_height()), (p.get_x() + p.get_width() / 2., p.get_height()),\n",
    "                 ha='center', va='center', fontsize=12, color='black', xytext=(0, -30),\n",
    "                 textcoords='offset points')"
   ]
  },
  {
   "cell_type": "code",
   "execution_count": 20,
   "metadata": {
    "scrolled": false
   },
   "outputs": [
    {
     "name": "stdout",
     "output_type": "stream",
     "text": [
      "1.0.1    4427\n",
      "None     1177\n",
      "1.0.7     216\n",
      "1.1.3     147\n",
      "1.0.5     147\n",
      "1.1.0     133\n",
      "1.2.0      74\n",
      "1.2.2      60\n",
      "1.2.4      51\n",
      "1.2.6      38\n",
      "Name: reviewCreatedVersion, dtype: Int64\n",
      "---------------------\n",
      "1.0.5     25375\n",
      "None      13880\n",
      "1.0.9     11780\n",
      "1.0.8     11227\n",
      "1.0.25     2393\n",
      "1.0.27     2139\n",
      "1.0.10     1751\n",
      "1.0.33     1502\n",
      "1.0.30     1004\n",
      "1.0.35      656\n",
      "1.0.3       455\n",
      "1.0.32        2\n",
      "Name: reviewCreatedVersion, dtype: Int64\n"
     ]
    }
   ],
   "source": [
    "# Interestingly despite following the same-ish timeline and being on the same page,\n",
    "# the listed reviews created versions are different.\n",
    "\n",
    "print(dfglobal['reviewCreatedVersion'].value_counts())\n",
    "print('---------------------')\n",
    "print(dfsea['reviewCreatedVersion'].value_counts())"
   ]
  },
  {
   "cell_type": "markdown",
   "metadata": {},
   "source": [
    "### Datetime cleaning"
   ]
  },
  {
   "cell_type": "code",
   "execution_count": 23,
   "metadata": {
    "scrolled": true
   },
   "outputs": [
    {
     "name": "stdout",
     "output_type": "stream",
     "text": [
      "2019-01-09    715\n",
      "2019-01-10    408\n",
      "2019-01-11    264\n",
      "2019-01-12    197\n",
      "2019-01-08    167\n",
      "             ... \n",
      "2020-06-16      1\n",
      "2020-10-05      1\n",
      "2019-09-15      1\n",
      "2020-11-08      1\n",
      "2020-07-13      1\n",
      "Name: at, Length: 618, dtype: Int64\n",
      "---------------------\n",
      "2018-10-31    6034\n",
      "2018-11-01    2683\n",
      "2019-01-14    2528\n",
      "2018-10-30    2195\n",
      "2019-07-28    2050\n",
      "              ... \n",
      "2020-10-07       9\n",
      "2020-12-17       8\n",
      "2020-11-18       8\n",
      "2020-12-16       7\n",
      "2020-09-21       6\n",
      "Name: at, Length: 783, dtype: Int64\n"
     ]
    }
   ],
   "source": [
    "dfglobal['at'] = dfglobal['at'].str[0:10]\n",
    "dfsea['at'] = dfsea['at'].str[0:10]\n",
    "\n",
    "print(dfglobal['at'].value_counts())\n",
    "print('---------------------')\n",
    "print(dfsea['at'].value_counts())"
   ]
  },
  {
   "cell_type": "code",
   "execution_count": 24,
   "metadata": {},
   "outputs": [],
   "source": [
    "dfglobal['month'] = dfglobal['at'].str[5:7]\n",
    "dfsea['month'] = dfsea['at'].str[5:7]"
   ]
  },
  {
   "cell_type": "code",
   "execution_count": 25,
   "metadata": {
    "scrolled": true
   },
   "outputs": [],
   "source": [
    "dfglobal['at'] = pd.to_datetime(dfglobal['at'], format='%Y-%m-%d')\n",
    "dfsea['at'] = pd.to_datetime(dfsea['at'], format='%Y-%m-%d')"
   ]
  },
  {
   "cell_type": "code",
   "execution_count": 28,
   "metadata": {
    "scrolled": true
   },
   "outputs": [
    {
     "name": "stdout",
     "output_type": "stream",
     "text": [
      "          date  counts\n",
      "0   2019-01-09     715\n",
      "1   2019-01-10     408\n",
      "2   2019-01-11     264\n",
      "3   2019-01-12     197\n",
      "4   2019-01-08     167\n",
      "..         ...     ...\n",
      "613 2019-07-17       1\n",
      "614 2019-11-26       1\n",
      "615 2020-02-13       1\n",
      "616 2020-05-04       1\n",
      "617 2020-11-30       1\n",
      "\n",
      "[618 rows x 2 columns]\n",
      "----------------------\n",
      "          date  counts\n",
      "0   2018-10-31    6034\n",
      "1   2018-11-01    2683\n",
      "2   2019-01-14    2528\n",
      "3   2018-10-30    2195\n",
      "4   2019-07-28    2050\n",
      "..         ...     ...\n",
      "778 2020-11-22       9\n",
      "779 2020-11-18       8\n",
      "780 2020-12-17       8\n",
      "781 2020-12-16       7\n",
      "782 2020-09-21       6\n",
      "\n",
      "[783 rows x 2 columns]\n"
     ]
    }
   ],
   "source": [
    "reviewglobaltimecounts = dfglobal['at'].value_counts().reset_index(name='counts')\n",
    "reviewglobaltimecounts.columns = ['date', 'counts']\n",
    "\n",
    "reviewseatimecounts = dfsea['at'].value_counts().reset_index(name='counts')\n",
    "reviewseatimecounts.columns = ['date', 'counts']\n",
    "\n",
    "print(reviewglobaltimecounts)\n",
    "print('----------------------')\n",
    "print(reviewseatimecounts)"
   ]
  },
  {
   "cell_type": "code",
   "execution_count": 29,
   "metadata": {
    "scrolled": true
   },
   "outputs": [
    {
     "name": "stdout",
     "output_type": "stream",
     "text": [
      "   month  counts\n",
      "0     01    3293\n",
      "1     02     770\n",
      "2     03     629\n",
      "3     04     492\n",
      "4     05     268\n",
      "5     06     224\n",
      "6     07     164\n",
      "7     09     161\n",
      "8     08     157\n",
      "9     10     132\n",
      "10    11     115\n",
      "11    12      65\n",
      "----------------------\n",
      "   month  counts\n",
      "0     11   18645\n",
      "1     10   10687\n",
      "2     01   10052\n",
      "3     12    7662\n",
      "4     07    6648\n",
      "5     08    5313\n",
      "6     02    3019\n",
      "7     03    2643\n",
      "8     04    2178\n",
      "9     09    1982\n",
      "10    06    1745\n",
      "11    05    1590\n"
     ]
    }
   ],
   "source": [
    "reviewglobaltimecounts = reviewglobaltimecounts.sort_values(by='date')\n",
    "reviewseatimecounts = reviewseatimecounts.sort_values(by='date')\n",
    "\n",
    "reviewglobalmonthcount = dfglobal['month'].value_counts().reset_index(name='counts')\n",
    "reviewglobalmonthcount.columns = ['month', 'counts']\n",
    "\n",
    "reviewseamonthcount = dfsea['month'].value_counts().reset_index(name='counts')\n",
    "reviewseamonthcount.columns = ['month', 'counts']\n",
    "\n",
    "print(reviewglobalmonthcount)\n",
    "print('----------------------')\n",
    "print(reviewseamonthcount)"
   ]
  },
  {
   "cell_type": "code",
   "execution_count": 30,
   "metadata": {
    "scrolled": true
   },
   "outputs": [
    {
     "data": {
      "image/png": "[encoded data removed]",
      "text/plain": [
       "<Figure size 1152x720 with 1 Axes>"
      ]
     },
     "metadata": {
      "needs_background": "light"
     },
     "output_type": "display_data"
    }
   ],
   "source": [
    "fig, ax = plt.subplots(figsize=(16, 10))\n",
    "\n",
    "ax.plot(reviewglobaltimecounts['date'],\n",
    "        reviewglobaltimecounts['counts'],\n",
    "        color='red')\n",
    "\n",
    "ax.set(xlabel=\"Date\",\n",
    "       ylabel=\"Count\",\n",
    "       title=\"Number of Reviews throughout history of ROM Global\")\n",
    "\n",
    "plt.show()"
   ]
  },
  {
   "cell_type": "code",
   "execution_count": 31,
   "metadata": {},
   "outputs": [
    {
     "data": {
      "image/png": "[encoded data removed]",
      "text/plain": [
       "<Figure size 1152x720 with 1 Axes>"
      ]
     },
     "metadata": {
      "needs_background": "light"
     },
     "output_type": "display_data"
    }
   ],
   "source": [
    "fig, ax = plt.subplots(figsize=(16, 10))\n",
    "\n",
    "ax.plot(reviewseatimecounts['date'],\n",
    "        reviewseatimecounts['counts'],\n",
    "        color='blue')\n",
    "\n",
    "ax.set(xlabel=\"Date\",\n",
    "       ylabel=\"Count\",\n",
    "       title=\"Number of Reviews throughout history of ROM Global\")\n",
    "\n",
    "plt.show()"
   ]
  },
  {
   "cell_type": "code",
   "execution_count": 32,
   "metadata": {
    "scrolled": false
   },
   "outputs": [
    {
     "data": {
      "image/png": "[encoded data removed]",
      "text/plain": [
       "<Figure size 1296x936 with 1 Axes>"
      ]
     },
     "metadata": {
      "needs_background": "light"
     },
     "output_type": "display_data"
    }
   ],
   "source": [
    "plt.figure(figsize=(18,13))\n",
    "ax = sns.barplot(reviewglobalmonthcount['month'], reviewglobalmonthcount['counts'])\n",
    "\n",
    "plt.title('Distribution of Reviews in ROM Global by Month', fontsize = 20)\n",
    "plt.ylabel('Count', fontsize = 20)\n",
    "plt.xlabel('Month', fontsize = 20)\n",
    "\n",
    "\n",
    "for p in ax.patches:\n",
    "             ax.annotate(\"%.2f\" % (p.get_height()*100/sum(reviewglobalmonthcount['counts']))+'%', (p.get_x() + p.get_width() / 2., p.get_height()),\n",
    "                 ha='center', va='center', fontsize=13, color='black', xytext=(0, 20),\n",
    "                 textcoords='offset points')\n",
    "        \n",
    "for p in ax.patches:\n",
    "             ax.annotate(str(p.get_height()), (p.get_x() + p.get_width() / 2., p.get_height()),\n",
    "                 ha='center', va='center', fontsize=12, color='black', xytext=(0, -8),\n",
    "                 textcoords='offset points')"
   ]
  },
  {
   "cell_type": "code",
   "execution_count": null,
   "metadata": {},
   "outputs": [],
   "source": [
    "plt.figure(figsize=(18,13))\n",
    "ax = sns.barplot(reviewseamonthcount['month'], reviewseamonthcount['counts'])\n",
    "\n",
    "plt.title('Distribution of Reviews in ROM SEA by Month', fontsize = 20)\n",
    "plt.ylabel('Count', fontsize = 20)\n",
    "plt.xlabel('Month', fontsize = 20)\n",
    "\n",
    "\n",
    "for p in ax.patches:\n",
    "             ax.annotate(\"%.2f\" % (p.get_height()*100/sum(reviewglobalmonthcount['counts']))+'%', (p.get_x() + p.get_width() / 2., p.get_height()),\n",
    "                 ha='center', va='center', fontsize=13, color='black', xytext=(0, 20),\n",
    "                 textcoords='offset points')\n",
    "        \n",
    "for p in ax.patches:\n",
    "             ax.annotate(str(p.get_height()), (p.get_x() + p.get_width() / 2., p.get_height()),\n",
    "                 ha='center', va='center', fontsize=12, color='black', xytext=(0, -8),\n",
    "                 textcoords='offset points')"
   ]
  },
  {
   "cell_type": "markdown",
   "metadata": {},
   "source": [
    "## Meta Features"
   ]
  },
  {
   "cell_type": "code",
   "execution_count": null,
   "metadata": {
    "scrolled": true
   },
   "outputs": [],
   "source": [
    "df['content']"
   ]
  },
  {
   "cell_type": "code",
   "execution_count": null,
   "metadata": {},
   "outputs": [],
   "source": [
    "df[\"numwords\"] = df[\"content\"].apply(lambda x: len(str(x).split()))\n",
    "\n",
    "df[\"numuniquewords\"] = df[\"content\"].apply(lambda x: len(set(str(x).split())))\n",
    "\n",
    "df[\"numchars\"] = df[\"content\"].apply(lambda x: len(str(x)))\n",
    "\n",
    "df[\"numpuncts\"] = df['content'].apply(lambda x: len([c for c in str(x) if c in string.punctuation]))\n",
    "\n",
    "df[\"numcapts\"] = df[\"content\"].apply(lambda x: len([w for w in str(x).split() if w.isupper()]))\n",
    "\n",
    "df[\"numtitles\"] = df[\"content\"].apply(lambda x: len([w for w in str(x).split() if w.istitle()]))\n",
    "\n",
    "df[\"meanwordlength\"] = df[\"content\"].apply(lambda x: np.mean([len(w) for w in str(x).split()]))"
   ]
  },
  {
   "cell_type": "code",
   "execution_count": null,
   "metadata": {
    "scrolled": false
   },
   "outputs": [],
   "source": [
    "df['numwords']"
   ]
  },
  {
   "cell_type": "code",
   "execution_count": null,
   "metadata": {},
   "outputs": [],
   "source": [
    "## Truncate some extreme values for better visuals ##\n",
    "df['numwords'].loc[df['numwords']>250] = 250 \n",
    "df['numchars'].loc[df['numchars']>1250] = 1250\n",
    "df['numpuncts'].loc[df['numpuncts']>45] = 45\n",
    "\n",
    "f, axes = plt.subplots(3, 1, figsize=(10,20))\n",
    "\n",
    "sns.boxplot(x='score', y='numwords', data=df, ax=axes[0])\n",
    "axes[0].set_xlabel('Rating', fontsize=10)\n",
    "axes[0].set_ylabel('Number of Words', fontsize=10)\n",
    "axes[0].set_title(\"Number of words in each rating\", fontsize=12)\n",
    "\n",
    "sns.boxplot(x='score', y='numchars', data=df, ax=axes[1])\n",
    "axes[1].set_xlabel('Rating', fontsize=10)\n",
    "axes[0].set_ylabel('Number of Characters', fontsize=10)\n",
    "axes[1].set_title(\"Number of characters in each rating\", fontsize=12)\n",
    "\n",
    "sns.boxplot(x='score', y='numpuncts', data=df, ax=axes[2])\n",
    "axes[2].set_xlabel('Rating', fontsize=10)\n",
    "axes[0].set_ylabel('Number of Punctuations', fontsize=10)\n",
    "axes[2].set_title(\"Number of punctuations in each rating\", fontsize=12)\n",
    "plt.show()"
   ]
  },
  {
   "cell_type": "code",
   "execution_count": null,
   "metadata": {},
   "outputs": [],
   "source": [
    "df['numcapts'].loc[df['numcapts']>36] = 36 \n",
    "df['numtitles'].loc[df['numtitles']>60] = 60\n",
    "df['meanwordlength'].loc[df['meanwordlength']>18] = 18\n",
    "\n",
    "f, axes = plt.subplots(3, 1, figsize=(10,20))\n",
    "\n",
    "sns.boxplot(x='score', y='numcapts', data=df, ax=axes[0])\n",
    "axes[0].set_xlabel('Rating', fontsize=10)\n",
    "axes[0].set_ylabel('Number of Capitalized Words', fontsize=10)\n",
    "axes[0].set_title(\"Number of Capitalized words in each rating\", fontsize=12)\n",
    "\n",
    "sns.boxplot(x='score', y='numtitles', data=df, ax=axes[1])\n",
    "axes[1].set_xlabel('Rating', fontsize=10)\n",
    "axes[0].set_ylabel('Number of Title Characters', fontsize=10)\n",
    "axes[1].set_title(\"Number of title in each rating\", fontsize=12)\n",
    "\n",
    "sns.boxplot(x='score', y='meanwordlength', data=df, ax=axes[2])\n",
    "axes[2].set_xlabel('Rating', fontsize=10)\n",
    "axes[0].set_ylabel('Mean Number of Words', fontsize=10)\n",
    "axes[2].set_title(\"Mean number of words in each rating\", fontsize=12)\n",
    "plt.show()"
   ]
  },
  {
   "cell_type": "markdown",
   "metadata": {},
   "source": [
    "=================================================================================================================="
   ]
  },
  {
   "cell_type": "markdown",
   "metadata": {},
   "source": [
    "# Tokenizing"
   ]
  },
  {
   "cell_type": "code",
   "execution_count": null,
   "metadata": {},
   "outputs": [],
   "source": [
    "# Separating reviews into their scores.\n",
    "\n",
    "rating1 = df.loc[df['score'] == 1]\n",
    "rating2 = df.loc[df['score'] == 2]\n",
    "rating3 = df.loc[df['score'] == 3]\n",
    "rating4 = df.loc[df['score'] == 4]\n",
    "rating5 = df.loc[df['score'] == 5]"
   ]
  },
  {
   "cell_type": "code",
   "execution_count": null,
   "metadata": {},
   "outputs": [],
   "source": [
    "# Remove common words\n",
    "stopwords_list = stopwords.words('english') + list(string.punctuation)\n",
    "# Remove more punctuation\n",
    "stopwords_list += [\"''\", '\"\"', '...', '``']\n",
    "# Remove random numerals\n",
    "stopwords_list += ['0', '1', '2', '3', '4', '5', '6', '7', '8', '9']\n",
    "# Remove contractions\n",
    "stopwords_list += [\"'d\", \"'ve\", \"ca\", \"n't\",  \"'t\", \"'re\", \"'ll\", \"'s\"]"
   ]
  },
  {
   "cell_type": "code",
   "execution_count": null,
   "metadata": {},
   "outputs": [],
   "source": [
    "def process_reviews(reviews):\n",
    "    tokens = nltk.word_tokenize(reviews)\n",
    "    stopwords_removed = [token.lower() for token in tokens if token.lower() not in stopwords_list]\n",
    "    return stopwords_removed   "
   ]
  },
  {
   "cell_type": "code",
   "execution_count": null,
   "metadata": {
    "scrolled": true
   },
   "outputs": [],
   "source": [
    "starttime = datetime.now()\n",
    "\n",
    "rating1['wordlist'] = rating1['content'].apply(lambda x: process_reviews(x))\n",
    "rating2['wordlist'] = rating2['content'].apply(lambda x: process_reviews(x))\n",
    "rating3['wordlist'] = rating3['content'].apply(lambda x: process_reviews(x))\n",
    "rating4['wordlist'] = rating4['content'].apply(lambda x: process_reviews(x))\n",
    "rating5['wordlist'] = rating5['content'].apply(lambda x: process_reviews(x))\n",
    "\n",
    "print(datetime.now() - starttime)"
   ]
  },
  {
   "cell_type": "code",
   "execution_count": null,
   "metadata": {},
   "outputs": [],
   "source": [
    "lemmatizer = nltk.stem.WordNetLemmatizer()\n",
    "\n",
    "def lemmatize_text(text):\n",
    "    return [lemmatizer.lemmatize(w) for w in text]"
   ]
  },
  {
   "cell_type": "code",
   "execution_count": null,
   "metadata": {
    "scrolled": false
   },
   "outputs": [],
   "source": [
    "starttime = datetime.now()\n",
    "\n",
    "rating1['wordlistlem'] = rating1['wordlist'].apply(lemmatize_text)\n",
    "rating2['wordlistlem'] = rating2['wordlist'].apply(lemmatize_text)\n",
    "rating3['wordlistlem'] = rating3['wordlist'].apply(lemmatize_text)\n",
    "rating4['wordlistlem'] = rating4['wordlist'].apply(lemmatize_text)\n",
    "rating5['wordlistlem'] = rating5['wordlist'].apply(lemmatize_text)\n",
    "\n",
    "print(datetime.now() - starttime)"
   ]
  },
  {
   "cell_type": "markdown",
   "metadata": {},
   "source": [
    "# Saving Dataframes"
   ]
  },
  {
   "cell_type": "code",
   "execution_count": null,
   "metadata": {},
   "outputs": [],
   "source": [
    "# Saving tokens into a sub-folder in for tidiness.\n",
    "\n",
    "from pathlib import Path\n",
    "\n",
    "root = Path('.')\n",
    "\n",
    "my_path1 = root / \"tokens\" / \"processedreviewrating1.pbz2\"\n",
    "my_path2 = root / \"tokens\" / \"processedreviewrating2.pbz2\"\n",
    "my_path3 = root / \"tokens\" / \"processedreviewrating3.pbz2\"\n",
    "my_path4 = root / \"tokens\" / \"processedreviewrating4.pbz2\"\n",
    "my_path5 = root / \"tokens\" / \"processedreviewrating5.pbz2\"\n",
    "\n",
    "import bz2\n",
    "\n",
    "def compressed_pickle(path, data):\n",
    "    with bz2.BZ2File(path, 'w') as f:\n",
    "        pickle.dump(data, f)"
   ]
  },
  {
   "cell_type": "code",
   "execution_count": null,
   "metadata": {},
   "outputs": [],
   "source": [
    "compressed_pickle(my_path1, rating1)\n",
    "compressed_pickle(my_path2, rating2)\n",
    "compressed_pickle(my_path3, rating3)\n",
    "compressed_pickle(my_path4, rating4)\n",
    "compressed_pickle(my_path5, rating5)"
   ]
  },
  {
   "cell_type": "code",
   "execution_count": null,
   "metadata": {},
   "outputs": [],
   "source": [
    "# Retrieve our pickled dataframes\n",
    "\n",
    "rating1 = decompress_pickle(my_path1)\n",
    "rating2 = decompress_pickle(my_path2)\n",
    "rating3 = decompress_pickle(my_path3)\n",
    "rating4 = decompress_pickle(my_path4)\n",
    "rating5 = decompress_pickle(my_path5)"
   ]
  },
  {
   "cell_type": "markdown",
   "metadata": {},
   "source": [
    "# Word Frequency in all reviews"
   ]
  },
  {
   "cell_type": "code",
   "execution_count": null,
   "metadata": {},
   "outputs": [],
   "source": [
    "starttime = datetime.now()\n",
    "\n",
    "processedreviewrating1 = [item for elem in rating1['wordlistlem'] for item in elem]\n",
    "processedreviewrating2 = [item for elem in rating2['wordlistlem'] for item in elem]\n",
    "processedreviewrating3 = [item for elem in rating3['wordlistlem'] for item in elem]\n",
    "processedreviewrating4 = [item for elem in rating4['wordlistlem'] for item in elem]\n",
    "processedreviewrating5 = [item for elem in rating5['wordlistlem'] for item in elem]\n",
    "\n",
    "print(datetime.now() - starttime)\n",
    "print('------------')\n",
    "print(len(processedreviewrating1))\n",
    "print(len(processedreviewrating2))\n",
    "print(len(processedreviewrating3))\n",
    "print(len(processedreviewrating4))\n",
    "print(len(processedreviewrating5))"
   ]
  },
  {
   "cell_type": "code",
   "execution_count": null,
   "metadata": {},
   "outputs": [],
   "source": [
    "totalprocessedreviews = processedreviewrating1 + processedreviewrating2 + processedreviewrating3 + processedreviewrating4 + processedreviewrating5\n",
    "len(totalprocessedreviews)"
   ]
  },
  {
   "cell_type": "code",
   "execution_count": null,
   "metadata": {},
   "outputs": [],
   "source": [
    "review_freqdist = FreqDist(totalprocessedreviews)\n",
    "review_freqdist.most_common(20)"
   ]
  },
  {
   "cell_type": "code",
   "execution_count": null,
   "metadata": {
    "scrolled": true
   },
   "outputs": [],
   "source": [
    "mostcommonwords20 = review_freqdist.most_common(20)\n",
    "\n",
    "yaxis20 = [val[1] for val in mostcommonwords20]\n",
    "\n",
    "xaxis20 = [val[0] for val in mostcommonwords20]\n",
    "\n",
    "plt.figure(figsize=(18, 14))\n",
    "ax = sns.barplot(xaxis20, yaxis20)\n",
    "plt.title('Top 20 Most Common Words in Ragnarok Mobile Reviews', fontsize = 25)\n",
    "plt.ylabel('Frequency of word', fontsize = 20)\n",
    "plt.xticks(rotation=45, fontsize = 15)\n",
    "\n",
    "for p in ax.patches:\n",
    "             ax.annotate(\"%.2f\" % (p.get_height()*100/sum(yaxis20))+'%', (p.get_x() + p.get_width() / 2., p.get_height()),\n",
    "                 ha='center', va='center', fontsize=13, color='black', xytext=(0, 20),\n",
    "                 textcoords='offset points')"
   ]
  },
  {
   "cell_type": "markdown",
   "metadata": {},
   "source": [
    "# Top 20 words per Rating [Lemmatized]"
   ]
  },
  {
   "cell_type": "code",
   "execution_count": null,
   "metadata": {},
   "outputs": [],
   "source": [
    "uselesswords = ['game', 'play', 'get', 'still', 'would']\n",
    "processedreviewrating1[:] = [x for x in processedreviewrating1 if x not in uselesswords]"
   ]
  },
  {
   "cell_type": "code",
   "execution_count": null,
   "metadata": {
    "scrolled": true
   },
   "outputs": [],
   "source": [
    "review1_freqdist = FreqDist(processedreviewrating1)\n",
    "review1_freqdist.most_common(20)"
   ]
  },
  {
   "cell_type": "code",
   "execution_count": null,
   "metadata": {},
   "outputs": [],
   "source": [
    "mostcommonwords201 = review1_freqdist.most_common(20)\n",
    "\n",
    "yaxis201 = [val[1] for val in mostcommonwords201]\n",
    "\n",
    "xaxis201 = [val[0] for val in mostcommonwords201]\n",
    "\n",
    "plt.figure(figsize=(18, 14))\n",
    "ax = sns.barplot(xaxis201, yaxis201)\n",
    "plt.title('Top 20 Most Common Words in Ragnarok Mobile Reviews for Rating 1', fontsize = 25)\n",
    "plt.ylabel('Frequency of word', fontsize = 20)\n",
    "plt.xticks(rotation=45, fontsize = 15)\n",
    "\n",
    "for p in ax.patches:\n",
    "             ax.annotate(\"%.2f\" % (p.get_height()*100/sum(yaxis201))+'%', (p.get_x() + p.get_width() / 2., p.get_height()),\n",
    "                 ha='center', va='center', fontsize=13, color='black', xytext=(0, 20),\n",
    "                 textcoords='offset points')"
   ]
  },
  {
   "cell_type": "code",
   "execution_count": null,
   "metadata": {},
   "outputs": [],
   "source": [
    "processedreviewrating2[:] = [x for x in processedreviewrating2 if x not in uselesswords]"
   ]
  },
  {
   "cell_type": "code",
   "execution_count": null,
   "metadata": {
    "scrolled": true
   },
   "outputs": [],
   "source": [
    "review2_freqdist = FreqDist(processedreviewrating2)\n",
    "review2_freqdist.most_common(20)"
   ]
  },
  {
   "cell_type": "code",
   "execution_count": null,
   "metadata": {},
   "outputs": [],
   "source": [
    "mostcommonwords202 = review2_freqdist.most_common(20)\n",
    "\n",
    "yaxis202 = [val[1] for val in mostcommonwords202]\n",
    "\n",
    "xaxis202 = [val[0] for val in mostcommonwords202]\n",
    "\n",
    "plt.figure(figsize=(18, 14))\n",
    "ax = sns.barplot(xaxis202, yaxis202)\n",
    "plt.title('Top 20 Most Common Words in Ragnarok Mobile Reviews for Rating 2', fontsize = 25)\n",
    "plt.ylabel('Frequency of word', fontsize = 20)\n",
    "plt.xticks(rotation=45, fontsize = 15)\n",
    "\n",
    "for p in ax.patches:\n",
    "             ax.annotate(\"%.2f\" % (p.get_height()*100/sum(yaxis202))+'%', (p.get_x() + p.get_width() / 2., p.get_height()),\n",
    "                 ha='center', va='center', fontsize=13, color='black', xytext=(0, 20),\n",
    "                 textcoords='offset points')"
   ]
  },
  {
   "cell_type": "code",
   "execution_count": null,
   "metadata": {},
   "outputs": [],
   "source": [
    "processedreviewrating3[:] = [x for x in processedreviewrating3 if x not in uselesswords]"
   ]
  },
  {
   "cell_type": "code",
   "execution_count": null,
   "metadata": {
    "scrolled": true
   },
   "outputs": [],
   "source": [
    "review3_freqdist = FreqDist(processedreviewrating3)\n",
    "review3_freqdist.most_common(20)"
   ]
  },
  {
   "cell_type": "code",
   "execution_count": null,
   "metadata": {},
   "outputs": [],
   "source": [
    "mostcommonwords203 = review3_freqdist.most_common(20)\n",
    "\n",
    "yaxis203 = [val[1] for val in mostcommonwords203]\n",
    "\n",
    "xaxis203 = [val[0] for val in mostcommonwords203]\n",
    "\n",
    "plt.figure(figsize=(18, 14))\n",
    "ax = sns.barplot(xaxis203, yaxis203)\n",
    "plt.title('Top 20 Most Common Words in Ragnarok Mobile Reviews for Rating 3', fontsize = 25)\n",
    "plt.ylabel('Frequency of word', fontsize = 20)\n",
    "plt.xticks(rotation=45, fontsize = 15)\n",
    "\n",
    "for p in ax.patches:\n",
    "             ax.annotate(\"%.2f\" % (p.get_height()*100/sum(yaxis203))+'%', (p.get_x() + p.get_width() / 2., p.get_height()),\n",
    "                 ha='center', va='center', fontsize=13, color='black', xytext=(0, 20),\n",
    "                 textcoords='offset points')"
   ]
  },
  {
   "cell_type": "code",
   "execution_count": null,
   "metadata": {},
   "outputs": [],
   "source": [
    "processedreviewrating4[:] = [x for x in processedreviewrating4 if x not in uselesswords]"
   ]
  },
  {
   "cell_type": "code",
   "execution_count": null,
   "metadata": {
    "scrolled": true
   },
   "outputs": [],
   "source": [
    "review4_freqdist = FreqDist(processedreviewrating4)\n",
    "review4_freqdist.most_common(20)"
   ]
  },
  {
   "cell_type": "code",
   "execution_count": null,
   "metadata": {},
   "outputs": [],
   "source": [
    "mostcommonwords204 = review4_freqdist.most_common(20)\n",
    "\n",
    "yaxis204 = [val[1] for val in mostcommonwords204]\n",
    "\n",
    "xaxis204 = [val[0] for val in mostcommonwords204]\n",
    "\n",
    "plt.figure(figsize=(18, 14))\n",
    "ax = sns.barplot(xaxis204, yaxis204)\n",
    "plt.title('Top 20 Most Common Words in Ragnarok Mobile Reviews for Rating 4', fontsize = 25)\n",
    "plt.ylabel('Frequency of word', fontsize = 20)\n",
    "plt.xticks(rotation=45, fontsize = 15)\n",
    "\n",
    "for p in ax.patches:\n",
    "             ax.annotate(\"%.2f\" % (p.get_height()*100/sum(yaxis204))+'%', (p.get_x() + p.get_width() / 2., p.get_height()),\n",
    "                 ha='center', va='center', fontsize=13, color='black', xytext=(0, 20),\n",
    "                 textcoords='offset points')"
   ]
  },
  {
   "cell_type": "code",
   "execution_count": null,
   "metadata": {},
   "outputs": [],
   "source": [
    "processedreviewrating5[:] = [x for x in processedreviewrating5 if x not in uselesswords]"
   ]
  },
  {
   "cell_type": "code",
   "execution_count": null,
   "metadata": {
    "scrolled": true
   },
   "outputs": [],
   "source": [
    "review5_freqdist = FreqDist(processedreviewrating5)\n",
    "review5_freqdist.most_common(20)"
   ]
  },
  {
   "cell_type": "code",
   "execution_count": null,
   "metadata": {},
   "outputs": [],
   "source": [
    "mostcommonwords205 = review5_freqdist.most_common(20)\n",
    "\n",
    "yaxis205 = [val[1] for val in mostcommonwords205]\n",
    "\n",
    "xaxis205 = [val[0] for val in mostcommonwords205]\n",
    "\n",
    "plt.figure(figsize=(18, 14))\n",
    "ax = sns.barplot(xaxis205, yaxis205)\n",
    "plt.title('Top 20 Most Common Words in Ragnarok Mobile Reviews for Rating 5', fontsize = 25)\n",
    "plt.ylabel('Frequency of word', fontsize = 20)\n",
    "plt.xticks(rotation=45, fontsize = 15)\n",
    "\n",
    "for p in ax.patches:\n",
    "             ax.annotate(\"%.2f\" % (p.get_height()*100/sum(yaxis205))+'%', (p.get_x() + p.get_width() / 2., p.get_height()),\n",
    "                 ha='center', va='center', fontsize=13, color='black', xytext=(0, 20),\n",
    "                 textcoords='offset points')"
   ]
  },
  {
   "cell_type": "markdown",
   "metadata": {},
   "source": [
    "# Bigrams/Trigrams overall"
   ]
  },
  {
   "cell_type": "code",
   "execution_count": null,
   "metadata": {},
   "outputs": [],
   "source": [
    "def n_gramall(df_col, n=None):\n",
    "    # Build the vectorizer, specify inputted n-gram, remove stop words\n",
    "    vect = CountVectorizer(ngram_range = (n,n), stop_words = gramstopwords_list, min_df = 10)\n",
    "    # fit/transform vectorizer on specified column\n",
    "    vect_fit = vect.fit_transform(df_col.values.astype('U'))\n",
    "    # get all words and store in a list\n",
    "    word_list = vect.get_feature_names()\n",
    "    # get a count of all the words\n",
    "    count_list = vect_fit.toarray().sum(axis=0)\n",
    "    #create a dictionary of word to count pairings\n",
    "    count_dict = dict(zip(word_list, count_list))\n",
    "    # sort the dictionary to show highest counted words on top\n",
    "    sort_vocab = sorted(count_dict.items(), key=lambda x: x[1], reverse=True)\n",
    "    return sort_vocab"
   ]
  },
  {
   "cell_type": "code",
   "execution_count": null,
   "metadata": {},
   "outputs": [],
   "source": [
    "gramstopwords_list = stopwords.words('english') + list(string.punctuation)\n",
    "gramstopwords_list += [\"''\", '\"\"', '...', '``']"
   ]
  },
  {
   "cell_type": "code",
   "execution_count": null,
   "metadata": {
    "scrolled": true
   },
   "outputs": [],
   "source": [
    "bigramall = n_gramall(df['content'], n=2)\n",
    "bigramall[:20]"
   ]
  },
  {
   "cell_type": "code",
   "execution_count": null,
   "metadata": {},
   "outputs": [],
   "source": [
    "mostcommonwords20bigram = bigramall[:20]\n",
    "\n",
    "yaxis20bigram = [val[1] for val in mostcommonwords20bigram]\n",
    "\n",
    "xaxis20biram = [val[0] for val in mostcommonwords20bigram]\n",
    "\n",
    "plt.figure(figsize=(18, 14))\n",
    "ax = sns.barplot(xaxis20biram, yaxis20bigram, palette =\"rocket_r\")\n",
    "plt.title('Top 20 Most Bigrams in Ragnarok Mobile Reviews Overall', fontsize = 25)\n",
    "plt.ylabel('Frequency of word', fontsize = 20)\n",
    "plt.xticks(rotation=45, fontsize = 15, ha='right')\n",
    "\n",
    "\n",
    "for p in ax.patches:\n",
    "             ax.annotate(\"%.2f\" % (p.get_height()*100/sum(yaxis20bigram))+'%', (p.get_x() + p.get_width() / 2., p.get_height()),\n",
    "                 ha='center', va='center', fontsize=13, color='black', xytext=(0, 20),\n",
    "                 textcoords='offset points')"
   ]
  },
  {
   "cell_type": "code",
   "execution_count": null,
   "metadata": {
    "scrolled": false
   },
   "outputs": [],
   "source": [
    "trigramall = n_gramall(df['content'], n=3)\n",
    "trigramall[:20]"
   ]
  },
  {
   "cell_type": "code",
   "execution_count": null,
   "metadata": {},
   "outputs": [],
   "source": [
    "mostcommonwords20trigram = trigramall[:20]\n",
    "\n",
    "yaxis20trigram = [val[1] for val in mostcommonwords20trigram]\n",
    "\n",
    "xaxis20triram = [val[0] for val in mostcommonwords20trigram]\n",
    "\n",
    "plt.figure(figsize=(18, 14))\n",
    "ax = sns.barplot(xaxis20triram, yaxis20trigram, palette =\"cubehelix\")\n",
    "plt.title('Top 20 Most Trigrams in Mobile Game Reviews Overall', fontsize = 25)\n",
    "plt.ylabel('Frequency of word', fontsize = 20)\n",
    "plt.xticks(rotation=45, fontsize = 15, ha='right')\n",
    "\n",
    "for p in ax.patches:\n",
    "             ax.annotate(\"%.2f\" % (p.get_height()*100/sum(yaxis20trigram))+'%', (p.get_x() + p.get_width() / 2., p.get_height()),\n",
    "                 ha='center', va='center', fontsize=13, color='black', xytext=(0, 20),\n",
    "                 textcoords='offset points')"
   ]
  },
  {
   "cell_type": "markdown",
   "metadata": {},
   "source": [
    "# Bigrams/Trigrams for specific ratings"
   ]
  },
  {
   "cell_type": "code",
   "execution_count": null,
   "metadata": {
    "scrolled": false
   },
   "outputs": [],
   "source": [
    "# Rating 1\n",
    "\n",
    "bigram1 = n_gramall(rating1['content'], n=2)\n",
    "bigram1[:20]"
   ]
  },
  {
   "cell_type": "code",
   "execution_count": null,
   "metadata": {},
   "outputs": [],
   "source": [
    "mostcommonwords201bi = bigram1[:20]\n",
    "\n",
    "yaxis201bi = [val[1] for val in mostcommonwords201bi]\n",
    "\n",
    "xaxis201bi = [val[0] for val in mostcommonwords201bi]\n",
    "\n",
    "plt.figure(figsize=(18, 14))\n",
    "ax = sns.barplot(xaxis201bi, yaxis201bi, palette =\"vlag_r\")\n",
    "plt.title('Top 20 Most Common Bigrams in Ragnarok Mobile Reviews for 1 Rating', fontsize = 25)\n",
    "plt.ylabel('Frequency of word', fontsize = 20)\n",
    "plt.xticks(rotation=45, fontsize = 15, ha='right')\n",
    "\n",
    "\n",
    "for p in ax.patches:\n",
    "             ax.annotate(\"%.2f\" % (p.get_height()*100/sum(yaxis201bi))+'%', (p.get_x() + p.get_width() / 2., p.get_height()),\n",
    "                 ha='center', va='center', fontsize=13, color='black', xytext=(0, 20),\n",
    "                 textcoords='offset points')"
   ]
  },
  {
   "cell_type": "code",
   "execution_count": null,
   "metadata": {
    "scrolled": false
   },
   "outputs": [],
   "source": [
    "trigram1 = n_gramall(rating1['content'], n=3)\n",
    "trigram1[:20]"
   ]
  },
  {
   "cell_type": "markdown",
   "metadata": {},
   "source": [
    "-------"
   ]
  },
  {
   "cell_type": "code",
   "execution_count": null,
   "metadata": {},
   "outputs": [],
   "source": [
    "# Rating 2\n",
    "\n",
    "bigram2 = n_gramall(rating2['content'], n=2)\n",
    "bigram2[:20]"
   ]
  },
  {
   "cell_type": "code",
   "execution_count": null,
   "metadata": {
    "scrolled": false
   },
   "outputs": [],
   "source": [
    "# Returns nothing.\n",
    "\n",
    "#trigram2 = n_gramall(rating2['content'], n=3)\n",
    "#trigram2[:20]"
   ]
  },
  {
   "cell_type": "markdown",
   "metadata": {},
   "source": [
    "--------"
   ]
  },
  {
   "cell_type": "code",
   "execution_count": null,
   "metadata": {
    "scrolled": false
   },
   "outputs": [],
   "source": [
    "# Rating 3\n",
    "\n",
    "bigram3 = n_gramall(rating3['content'], n=2)\n",
    "bigram3[:20]"
   ]
  },
  {
   "cell_type": "code",
   "execution_count": null,
   "metadata": {},
   "outputs": [],
   "source": [
    "mostcommonwords203bi = bigram3[:20]\n",
    "\n",
    "yaxis203bi = [val[1] for val in mostcommonwords203bi]\n",
    "\n",
    "xaxis203bi = [val[0] for val in mostcommonwords203bi]\n",
    "\n",
    "plt.figure(figsize=(18, 14))\n",
    "ax = sns.barplot(xaxis203bi, yaxis203bi, palette =\"Spectral\")\n",
    "plt.title('Top 20 Most Common Bigrams in Mobile Game Reviews for 3 Rating', fontsize = 25)\n",
    "plt.ylabel('Frequency of word', fontsize = 20)\n",
    "plt.xticks(rotation=45, fontsize = 15, ha='right')\n",
    "\n",
    "\n",
    "for p in ax.patches:\n",
    "             ax.annotate(\"%.2f\" % (p.get_height()*100/sum(yaxis203bi))+'%', (p.get_x() + p.get_width() / 2., p.get_height()),\n",
    "                 ha='center', va='center', fontsize=13, color='black', xytext=(0, 20),\n",
    "                 textcoords='offset points')"
   ]
  },
  {
   "cell_type": "code",
   "execution_count": null,
   "metadata": {},
   "outputs": [],
   "source": [
    "# Returns nothing.\n",
    "\n",
    "#trigram3 = n_gramall(rating3['content'], n=3)\n",
    "#trigram3[:20]"
   ]
  },
  {
   "cell_type": "markdown",
   "metadata": {},
   "source": [
    "---------"
   ]
  },
  {
   "cell_type": "code",
   "execution_count": null,
   "metadata": {},
   "outputs": [],
   "source": [
    "# Rating 4\n",
    "\n",
    "bigram4 = n_gramall(rating4['content'], n=2)\n",
    "bigram4[:20]"
   ]
  },
  {
   "cell_type": "code",
   "execution_count": null,
   "metadata": {},
   "outputs": [],
   "source": [
    "mostcommonwords204bi = bigram4[:20]\n",
    "\n",
    "yaxis204bi = [val[1] for val in mostcommonwords204bi]\n",
    "\n",
    "xaxis204bi = [val[0] for val in mostcommonwords204bi]\n",
    "\n",
    "plt.figure(figsize=(18, 14))\n",
    "ax = sns.barplot(xaxis204bi, yaxis204bi, palette =\"Spectral\")\n",
    "plt.title('Top 20 Most Common Bigrams in Mobile Game Reviews for 5 Rating', fontsize = 25)\n",
    "plt.ylabel('Frequency of word', fontsize = 20)\n",
    "plt.xticks(rotation=45, fontsize = 15, ha='right')\n",
    "\n",
    "\n",
    "for p in ax.patches:\n",
    "             ax.annotate(\"%.2f\" % (p.get_height()*100/sum(yaxis205bi))+'%', (p.get_x() + p.get_width() / 2., p.get_height()),\n",
    "                 ha='center', va='center', fontsize=13, color='black', xytext=(0, 20),\n",
    "                 textcoords='offset points')"
   ]
  },
  {
   "cell_type": "code",
   "execution_count": null,
   "metadata": {},
   "outputs": [],
   "source": [
    "# Returns nothing.\n",
    "\n",
    "#trigram4 = n_gramall(rating4['content'], n=3)\n",
    "#trigram4[:20]"
   ]
  },
  {
   "cell_type": "markdown",
   "metadata": {},
   "source": [
    "------"
   ]
  },
  {
   "cell_type": "code",
   "execution_count": null,
   "metadata": {},
   "outputs": [],
   "source": [
    "# Rating 5\n",
    "\n",
    "bigram5 = n_gramall(rating5['content'], n=2)\n",
    "bigram5[:20]"
   ]
  },
  {
   "cell_type": "code",
   "execution_count": null,
   "metadata": {},
   "outputs": [],
   "source": [
    "mostcommonwords205bi = bigram5[:20]\n",
    "\n",
    "yaxis205bi = [val[1] for val in mostcommonwords205bi]\n",
    "\n",
    "xaxis205bi = [val[0] for val in mostcommonwords205bi]\n",
    "\n",
    "plt.figure(figsize=(18, 14))\n",
    "ax = sns.barplot(xaxis205bi, yaxis205bi, palette =\"Spectral\")\n",
    "plt.title('Top 20 Most Common Bigrams in Mobile Game Reviews for 5 Rating', fontsize = 25)\n",
    "plt.ylabel('Frequency of word', fontsize = 20)\n",
    "plt.xticks(rotation=45, fontsize = 15, ha='right')\n",
    "\n",
    "\n",
    "for p in ax.patches:\n",
    "             ax.annotate(\"%.2f\" % (p.get_height()*100/sum(yaxis205bi))+'%', (p.get_x() + p.get_width() / 2., p.get_height()),\n",
    "                 ha='center', va='center', fontsize=13, color='black', xytext=(0, 20),\n",
    "                 textcoords='offset points')"
   ]
  },
  {
   "cell_type": "code",
   "execution_count": null,
   "metadata": {},
   "outputs": [],
   "source": [
    "trigram5 = n_gramall(rating5['content'], n=3)\n",
    "trigram5[:20]"
   ]
  }
 ],
 "metadata": {
  "kernelspec": {
   "display_name": "Python 3",
   "language": "python",
   "name": "python3"
  },
  "language_info": {
   "codemirror_mode": {
    "name": "ipython",
    "version": 3
   },
   "file_extension": ".py",
   "mimetype": "text/x-python",
   "name": "python",
   "nbconvert_exporter": "python",
   "pygments_lexer": "ipython3",
   "version": "3.7.6"
  }
 },
 "nbformat": 4,
 "nbformat_minor": 4
}
