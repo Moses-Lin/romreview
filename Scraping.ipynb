{
 "cells": [
  {
   "cell_type": "markdown",
   "metadata": {},
   "source": [
    "# Ragnarok Mobile Review Scraping"
   ]
  },
  {
   "cell_type": "code",
   "execution_count": 1,
   "metadata": {
    "scrolled": true
   },
   "outputs": [
    {
     "name": "stdout",
     "output_type": "stream",
     "text": [
      "Requirement already satisfied: google-play-scraper in /opt/anaconda3/envs/learn-env/lib/python3.6/site-packages (0.1.2)\r\n"
     ]
    }
   ],
   "source": [
    "# Will be using this to get information on each app in the Google Play Store based on appid\n",
    "# Information can be found here https://github.com/JoMingyu/google-play-scraper\n",
    "\n",
    "!pip install 'google-play-scraper'"
   ]
  },
  {
   "cell_type": "code",
   "execution_count": 2,
   "metadata": {},
   "outputs": [
    {
     "name": "stdout",
     "output_type": "stream",
     "text": [
      "Collecting app-store-scraper\n",
      "  Using cached https://files.pythonhosted.org/packages/ba/2e/35eb1628b550d5e936f0a9171c1e3ea978288849693d3c6daab9e74cbab9/app_store_scraper-0.3.5-py3-none-any.whl\n",
      "Collecting requests==2.23.0 (from app-store-scraper)\n",
      "  Using cached https://files.pythonhosted.org/packages/1a/70/1935c770cb3be6e3a8b78ced23d7e0f3b187f5cbfab4749523ed65d7c9b1/requests-2.23.0-py2.py3-none-any.whl\n",
      "Requirement already satisfied: chardet<4,>=3.0.2 in /opt/anaconda3/envs/learn-env/lib/python3.6/site-packages (from requests==2.23.0->app-store-scraper) (3.0.4)\n",
      "Requirement already satisfied: idna<3,>=2.5 in /opt/anaconda3/envs/learn-env/lib/python3.6/site-packages (from requests==2.23.0->app-store-scraper) (2.8)\n",
      "Requirement already satisfied: certifi>=2017.4.17 in /opt/anaconda3/envs/learn-env/lib/python3.6/site-packages (from requests==2.23.0->app-store-scraper) (2020.6.20)\n",
      "Requirement already satisfied: urllib3!=1.25.0,!=1.25.1,<1.26,>=1.21.1 in /opt/anaconda3/envs/learn-env/lib/python3.6/site-packages (from requests==2.23.0->app-store-scraper) (1.24.2)\n",
      "Installing collected packages: requests, app-store-scraper\n",
      "  Found existing installation: requests 2.10.0\n",
      "    Uninstalling requests-2.10.0:\n",
      "      Successfully uninstalled requests-2.10.0\n",
      "Successfully installed app-store-scraper-0.3.5 requests-2.23.0\n"
     ]
    }
   ],
   "source": [
    "# Will be using this to get information on each app in the Apple App Store based on appid\n",
    "# Information can be found here https://github.com/cowboy-bebug/app-store-scraper\n",
    "\n",
    "!pip install 'app-store-scraper'"
   ]
  },
  {
   "cell_type": "code",
   "execution_count": 3,
   "metadata": {},
   "outputs": [],
   "source": [
    "import requests\n",
    "import datetime\n",
    "from datetime import datetime\n",
    "import time\n",
    "import pandas as pd"
   ]
  },
  {
   "cell_type": "markdown",
   "metadata": {},
   "source": [
    "=================================================================================================================="
   ]
  },
  {
   "cell_type": "markdown",
   "metadata": {},
   "source": [
    "# Getting general information about the game from the Google Play Store"
   ]
  },
  {
   "cell_type": "markdown",
   "metadata": {},
   "source": [
    "- Global ROM = \"https://play.google.com/store/apps/details?id=com.gravity.romNAg\"\n",
    "- SEA ROM = \"https://play.google.com/store/apps/details?id=com.gravity.romg\"\n",
    "- EU ROM = \"https://play.google.com/store/apps/details?id=com.gravity.romEUg\""
   ]
  },
  {
   "cell_type": "code",
   "execution_count": 4,
   "metadata": {},
   "outputs": [],
   "source": [
    "# This will do most of the work for us.\n",
    "\n",
    "from google_play_scraper import app\n",
    "\n",
    "# Doing a test run.\n",
    "result = app(\n",
    "    'com.gravity.romNAg',\n",
    "    lang='en',\n",
    "    country='us'\n",
    ")"
   ]
  },
  {
   "cell_type": "code",
   "execution_count": 5,
   "metadata": {},
   "outputs": [
    {
     "data": {
      "text/plain": [
       "{'title': 'Ragnarok M: Eternal Love(ROM)',\n",
       " 'description': 'Dear Adventurers,\\r\\n\\r\\n\"Ragnarok M: Eternal Love\" has been with you for more than a thousand days. Together we\\'ve experienced and witnessed many stories about gathering and parting. Now, a new era is coming!\\r\\n\\r\\nTo welcome the coming new era, various teasers about this new release can be seen. A brand new map \"Moon Lake\" and new Main Plot Stories will lead you to a secret about the moon and rainbow. The new multi-player gameplay mode will brings you a more exciting team confrontation. And the new Free Angle mode will improve your overall adventure experience!\\r\\n\\r\\nGet ready and bring friends along. Let\\'s enter the new era of greater freedom and beauty!\\r\\n\\r\\nEP 7.5 [Moon\\'s Echo] official release! Follow Fate\\'s new guidance. Look for Traces of Rainbow Light!\\r\\n\\r\\n-New map [Moon Lake] unlocks a new chapter of destiny\\r\\nIn a faraway galaxy, the moon lingered alone outside Yggdrasill. New map [Moon Lake] and server grand event [Rainbow Fall] are released. Follow the Goddess of Fate\\'s guidance to find out the secrets of the Rainbow Bridge and the New Continent…\\r\\n\\r\\n-New 12V12 Competition [Holy Ground War] Battle of the Best\\r\\nUnderneath Raahe the subterranean flow is turbulent. The war between the Dove Faction and Hawk Faction has escalated once again! New 12V12 Competition gameplay mode [Holy Ground War] is released. Fight for resources, attack the enemy and defend your tower lines. Regular season and Cup Championship will take place alternately. Fight and become the best team of 12!\\r\\n\\r\\n-Full Angle Vision unlocked. Visual quality is upgraded once again\\r\\nClassic scenes are presented in full 3D now. Our visual effects have upgraded again since the last 60 fps High Resolution release! Full Angle Vision enables players to capture the finest details. More detailed characters, smoother actions, new facial expressions, and better hair light effects and skill special effects.\\r\\n\\r\\n-Varied Gameplay. No More All-nighters\\r\\nWe\\'ve continued improving and enriching our gameplay: 12V12 Match, Eternal Corridor, Thanatos Tower, and more. In the meantime, we have removed some boring daily quests and lengthy content. To ensure you\\'re not stressed at the cost of having fun in your daily adventures.',\n",
       " 'descriptionHTML': 'Dear Adventurers,<br><br>&quot;Ragnarok M: Eternal Love&quot; has been with you for more than a thousand days. Together we&#39;ve experienced and witnessed many stories about gathering and parting. Now, a new era is coming!<br><br>To welcome the coming new era, various teasers about this new release can be seen. A brand new map &quot;Moon Lake&quot; and new Main Plot Stories will lead you to a secret about the moon and rainbow. The new multi-player gameplay mode will brings you a more exciting team confrontation. And the new Free Angle mode will improve your overall adventure experience!<br><br>Get ready and bring friends along. Let&#39;s enter the new era of greater freedom and beauty!<br><br>EP 7.5 [Moon&#39;s Echo] official release! Follow Fate&#39;s new guidance. Look for Traces of Rainbow Light!<br><br>-New map [Moon Lake] unlocks a new chapter of destiny<br>In a faraway galaxy, the moon lingered alone outside Yggdrasill. New map [Moon Lake] and server grand event [Rainbow Fall] are released. Follow the Goddess of Fate&#39;s guidance to find out the secrets of the Rainbow Bridge and the New Continent…<br><br>-New 12V12 Competition [Holy Ground War] Battle of the Best<br>Underneath Raahe the subterranean flow is turbulent. The war between the Dove Faction and Hawk Faction has escalated once again! New 12V12 Competition gameplay mode [Holy Ground War] is released. Fight for resources, attack the enemy and defend your tower lines. Regular season and Cup Championship will take place alternately. Fight and become the best team of 12!<br><br>-Full Angle Vision unlocked. Visual quality is upgraded once again<br>Classic scenes are presented in full 3D now. Our visual effects have upgraded again since the last 60 fps High Resolution release! Full Angle Vision enables players to capture the finest details. More detailed characters, smoother actions, new facial expressions, and better hair light effects and skill special effects.<br><br>-Varied Gameplay. No More All-nighters<br>We&#39;ve continued improving and enriching our gameplay: 12V12 Match, Eternal Corridor, Thanatos Tower, and more. In the meantime, we have removed some boring daily quests and lengthy content. To ensure you&#39;re not stressed at the cost of having fun in your daily adventures.',\n",
       " 'summary': 'The classic adventure returns',\n",
       " 'summaryHTML': 'The classic adventure returns',\n",
       " 'installs': '1,000,000+',\n",
       " 'minInstalls': 1000000,\n",
       " 'score': 3.9042878,\n",
       " 'ratings': 78024,\n",
       " 'reviews': 38289,\n",
       " 'histogram': [14657, 3096, 4849, 7876, 47546],\n",
       " 'price': 0,\n",
       " 'free': True,\n",
       " 'currency': 'USD',\n",
       " 'sale': False,\n",
       " 'saleTime': None,\n",
       " 'originalPrice': None,\n",
       " 'saleText': None,\n",
       " 'offersIAP': True,\n",
       " 'inAppProductPrice': '$0.99 - $99.99 per item',\n",
       " 'size': '71M',\n",
       " 'androidVersion': '5.0',\n",
       " 'androidVersionText': '5.0 and up',\n",
       " 'developer': 'Gravity Interactive, Inc.',\n",
       " 'developerId': '7827533453560141672',\n",
       " 'developerEmail': 'global.support@ro.com',\n",
       " 'developerWebsite': 'https://www.facebook.com/PlayRagnarokMGlobal/',\n",
       " 'developerAddress': '7001 Village Drive, Suite 150\\nBuena Park, CA 90621',\n",
       " 'privacyPolicy': 'https://www.romelglobal.com/introduction/privacy.html',\n",
       " 'developerInternalID': '7827533453560141672',\n",
       " 'genre': 'Role Playing',\n",
       " 'genreId': 'GAME_ROLE_PLAYING',\n",
       " 'icon': 'https://play-lh.googleusercontent.com/D2COIEBnxJkLuGjnKZk9rdZUgrNGd3tHoV0RkKEA-g4PiBcv80_hiDW_-CC8kudLXhc',\n",
       " 'headerImage': 'https://play-lh.googleusercontent.com/RHxhFjvR5rS8sC315yVg2EqJqbNtbad1004y1ENk1M6VCjXmlHinY1Gzuza2dtxqZxGJ',\n",
       " 'screenshots': ['https://play-lh.googleusercontent.com/dU8Jq5XI08QUto46vfSacycP8ssRvkzKOVOZvhPdtEVHMGtXyQdpPPDjTcdfASFBBq0',\n",
       "  'https://play-lh.googleusercontent.com/hnHoIZZY6zmK1bVUSctFhwjd9-lppphEu1uEwRil7pt08BBWmvxKdLwL_aazT7gLaEFa',\n",
       "  'https://play-lh.googleusercontent.com/W9DXFILilCBpskk3ADS4GHiw-02x8CA3x2hNM3dpjQQTSZbRE3t2kDgr2v3a3cuPQDI',\n",
       "  'https://play-lh.googleusercontent.com/DMA8TPsmR5EDsetFT_PibwzRI8SC4NaajjMvXKSa75eDoQJFKUxkh_yXQcyAA-mB3QyE',\n",
       "  'https://play-lh.googleusercontent.com/VtCTTeU45M2JYURe-UaqTOrmclPRQkF0K_-n-wkRX6vWhzZb42hOHW0jBd2Ltbc_DCk',\n",
       "  'https://play-lh.googleusercontent.com/FKsUFBnTTSdpfb94EYQmeN5gw3DlAwE_lsB6580BhEEcWMQISh2r-s776B-oQDBaqJE',\n",
       "  'https://play-lh.googleusercontent.com/l2ghda7ntAMBHM3B-SxLrbBcSRIAsr0SDeDg_Pcea4gxkGV4iFd0dBUWnR-91e-dJgQ',\n",
       "  'https://play-lh.googleusercontent.com/c48De2wKOWFCXYuzmEKnies-0E1wgOHXQWvVRdlyt6zdOw1B0tFyU2-9ZdOpSLqkfLg',\n",
       "  'https://play-lh.googleusercontent.com/cuA7MdGH7JJZfQC7WMl6ZMD8E69r1ry9c1RprksKnGq2SNzB51XVcjV5Jr8RtYrW_Q',\n",
       "  'https://play-lh.googleusercontent.com/ToYQg4HiaRvUxv_C7rL_MhQl-4kW4odgYStpc_0J4jNx6jC1iYR1G1pg0Wq_GK9S3xhi',\n",
       "  'https://play-lh.googleusercontent.com/fsSUHL3L-NfnYgWDFBYhbl9wvDmndIu7BWQAg56jPD98wXZBtecxh22pnvja_YGKZPgI',\n",
       "  'https://play-lh.googleusercontent.com/hQC0axibVmVCPg8YRCt1diezWxM_mMkkYVRCB6YG2WzyIhE4OT6ncyBpFaWjM851s8hy',\n",
       "  'https://play-lh.googleusercontent.com/bGjViSUncAqhogqG9vpauqfWEkZ9Ch5l_ptZ64ZDLNtcIVHYka52TcDSRB9BWEb5KrM',\n",
       "  'https://play-lh.googleusercontent.com/g6EIBwx50C72l6jGnl-vSIHbDFOnTYa69ANCvCkLOqxpGDQu-8r3FzVKhsNSQ-oGDTs',\n",
       "  'https://play-lh.googleusercontent.com/BlH-qIuplrCNyPCkH202ztT9dH5b_rQk4rhjbtw3SvW5VpNM3sz_wtrRp1O1ILPWPQ',\n",
       "  'https://play-lh.googleusercontent.com/sGOpes05bbYBlf-lsf2Zrh0PcwY8RmQmaHNJJq7hGzv9tOmI4YPb2VB7jfPlW_a5LjQ',\n",
       "  'https://play-lh.googleusercontent.com/h9lpBdPfD77RQdp96DcDbcu6IAa4GLWYjGVdTKfGiSpkYwR0Kb3aET0rt_x5mKJUEwQ',\n",
       "  'https://play-lh.googleusercontent.com/BGkTkfFrqj25zazviq_mb2yrwfd89IyWdEx-1yGIpaH46jSOjohjYqsKkAQsTjNctk8'],\n",
       " 'video': 'https://www.youtube.com/embed/znhWGooJf2Q?ps=play&vq=large&rel=0&autohide=1&showinfo=0',\n",
       " 'videoImage': 'https://i.ytimg.com/vi/znhWGooJf2Q/hqdefault.jpg',\n",
       " 'contentRating': 'Teen',\n",
       " 'contentRatingDescription': 'Violence, Blood',\n",
       " 'adSupported': None,\n",
       " 'containsAds': False,\n",
       " 'released': 'Jan 8, 2019',\n",
       " 'updated': 1606371659,\n",
       " 'version': '1.2.6',\n",
       " 'recentChanges': \"EP 7.5 [Moon's Echo] begins. Follow Fate's new guidance. Look for Traces of Rainbow Light!\\r\\n\\r\\n-New map [Moon Lake]\\r\\n-Server Grand Event [Rainbow Fall]\\r\\n-New 12V12 Competition [Holy Ground War]\\r\\n-[Full Angle Vision] unlocked\",\n",
       " 'recentChangesHTML': 'EP 7.5 [Moon&#39;s Echo] begins. Follow Fate&#39;s new guidance. Look for Traces of Rainbow Light!<br><br>-New map [Moon Lake]<br>-Server Grand Event [Rainbow Fall]<br>-New 12V12 Competition [Holy Ground War]<br>-[Full Angle Vision] unlocked',\n",
       " 'comments': [\"Nostalgia and a whole lot of gacha The game is a great wave of nostalgia for those who played and enjoyed the original pc version. Though this game is free to play, you'll hit the pay wall soon enough (though you can still be semi-competetive free to play). Would've rated it perfect if not for the..well..gacha lol\",\n",
       "  \"A lot to take in if you haven't experienced this game before. Some silly Engrish at times but overall has been fun so far. One account supports multiple characters and you absolutely need to raise multiple ones if you want to progress at a certain point. It's a grind fest, but it's overall f2p to enjoy the base game and progress a main account with help of alts.\",\n",
       "  'Interesting MMORPG that has a lot of depth and systems. Documentation is not as clear as it should be but tons of friendly players and resources online to help you. One negative is gacha aspect of certain equipment but able to play and advance without need of gacha equipment.',\n",
       "  \"It's a nice game. I personally liked it. But there is only one problem which face regularly i.e it lags a lot while doing event quest or playing with other members.\",\n",
       "  'This new patch update made the game so laggy, that it takes more than 30 seconds to load when I warp from one map to another. The screen freezes while I was hunting MVP. Several occuring in some certain events.',\n",
       "  \"The ragnarok experience, in a phone format. When you love the series, it's hard not to enjoy each iteration, and this version fits that scenario. It's a wonderful game series, and those familiar will be familiar with it's nuances and quirks; those are here too.\",\n",
       "  \"This update is awful for emulators. What happened to resolution selection? without being able to pick native it's like playing in a ugly fuzzy mess. and go back to the eyeball button, this limiting movement from only far left side is irritating. and while you're at it, fix that ranged attacks you can't see damage being done. How can you put out something this sloppy as an update. But you'll still want the money for them Gacha's though, huh?\",\n",
       "  'decent modernization while keeping the old feel. still a mobile game so expect pay to win. wish it was better optimized too. Events are very haphazard and need clarity',\n",
       "  \"doesn't work well at all. on screen controls don't work, it let's me move but i can't interact with anything. can't access settings can't do anything really except walk around. disappointing to say the least. seems like it's optimized for potatoes\",\n",
       "  'Recent update made the game unusable on my gaming tablet and even on my phone. The game is super laggy cant even see the screen properly on my tablet, phone gets super warm. Fix those issue please.',\n",
       "  \"Awful. With the recent update, I am unable to switch to my main account and am now stuck with an account that I don't even play. Hope they fix this or I will Uninstall the game as I put too much effort into my main account.\",\n",
       "  'This game was awesome but now even monthly events circle heavily on BCC (cash) and almost everything is definitely overpriced.',\n",
       "  \"Might be cool, if they taught you how to sit and regenerate hps but they don't and there is no skill to allow you to sit that I've seen games lacks tutorial direction. Go ahead and try to sit if it takes you more than 5 minutes Uninstall\",\n",
       "  \"Seems like a good time killer, especially if you enjoy older mmo's. I findem super relaxing.\",\n",
       "  'Been playing ever since it came out and every new patch is about pay to win gacha. Free ticket rolls are useless since the rare gacha items are impossible to get.',\n",
       "  'please fix settings, game resolution is now bugged. game wont load in full screen....',\n",
       "  'very cool scenario and design, but poorly managed and lots of bugs',\n",
       "  'New update, more bugs and drop in performance, need to use emulator instead of phone now',\n",
       "  \"I'm very familiar in this game, and I've found a good friend while playing and it becomes more fun to me\",\n",
       "  \"I love it! It's a nice upgrade of my favorite childhood mmo. Perfect!\",\n",
       "  'Great game.. but the gacha odds are so bad and expensive.',\n",
       "  'Dissapointed about the last update with bugs and graphics delay now and the people inside game',\n",
       "  \"It's an entertaining game, but the experience is completely ruined by its whoever is in charge of the global version, who clearly cares nothing about it and just want a quick money grab. There's no support whatsoever, unlike the versions of this game from other areas in the world, and to make it worst, most paid services and items are more expensive here than in those other versions, which further supports the notion that these devs just don't care and are interested in milking it for money.\",\n",
       "  'Fun to play with friends. A little p2w though',\n",
       "  \"Been playing online games since the 90's and this is a solid game, you buy your equipement with the currency in-game and up your skills also with the same. If you wish, you can spend a little $$ to get small bonus upgrades. But its nothing significant unless you spend thousands which would be stupid in my opinion.\",\n",
       "  'An epic remake! I just wish it was less of a cash grab in some cases, but the gotcha mechanics are much more rewarding than games like Eternal Sword or Tales of Wind. Great fixes, so much more balanced than the old Ragnarok Online, and a lot more to do!',\n",
       "  'I used to play Ragnarok on PC ages ago, and this is an awesome update to it. If you liked the original and are looking for something in that vein on mobile this definitely has that feel.',\n",
       "  'I love playing this game its alot of fun but can get expensive',\n",
       "  'years of playing on pc and this version came out amazing for phone.',\n",
       "  \"I was a big fan when this came out mobile. I've out a lot of hours into this too. But now.. like most review it is heavily Pay to win.... And if you do the gacha rates are horrible...\",\n",
       "  'Having Problems Starting the game it saying Hello, Adventure, Cannot access the needed resources. The current Version 590843 Please wait up or contact game service What can I do to make the game work I played the game before and starting to miss the gameplay',\n",
       "  \"It crashes a lot. I've turned down all the settings and it still lags in the main city. I search for something to buy off the market and my keyboard won't pop up. Please let us be able to turn off shadows!\",\n",
       "  \"It's a nice game at the moment of my first experience, but the app keeps kicking me out randomly and I can't even sign up my google account on this app. So far that's my main problem at the moment.\",\n",
       "  'To think you can have the whole world of Ragnarok in the palm of your hand! Nostalgic and dynamic, you can definitely play the game as a free user.',\n",
       "  \"Just wish there wasn't level deterioration on drops. Its makes it hard to farm loots that are already very low drop rate. Definitely hits the spot though. If you played old ro\",\n",
       "  'The game was great unfortunately developers cannot control add-on players or bots to roam around freely and ruin the game and its all about MONEY TALKS when it comes to a pretty good favor',\n",
       "  \"It brings back memories when I was a child and used to play with my classmates. Pure gacha scam and it's crowded with bots. They are everywhere .\",\n",
       "  \"They keep making it more and more pay-to-win. It actually sucks when they release new content. In new EQ extract system after you extract a +10 gear people say you have a 1% chance that you'll roll a 10 to activate its effect. I spent $100 and the highest I rolled was only an 8... and +10 is supposed to be easy compared to +15. They made the new corridor dungeon 31-60 so difficult even the top 1% get wrecked, you have to spend $ on a multi job that has stealth to complete weekly\",\n",
       "  'Love the game a few flaws but still enjoyable',\n",
       "  'Awesome, just like good old times, but even better!!'],\n",
       " 'appId': 'com.gravity.romNAg',\n",
       " 'url': 'https://play.google.com/store/apps/details?id=com.gravity.romNAg&hl=en&gl=us'}"
      ]
     },
     "execution_count": 5,
     "metadata": {},
     "output_type": "execute_result"
    }
   ],
   "source": [
    "# Checking what I get in the dictionary.\n",
    "\n",
    "result"
   ]
  },
  {
   "cell_type": "code",
   "execution_count": 6,
   "metadata": {},
   "outputs": [
    {
     "data": {
      "text/plain": [
       "dict_keys(['title', 'description', 'descriptionHTML', 'summary', 'summaryHTML', 'installs', 'minInstalls', 'score', 'ratings', 'reviews', 'histogram', 'price', 'free', 'currency', 'sale', 'saleTime', 'originalPrice', 'saleText', 'offersIAP', 'inAppProductPrice', 'size', 'androidVersion', 'androidVersionText', 'developer', 'developerId', 'developerEmail', 'developerWebsite', 'developerAddress', 'privacyPolicy', 'developerInternalID', 'genre', 'genreId', 'icon', 'headerImage', 'screenshots', 'video', 'videoImage', 'contentRating', 'contentRatingDescription', 'adSupported', 'containsAds', 'released', 'updated', 'version', 'recentChanges', 'recentChangesHTML', 'comments', 'appId', 'url'])"
      ]
     },
     "execution_count": 6,
     "metadata": {},
     "output_type": "execute_result"
    }
   ],
   "source": [
    "# Checking which keys I want to keep to use as features.\n",
    "\n",
    "result.keys()"
   ]
  },
  {
   "cell_type": "code",
   "execution_count": 7,
   "metadata": {},
   "outputs": [],
   "source": [
    "featurekeys = ['title', 'installs', 'minInstalls', 'score', 'ratings', 'reviews', 'histogram', 'price', 'free', 'offersIAP', 'size', 'genre', 'genreId', 'released', 'contentRating', 'appId']"
   ]
  },
  {
   "cell_type": "code",
   "execution_count": 8,
   "metadata": {},
   "outputs": [
    {
     "data": {
      "text/plain": [
       "{'title': 'Ragnarok M: Eternal Love(ROM)',\n",
       " 'installs': '1,000,000+',\n",
       " 'minInstalls': 1000000,\n",
       " 'score': 3.9042878,\n",
       " 'ratings': 78024,\n",
       " 'reviews': 38289,\n",
       " 'histogram': [14657, 3096, 4849, 7876, 47546],\n",
       " 'price': 0,\n",
       " 'free': True,\n",
       " 'offersIAP': True,\n",
       " 'size': '71M',\n",
       " 'genre': 'Role Playing',\n",
       " 'genreId': 'GAME_ROLE_PLAYING',\n",
       " 'released': 'Jan 8, 2019',\n",
       " 'contentRating': 'Teen',\n",
       " 'appId': 'com.gravity.romNAg'}"
      ]
     },
     "execution_count": 8,
     "metadata": {},
     "output_type": "execute_result"
    }
   ],
   "source": [
    "# Filtering dictionary so I only get results I want.\n",
    "\n",
    "filteredresult = dict((k, result[k]) for k in featurekeys if k in result)\n",
    "filteredresult"
   ]
  },
  {
   "cell_type": "code",
   "execution_count": 9,
   "metadata": {},
   "outputs": [],
   "source": [
    "# Now to make a function that gives me the filtered results.\n",
    "\n",
    "def givemeinfo(appid):\n",
    "    result = app(\n",
    "    appid,\n",
    "    lang='en',\n",
    "    country='us')\n",
    "    \n",
    "    featurekeys = ['title', 'installs', 'minInstalls', 'score', 'ratings', 'reviews', 'histogram', 'price', 'free', 'offersIAP', 'size', 'genre', 'genreId', 'released', 'contentRating', 'appId']\n",
    "    \n",
    "    filteredresult = dict((k, result[k]) for k in featurekeys if k in result)\n",
    "    \n",
    "    return filteredresult"
   ]
  },
  {
   "cell_type": "code",
   "execution_count": 10,
   "metadata": {
    "scrolled": true
   },
   "outputs": [
    {
     "name": "stdout",
     "output_type": "stream",
     "text": [
      "{'title': 'Ragnarok M: Eternal Love(ROM)', 'installs': '1,000,000+', 'minInstalls': 1000000, 'score': 3.9042878, 'ratings': 78024, 'reviews': 38289, 'histogram': [14657, 3096, 4849, 7876, 47546], 'price': 0, 'free': True, 'offersIAP': True, 'size': '71M', 'genre': 'Role Playing', 'genreId': 'GAME_ROLE_PLAYING', 'released': 'Jan 8, 2019', 'contentRating': 'Teen', 'appId': 'com.gravity.romNAg'}\n",
      "--------------------------------\n",
      "{'title': 'Ragnarok M: Eternal Love', 'installs': '5,000,000+', 'minInstalls': 5000000, 'score': 3.9291751, 'ratings': 305542, 'reviews': 135549, 'histogram': [58148, 8935, 18568, 30645, 189246], 'price': 0, 'free': True, 'offersIAP': True, 'size': '69M', 'genre': 'Role Playing', 'genreId': 'GAME_ROLE_PLAYING', 'released': None, 'contentRating': 'Teen', 'appId': 'com.gravity.romg'}\n",
      "--------------------------------\n",
      "{'title': 'Ragnarok M: Eternal Love EU', 'installs': '100,000+', 'minInstalls': 100000, 'score': 3.9766083, 'ratings': 15310, 'reviews': 5697, 'histogram': [2378, 786, 1004, 1790, 9352], 'price': 0, 'free': True, 'offersIAP': True, 'size': '71M', 'genre': 'Role Playing', 'genreId': 'GAME_ROLE_PLAYING', 'released': None, 'contentRating': 'Teen', 'appId': 'com.gravity.romEUg'}\n"
     ]
    }
   ],
   "source": [
    "print(givemeinfo(\"com.gravity.romNAg\"))\n",
    "print('--------------------------------')\n",
    "print(givemeinfo(\"com.gravity.romg\"))\n",
    "print('--------------------------------')\n",
    "print(givemeinfo(\"com.gravity.romEUg\"))"
   ]
  },
  {
   "cell_type": "markdown",
   "metadata": {},
   "source": [
    "## For the date [1/7/2021] at 10:26 PM EST.\n",
    "#### - We see that there are 38289 Global reviews\n",
    "#### - We see that there are 135549 SEA reviews\n",
    "#### - We see that there are 5697 EU reviews\n",
    "\n",
    "------------\n",
    "It seems more favorable to not include EU reviews for two reasons:\n",
    "- There are a lack of reviews to work with\n",
    "- It is not on the same version of the game as Global and SEA. It is behind by one episode (one major update)\n"
   ]
  },
  {
   "cell_type": "code",
   "execution_count": 11,
   "metadata": {},
   "outputs": [],
   "source": [
    "# Now to get a list of all reviews for this game.\n",
    "\n",
    "from google_play_scraper import Sort, reviews_all"
   ]
  },
  {
   "cell_type": "code",
   "execution_count": 12,
   "metadata": {},
   "outputs": [],
   "source": [
    "# filter only the results that we want.\n",
    "\n",
    "def givemereviews(appids):\n",
    "    \n",
    "    # Parts of the review that we are interested in\n",
    "    keys = {'content', 'score', 'thumbsUpCount', 'reviewCreatedVersion', 'replyContent', 'at'}\n",
    "    \n",
    "    # The function itself\n",
    "    res = reviews_all(\n",
    "    appids,\n",
    "    sleep_milliseconds=0, \n",
    "    lang='en', \n",
    "    country='us', \n",
    "    sort=Sort.NEWEST, \n",
    "    filter_score_with=None \n",
    ")\n",
    "    # Filtering the results\n",
    "    filteredresults = [{k:str(v) for k,v in i.items() if k in keys} for i in res]\n",
    "    for item in filteredresults:\n",
    "        item.update({\"appId\":appids})\n",
    "    return filteredresults"
   ]
  },
  {
   "cell_type": "code",
   "execution_count": 13,
   "metadata": {
    "scrolled": true
   },
   "outputs": [
    {
     "name": "stdout",
     "output_type": "stream",
     "text": [
      "0:00:23.927722\n",
      "------------\n",
      "6533\n"
     ]
    }
   ],
   "source": [
    "starttime = datetime.now()\n",
    "\n",
    "reviewlistglobal = givemereviews('com.gravity.romNAg')\n",
    "\n",
    "print(datetime.now() - starttime)\n",
    "print('------------')\n",
    "print(len(reviewlistglobal))"
   ]
  },
  {
   "cell_type": "code",
   "execution_count": 14,
   "metadata": {},
   "outputs": [
    {
     "name": "stdout",
     "output_type": "stream",
     "text": [
      "0:03:17.462466\n",
      "------------\n",
      "72231\n"
     ]
    }
   ],
   "source": [
    "starttime = datetime.now()\n",
    "\n",
    "reviewlistsea = givemereviews('com.gravity.romg')\n",
    "\n",
    "print(datetime.now() - starttime)\n",
    "print('------------')\n",
    "print(len(reviewlistsea))"
   ]
  },
  {
   "cell_type": "code",
   "execution_count": 15,
   "metadata": {
    "scrolled": false
   },
   "outputs": [
    {
     "name": "stdout",
     "output_type": "stream",
     "text": [
      "0:00:03.048293\n",
      "------------\n",
      "577\n"
     ]
    }
   ],
   "source": [
    "starttime = datetime.now()\n",
    "\n",
    "reviewlisteu = givemereviews('com.gravity.romEUg')\n",
    "\n",
    "print(datetime.now() - starttime)\n",
    "print('------------')\n",
    "print(len(reviewlisteu))"
   ]
  },
  {
   "cell_type": "markdown",
   "metadata": {},
   "source": [
    "=================================================================================================================="
   ]
  },
  {
   "cell_type": "markdown",
   "metadata": {},
   "source": [
    "# Getting general information about the game from the Apple App Store"
   ]
  },
  {
   "cell_type": "code",
   "execution_count": 16,
   "metadata": {},
   "outputs": [],
   "source": [
    "from app_store_scraper import AppStore\n",
    "from pprint import pprint"
   ]
  },
  {
   "cell_type": "code",
   "execution_count": 17,
   "metadata": {
    "scrolled": false
   },
   "outputs": [
    {
     "name": "stderr",
     "output_type": "stream",
     "text": [
      "2021-01-07 22:33:45,967 [INFO] Base - Initialised: AppStore('us', 'ragnarok-m-eternal-love', 1444739251)\n",
      "2021-01-07 22:33:45,969 [INFO] Base - Ready to fetch reviews from: https://apps.apple.com/us/app/ragnarok-m-eternal-love/id1444739251\n",
      "2021-01-07 22:33:54,146 [INFO] Base - [id:1444739251] Fetched 20 reviews (20 fetched in total)\n",
      "2021-01-07 22:34:10,477 [INFO] Base - [id:1444739251] Fetched 60 reviews (60 fetched in total)\n",
      "2021-01-07 22:34:32,962 [INFO] Base - [id:1444739251] Fetched 100 reviews (100 fetched in total)\n",
      "2021-01-07 22:34:49,273 [INFO] Base - [id:1444739251] Fetched 140 reviews (140 fetched in total)\n",
      "2021-01-07 22:35:23,870 [INFO] Base - [id:1444739251] Fetched 180 reviews (180 fetched in total)\n",
      "2021-01-07 22:35:40,263 [INFO] Base - [id:1444739251] Fetched 220 reviews (220 fetched in total)\n",
      "2021-01-07 22:35:56,576 [INFO] Base - [id:1444739251] Fetched 260 reviews (260 fetched in total)\n",
      "2021-01-07 22:36:13,079 [INFO] Base - [id:1444739251] Fetched 300 reviews (300 fetched in total)\n",
      "2021-01-07 22:36:29,505 [INFO] Base - [id:1444739251] Fetched 340 reviews (340 fetched in total)\n",
      "2021-01-07 22:36:45,909 [INFO] Base - [id:1444739251] Fetched 380 reviews (380 fetched in total)\n",
      "2021-01-07 22:37:02,175 [INFO] Base - [id:1444739251] Fetched 420 reviews (420 fetched in total)\n",
      "2021-01-07 22:37:18,797 [INFO] Base - [id:1444739251] Fetched 460 reviews (460 fetched in total)\n",
      "2021-01-07 22:37:35,110 [INFO] Base - [id:1444739251] Fetched 500 reviews (500 fetched in total)\n",
      "2021-01-07 22:37:51,498 [INFO] Base - [id:1444739251] Fetched 540 reviews (540 fetched in total)\n",
      "2021-01-07 22:38:07,881 [INFO] Base - [id:1444739251] Fetched 580 reviews (580 fetched in total)\n",
      "2021-01-07 22:38:24,249 [INFO] Base - [id:1444739251] Fetched 620 reviews (620 fetched in total)\n",
      "2021-01-07 22:38:40,626 [INFO] Base - [id:1444739251] Fetched 660 reviews (660 fetched in total)\n",
      "2021-01-07 22:39:03,147 [INFO] Base - [id:1444739251] Fetched 700 reviews (700 fetched in total)\n",
      "2021-01-07 22:39:19,409 [INFO] Base - [id:1444739251] Fetched 740 reviews (740 fetched in total)\n",
      "2021-01-07 22:39:35,872 [INFO] Base - [id:1444739251] Fetched 780 reviews (780 fetched in total)\n",
      "2021-01-07 22:39:52,252 [INFO] Base - [id:1444739251] Fetched 820 reviews (820 fetched in total)\n",
      "2021-01-07 22:40:08,641 [INFO] Base - [id:1444739251] Fetched 860 reviews (860 fetched in total)\n",
      "2021-01-07 22:40:25,127 [INFO] Base - [id:1444739251] Fetched 900 reviews (900 fetched in total)\n",
      "2021-01-07 22:40:41,505 [INFO] Base - [id:1444739251] Fetched 940 reviews (940 fetched in total)\n",
      "2021-01-07 22:41:04,060 [INFO] Base - [id:1444739251] Fetched 980 reviews (980 fetched in total)\n",
      "2021-01-07 22:41:20,324 [INFO] Base - [id:1444739251] Fetched 1020 reviews (1020 fetched in total)\n",
      "2021-01-07 22:41:28,573 [INFO] Base - [id:1444739251] Fetched 1056 reviews (1056 fetched in total)\n",
      "2021-01-07 22:41:29,931 [INFO] Base - Initialised: AppStore('ca', 'ragnarok-m-eternal-love', 1444739251)\n",
      "2021-01-07 22:41:29,933 [INFO] Base - Ready to fetch reviews from: https://apps.apple.com/ca/app/ragnarok-m-eternal-love/id1444739251\n",
      "2021-01-07 22:41:38,099 [INFO] Base - [id:1444739251] Fetched 20 reviews (20 fetched in total)\n",
      "2021-01-07 22:41:54,818 [INFO] Base - [id:1444739251] Fetched 60 reviews (60 fetched in total)\n",
      "2021-01-07 22:42:11,194 [INFO] Base - [id:1444739251] Fetched 100 reviews (100 fetched in total)\n",
      "2021-01-07 22:42:37,756 [ERROR] Base - Something went wrong: HTTPSConnectionPool(host='amp-api.apps.apple.com', port=443): Max retries exceeded with url: /v1/catalog/ca/apps/1444739251/reviews?l=en-GB&offset=120&limit=20&platform=web&additionalPlatforms=appletv%2Cipad%2Ciphone%2Cmac (Caused by ResponseError('too many 429 error responses'))\n",
      "2021-01-07 22:42:37,764 [INFO] Base - [id:1444739251] Fetched 120 reviews (120 fetched in total)\n",
      "2021-01-07 22:42:38,840 [INFO] Base - Initialised: AppStore('au', 'ragnarok-m-eternal-love', 1444739251)\n",
      "2021-01-07 22:42:38,841 [INFO] Base - Ready to fetch reviews from: https://apps.apple.com/au/app/ragnarok-m-eternal-love/id1444739251\n",
      "2021-01-07 22:42:47,034 [INFO] Base - [id:1444739251] Fetched 20 reviews (20 fetched in total)\n",
      "2021-01-07 22:43:03,408 [INFO] Base - [id:1444739251] Fetched 60 reviews (60 fetched in total)\n",
      "2021-01-07 22:43:19,777 [INFO] Base - [id:1444739251] Fetched 100 reviews (100 fetched in total)\n",
      "2021-01-07 22:43:36,153 [INFO] Base - [id:1444739251] Fetched 140 reviews (140 fetched in total)\n",
      "2021-01-07 22:43:36,314 [INFO] Base - [id:1444739251] Fetched 142 reviews (142 fetched in total)\n"
     ]
    },
    {
     "data": {
      "text/plain": [
       "1318"
      ]
     },
     "execution_count": 17,
     "metadata": {},
     "output_type": "execute_result"
    }
   ],
   "source": [
    "# I have selected these 3 countries because they make up a notable proportion of \n",
    "\n",
    "countries = ['us', 'ca', 'au']\n",
    "applereviews = []\n",
    "\n",
    "for country in countries:\n",
    "    test = AppStore(country=country, app_name=\"ragnarok-m-eternal-love\", app_id=1444739251)\n",
    "    test.review(sleep=8)\n",
    "    applereviews.extend(test.reviews)\n",
    "    \n",
    "len(applereviews)"
   ]
  },
  {
   "cell_type": "markdown",
   "metadata": {},
   "source": [
    "## For the date [1/7/2021] at 10:26 PM EST.\n",
    "\n",
    "- It appears that we got 1318 reviews. 1056 from the US, 120 from Canada, and 142 from Australia."
   ]
  },
  {
   "cell_type": "markdown",
   "metadata": {},
   "source": [
    "=================================================================================================================="
   ]
  },
  {
   "cell_type": "markdown",
   "metadata": {},
   "source": [
    "## Compressing files for use in other notebooks\n",
    "We will only compress the global and sea files."
   ]
  },
  {
   "cell_type": "code",
   "execution_count": null,
   "metadata": {},
   "outputs": [],
   "source": [
    "# We will use bz2 to compress pickle files to 1/4th the size.\n",
    "\n",
    "import pickle\n",
    "import bz2\n",
    "\n",
    "# This is to compress it.\n",
    "def compressed_pickle(title, data):\n",
    "    with bz2.BZ2File(title + '.pbz2', 'w') as f:\n",
    "        pickle.dump(data, f)\n",
    "        \n",
    "# This is to bring it back.        \n",
    "def decompress_pickle(file):\n",
    "    data = bz2.BZ2File(file, 'rb')\n",
    "    data = pickle.load(data)\n",
    "    return data"
   ]
  },
  {
   "cell_type": "code",
   "execution_count": null,
   "metadata": {},
   "outputs": [],
   "source": [
    "compressed_pickle('compressedlistreview', reviewlistglobal)\n",
    "compressed_pickle('compressedlistreview2', reviewlistsea)"
   ]
  },
  {
   "cell_type": "code",
   "execution_count": null,
   "metadata": {},
   "outputs": [],
   "source": [
    "compressed_pickle('compressedlistreviewapple', applereviews)"
   ]
  },
  {
   "cell_type": "markdown",
   "metadata": {},
   "source": [
    "=================================================================================================================="
   ]
  }
 ],
 "metadata": {
  "kernelspec": {
   "display_name": "Python 3",
   "language": "python",
   "name": "python3"
  },
  "language_info": {
   "codemirror_mode": {
    "name": "ipython",
    "version": 3
   },
   "file_extension": ".py",
   "mimetype": "text/x-python",
   "name": "python",
   "nbconvert_exporter": "python",
   "pygments_lexer": "ipython3",
   "version": "3.7.6"
  }
 },
 "nbformat": 4,
 "nbformat_minor": 4
}
