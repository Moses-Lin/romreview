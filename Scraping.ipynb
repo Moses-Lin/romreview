{
 "cells": [
  {
   "cell_type": "markdown",
   "metadata": {},
   "source": [
    "# Ragnarok Mobile Review Scraping"
   ]
  },
  {
   "cell_type": "code",
   "execution_count": null,
   "metadata": {
    "scrolled": true
   },
   "outputs": [],
   "source": [
    "# Will be using this to get information on each app based on appid\n",
    "# Information can be found here https://github.com/JoMingyu/google-play-scraper\n",
    "\n",
    "#pip install google_play_scraper"
   ]
  },
  {
   "cell_type": "code",
   "execution_count": null,
   "metadata": {},
   "outputs": [],
   "source": [
    "# Will help me scroll down a page to get all the possible html\n",
    "\n",
    "#pip install selenium"
   ]
  },
  {
   "cell_type": "code",
   "execution_count": 1,
   "metadata": {},
   "outputs": [],
   "source": [
    "import requests\n",
    "import datetime\n",
    "from datetime import datetime\n",
    "import time\n",
    "import pandas as pd\n",
    "\n",
    "from bs4 import BeautifulSoup\n",
    "from selenium import webdriver"
   ]
  },
  {
   "cell_type": "markdown",
   "metadata": {},
   "source": [
    "=================================================================================================================="
   ]
  },
  {
   "cell_type": "markdown",
   "metadata": {},
   "source": [
    "# Getting general information about the game"
   ]
  },
  {
   "cell_type": "code",
   "execution_count": null,
   "metadata": {},
   "outputs": [],
   "source": [
    "#gametoreview = \"https://play.google.com/store/apps/details?id=com.gravity.romNAg\""
   ]
  },
  {
   "cell_type": "code",
   "execution_count": 2,
   "metadata": {},
   "outputs": [],
   "source": [
    "# This will do most of the work for us.\n",
    "\n",
    "from google_play_scraper import app\n",
    "\n",
    "# Doing a test run with a well-known app.\n",
    "result = app(\n",
    "    'com.nianticlabs.pokemongo',\n",
    "    lang='en',\n",
    "    country='us'\n",
    ")"
   ]
  },
  {
   "cell_type": "code",
   "execution_count": 3,
   "metadata": {},
   "outputs": [
    {
     "data": {
      "text/plain": [
       "{'title': 'Pokémon GO',\n",
       " 'description': 'Join Trainers across the globe who are discovering Pokémon as they explore the world around them. Pokémon GO is the global gaming sensation that has been downloaded over 1 billion times and named “Best Mobile Game” by the Game Developers Choice Awards and “Best App of the Year” by TechCrunch.\\r\\n_______________\\r\\n\\r\\nUNCOVER THE WORLD OF POKÉMON: Explore and discover Pokémon wherever you are!\\r\\n \\r\\nCATCH more Pokémon to complete your Pokédex!\\r\\n \\r\\nJOURNEY alongside your Buddy Pokémon to help make your Pokémon stronger and earn rewards!\\r\\n\\r\\nCOMPETE in epic Gym battles and...\\r\\n\\r\\nTEAM UP with other Trainers to catch powerful Pokémon during Raid Battles!\\r\\n \\r\\nIt’s time to get moving—your real-life adventures await! Let’s GO!\\r\\n_______________\\r\\n\\r\\nNotes: \\r\\n\\r\\n- This app is free-to-play and offers in-game purchases. It is optimized for smartphones, not tablets.\\r\\n- Compatible with Android devices that have 2GB RAM or more and have Android Version 4.4–7.0+ installed.\\r\\n- Compatibility is not guaranteed for devices without GPS capabilities or devices that are connected only to Wi-Fi networks.\\r\\n- Application may not run on certain devices even if they have compatible OS versions installed.\\r\\n- It is recommended to play while connected to a network in order to obtain accurate location information.\\r\\n- Compatibility information may be changed at any time.\\r\\n- Please visit PokemonGO.com for additional compatibility information. \\r\\n- Information current as of July 11, 2019.',\n",
       " 'descriptionHTML': 'Join Trainers across the globe who are discovering Pokémon as they explore the world around them. Pokémon GO is the global gaming sensation that has been downloaded over 1 billion times and named “Best Mobile Game” by the Game Developers Choice Awards and “Best App of the Year” by TechCrunch.<br>_______________<br><br>UNCOVER THE WORLD OF POKÉMON: Explore and discover Pokémon wherever you are!<br> <br>CATCH more Pokémon to complete your Pokédex!<br> <br>JOURNEY alongside your Buddy Pokémon to help make your Pokémon stronger and earn rewards!<br><br>COMPETE in epic Gym battles and...<br><br>TEAM UP with other Trainers to catch powerful Pokémon during Raid Battles!<br> <br>It’s time to get moving—your real-life adventures await! Let’s GO!<br>_______________<br><br>Notes: <br><br>- This app is free-to-play and offers in-game purchases. It is optimized for smartphones, not tablets.<br>- Compatible with Android devices that have 2GB RAM or more and have Android Version 4.4–7.0+ installed.<br>- Compatibility is not guaranteed for devices without GPS capabilities or devices that are connected only to Wi-Fi networks.<br>- Application may not run on certain devices even if they have compatible OS versions installed.<br>- It is recommended to play while connected to a network in order to obtain accurate location information.<br>- Compatibility information may be changed at any time.<br>- Please visit PokemonGO.com for additional compatibility information. <br>- Information current as of July 11, 2019.',\n",
       " 'summary': 'Step outside and catch Pokémon in the real world! Collect & battle with others.',\n",
       " 'summaryHTML': 'Step outside and catch Pokémon in the real world! Collect &amp; battle with others.',\n",
       " 'installs': '100,000,000+',\n",
       " 'minInstalls': 100000000,\n",
       " 'score': 4.049132,\n",
       " 'ratings': 13962045,\n",
       " 'reviews': 5636673,\n",
       " 'histogram': [2109097, 471206, 871610, 1682837, 8827295],\n",
       " 'price': 0,\n",
       " 'free': True,\n",
       " 'currency': 'USD',\n",
       " 'sale': False,\n",
       " 'saleTime': None,\n",
       " 'originalPrice': None,\n",
       " 'saleText': None,\n",
       " 'offersIAP': True,\n",
       " 'inAppProductPrice': '$0.99 - $99.99 per item',\n",
       " 'size': 'Varies with device',\n",
       " 'androidVersion': '5.0',\n",
       " 'androidVersionText': '5.0 and up',\n",
       " 'developer': 'Niantic, Inc.',\n",
       " 'developerId': 'Niantic,+Inc.',\n",
       " 'developerEmail': 'pokemon-go-support@nianticlabs.com',\n",
       " 'developerWebsite': 'https://niantic.helpshift.com/a/pokemon-go/?p=web',\n",
       " 'developerAddress': 'One Ferry Building, Suite 200\\nSan Francisco, CA 94111',\n",
       " 'privacyPolicy': 'https://nianticlabs.com/privacy/pokemongo/en',\n",
       " 'developerInternalID': '7632469272431224129',\n",
       " 'genre': 'Adventure',\n",
       " 'genreId': 'GAME_ADVENTURE',\n",
       " 'icon': 'https://play-lh.googleusercontent.com/wPfLmWBJwsPdBhsFXc8X4QZOOvePWjoOBLFXXCwyegjRwYOuabmG5cynthlW0HDgy9s',\n",
       " 'headerImage': 'https://play-lh.googleusercontent.com/KgDQ-Kjb2B7_jDP-8KmQDNhAmP2lqAV_w3zArOCBL7YZnQ02Qqp4VTlgdocO-4MFk4s',\n",
       " 'screenshots': ['https://play-lh.googleusercontent.com/PbXsZpBreImadKH9ii50XTti-ykvwKBTZ9kq7CAbJdC7h7ccCbuKoJeHZu8Fc7n3oULh',\n",
       "  'https://play-lh.googleusercontent.com/vnv6k22XD1tetl6U4I3pTy0iLhsISHeS-u6irGuejgPyo8OBCRUBEiGgdKI2-yS20SsD',\n",
       "  'https://play-lh.googleusercontent.com/xfyqKVa_XrNI7T2sMXPqUGiiJkXDJlM4YqXQqbYunoL5w1N4qgLZLNULUzNinWEr9PY',\n",
       "  'https://play-lh.googleusercontent.com/aVzE1thT4zDocUQfPP1EtPq6jS15IIdjB0b7gtLRC9v_irr6gesP5RyiNb70ljh-Max6',\n",
       "  'https://play-lh.googleusercontent.com/Vek-tDWCQXnLFloZ3KFjHjSYRD5w2EMz3K0sGRhOFCIiJ2sX1prBsFKnbP_TcqGBLg'],\n",
       " 'video': 'https://www.youtube.com/embed/v4YZqOfhEc8?ps=play&vq=large&rel=0&autohide=1&showinfo=0',\n",
       " 'videoImage': 'https://i.ytimg.com/vi/v4YZqOfhEc8/hqdefault.jpg',\n",
       " 'contentRating': 'Everyone',\n",
       " 'contentRatingDescription': 'Mild Fantasy Violence',\n",
       " 'adSupported': None,\n",
       " 'containsAds': False,\n",
       " 'released': 'Jul 6, 2016',\n",
       " 'updated': 1604515133,\n",
       " 'version': '0.191.2',\n",
       " 'recentChanges': 'Trainers, there’s always something new in Pokémon GO! \\r\\n\\r\\n-  Mega Gengar is now available to battle in Mega Raids!\\r\\n- You can now store your battle parties and preview Pokémon’s attacks during battle party selection.\\r\\n-  Pokémon searching has been improved, including the ability to navigate to your Pokémon storage from the Pokédex and the addition of new details about your Pokémon!\\r\\n-  Updates to certain Evolution requirements',\n",
       " 'recentChangesHTML': 'Trainers, there’s always something new in Pokémon GO! <br><br>-  Mega Gengar is now available to battle in Mega Raids!<br>- You can now store your battle parties and preview Pokémon’s attacks during battle party selection.<br>-  Pokémon searching has been improved, including the ability to navigate to your Pokémon storage from the Pokédex and the addition of new details about your Pokémon!<br>-  Updates to certain Evolution requirements',\n",
       " 'comments': [\"I've played this on and off from first launch, and just love it. There is much more to do now than there was, and while the different features such as battling other players was a long time coming, it was worth the wait. The only negative thing about the app is that when I have adventure sync on, it absolutely ravages my data. I went through 30gb of data in 10 days, and only realised what it was after disabling all apps and starting again.\",\n",
       "  'Game concept is decent enough but the playability of the app leaves more than a little to be desired. Constant crashes, glitches and more often than not, the \"try again later\" response from pokestops when spun. I\\'m not talking every now and then, once in a blue moon or what not but more like 3 of 4 times (and I\\'m being way too nice and lenient to give the benefit of the doubt) and that\\'s not just at one random stop but more or less every one. Lifelong pokenerd and so I keep on hoping & trying 🤓',\n",
       "  \"Mostly good, leans a bit on the pay to win side, but even without the in app purchases it's playable for anyone. They've done a good job implementing the remote raid pass for people who are house locked during the pandemic. Overall it's a fun extra thing to do. Edit: I have been experiencing some visual glitches with the app, but it's nothing serious.\",\n",
       "  'Last update killed the game for me. The tested system for daily tasks was super and made me want to play the game. Now I am forced to get out (during a pandemic, which is a sick joke to me) and look for arenas to defend for 2 instead of the previous 6 coins. Basically I have to do 5x the work for extra 5 coins. Dick move. Saying you are greedy would be huge understatement. Probably will just uninstall the game until this is fixed. Absolutely cannot recommend at this state. Would give no stars.',\n",
       "  \"This game was awesome for the years I was able to play. I quit for a year or so and came back. Now I can't even play because once I log in and pokemon start popping up the game freezes. This happens every single time I try logging in. The support team is useless honestly. Haven't had a reply back at all after leaving them a message. Its been over a month and still nothing.\",\n",
       "  'I love playing the game and the people I have met since I started playing. I have a great time doing the challenges and raiding with my friends. I hate the fact that the game has to update so often. I am updating now and it just updated 2 days ago. Each update requires me to delete apps, pictures and files to make room for the update. Pokemon go should not be the only app on my phone!!!',\n",
       "  \"Good game until level 20. If you don't live in a big city, want to pay 10$ a day, or need an excuse to drive around all day spinning for pokeballs don't waste your time. If you only occasionally want to turn the game on while waiting outside at churches then it might work for you. I read there are also location hacks that will make it a decent normal game but then you may get your account deleted. Since it takes their ability to make that 10 dollars a day from you for Pokémon balls.\",\n",
       "  \"I love how it works , also I'm a huge Pokemon fan so getting to be a trainer is just the best, the app works really great, and it teaches in a fun way how to be observwte, i have recommended it to many people , and at my school in home room, like 5 people play it. Love this app, recommend it to anyone. The only thing I would change is options on the hair style, because honestly I don't like to he fact that I can't change my hair style, other than that it is an amazing game!\",\n",
       "  \"It's a great game to get you moving around. But there are quite a few bugs... The game will refuse to load after completing a trainer battle. The game will be stuck in a fixed position unable to look around or throw a pokéball (restart app is required). The game rarely wont register attacks by tapping the screen in raid battles. On a rare occasion the game will not track your location. Other than those bugs I would recommend this game to pokémon fans.\",\n",
       "  \"With the addition of remote raiding, all it takes is knowing a good online community to slip into some higher star raids through invites, the servers can be finicky at times though it is my opinion that it is not so often that it warrants excessive complaints. An all around good social game through and through, definitely worth a try if you haven't yet.\",\n",
       "  \"Brother talked me into trying the ge again after a few years. It wont even get passed the loading screen. I created a new character, and when I got to the catch your starter part. It bugged and none of the starters were clickable as they were all on top of eachother. I restart and now it wont get passed the loading screen. I've reinstalled probably 5 times, nothing fixed it. I'm on a Galaxy S7 Edge.\",\n",
       "  \"I enjoy playing this game, I loved Pokémon as a kid and used to play Pokémon Stadium on the Nintendo 64, it was my first ever game. My only issue I guess you could call it is incubating eggs, as someone who works full-time in a job that doesn't permit me to have my phone on me, I struggle to hatch eggs. It would be fantastic if I could sync the Pokémon Go app to the Fitbit app. Other than that, the game is fun to play.\",\n",
       "  \"Battle league works great now, no issues with it. But these last updates have been slowing down the app in general. Usually takes me 2 or 3 attempts to successfully sign in, and it's been freezing since I updated a day or 2 ago. I know it'll be fixed eventually, but might delete for a while. Only giving 3 stars cause reoccurring issues with every update. Like someone here said it's fine for casual play but if you try to play daily it gets irritating\",\n",
       "  \"Fun to play, but payout is some of the worst in any mobile game I've played. Seriously...I've had it installed for almost 4 YEARS and I'm not even half way xp to max level lol. Only on rarest occasions do they offer new pokemon to catch in the world so meh, they could have done so much better. Oh, and raids, team go rocket fights, and heytong new mega evolves are simply impossible. Make it easier to enjoy for god's sake!\",\n",
       "  'Gets you out of the house and can lead to new friends, because although nobody admits it, nearly every adult has it. Though with the over-simplified battle style, there really is no point in introducing the megas as raids or even in the game. This game is primarily about catching the Pokémon in the world, so leave the battle gimmicks to the other games',\n",
       "  \"It is a fun game that helps make all of the recent extra time go by. What I don't like that much is the buffering during battles, causing a loss at times. I do also like the adjustments that have been recently made to be able to do more from home or without having to go out in big crowds should people choose not to.\",\n",
       "  \"Pokemon Go is the only app I always come back to. Other apps get stale, but not PoGo! There's always new, fun updates. I wish the game had more ways to interact with your pokemon though. I wish there was Pokemon Contests (like in Diamond and Pearl) in the game, and a way to cook berries into Poffins. I'd also love to be able to brush/wash/etc your Pokemon. Overall, the game would be better for those like me (who don't like battling) if there were more ways to play & bond with your Pokemon!\",\n",
       "  \"Delightful app. My grandkids got me into it, and it's now my favorite hobby. If you enjoy collecting, treasure-hunting, travel, and social connections,, you'll love Pokemon Go. Update: After playing it awhile, I'm finding some of the other bugs reported here are making the game play frustrating at times. Coupled with the slow support, it's enough to give me pause about investing too much time and money in an otherwise genius game and game play experience.\",\n",
       "  \"I absolutely love this game! The only 2 drawbacks are that is not really playable during the coronavirus and there are lots of bugs needed to be fixed regarding GPS... But besides that it is generally a good game with a good concept, thus the 5 star rating! Edit: Ok so a lot has changed since I made that last review. I really don't like how easy the game is for pay to play players than it is to free to play. You have to be able to grind a LOT and have a lot of free time.\",\n",
       "  \"I love the game. I've been playing since 2016. But, Niantic has issues. If you're casual, it's fun and addictive. If you're at all hardcore, it's irritating. The game crashes. Items dissappear. Pokémon you spend hours finding never show up. If you spend money and have an issue, you get little compensation. My main issues are with how the game is run, and if you only play minimally, you may be fine. But for me, the rating can't be higher until all the glitches are solved/compensated.\",\n",
       "  \"1ST RAID BUG: I had a bug while I was in a 5 difficulty raid and they could defeated it and when I log back I couldn't have the encounter... It has more bugs but this one it's pretty tilting to be honest, because it is really difficult to find 9 people in a raid. Buggy and unfair. 2ND RAID BUG: When you use your remote pass, if all your pokemons die, then you say ok and you go out directly. You can't catch the Pokémon if they defeat it. You just are baited and wasted your raid pass for nothing\",\n",
       "  \"I do absolutely love this game but there is only one thing missing.That is,it is not possible to send friend requests to nearby people who I don't know.Since none of my friends do play this game,it is frustrating to play it alone and not able to go for more than one difficulty level raids as the other raids require more people to win.Rather I think that a built in auto catching feature must be present.\",\n",
       "  \"I like this game but recently it's been hanging up and the poke coins I have been earning from gyms is not being added about 150 pokemon coins did not total up. Which sucks. Not just that, I just updated pokemon go app on Nov 6th and its hanging up. The screen goes white when I try to catch a pokemon and after defeating rocket team, I couldn't rescue pokemon as it went blank again. Also the fact that the app goes blank when I try to go AR. AR has never worked for me.\",\n",
       "  \"My husband and I started playing this game because our nephew and nieces played but we got hooked! We go out walking together to play and we get competitive (I'm winning in shinies but he is in XP...for now)! It's fun while encouraging the user to get outside and walk around- all good things in my book. I have never seen one episode of pokemon (tbh I don't intend to either) I still really enjoy this game. You will too!\",\n",
       "  \"I really love this game, as a Pokéfan. Is one of the best game i've ever played and it projects you into the real world. But please, Niantic, give us the possibility to take our pokemon back from the gyms when we want to. There are pokemon that stay in gyms for 5 days, or more, so please give us this chance!!!\",\n",
       "  \"This game keeps me active, When you get friends you can trade gifts with them, To get those gifts you must spin a pokestop so playing with mobile data will happen. Luckily the game doesn't make your data soar. You get up to 50 free coins per day if you put your pokemon in a gym. Its literally you becoming a real life pokemon master because everything you do is real. You can trade pokemon with your friends. unless you have friends or money you'll soon run out of pokeballs.\",\n",
       "  \"Love this game. Super stable and always a fun way to pass some time while out getting a coffee. Just wish that there was some way to beat harder raids as I have no one else to team up with 🤷🏻\\u200d♂️ 2020-11-09 edit - I can play the game fine but my daily coin challenges are not there and I havnt even collected my 20 coins for the day?? What's going on?\",\n",
       "  \"I love Pokemon Go, it's amazing! One thing I would like to add would be that we get a free remote raid pass each day instead of a normal one. Some countries are still in lockdown and can't do raids because they have no money. Still this app is amazing and I suggest downloading it. You can catch all types of Pokemon and it links to the Nintendo Switch game Let's go Eevee and Let's go Pikachu. I believe it will soon link to Pokemon Home aswell. Thanks for reading! Gotta catch 'em all!!!\",\n",
       "  'pokemon has always been about catching them all but this app is just focused on money, you spend money on raids and some many things to still not be able to catch them each time. really discouraging for people who actually liked an play the game , most definitely why its dying. quite focusing on money and give the players a reason to keep grinding',\n",
       "  \"All around this is a lot of fun. The game actually rewards you for exploring your neighborhood. Visiting landmarks you didn't know existed was a pleasant surprise. And there is a ton of different pokemon that will pop up at the most random moments. This isn't like the old games though. The focus isn't on battle but capturing, this is kind of unfortunate because the battles are well setup here. If they had a random lineup battle vs CPU I'd give this a 5.\",\n",
       "  'Game is Awesome, had to make a new one Since I deleted my Gmail account. Now I\\'m having a problem where I evolved Far-fetch\\'D, by throwing 10 Excellent throws. Once evolved, it froze and a pop-up box showed. Said \"unable to evolve Far-fetch\\'D for Unknown Errors\". After that I try using Pokémon again, starts up perfectly and Pokémon pop up, but won\\'t let capture, see my Pokémon or do anything, like it crashed or something! Please Fix, I want to be the very best, that no one has ever seen!',\n",
       "  \"So a couple issues. When you press notifications to open the game it won't load in all the way and crashes. Resizing on some devices doesn't work well, and I don't like the idea of walking around a building to get a scan for research stickers. It should go along with spinning a pokestop.\",\n",
       "  'They finally announce connectivity with home, but are already plotting to charge money for transfers, and refuse transfers of legendary pokemon. Niantic will find any possible way they can to exploit the player-base. Trainer battles are also currently non-functional, I tried to find a match for 20 minutes and never got connected.',\n",
       "  \"This game is an abusive relationship. It has so many addictive features, like the daily bonuses and the GBL, but there's so much wrong. Too many bugs to count, the GBL lags all the time, the TERRIBLE implementation of mega evolution... I could go on. Despite all that, I still choose to play it, because you gotta catch 'em all.\",\n",
       "  'Just a bug I found, if you go on the new friends list and search for a friend, then click on the order reverse button, it seems to crash the game and forces a restart. That was for the developers, this is the review. Absolutely brilliant game, would highly recommend. I have made new friends through raids and the community is great! It hits you where it hurts with the nostalgia bat and it really is like the classic games. To anyone who loves Pokémon, just download it now! Charlie Vince - Level 35',\n",
       "  \"It lags, but it's a great game I highly recommend it for anyone who is bored and wants fresh air. It has no chatting and you can only make friends if you have their code. Its great for young children. There are in game purchases. There are no ads and is completely appropriate for all ages. It's even fun for adults and fun for the whole family. There also evens pretty often so it keeps you busy.\",\n",
       "  'A lot of repetition, would be great to have other things to do. Like raiding dungeons with friends, where you go one life and that your pokemon actually get their abilities to heal or make it a little more challenging. Getting mega pokemon with 10 ppl, gets old that this brand new monster actually sux vs tiny pokemon. Adding building or building would be great.',\n",
       "  \"This game is an absolute joy to have! I get to raid battles and go around my town discovering new pokemon every day! Whenever I turn on this game I am super excited to go exploring and finding new pokemon I haven't discovered. I love being part of a team and getting experiences to add people from all over the globe! I am truly happy with the makers of this game and it has brought me and my husband closer through our mutual love of pokemon ❤❤❤\",\n",
       "  'Really like this game. Honestly devoted too much time into it. But as of season 4 of battle league, i have not had a single match that has not had communication issues. And ive done speed test, tried wifi only, a vpn, and still cant make it through a single battle. Please fix battle league. This is obviously something on niantics end. Edit the servers are better now, not the best but at least passable.',\n",
       "  \"Honestly sometimes it lagges out sometomes you can't get into the game but the game is really fun you getta exersise alot catch pokemon and you get to have fun with friends ( raids, trading, and battling with them) you can send gifts to your friends and you get free gifts sometimes that have pokeballs, potions, revives, and like sun stones upgraders and so on in my opinion i really really like the game.\"],\n",
       " 'appId': 'com.nianticlabs.pokemongo',\n",
       " 'url': 'https://play.google.com/store/apps/details?id=com.nianticlabs.pokemongo&hl=en&gl=us'}"
      ]
     },
     "execution_count": 3,
     "metadata": {},
     "output_type": "execute_result"
    }
   ],
   "source": [
    "# Checking what I get in the dictionary.\n",
    "\n",
    "result"
   ]
  },
  {
   "cell_type": "code",
   "execution_count": 4,
   "metadata": {},
   "outputs": [
    {
     "data": {
      "text/plain": [
       "dict_keys(['title', 'description', 'descriptionHTML', 'summary', 'summaryHTML', 'installs', 'minInstalls', 'score', 'ratings', 'reviews', 'histogram', 'price', 'free', 'currency', 'sale', 'saleTime', 'originalPrice', 'saleText', 'offersIAP', 'inAppProductPrice', 'size', 'androidVersion', 'androidVersionText', 'developer', 'developerId', 'developerEmail', 'developerWebsite', 'developerAddress', 'privacyPolicy', 'developerInternalID', 'genre', 'genreId', 'icon', 'headerImage', 'screenshots', 'video', 'videoImage', 'contentRating', 'contentRatingDescription', 'adSupported', 'containsAds', 'released', 'updated', 'version', 'recentChanges', 'recentChangesHTML', 'comments', 'appId', 'url'])"
      ]
     },
     "execution_count": 4,
     "metadata": {},
     "output_type": "execute_result"
    }
   ],
   "source": [
    "# Checking which keys I want to keep to use as features.\n",
    "\n",
    "result.keys()"
   ]
  },
  {
   "cell_type": "code",
   "execution_count": 5,
   "metadata": {},
   "outputs": [],
   "source": [
    "featurekeys = ['title', 'installs', 'minInstalls', 'score', 'ratings', 'reviews', 'histogram', 'price', 'free', 'offersIAP', 'size', 'genre', 'genreId', 'released', 'contentRating', 'appId']"
   ]
  },
  {
   "cell_type": "code",
   "execution_count": 6,
   "metadata": {},
   "outputs": [
    {
     "data": {
      "text/plain": [
       "{'title': 'Pokémon GO',\n",
       " 'installs': '100,000,000+',\n",
       " 'minInstalls': 100000000,\n",
       " 'score': 4.049132,\n",
       " 'ratings': 13962045,\n",
       " 'reviews': 5636673,\n",
       " 'histogram': [2109097, 471206, 871610, 1682837, 8827295],\n",
       " 'price': 0,\n",
       " 'free': True,\n",
       " 'offersIAP': True,\n",
       " 'size': 'Varies with device',\n",
       " 'genre': 'Adventure',\n",
       " 'genreId': 'GAME_ADVENTURE',\n",
       " 'released': 'Jul 6, 2016',\n",
       " 'contentRating': 'Everyone',\n",
       " 'appId': 'com.nianticlabs.pokemongo'}"
      ]
     },
     "execution_count": 6,
     "metadata": {},
     "output_type": "execute_result"
    }
   ],
   "source": [
    "# Filtering dictionary so I only get results I want.\n",
    "\n",
    "filteredresult = dict((k, result[k]) for k in featurekeys if k in result)\n",
    "filteredresult"
   ]
  },
  {
   "cell_type": "code",
   "execution_count": 7,
   "metadata": {},
   "outputs": [],
   "source": [
    "# Now to make a function that gives me the filtered results.\n",
    "\n",
    "def givemeinfo(appid):\n",
    "    result = app(\n",
    "    appid,\n",
    "    lang='en',\n",
    "    country='us')\n",
    "    \n",
    "    featurekeys = ['title', 'installs', 'minInstalls', 'score', 'ratings', 'reviews', 'histogram', 'price', 'free', 'offersIAP', 'size', 'genre', 'genreId', 'released', 'contentRating', 'appId']\n",
    "    \n",
    "    filteredresult = dict((k, result[k]) for k in featurekeys if k in result)\n",
    "    \n",
    "    return filteredresult"
   ]
  },
  {
   "cell_type": "code",
   "execution_count": 8,
   "metadata": {
    "scrolled": true
   },
   "outputs": [
    {
     "data": {
      "text/plain": [
       "{'title': 'Ragnarok M: Eternal Love(ROM)',\n",
       " 'installs': '1,000,000+',\n",
       " 'minInstalls': 1000000,\n",
       " 'score': 3.8856142,\n",
       " 'ratings': 76883,\n",
       " 'reviews': 37853,\n",
       " 'histogram': [14644, 3244, 4861, 7646, 46488],\n",
       " 'price': 0,\n",
       " 'free': True,\n",
       " 'offersIAP': True,\n",
       " 'size': '74M',\n",
       " 'genre': 'Role Playing',\n",
       " 'genreId': 'GAME_ROLE_PLAYING',\n",
       " 'released': 'Jan 8, 2019',\n",
       " 'contentRating': 'Teen',\n",
       " 'appId': 'com.gravity.romNAg'}"
      ]
     },
     "execution_count": 8,
     "metadata": {},
     "output_type": "execute_result"
    }
   ],
   "source": [
    "givemeinfo(\"com.gravity.romNAg\")"
   ]
  },
  {
   "cell_type": "markdown",
   "metadata": {},
   "source": [
    "### We see that there are 37853 reviews at the time of this scrape. [11/10/2020] at 1:47 PM EST."
   ]
  },
  {
   "cell_type": "markdown",
   "metadata": {},
   "source": [
    "=================================================================================================================="
   ]
  },
  {
   "cell_type": "markdown",
   "metadata": {},
   "source": [
    "# Getting reviews for the game"
   ]
  },
  {
   "cell_type": "code",
   "execution_count": 9,
   "metadata": {},
   "outputs": [],
   "source": [
    "# Now to get a list of all reviews for this game.\n",
    "\n",
    "from google_play_scraper import Sort, reviews"
   ]
  },
  {
   "cell_type": "code",
   "execution_count": 10,
   "metadata": {},
   "outputs": [],
   "source": [
    "# filter only the results that we want.\n",
    "\n",
    "def givemereviews(appids):\n",
    "    \n",
    "    # Parts of the review that we are interested in\n",
    "    keys = {'content', 'score', 'thumbsUpCount', 'reviewCreatedVersion'}\n",
    "    \n",
    "    # The function itself\n",
    "    result, continuation_token = reviews(\n",
    "    appids,\n",
    "    lang='en',\n",
    "    country='us',\n",
    "    sort=Sort.RATING,\n",
    "    count=10000,\n",
    ")\n",
    "    # Filtering the results\n",
    "    filteredresults = [{k:v for k, v in i.items() if k in keys} for i in result]\n",
    "    for item in filteredresults:\n",
    "        item.update( {\"appId\":appids})\n",
    "    return filteredresults"
   ]
  },
  {
   "cell_type": "code",
   "execution_count": 11,
   "metadata": {},
   "outputs": [
    {
     "name": "stdout",
     "output_type": "stream",
     "text": [
      "0:00:12.867455\n",
      "------------\n",
      "[{'content': 'pretty good', 'score': 5, 'thumbsUpCount': 0, 'reviewCreatedVersion': '1.0.1', 'appId': 'com.gravity.romNAg'}, {'content': 'oh how I have missed this game', 'score': 5, 'thumbsUpCount': 0, 'reviewCreatedVersion': '1.0.1', 'appId': 'com.gravity.romNAg'}, {'content': \"Just like the original Ragnarok Online on PC. This brings back a lot of memories. The gameplay is fantastic. It's an anime based open world MMO with lots of quests and things to complete. Socialize with other players, form parties, get married, etc. There are optional microtransactions and this game is very P2W in that you can use your $$$ to buy money/items. Don't let that stop you from having fun in this game as it is one of the few P2W games that is still 100% enjoyable as a F2P.\", 'score': 5, 'thumbsUpCount': 1, 'reviewCreatedVersion': '1.0.5', 'appId': 'com.gravity.romNAg'}, {'content': 'Good so far', 'score': 5, 'thumbsUpCount': 0, 'reviewCreatedVersion': '1.2.2', 'appId': 'com.gravity.romNAg'}, {'content': 'love it', 'score': 5, 'thumbsUpCount': 0, 'reviewCreatedVersion': '1.0.1', 'appId': 'com.gravity.romNAg'}]\n"
     ]
    }
   ],
   "source": [
    "starttime = datetime.now()\n",
    "\n",
    "reviewlist = givemereviews('com.gravity.romNAg')\n",
    "\n",
    "print(datetime.now() - starttime)\n",
    "print('------------')\n",
    "print(reviewlist[:5])"
   ]
  },
  {
   "cell_type": "code",
   "execution_count": 12,
   "metadata": {},
   "outputs": [
    {
     "data": {
      "text/plain": [
       "6432"
      ]
     },
     "execution_count": 12,
     "metadata": {},
     "output_type": "execute_result"
    }
   ],
   "source": [
    "# Seems like we only have 6432 reviews to work with regardless of sorting method used.\n",
    "# Only 6432 reviews are categorized as English from the US.\n",
    "\n",
    "len(reviewlist)"
   ]
  },
  {
   "cell_type": "code",
   "execution_count": 15,
   "metadata": {},
   "outputs": [],
   "source": [
    "# We will use bz2 to compress pickle files to 1/4th the size.\n",
    "\n",
    "import pickle\n",
    "import bz2\n",
    "\n",
    "# This is to compress it.\n",
    "def compressed_pickle(title, data):\n",
    "    with bz2.BZ2File(title + '.pbz2', 'w') as f:\n",
    "        pickle.dump(data, f)\n",
    "        \n",
    "# This is to bring it back.        \n",
    "def decompress_pickle(file):\n",
    "    data = bz2.BZ2File(file, 'rb')\n",
    "    data = pickle.load(data)\n",
    "    return data"
   ]
  },
  {
   "cell_type": "code",
   "execution_count": 16,
   "metadata": {},
   "outputs": [],
   "source": [
    "compressed_pickle('compressedlistreview', reviewlist)"
   ]
  }
 ],
 "metadata": {
  "kernelspec": {
   "display_name": "Python 3",
   "language": "python",
   "name": "python3"
  },
  "language_info": {
   "codemirror_mode": {
    "name": "ipython",
    "version": 3
   },
   "file_extension": ".py",
   "mimetype": "text/x-python",
   "name": "python",
   "nbconvert_exporter": "python",
   "pygments_lexer": "ipython3",
   "version": "3.7.6"
  }
 },
 "nbformat": 4,
 "nbformat_minor": 4
}
