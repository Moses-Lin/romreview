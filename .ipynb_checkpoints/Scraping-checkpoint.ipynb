{
 "cells": [
  {
   "cell_type": "markdown",
   "metadata": {},
   "source": [
    "# Ragnarok Mobile Review Scraping"
   ]
  },
  {
   "cell_type": "code",
   "execution_count": 1,
   "metadata": {
    "scrolled": true
   },
   "outputs": [
    {
     "name": "stdout",
     "output_type": "stream",
     "text": [
      "Requirement already satisfied: google-play-scraper in /opt/anaconda3/envs/learn-env/lib/python3.6/site-packages (0.1.2)\r\n"
     ]
    }
   ],
   "source": [
    "# Will be using this to get information on each app based on appid\n",
    "# Information can be found here https://github.com/JoMingyu/google-play-scraper\n",
    "\n",
    "!pip install 'google-play-scraper'"
   ]
  },
  {
   "cell_type": "code",
   "execution_count": 2,
   "metadata": {},
   "outputs": [],
   "source": [
    "import requests\n",
    "import datetime\n",
    "from datetime import datetime\n",
    "import time\n",
    "import pandas as pd"
   ]
  },
  {
   "cell_type": "markdown",
   "metadata": {},
   "source": [
    "=================================================================================================================="
   ]
  },
  {
   "cell_type": "markdown",
   "metadata": {},
   "source": [
    "# Getting general information about the game"
   ]
  },
  {
   "cell_type": "markdown",
   "metadata": {},
   "source": [
    "- Global ROM = \"https://play.google.com/store/apps/details?id=com.gravity.romNAg\"\n",
    "- SEA ROM = \"https://play.google.com/store/apps/details?id=com.gravity.romg\"\n",
    "- EU ROM = \"https://play.google.com/store/apps/details?id=com.gravity.romEUg\""
   ]
  },
  {
   "cell_type": "code",
   "execution_count": 3,
   "metadata": {},
   "outputs": [],
   "source": [
    "# This will do most of the work for us.\n",
    "\n",
    "from google_play_scraper import app\n",
    "\n",
    "# Doing a test run.\n",
    "result = app(\n",
    "    'com.gravity.romNAg',\n",
    "    lang='en',\n",
    "    country='us'\n",
    ")"
   ]
  },
  {
   "cell_type": "code",
   "execution_count": 4,
   "metadata": {},
   "outputs": [
    {
     "data": {
      "text/plain": [
       "{'title': 'Ragnarok M: Eternal Love(ROM)',\n",
       " 'description': 'Dear Adventurers,\\r\\n\\r\\n\"Ragnarok M: Eternal Love\" has been with you for more than a thousand days. Together we\\'ve experienced and witnessed many stories about gathering and parting. Now, a new era is coming!\\r\\n\\r\\nTo welcome the coming new era, various teasers about this new release can be seen. A brand new map \"Moon Lake\" and new Main Plot Stories will lead you to a secret about the moon and rainbow. The new multi-player gameplay mode will brings you a more exciting team confrontation. And the new Free Angle mode will improve your overall adventure experience!\\r\\n\\r\\nGet ready and bring friends along. Let\\'s enter the new era of greater freedom and beauty!\\r\\n\\r\\nEP 7.5 [Moon\\'s Echo] official release! Follow Fate\\'s new guidance. Look for Traces of Rainbow Light!\\r\\n\\r\\n-New map [Moon Lake] unlocks a new chapter of destiny\\r\\nIn a faraway galaxy, the moon lingered alone outside Yggdrasill. New map [Moon Lake] and server grand event [Rainbow Fall] are released. Follow the Goddess of Fate\\'s guidance to find out the secrets of the Rainbow Bridge and the New Continent…\\r\\n\\r\\n-New 12V12 Competition [Holy Ground War] Battle of the Best\\r\\nUnderneath Raahe the subterranean flow is turbulent. The war between the Dove Faction and Hawk Faction has escalated once again! New 12V12 Competition gameplay mode [Holy Ground War] is released. Fight for resources, attack the enemy and defend your tower lines. Regular season and Cup Championship will take place alternately. Fight and become the best team of 12!\\r\\n\\r\\n-Full Angle Vision unlocked. Visual quality is upgraded once again\\r\\nClassic scenes are presented in full 3D now. Our visual effects have upgraded again since the last 60 fps High Resolution release! Full Angle Vision enables players to capture the finest details. More detailed characters, smoother actions, new facial expressions, and better hair light effects and skill special effects.\\r\\n\\r\\n-Varied Gameplay. No More All-nighters\\r\\nWe\\'ve continued improving and enriching our gameplay: 12V12 Match, Eternal Corridor, Thanatos Tower, and more. In the meantime, we have removed some boring daily quests and lengthy content. To ensure you\\'re not stressed at the cost of having fun in your daily adventures.',\n",
       " 'descriptionHTML': 'Dear Adventurers,<br><br>&quot;Ragnarok M: Eternal Love&quot; has been with you for more than a thousand days. Together we&#39;ve experienced and witnessed many stories about gathering and parting. Now, a new era is coming!<br><br>To welcome the coming new era, various teasers about this new release can be seen. A brand new map &quot;Moon Lake&quot; and new Main Plot Stories will lead you to a secret about the moon and rainbow. The new multi-player gameplay mode will brings you a more exciting team confrontation. And the new Free Angle mode will improve your overall adventure experience!<br><br>Get ready and bring friends along. Let&#39;s enter the new era of greater freedom and beauty!<br><br>EP 7.5 [Moon&#39;s Echo] official release! Follow Fate&#39;s new guidance. Look for Traces of Rainbow Light!<br><br>-New map [Moon Lake] unlocks a new chapter of destiny<br>In a faraway galaxy, the moon lingered alone outside Yggdrasill. New map [Moon Lake] and server grand event [Rainbow Fall] are released. Follow the Goddess of Fate&#39;s guidance to find out the secrets of the Rainbow Bridge and the New Continent…<br><br>-New 12V12 Competition [Holy Ground War] Battle of the Best<br>Underneath Raahe the subterranean flow is turbulent. The war between the Dove Faction and Hawk Faction has escalated once again! New 12V12 Competition gameplay mode [Holy Ground War] is released. Fight for resources, attack the enemy and defend your tower lines. Regular season and Cup Championship will take place alternately. Fight and become the best team of 12!<br><br>-Full Angle Vision unlocked. Visual quality is upgraded once again<br>Classic scenes are presented in full 3D now. Our visual effects have upgraded again since the last 60 fps High Resolution release! Full Angle Vision enables players to capture the finest details. More detailed characters, smoother actions, new facial expressions, and better hair light effects and skill special effects.<br><br>-Varied Gameplay. No More All-nighters<br>We&#39;ve continued improving and enriching our gameplay: 12V12 Match, Eternal Corridor, Thanatos Tower, and more. In the meantime, we have removed some boring daily quests and lengthy content. To ensure you&#39;re not stressed at the cost of having fun in your daily adventures.',\n",
       " 'summary': 'The classic adventure returns',\n",
       " 'summaryHTML': 'The classic adventure returns',\n",
       " 'installs': '1,000,000+',\n",
       " 'minInstalls': 1000000,\n",
       " 'score': 3.850341,\n",
       " 'ratings': 77414,\n",
       " 'reviews': 38071,\n",
       " 'histogram': [15451, 3277, 4931, 7501, 46254],\n",
       " 'price': 0,\n",
       " 'free': True,\n",
       " 'currency': 'USD',\n",
       " 'sale': False,\n",
       " 'saleTime': None,\n",
       " 'originalPrice': None,\n",
       " 'saleText': None,\n",
       " 'offersIAP': True,\n",
       " 'inAppProductPrice': '$0.99 - $99.99 per item',\n",
       " 'size': '71M',\n",
       " 'androidVersion': '5.0',\n",
       " 'androidVersionText': '5.0 and up',\n",
       " 'developer': 'Gravity Interactive, Inc.',\n",
       " 'developerId': '7827533453560141672',\n",
       " 'developerEmail': 'global.support@ro.com',\n",
       " 'developerWebsite': 'https://www.facebook.com/PlayRagnarokMGlobal/',\n",
       " 'developerAddress': '7001 Village Drive, Suite 150\\nBuena Park, CA 90621',\n",
       " 'privacyPolicy': 'https://www.romelglobal.com/introduction/privacy.html',\n",
       " 'developerInternalID': '7827533453560141672',\n",
       " 'genre': 'Role Playing',\n",
       " 'genreId': 'GAME_ROLE_PLAYING',\n",
       " 'icon': 'https://play-lh.googleusercontent.com/D2COIEBnxJkLuGjnKZk9rdZUgrNGd3tHoV0RkKEA-g4PiBcv80_hiDW_-CC8kudLXhc',\n",
       " 'headerImage': 'https://play-lh.googleusercontent.com/RHxhFjvR5rS8sC315yVg2EqJqbNtbad1004y1ENk1M6VCjXmlHinY1Gzuza2dtxqZxGJ',\n",
       " 'screenshots': ['https://play-lh.googleusercontent.com/dU8Jq5XI08QUto46vfSacycP8ssRvkzKOVOZvhPdtEVHMGtXyQdpPPDjTcdfASFBBq0',\n",
       "  'https://play-lh.googleusercontent.com/hnHoIZZY6zmK1bVUSctFhwjd9-lppphEu1uEwRil7pt08BBWmvxKdLwL_aazT7gLaEFa',\n",
       "  'https://play-lh.googleusercontent.com/W9DXFILilCBpskk3ADS4GHiw-02x8CA3x2hNM3dpjQQTSZbRE3t2kDgr2v3a3cuPQDI',\n",
       "  'https://play-lh.googleusercontent.com/DMA8TPsmR5EDsetFT_PibwzRI8SC4NaajjMvXKSa75eDoQJFKUxkh_yXQcyAA-mB3QyE',\n",
       "  'https://play-lh.googleusercontent.com/VtCTTeU45M2JYURe-UaqTOrmclPRQkF0K_-n-wkRX6vWhzZb42hOHW0jBd2Ltbc_DCk',\n",
       "  'https://play-lh.googleusercontent.com/FKsUFBnTTSdpfb94EYQmeN5gw3DlAwE_lsB6580BhEEcWMQISh2r-s776B-oQDBaqJE',\n",
       "  'https://play-lh.googleusercontent.com/l2ghda7ntAMBHM3B-SxLrbBcSRIAsr0SDeDg_Pcea4gxkGV4iFd0dBUWnR-91e-dJgQ',\n",
       "  'https://play-lh.googleusercontent.com/c48De2wKOWFCXYuzmEKnies-0E1wgOHXQWvVRdlyt6zdOw1B0tFyU2-9ZdOpSLqkfLg',\n",
       "  'https://play-lh.googleusercontent.com/cuA7MdGH7JJZfQC7WMl6ZMD8E69r1ry9c1RprksKnGq2SNzB51XVcjV5Jr8RtYrW_Q',\n",
       "  'https://play-lh.googleusercontent.com/ToYQg4HiaRvUxv_C7rL_MhQl-4kW4odgYStpc_0J4jNx6jC1iYR1G1pg0Wq_GK9S3xhi',\n",
       "  'https://play-lh.googleusercontent.com/fsSUHL3L-NfnYgWDFBYhbl9wvDmndIu7BWQAg56jPD98wXZBtecxh22pnvja_YGKZPgI',\n",
       "  'https://play-lh.googleusercontent.com/hQC0axibVmVCPg8YRCt1diezWxM_mMkkYVRCB6YG2WzyIhE4OT6ncyBpFaWjM851s8hy',\n",
       "  'https://play-lh.googleusercontent.com/bGjViSUncAqhogqG9vpauqfWEkZ9Ch5l_ptZ64ZDLNtcIVHYka52TcDSRB9BWEb5KrM',\n",
       "  'https://play-lh.googleusercontent.com/g6EIBwx50C72l6jGnl-vSIHbDFOnTYa69ANCvCkLOqxpGDQu-8r3FzVKhsNSQ-oGDTs',\n",
       "  'https://play-lh.googleusercontent.com/BlH-qIuplrCNyPCkH202ztT9dH5b_rQk4rhjbtw3SvW5VpNM3sz_wtrRp1O1ILPWPQ',\n",
       "  'https://play-lh.googleusercontent.com/sGOpes05bbYBlf-lsf2Zrh0PcwY8RmQmaHNJJq7hGzv9tOmI4YPb2VB7jfPlW_a5LjQ',\n",
       "  'https://play-lh.googleusercontent.com/h9lpBdPfD77RQdp96DcDbcu6IAa4GLWYjGVdTKfGiSpkYwR0Kb3aET0rt_x5mKJUEwQ',\n",
       "  'https://play-lh.googleusercontent.com/BGkTkfFrqj25zazviq_mb2yrwfd89IyWdEx-1yGIpaH46jSOjohjYqsKkAQsTjNctk8'],\n",
       " 'video': 'https://www.youtube.com/embed/znhWGooJf2Q?ps=play&vq=large&rel=0&autohide=1&showinfo=0',\n",
       " 'videoImage': 'https://i.ytimg.com/vi/znhWGooJf2Q/hqdefault.jpg',\n",
       " 'contentRating': 'Teen',\n",
       " 'contentRatingDescription': 'Violence, Blood',\n",
       " 'adSupported': None,\n",
       " 'containsAds': False,\n",
       " 'released': 'Jan 8, 2019',\n",
       " 'updated': 1606371659,\n",
       " 'version': '1.2.6',\n",
       " 'recentChanges': \"EP 7.5 [Moon's Echo] begins. Follow Fate's new guidance. Look for Traces of Rainbow Light!\\r\\n\\r\\n-New map [Moon Lake]\\r\\n-Server Grand Event [Rainbow Fall]\\r\\n-New 12V12 Competition [Holy Ground War]\\r\\n-[Full Angle Vision] unlocked\",\n",
       " 'recentChangesHTML': 'EP 7.5 [Moon&#39;s Echo] begins. Follow Fate&#39;s new guidance. Look for Traces of Rainbow Light!<br><br>-New map [Moon Lake]<br>-Server Grand Event [Rainbow Fall]<br>-New 12V12 Competition [Holy Ground War]<br>-[Full Angle Vision] unlocked',\n",
       " 'comments': [\"Nostalgia and a whole lot of gacha The game is a great wave of nostalgia for those who played and enjoyed the original pc version. Though this game is free to play, you'll hit the pay wall soon enough (though you can still be semi-competetive free to play). Would've rated it perfect if not for the..well..gacha lol\",\n",
       "  \"This update is awful for emulators. What happened to resolution selection? without being able to pick native it's like playing in a ugly fuzzy mess. and go back to the eyeball button, this limiting movement from only far left side is irritating. and while you're at it, fix that ranged attacks you can't see damage being done. How can you put out something this sloppy as an update. But you'll still want the money for them Gacha's though, huh?\",\n",
       "  'Interesting MMORPG that has a lot of depth and systems. Documentation is not as clear as it should be but tons of friendly players and resources online to help you. One negative is gacha aspect of certain equipment but able to play and advance without need of gacha equipment.',\n",
       "  'This new patch update made the game so laggy, that it takes more than 30 seconds to load when I warp from one map to another. The screen freezes while I was hunting MVP. Several occuring in some certain events.',\n",
       "  \"The ragnarok experience, in a phone format. When you love the series, it's hard not to enjoy each iteration, and this version fits that scenario. It's a wonderful game series, and those familiar will be familiar with it's nuances and quirks; those are here too.\",\n",
       "  'decent modernization while keeping the old feel. still a mobile game so expect pay to win. wish it was better optimized too. Events are very haphazard and need clarity',\n",
       "  \"Might be cool, if they taught you how to sit and regenerate hps but they don't and there is no skill to allow you to sit that I've seen games lacks tutorial direction. Go ahead and try to sit if it takes you more than 5 minutes Uninstall\",\n",
       "  \"Awful. With the recent update, I am unable to switch to my main account and am now stuck with an account that I don't even play. Hope they fix this or I will Uninstall the game as I put too much effort into my main account.\",\n",
       "  'Recent update made the game unusable on my gaming tablet and even on my phone. The game is super laggy cant even see the screen properly on my tablet, phone gets super warm. Fix those issue please.',\n",
       "  'Been playing ever since it came out and every new patch is about pay to win gacha. Free ticket rolls are useless since the rare gacha items are impossible to get.',\n",
       "  \"Been playing online games since the 90's and this is a solid game, you buy your equipement with the currency in-game and up your skills also with the same. If you wish, you can spend a little $$ to get small bonus upgrades. But its nothing significant unless you spend thousands which would be stupid in my opinion.\",\n",
       "  'To think you can have the whole world of Ragnarok in the palm of your hand! Nostalgic and dynamic, you can definitely play the game as a free user.',\n",
       "  \"Just wish there wasn't level deterioration on drops. Its makes it hard to farm loots that are already very low drop rate. Definitely hits the spot though. If you played old ro\",\n",
       "  'very cool scenario and design, but poorly managed and lots of bugs',\n",
       "  'The game was great unfortunately developers cannot control add-on players or bots to roam around freely and ruin the game and its all about MONEY TALKS when it comes to a pretty good favor',\n",
       "  'An epic remake! I just wish it was less of a cash grab in some cases, but the gotcha mechanics are much more rewarding than games like Eternal Sword or Tales of Wind. Great fixes, so much more balanced than the old Ragnarok Online, and a lot more to do!',\n",
       "  'New update, more bugs and drop in performance, need to use emulator instead of phone now',\n",
       "  'I used to play Ragnarok on PC ages ago, and this is an awesome update to it. If you liked the original and are looking for something in that vein on mobile this definitely has that feel.',\n",
       "  'please fix settings, game resolution is now bugged. game wont load in full screen....',\n",
       "  'Having Problems Starting the game it saying Hello, Adventure, Cannot access the needed resources. The current Version 590843 Please wait up or contact game service What can I do to make the game work I played the game before and starting to miss the gameplay',\n",
       "  \"I was a big fan when this came out mobile. I've out a lot of hours into this too. But now.. like most review it is heavily Pay to win.... And if you do the gacha rates are horrible...\",\n",
       "  \"It crashes a lot. I've turned down all the settings and it still lags in the main city. I search for something to buy off the market and my keyboard won't pop up. Please let us be able to turn off shadows!\",\n",
       "  \"It's a nice game at the moment of my first experience, but the app keeps kicking me out randomly and I can't even sign up my google account on this app. So far that's my main problem at the moment.\",\n",
       "  \"I'm very familiar in this game, and I've found a good friend while playing and it becomes more fun to me\",\n",
       "  'Great game.. but the gacha odds are so bad and expensive.',\n",
       "  \"I love it! It's a nice upgrade of my favorite childhood mmo. Perfect!\",\n",
       "  \"It brings back memories when I was a child and used to play with my classmates. Pure gacha scam and it's crowded with bots. They are everywhere .\",\n",
       "  \"stamina system ruined it for me. any game that attempts to limit my playtime is not worth the hassle. Don't say it's to stop bots as that's just stupid. They'll just create more and more accounts to get over the stamina system anyway.\",\n",
       "  'Dissapointed about the last update with bugs and graphics delay now and the people inside game',\n",
       "  'Good game but there should be safe points for refining.Bcoz of refining most of my friends quit this game :(',\n",
       "  'P2w all the way no if or buts decent ro need better drop rate if u spend 100 to 150 a month u will be with the top players in 7 to 8 month play and u will see worth a try but dont think this will be any diff for old ro',\n",
       "  'Fun to play with friends. A little p2w though',\n",
       "  'I love playing this game its alot of fun but can get expensive',\n",
       "  'Love the game so far. Best most functional open-world MMORPG yet.',\n",
       "  'Flashback to my old iRO beta days, love playing this game again. Edit: Grind in the game really wants to focus on your walllet.',\n",
       "  \"It's an entertaining game, but the experience is completely ruined by its whoever is in charge of the global version, who clearly cares nothing about it and just want a quick money grab. There's no support whatsoever, unlike the versions of this game from other areas in the world, and to make it worst, most paid services and items are more expensive here than in those other versions, which further supports the notion that these devs just don't care and are interested in milking it for money.\",\n",
       "  'Too many bots and connections issue on all server.',\n",
       "  \"They keep making it more and more pay-to-win. It actually sucks when they release new content. In new EQ extract system after you extract a +10 gear people say you have a 1% chance that you'll roll a 10 to activate its effect. I spent $100 and the highest I rolled was only an 8... and +10 is supposed to be easy compared to +15. They made the new corridor dungeon 31-60 so difficult even the top 1% get wrecked, you have to spend $ on a multi job that has stealth to complete weekly\",\n",
       "  'A fun & faithful modern remaster of a nostalgic favorite.',\n",
       "  'Too many bots in server na19, and always connectivity issue.'],\n",
       " 'appId': 'com.gravity.romNAg',\n",
       " 'url': 'https://play.google.com/store/apps/details?id=com.gravity.romNAg&hl=en&gl=us'}"
      ]
     },
     "execution_count": 4,
     "metadata": {},
     "output_type": "execute_result"
    }
   ],
   "source": [
    "# Checking what I get in the dictionary.\n",
    "\n",
    "result"
   ]
  },
  {
   "cell_type": "code",
   "execution_count": 5,
   "metadata": {},
   "outputs": [
    {
     "data": {
      "text/plain": [
       "dict_keys(['title', 'description', 'descriptionHTML', 'summary', 'summaryHTML', 'installs', 'minInstalls', 'score', 'ratings', 'reviews', 'histogram', 'price', 'free', 'currency', 'sale', 'saleTime', 'originalPrice', 'saleText', 'offersIAP', 'inAppProductPrice', 'size', 'androidVersion', 'androidVersionText', 'developer', 'developerId', 'developerEmail', 'developerWebsite', 'developerAddress', 'privacyPolicy', 'developerInternalID', 'genre', 'genreId', 'icon', 'headerImage', 'screenshots', 'video', 'videoImage', 'contentRating', 'contentRatingDescription', 'adSupported', 'containsAds', 'released', 'updated', 'version', 'recentChanges', 'recentChangesHTML', 'comments', 'appId', 'url'])"
      ]
     },
     "execution_count": 5,
     "metadata": {},
     "output_type": "execute_result"
    }
   ],
   "source": [
    "# Checking which keys I want to keep to use as features.\n",
    "\n",
    "result.keys()"
   ]
  },
  {
   "cell_type": "code",
   "execution_count": 6,
   "metadata": {},
   "outputs": [],
   "source": [
    "featurekeys = ['title', 'installs', 'minInstalls', 'score', 'ratings', 'reviews', 'histogram', 'price', 'free', 'offersIAP', 'size', 'genre', 'genreId', 'released', 'contentRating', 'appId']"
   ]
  },
  {
   "cell_type": "code",
   "execution_count": 7,
   "metadata": {},
   "outputs": [
    {
     "data": {
      "text/plain": [
       "{'title': 'Ragnarok M: Eternal Love(ROM)',\n",
       " 'installs': '1,000,000+',\n",
       " 'minInstalls': 1000000,\n",
       " 'score': 3.850341,\n",
       " 'ratings': 77414,\n",
       " 'reviews': 38071,\n",
       " 'histogram': [15451, 3277, 4931, 7501, 46254],\n",
       " 'price': 0,\n",
       " 'free': True,\n",
       " 'offersIAP': True,\n",
       " 'size': '71M',\n",
       " 'genre': 'Role Playing',\n",
       " 'genreId': 'GAME_ROLE_PLAYING',\n",
       " 'released': 'Jan 8, 2019',\n",
       " 'contentRating': 'Teen',\n",
       " 'appId': 'com.gravity.romNAg'}"
      ]
     },
     "execution_count": 7,
     "metadata": {},
     "output_type": "execute_result"
    }
   ],
   "source": [
    "# Filtering dictionary so I only get results I want.\n",
    "\n",
    "filteredresult = dict((k, result[k]) for k in featurekeys if k in result)\n",
    "filteredresult"
   ]
  },
  {
   "cell_type": "code",
   "execution_count": 8,
   "metadata": {},
   "outputs": [],
   "source": [
    "# Now to make a function that gives me the filtered results.\n",
    "\n",
    "def givemeinfo(appid):\n",
    "    result = app(\n",
    "    appid,\n",
    "    lang='en',\n",
    "    country='us')\n",
    "    \n",
    "    featurekeys = ['title', 'installs', 'minInstalls', 'score', 'ratings', 'reviews', 'histogram', 'price', 'free', 'offersIAP', 'size', 'genre', 'genreId', 'released', 'contentRating', 'appId']\n",
    "    \n",
    "    filteredresult = dict((k, result[k]) for k in featurekeys if k in result)\n",
    "    \n",
    "    return filteredresult"
   ]
  },
  {
   "cell_type": "code",
   "execution_count": 12,
   "metadata": {
    "scrolled": true
   },
   "outputs": [
    {
     "name": "stdout",
     "output_type": "stream",
     "text": [
      "{'title': 'Ragnarok M: Eternal Love(ROM)', 'installs': '1,000,000+', 'minInstalls': 1000000, 'score': 3.850341, 'ratings': 77414, 'reviews': 38071, 'histogram': [15451, 3277, 4931, 7501, 46254], 'price': 0, 'free': True, 'offersIAP': True, 'size': '71M', 'genre': 'Role Playing', 'genreId': 'GAME_ROLE_PLAYING', 'released': 'Jan 8, 2019', 'contentRating': 'Teen', 'appId': 'com.gravity.romNAg'}\n",
      "--------------------------------\n",
      "{'title': 'Ragnarok M: Eternal Love', 'installs': '5,000,000+', 'minInstalls': 5000000, 'score': 3.9376836, 'ratings': 305117, 'reviews': 135395, 'histogram': [57460, 8844, 18535, 30687, 189591], 'price': 0, 'free': True, 'offersIAP': True, 'size': '69M', 'genre': 'Role Playing', 'genreId': 'GAME_ROLE_PLAYING', 'released': None, 'contentRating': 'Teen', 'appId': 'com.gravity.romg'}\n",
      "--------------------------------\n",
      "{'title': 'Ragnarok M: Eternal Love EU', 'installs': '100,000+', 'minInstalls': 100000, 'score': 4.034524, 'ratings': 15255, 'reviews': 5672, 'histogram': [2197, 726, 953, 1852, 9527], 'price': 0, 'free': True, 'offersIAP': True, 'size': '71M', 'genre': 'Role Playing', 'genreId': 'GAME_ROLE_PLAYING', 'released': None, 'contentRating': 'Teen', 'appId': 'com.gravity.romEUg'}\n"
     ]
    }
   ],
   "source": [
    "print(givemeinfo(\"com.gravity.romNAg\"))\n",
    "print('--------------------------------')\n",
    "print(givemeinfo(\"com.gravity.romg\"))\n",
    "print('--------------------------------')\n",
    "print(givemeinfo(\"com.gravity.romEUg\"))"
   ]
  },
  {
   "cell_type": "markdown",
   "metadata": {},
   "source": [
    "## For the date [12/16/2020] at 12:16 AM EST.\n",
    "#### - We see that there are 38062 Global reviews\n",
    "#### - We see that there are 135395 SEA reviews\n",
    "#### - We see that there are 5672 EU reviews\n",
    "\n",
    "------------\n",
    "It seems more favorable to not include EU reviews for two reasons:\n",
    "- There are a lack of reviews to work with\n",
    "- It is not on the same version of the game as Global and SEA. It is behind by one episode (one major update)\n"
   ]
  },
  {
   "cell_type": "code",
   "execution_count": 13,
   "metadata": {},
   "outputs": [],
   "source": [
    "# Now to get a list of all reviews for this game.\n",
    "\n",
    "from google_play_scraper import Sort, reviews"
   ]
  },
  {
   "cell_type": "code",
   "execution_count": 14,
   "metadata": {},
   "outputs": [],
   "source": [
    "# filter only the results that we want.\n",
    "\n",
    "def givemereviews(appids):\n",
    "    \n",
    "    # Parts of the review that we are interested in\n",
    "    keys = {'content', 'score', 'thumbsUpCount', 'reviewCreatedVersion', 'replyContent', 'at'}\n",
    "    \n",
    "    # The function itself\n",
    "    result, continuation_token = reviews(\n",
    "    appids,\n",
    "    lang='en',\n",
    "    country='us',\n",
    "    sort=Sort.RATING,\n",
    "    count=10000,\n",
    ")\n",
    "    # Filtering the results\n",
    "    filteredresults = [{k:str(v) for k, v in i.items() if k in keys} for i in result]\n",
    "    for item in filteredresults:\n",
    "        item.update( {\"appId\":appids})\n",
    "    return filteredresults"
   ]
  },
  {
   "cell_type": "code",
   "execution_count": 18,
   "metadata": {
    "scrolled": true
   },
   "outputs": [
    {
     "name": "stdout",
     "output_type": "stream",
     "text": [
      "0:00:15.243346\n",
      "------------\n",
      "[{'content': 'meow', 'score': '5', 'thumbsUpCount': '0', 'reviewCreatedVersion': '1.0.8', 'at': '2020-04-18 10:49:25', 'replyContent': 'None', 'appId': 'com.gravity.romEUg'}, {'content': 'Good game', 'score': '5', 'thumbsUpCount': '0', 'reviewCreatedVersion': '1.0.4', 'at': '2019-12-10 14:42:27', 'replyContent': 'None', 'appId': 'com.gravity.romEUg'}, {'content': 'Good old days of playing Ragnarok has been re-played again. 😊😊😊', 'score': '5', 'thumbsUpCount': '0', 'reviewCreatedVersion': '1.0.8', 'at': '2020-07-05 00:46:44', 'replyContent': 'None', 'appId': 'com.gravity.romEUg'}, {'content': 'ОРПАВОРПП ОРИ', 'score': '5', 'thumbsUpCount': '0', 'reviewCreatedVersion': '1.0.4', 'at': '2020-01-30 14:23:15', 'replyContent': 'None', 'appId': 'com.gravity.romEUg'}, {'content': 'I like it', 'score': '5', 'thumbsUpCount': '0', 'reviewCreatedVersion': '1.0.8', 'at': '2020-05-16 08:44:32', 'replyContent': 'None', 'appId': 'com.gravity.romEUg'}]\n"
     ]
    }
   ],
   "source": [
    "starttime = datetime.now()\n",
    "\n",
    "reviewlistglobal = givemereviews('com.gravity.romNAg')\n",
    "\n",
    "print(datetime.now() - starttime)\n",
    "print('------------')\n",
    "print(reviewlist[:5])"
   ]
  },
  {
   "cell_type": "code",
   "execution_count": 19,
   "metadata": {},
   "outputs": [
    {
     "name": "stdout",
     "output_type": "stream",
     "text": [
      "0:00:34.945052\n",
      "------------\n",
      "[{'content': 'meow', 'score': '5', 'thumbsUpCount': '0', 'reviewCreatedVersion': '1.0.8', 'at': '2020-04-18 10:49:25', 'replyContent': 'None', 'appId': 'com.gravity.romEUg'}, {'content': 'Good game', 'score': '5', 'thumbsUpCount': '0', 'reviewCreatedVersion': '1.0.4', 'at': '2019-12-10 14:42:27', 'replyContent': 'None', 'appId': 'com.gravity.romEUg'}, {'content': 'Good old days of playing Ragnarok has been re-played again. 😊😊😊', 'score': '5', 'thumbsUpCount': '0', 'reviewCreatedVersion': '1.0.8', 'at': '2020-07-05 00:46:44', 'replyContent': 'None', 'appId': 'com.gravity.romEUg'}, {'content': 'ОРПАВОРПП ОРИ', 'score': '5', 'thumbsUpCount': '0', 'reviewCreatedVersion': '1.0.4', 'at': '2020-01-30 14:23:15', 'replyContent': 'None', 'appId': 'com.gravity.romEUg'}, {'content': 'I like it', 'score': '5', 'thumbsUpCount': '0', 'reviewCreatedVersion': '1.0.8', 'at': '2020-05-16 08:44:32', 'replyContent': 'None', 'appId': 'com.gravity.romEUg'}]\n"
     ]
    }
   ],
   "source": [
    "starttime = datetime.now()\n",
    "\n",
    "reviewlistsea = givemereviews('com.gravity.romg')\n",
    "\n",
    "print(datetime.now() - starttime)\n",
    "print('------------')\n",
    "print(reviewlist[:5])"
   ]
  },
  {
   "cell_type": "code",
   "execution_count": 20,
   "metadata": {
    "scrolled": true
   },
   "outputs": [
    {
     "name": "stdout",
     "output_type": "stream",
     "text": [
      "0:00:02.117926\n",
      "------------\n",
      "[{'content': 'meow', 'score': '5', 'thumbsUpCount': '0', 'reviewCreatedVersion': '1.0.8', 'at': '2020-04-18 10:49:25', 'replyContent': 'None', 'appId': 'com.gravity.romEUg'}, {'content': 'Good game', 'score': '5', 'thumbsUpCount': '0', 'reviewCreatedVersion': '1.0.4', 'at': '2019-12-10 14:42:27', 'replyContent': 'None', 'appId': 'com.gravity.romEUg'}, {'content': 'Good old days of playing Ragnarok has been re-played again. 😊😊😊', 'score': '5', 'thumbsUpCount': '0', 'reviewCreatedVersion': '1.0.8', 'at': '2020-07-05 00:46:44', 'replyContent': 'None', 'appId': 'com.gravity.romEUg'}, {'content': 'ОРПАВОРПП ОРИ', 'score': '5', 'thumbsUpCount': '0', 'reviewCreatedVersion': '1.0.4', 'at': '2020-01-30 14:23:15', 'replyContent': 'None', 'appId': 'com.gravity.romEUg'}, {'content': 'I like it', 'score': '5', 'thumbsUpCount': '0', 'reviewCreatedVersion': '1.0.8', 'at': '2020-05-16 08:44:32', 'replyContent': 'None', 'appId': 'com.gravity.romEUg'}]\n"
     ]
    }
   ],
   "source": [
    "starttime = datetime.now()\n",
    "\n",
    "reviewlisteu = givemereviews('com.gravity.romEUg')\n",
    "\n",
    "print(datetime.now() - starttime)\n",
    "print('------------')\n",
    "print(reviewlist[:5])"
   ]
  },
  {
   "cell_type": "code",
   "execution_count": 21,
   "metadata": {},
   "outputs": [
    {
     "name": "stdout",
     "output_type": "stream",
     "text": [
      "6469\n",
      "9950\n",
      "571\n"
     ]
    }
   ],
   "source": [
    "# It seems like these are the number of reviews we get per app regardless of sorting method.\n",
    "\n",
    "print(len(reviewlistglobal))\n",
    "print(len(reviewlistsea))\n",
    "print(len(reviewlisteu))"
   ]
  },
  {
   "cell_type": "markdown",
   "metadata": {},
   "source": [
    "=================================================================================================================="
   ]
  },
  {
   "cell_type": "markdown",
   "metadata": {},
   "source": [
    "## Compressing files for use in other notebooks\n",
    "We will only compress the global and sea files."
   ]
  },
  {
   "cell_type": "code",
   "execution_count": 22,
   "metadata": {},
   "outputs": [],
   "source": [
    "# We will use bz2 to compress pickle files to 1/4th the size.\n",
    "\n",
    "import pickle\n",
    "import bz2\n",
    "\n",
    "# This is to compress it.\n",
    "def compressed_pickle(title, data):\n",
    "    with bz2.BZ2File(title + '.pbz2', 'w') as f:\n",
    "        pickle.dump(data, f)\n",
    "        \n",
    "# This is to bring it back.        \n",
    "def decompress_pickle(file):\n",
    "    data = bz2.BZ2File(file, 'rb')\n",
    "    data = pickle.load(data)\n",
    "    return data"
   ]
  },
  {
   "cell_type": "code",
   "execution_count": 23,
   "metadata": {},
   "outputs": [],
   "source": [
    "compressed_pickle('compressedlistreview', reviewlistglobal)\n",
    "compressed_pickle('compressedlistreview2', reviewlistsea)"
   ]
  },
  {
   "cell_type": "markdown",
   "metadata": {},
   "source": [
    "=================================================================================================================="
   ]
  }
 ],
 "metadata": {
  "kernelspec": {
   "display_name": "Python 3",
   "language": "python",
   "name": "python3"
  },
  "language_info": {
   "codemirror_mode": {
    "name": "ipython",
    "version": 3
   },
   "file_extension": ".py",
   "mimetype": "text/x-python",
   "name": "python",
   "nbconvert_exporter": "python",
   "pygments_lexer": "ipython3",
   "version": "3.7.6"
  }
 },
 "nbformat": 4,
 "nbformat_minor": 4
}
