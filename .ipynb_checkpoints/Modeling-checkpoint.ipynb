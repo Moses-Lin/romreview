{
 "cells": [
  {
   "cell_type": "markdown",
   "metadata": {},
   "source": [
    "# Importing necessary things"
   ]
  },
  {
   "cell_type": "code",
   "execution_count": 27,
   "metadata": {},
   "outputs": [],
   "source": [
    "import pandas as pd\n",
    "import numpy as np\n",
    "import sklearn\n",
    "\n",
    "import sklearn.metrics as metrics\n",
    "from sklearn.utils import resample\n",
    "from sklearn.preprocessing import MinMaxScaler\n",
    "from sklearn.model_selection import train_test_split\n",
    "from sklearn.preprocessing import LabelEncoder\n",
    "from sklearn.naive_bayes import MultinomialNB\n",
    "from sklearn.ensemble import RandomForestClassifier\n",
    "from sklearn.tree import DecisionTreeClassifier\n",
    "from sklearn.metrics import accuracy_score, confusion_matrix, f1_score, recall_score, precision_score\n",
    "from sklearn.feature_extraction.text import TfidfVectorizer, CountVectorizer\n",
    "from sklearn import svm\n",
    "from sklearn.svm import SVC\n",
    "\n",
    "import string\n",
    "import nltk\n",
    "from nltk.corpus import stopwords\n",
    "from nltk.stem import WordNetLemmatizer\n",
    "from nltk import word_tokenize, RegexpTokenizer, TweetTokenizer\n",
    "\n",
    "import matplotlib.pyplot as plt\n",
    "import seaborn as sns\n",
    "\n",
    "import re\n",
    "from datetime import datetime\n",
    "\n",
    "import pickle"
   ]
  },
  {
   "cell_type": "markdown",
   "metadata": {},
   "source": [
    "=================================================================================================================="
   ]
  },
  {
   "cell_type": "code",
   "execution_count": 2,
   "metadata": {},
   "outputs": [],
   "source": [
    "from pathlib import Path\n",
    "\n",
    "root = Path('.')\n",
    "\n",
    "my_path1 = root / \"tokens\" / \"processedreviewrating1.pbz2\"\n",
    "my_path2 = root / \"tokens\" / \"processedreviewrating2.pbz2\"\n",
    "my_path3 = root / \"tokens\" / \"processedreviewrating3.pbz2\"\n",
    "my_path4 = root / \"tokens\" / \"processedreviewrating4.pbz2\"\n",
    "my_path5 = root / \"tokens\" / \"processedreviewrating5.pbz2\"\n",
    "\n",
    "import bz2\n",
    "\n",
    "def compressed_pickle(path, data):\n",
    "    with bz2.BZ2File(path, 'w') as f:\n",
    "        pickle.dump(data, f)\n",
    "\n",
    "def decompress_pickle(file):\n",
    "    data = bz2.BZ2File(file, 'rb')\n",
    "    data = pickle.load(data)\n",
    "    return data"
   ]
  },
  {
   "cell_type": "code",
   "execution_count": 3,
   "metadata": {},
   "outputs": [],
   "source": [
    "rating1 = decompress_pickle(my_path1)\n",
    "rating2 = decompress_pickle(my_path2)\n",
    "rating3 = decompress_pickle(my_path3)\n",
    "rating4 = decompress_pickle(my_path4)\n",
    "rating5 = decompress_pickle(my_path5)"
   ]
  },
  {
   "cell_type": "code",
   "execution_count": 4,
   "metadata": {},
   "outputs": [],
   "source": [
    "df = pd.concat([rating1, rating2, rating3, rating4, rating5])"
   ]
  },
  {
   "cell_type": "code",
   "execution_count": 5,
   "metadata": {},
   "outputs": [],
   "source": [
    "# Remove common words\n",
    "stopwords_list = stopwords.words('english') + list(string.punctuation)\n",
    "# Remove more punctuation\n",
    "stopwords_list += [\"''\", '\"\"', '...', '``']"
   ]
  },
  {
   "cell_type": "code",
   "execution_count": 6,
   "metadata": {},
   "outputs": [],
   "source": [
    "def process_reviews(reviews):\n",
    "    tokens = nltk.word_tokenize(reviews)\n",
    "    stopwords_removed = [token.lower() for token in tokens if token.lower() not in stopwords_list]\n",
    "    return stopwords_removed  \n",
    "\n",
    "lemmatizer = nltk.stem.WordNetLemmatizer()\n",
    "\n",
    "def lemmatize_text(text):\n",
    "    return [lemmatizer.lemmatize(w) for w in text]"
   ]
  },
  {
   "cell_type": "code",
   "execution_count": 7,
   "metadata": {},
   "outputs": [],
   "source": [
    "df['wordlist'] = df['content'].apply(lambda x: process_reviews(x))\n",
    "df['wordlistlem'] = df['wordlist'].apply(lemmatize_text)\n",
    "df['strings'] = [' '.join(i) for i in df['wordlistlem']]"
   ]
  },
  {
   "cell_type": "code",
   "execution_count": 13,
   "metadata": {
    "scrolled": true
   },
   "outputs": [
    {
     "data": {
      "text/html": [
       "<div>\n",
       "<style scoped>\n",
       "    .dataframe tbody tr th:only-of-type {\n",
       "        vertical-align: middle;\n",
       "    }\n",
       "\n",
       "    .dataframe tbody tr th {\n",
       "        vertical-align: top;\n",
       "    }\n",
       "\n",
       "    .dataframe thead th {\n",
       "        text-align: right;\n",
       "    }\n",
       "</style>\n",
       "<table border=\"1\" class=\"dataframe\">\n",
       "  <thead>\n",
       "    <tr style=\"text-align: right;\">\n",
       "      <th></th>\n",
       "      <th>content</th>\n",
       "      <th>score</th>\n",
       "      <th>thumbsUpCount</th>\n",
       "      <th>reviewCreatedVersion</th>\n",
       "      <th>appId</th>\n",
       "      <th>wordlist</th>\n",
       "      <th>wordlistlem</th>\n",
       "      <th>strings</th>\n",
       "    </tr>\n",
       "  </thead>\n",
       "  <tbody>\n",
       "    <tr>\n",
       "      <th>0</th>\n",
       "      <td>stamina system ruined it for me. any game that...</td>\n",
       "      <td>1</td>\n",
       "      <td>5</td>\n",
       "      <td>1.2.4</td>\n",
       "      <td>com.gravity.romNAg</td>\n",
       "      <td>[stamina, system, ruined, game, attempts, limi...</td>\n",
       "      <td>[stamen, system, ruined, game, attempt, limit,...</td>\n",
       "      <td>stamen system ruined game attempt limit playti...</td>\n",
       "    </tr>\n",
       "    <tr>\n",
       "      <th>3</th>\n",
       "      <td>I was a big fan when this came out mobile. I'v...</td>\n",
       "      <td>1</td>\n",
       "      <td>7</td>\n",
       "      <td>1.2.4</td>\n",
       "      <td>com.gravity.romNAg</td>\n",
       "      <td>[big, fan, came, mobile, 've, lot, hours, now....</td>\n",
       "      <td>[big, fan, came, mobile, 've, lot, hour, now.....</td>\n",
       "      <td>big fan came mobile 've lot hour now.. like re...</td>\n",
       "    </tr>\n",
       "    <tr>\n",
       "      <th>6</th>\n",
       "      <td>It brings back memories when I was a child and...</td>\n",
       "      <td>1</td>\n",
       "      <td>4</td>\n",
       "      <td>1.2.4</td>\n",
       "      <td>com.gravity.romNAg</td>\n",
       "      <td>[brings, back, memories, child, used, play, cl...</td>\n",
       "      <td>[brings, back, memory, child, used, play, clas...</td>\n",
       "      <td>brings back memory child used play classmate p...</td>\n",
       "    </tr>\n",
       "    <tr>\n",
       "      <th>11</th>\n",
       "      <td>It's an entertaining game, but the experience ...</td>\n",
       "      <td>1</td>\n",
       "      <td>38</td>\n",
       "      <td>1.2.2</td>\n",
       "      <td>com.gravity.romNAg</td>\n",
       "      <td>['s, entertaining, game, experience, completel...</td>\n",
       "      <td>['s, entertaining, game, experience, completel...</td>\n",
       "      <td>'s entertaining game experience completely rui...</td>\n",
       "    </tr>\n",
       "    <tr>\n",
       "      <th>15</th>\n",
       "      <td>They keep making it more and more pay-to-win. ...</td>\n",
       "      <td>1</td>\n",
       "      <td>83</td>\n",
       "      <td>1.2.2</td>\n",
       "      <td>com.gravity.romNAg</td>\n",
       "      <td>[keep, making, pay-to-win, actually, sucks, re...</td>\n",
       "      <td>[keep, making, pay-to-win, actually, suck, rel...</td>\n",
       "      <td>keep making pay-to-win actually suck release n...</td>\n",
       "    </tr>\n",
       "  </tbody>\n",
       "</table>\n",
       "</div>"
      ],
      "text/plain": [
       "                                              content  score  thumbsUpCount  \\\n",
       "0   stamina system ruined it for me. any game that...      1              5   \n",
       "3   I was a big fan when this came out mobile. I'v...      1              7   \n",
       "6   It brings back memories when I was a child and...      1              4   \n",
       "11  It's an entertaining game, but the experience ...      1             38   \n",
       "15  They keep making it more and more pay-to-win. ...      1             83   \n",
       "\n",
       "   reviewCreatedVersion               appId  \\\n",
       "0                 1.2.4  com.gravity.romNAg   \n",
       "3                 1.2.4  com.gravity.romNAg   \n",
       "6                 1.2.4  com.gravity.romNAg   \n",
       "11                1.2.2  com.gravity.romNAg   \n",
       "15                1.2.2  com.gravity.romNAg   \n",
       "\n",
       "                                             wordlist  \\\n",
       "0   [stamina, system, ruined, game, attempts, limi...   \n",
       "3   [big, fan, came, mobile, 've, lot, hours, now....   \n",
       "6   [brings, back, memories, child, used, play, cl...   \n",
       "11  ['s, entertaining, game, experience, completel...   \n",
       "15  [keep, making, pay-to-win, actually, sucks, re...   \n",
       "\n",
       "                                          wordlistlem  \\\n",
       "0   [stamen, system, ruined, game, attempt, limit,...   \n",
       "3   [big, fan, came, mobile, 've, lot, hour, now.....   \n",
       "6   [brings, back, memory, child, used, play, clas...   \n",
       "11  ['s, entertaining, game, experience, completel...   \n",
       "15  [keep, making, pay-to-win, actually, suck, rel...   \n",
       "\n",
       "                                              strings  \n",
       "0   stamen system ruined game attempt limit playti...  \n",
       "3   big fan came mobile 've lot hour now.. like re...  \n",
       "6   brings back memory child used play classmate p...  \n",
       "11  's entertaining game experience completely rui...  \n",
       "15  keep making pay-to-win actually suck release n...  "
      ]
     },
     "execution_count": 13,
     "metadata": {},
     "output_type": "execute_result"
    }
   ],
   "source": [
    "df.head()"
   ]
  },
  {
   "cell_type": "markdown",
   "metadata": {},
   "source": [
    "# TF-IDF"
   ]
  },
  {
   "cell_type": "code",
   "execution_count": 14,
   "metadata": {},
   "outputs": [],
   "source": [
    "x = df['strings']\n",
    "y = df['score']\n",
    "\n",
    "X_train, X_test, y_train, y_test = train_test_split(x, y, random_state = 44)"
   ]
  },
  {
   "cell_type": "code",
   "execution_count": 15,
   "metadata": {},
   "outputs": [],
   "source": [
    "vec = TfidfVectorizer()\n",
    "\n",
    "tfidf_X_train = vec.fit_transform(X_train)\n",
    "tfidf_X_test = vec.transform(X_test)"
   ]
  },
  {
   "cell_type": "markdown",
   "metadata": {},
   "source": [
    "## Dummy Classifier Baseline Model"
   ]
  },
  {
   "cell_type": "code",
   "execution_count": 16,
   "metadata": {},
   "outputs": [
    {
     "name": "stderr",
     "output_type": "stream",
     "text": [
      "/opt/anaconda3/lib/python3.7/site-packages/sklearn/dummy.py:132: FutureWarning: The default value of strategy will change from stratified to prior in 0.24.\n",
      "  \"stratified to prior in 0.24.\", FutureWarning)\n"
     ]
    }
   ],
   "source": [
    "from sklearn.dummy import DummyClassifier\n",
    "\n",
    "dclf = DummyClassifier()\n",
    "dclf.fit(tfidf_X_train, y_train)\n",
    "y_preds_dummy = dclf.predict(tfidf_X_test)"
   ]
  },
  {
   "cell_type": "code",
   "execution_count": 18,
   "metadata": {
    "scrolled": true
   },
   "outputs": [
    {
     "name": "stdout",
     "output_type": "stream",
     "text": [
      "Test Accuracy Score: 0.31467661691542287\n",
      "Test Precision Score: 0.31150920170648977\n",
      "Test Recall Score: 0.31467661691542287\n",
      "Test F1 Score: 0.31289240252170397\n"
     ]
    }
   ],
   "source": [
    "#Evaluation Metrics for Dummy Classifier\n",
    "\n",
    "print(\"Test Accuracy Score:\", metrics.accuracy_score(y_test, y_preds_dummy))\n",
    "print(\"Test Precision Score:\", metrics.precision_score(y_test, y_preds_dummy, average = \"weighted\"))\n",
    "print(\"Test Recall Score:\", metrics.recall_score(y_test, y_preds_dummy, average = \"weighted\"))\n",
    "print(\"Test F1 Score:\", metrics.f1_score(y_test, y_preds_dummy, average = \"weighted\"))"
   ]
  },
  {
   "cell_type": "markdown",
   "metadata": {},
   "source": [
    "## Naive Bayes"
   ]
  },
  {
   "cell_type": "code",
   "execution_count": 19,
   "metadata": {},
   "outputs": [
    {
     "name": "stdout",
     "output_type": "stream",
     "text": [
      "Test Accuracy Score: 0.6548507462686567\n",
      "Test Precision Score: 0.559256155709018\n",
      "Test Recall Score: 0.6548507462686567\n",
      "Test F1 Score: 0.5774865126259182\n"
     ]
    }
   ],
   "source": [
    "NB = MultinomialNB(fit_prior = False)\n",
    "\n",
    "NB.fit(tfidf_X_train,y_train)\n",
    "\n",
    "y_pred_nb_test = NB.predict(tfidf_X_test)\n",
    "\n",
    "print(\"Test Accuracy Score:\", metrics.accuracy_score(y_test, y_pred_nb_test))\n",
    "print(\"Test Precision Score:\", metrics.precision_score(y_test, y_pred_nb_test, average = \"weighted\"))\n",
    "print(\"Test Recall Score:\", metrics.recall_score(y_test, y_pred_nb_test, average = \"weighted\"))\n",
    "print(\"Test F1 Score:\", metrics.f1_score(y_test, y_pred_nb_test, average = \"weighted\"))"
   ]
  },
  {
   "cell_type": "code",
   "execution_count": 20,
   "metadata": {
    "scrolled": true
   },
   "outputs": [
    {
     "data": {
      "text/plain": [
       "Text(91.68, 0.5, 'Predicted Rating')"
      ]
     },
     "execution_count": 20,
     "metadata": {},
     "output_type": "execute_result"
    },
    {
     "data": {
      "image/png": "[encoded data removed]",
      "text/plain": [
       "<Figure size 432x288 with 1 Axes>"
      ]
     },
     "metadata": {
      "needs_background": "light"
     },
     "output_type": "display_data"
    }
   ],
   "source": [
    "matrix = confusion_matrix(y_test, y_pred_nb_test)\n",
    "sns.heatmap(matrix.T, square=True, annot=True, fmt='d', cbar=False, \n",
    "            xticklabels=['1','2','3','4','5'], yticklabels=['1','2','3','4','5'])\n",
    "\n",
    "plt.xlabel('Actual Rating')\n",
    "plt.ylabel('Predicted Rating')"
   ]
  },
  {
   "cell_type": "markdown",
   "metadata": {},
   "source": [
    "## Decision Tree"
   ]
  },
  {
   "cell_type": "code",
   "execution_count": 21,
   "metadata": {},
   "outputs": [
    {
     "name": "stdout",
     "output_type": "stream",
     "text": [
      "Test Accuracy Score: 0.5261194029850746\n",
      "Test Precision Score: 0.5337778141767253\n",
      "Test Recall Score: 0.5261194029850746\n",
      "Test F1 Score: 0.529456132758529\n"
     ]
    }
   ],
   "source": [
    "dtc = DecisionTreeClassifier(class_weight='balanced', random_state=22)\n",
    "\n",
    "dtc.fit(tfidf_X_train, y_train)\n",
    "\n",
    "y_pred_dtc_test = dtc.predict(tfidf_X_test)\n",
    "\n",
    "print(\"Test Accuracy Score:\", metrics.accuracy_score(y_test, y_pred_dtc_test))\n",
    "print(\"Test Precision Score:\", metrics.precision_score(y_test, y_pred_dtc_test, average = \"weighted\"))\n",
    "print(\"Test Recall Score:\", metrics.recall_score(y_test, y_pred_dtc_test, average = \"weighted\"))\n",
    "print(\"Test F1 Score:\", metrics.f1_score(y_test, y_pred_dtc_test, average = \"weighted\"))"
   ]
  },
  {
   "cell_type": "code",
   "execution_count": 22,
   "metadata": {
    "scrolled": true
   },
   "outputs": [
    {
     "data": {
      "text/plain": [
       "Text(91.68, 0.5, 'Predicted Rating')"
      ]
     },
     "execution_count": 22,
     "metadata": {},
     "output_type": "execute_result"
    },
    {
     "data": {
      "image/png": "[encoded data removed]",
      "text/plain": [
       "<Figure size 432x288 with 1 Axes>"
      ]
     },
     "metadata": {
      "needs_background": "light"
     },
     "output_type": "display_data"
    }
   ],
   "source": [
    "matrix = confusion_matrix(y_test, y_pred_dtc_test)\n",
    "sns.heatmap(matrix.T, square=True, annot=True, fmt='d', cbar=False, \n",
    "            xticklabels=['1','2','3','4','5'], yticklabels=['1','2','3','4','5'])\n",
    "\n",
    "plt.xlabel('Actual Rating')\n",
    "plt.ylabel('Predicted Rating')"
   ]
  },
  {
   "cell_type": "markdown",
   "metadata": {},
   "source": [
    "## Random Forest"
   ]
  },
  {
   "cell_type": "code",
   "execution_count": 24,
   "metadata": {},
   "outputs": [
    {
     "name": "stdout",
     "output_type": "stream",
     "text": [
      "Test Accuracy Score: 0.652363184079602\n",
      "Test Precision Score: 0.6110388981319946\n",
      "Test Recall Score: 0.652363184079602\n",
      "Test F1 Score: 0.5634217228367301\n"
     ]
    }
   ],
   "source": [
    "rfc = RandomForestClassifier(n_estimators = 100, criterion='entropy', random_state = 11, n_jobs=-1)\n",
    "\n",
    "rfc.fit(tfidf_X_train, y_train)\n",
    "\n",
    "y_pred_rfc_test = rfc.predict(tfidf_X_test)\n",
    "\n",
    "print(\"Test Accuracy Score:\", metrics.accuracy_score(y_test, y_pred_rfc_test))\n",
    "print(\"Test Precision Score:\", metrics.precision_score(y_test, y_pred_rfc_test, average = \"weighted\"))\n",
    "print(\"Test Recall Score:\", metrics.recall_score(y_test, y_pred_rfc_test, average = \"weighted\"))\n",
    "print(\"Test F1 Score:\", metrics.f1_score(y_test, y_pred_rfc_test, average = \"weighted\"))"
   ]
  },
  {
   "cell_type": "code",
   "execution_count": 25,
   "metadata": {},
   "outputs": [
    {
     "data": {
      "text/plain": [
       "Text(91.68, 0.5, 'Predicted Rating')"
      ]
     },
     "execution_count": 25,
     "metadata": {},
     "output_type": "execute_result"
    },
    {
     "data": {
      "image/png": "[encoded data removed]",
      "text/plain": [
       "<Figure size 432x288 with 1 Axes>"
      ]
     },
     "metadata": {
      "needs_background": "light"
     },
     "output_type": "display_data"
    }
   ],
   "source": [
    "matrix = confusion_matrix(y_test, y_pred_rfc_test)\n",
    "sns.heatmap(matrix.T, square=True, annot=True, fmt='d', cbar=False, \n",
    "            xticklabels=['1','2','3','4','5'], yticklabels=['1','2','3','4','5'])\n",
    "\n",
    "plt.xlabel('Actual Rating')\n",
    "plt.ylabel('Predicted Rating')"
   ]
  },
  {
   "cell_type": "markdown",
   "metadata": {},
   "source": [
    "## Support Vector Machine"
   ]
  },
  {
   "cell_type": "code",
   "execution_count": 28,
   "metadata": {},
   "outputs": [
    {
     "name": "stdout",
     "output_type": "stream",
     "text": [
      "Test Accuracy Score: 0.6728855721393034\n",
      "Test Precision Score: 0.5796878109452736\n",
      "Test Recall Score: 0.6728855721393034\n",
      "Test F1 Score: 0.5961049438901596\n"
     ]
    }
   ],
   "source": [
    "SVM = svm.SVC(C=1.0, kernel='linear', degree=3, gamma='auto')\n",
    "SVM.fit(tfidf_X_train, y_train)\n",
    "\n",
    "y_pred_SVM_test = SVM.predict(tfidf_X_test)\n",
    "\n",
    "print(\"Test Accuracy Score:\", metrics.accuracy_score(y_test, y_pred_SVM_test))\n",
    "print(\"Test Precision Score:\", metrics.precision_score(y_test, y_pred_SVM_test, average = \"weighted\"))\n",
    "print(\"Test Recall Score:\", metrics.recall_score(y_test, y_pred_SVM_test, average = \"weighted\"))\n",
    "print(\"Test F1 Score:\", metrics.f1_score(y_test, y_pred_SVM_test, average = \"weighted\"))"
   ]
  },
  {
   "cell_type": "code",
   "execution_count": 29,
   "metadata": {},
   "outputs": [
    {
     "data": {
      "text/plain": [
       "Text(91.68, 0.5, 'Predicted Rating')"
      ]
     },
     "execution_count": 29,
     "metadata": {},
     "output_type": "execute_result"
    },
    {
     "data": {
      "image/png": "[encoded data removed]",
      "text/plain": [
       "<Figure size 432x288 with 1 Axes>"
      ]
     },
     "metadata": {
      "needs_background": "light"
     },
     "output_type": "display_data"
    }
   ],
   "source": [
    "matrix = confusion_matrix(y_test, y_pred_SVM_test)\n",
    "sns.heatmap(matrix.T, square=True, annot=True, fmt='d', cbar=False, \n",
    "            xticklabels=['1','2','3','4','5'], yticklabels=['1','2','3','4','5'])\n",
    "\n",
    "plt.xlabel('Actual Rating')\n",
    "plt.ylabel('Predicted Rating')"
   ]
  },
  {
   "cell_type": "markdown",
   "metadata": {},
   "source": [
    "## Gridsearch (Decision Tree)"
   ]
  },
  {
   "cell_type": "code",
   "execution_count": null,
   "metadata": {},
   "outputs": [],
   "source": [
    "dt_param_grid = {\n",
    "    'criterion' : ['gini', 'entropy'],\n",
    "    'max_depth' : list(np.linspace(1, 20, num=20)) + [None],\n",
    "    'max_features': ['auto', 'log2', None],\n",
    "    'min_samples_split' : list(np.linspace(2, 20, num=10)) + [1],\n",
    "    'min_samples_leaf' : [1, 2, 3, 4, 5, 6, 10, 15, 20]\n",
    "}"
   ]
  },
  {
   "cell_type": "markdown",
   "metadata": {},
   "source": [
    "## Gridsearch (Random Forest)"
   ]
  },
  {
   "cell_type": "code",
   "execution_count": null,
   "metadata": {},
   "outputs": [],
   "source": [
    "rf_param_grid = {\n",
    "    'n_estimators' : list(np.linspace(100, 1000, num=19)),\n",
    "    'criterion' : ['gini', 'entropy'],\n",
    "    'max_depth' : list(np.linspace(1, 20, 1, dtype = int)) + [None],\n",
    "    'max_features': ['auto', 'log2', None],\n",
    "    'min_samples_split' : list(np.linspace(2, 20, num=10)) + [1],\n",
    "    'min_samples_leaf' : [1, 2, 3, 4, 5, 6, 10, 15, 20]\n",
    "}"
   ]
  },
  {
   "cell_type": "markdown",
   "metadata": {},
   "source": [
    "## Gridsearch (Support Vector Machine)"
   ]
  },
  {
   "cell_type": "code",
   "execution_count": null,
   "metadata": {},
   "outputs": [],
   "source": []
  }
 ],
 "metadata": {
  "kernelspec": {
   "display_name": "Python 3",
   "language": "python",
   "name": "python3"
  },
  "language_info": {
   "codemirror_mode": {
    "name": "ipython",
    "version": 3
   },
   "file_extension": ".py",
   "mimetype": "text/x-python",
   "name": "python",
   "nbconvert_exporter": "python",
   "pygments_lexer": "ipython3",
   "version": "3.7.6"
  }
 },
 "nbformat": 4,
 "nbformat_minor": 4
}
