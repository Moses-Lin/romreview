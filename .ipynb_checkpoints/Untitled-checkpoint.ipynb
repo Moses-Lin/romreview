{
 "cells": [
  {
   "cell_type": "code",
   "execution_count": 2,
   "metadata": {
    "scrolled": true
   },
   "outputs": [
    {
     "name": "stdout",
     "output_type": "stream",
     "text": [
      "Requirement already satisfied: pixiedust in /opt/anaconda3/envs/learn-env/lib/python3.6/site-packages (1.1.18)\n",
      "Requirement already satisfied: mpld3 in /opt/anaconda3/envs/learn-env/lib/python3.6/site-packages (from pixiedust) (0.5.1)\n",
      "Requirement already satisfied: colour in /opt/anaconda3/envs/learn-env/lib/python3.6/site-packages (from pixiedust) (0.1.5)\n",
      "Requirement already satisfied: requests in /opt/anaconda3/envs/learn-env/lib/python3.6/site-packages (from pixiedust) (2.10.0)\n",
      "Requirement already satisfied: astunparse in /opt/anaconda3/envs/learn-env/lib/python3.6/site-packages (from pixiedust) (1.6.3)\n",
      "Requirement already satisfied: markdown in /opt/anaconda3/envs/learn-env/lib/python3.6/site-packages (from pixiedust) (3.1.1)\n",
      "Requirement already satisfied: lxml in /opt/anaconda3/envs/learn-env/lib/python3.6/site-packages (from pixiedust) (4.4.1)\n",
      "Requirement already satisfied: geojson in /opt/anaconda3/envs/learn-env/lib/python3.6/site-packages (from pixiedust) (2.5.0)\n",
      "Requirement already satisfied: jinja2 in /opt/anaconda3/envs/learn-env/lib/python3.6/site-packages (from mpld3->pixiedust) (2.9.5)\n",
      "Requirement already satisfied: matplotlib in /opt/anaconda3/envs/learn-env/lib/python3.6/site-packages (from mpld3->pixiedust) (3.1.1)\n",
      "Requirement already satisfied: six<2.0,>=1.6.1 in /opt/anaconda3/envs/learn-env/lib/python3.6/site-packages (from astunparse->pixiedust) (1.12.0)\n",
      "Requirement already satisfied: wheel<1.0,>=0.23.0 in /opt/anaconda3/envs/learn-env/lib/python3.6/site-packages (from astunparse->pixiedust) (0.33.6)\n",
      "Requirement already satisfied: setuptools>=36 in /opt/anaconda3/envs/learn-env/lib/python3.6/site-packages (from markdown->pixiedust) (41.2.0)\n",
      "Requirement already satisfied: MarkupSafe>=0.23 in /opt/anaconda3/envs/learn-env/lib/python3.6/site-packages (from jinja2->mpld3->pixiedust) (0.23)\n",
      "Requirement already satisfied: cycler>=0.10 in /opt/anaconda3/envs/learn-env/lib/python3.6/site-packages (from matplotlib->mpld3->pixiedust) (0.10.0)\n",
      "Requirement already satisfied: kiwisolver>=1.0.1 in /opt/anaconda3/envs/learn-env/lib/python3.6/site-packages (from matplotlib->mpld3->pixiedust) (1.1.0)\n",
      "Requirement already satisfied: pyparsing!=2.0.4,!=2.1.2,!=2.1.6,>=2.0.1 in /opt/anaconda3/envs/learn-env/lib/python3.6/site-packages (from matplotlib->mpld3->pixiedust) (2.4.2)\n",
      "Requirement already satisfied: python-dateutil>=2.1 in /opt/anaconda3/envs/learn-env/lib/python3.6/site-packages (from matplotlib->mpld3->pixiedust) (2.8.0)\n",
      "Requirement already satisfied: numpy>=1.11 in /opt/anaconda3/envs/learn-env/lib/python3.6/site-packages (from matplotlib->mpld3->pixiedust) (1.16.5)\n",
      "Requirement already satisfied: pixiedust_node in /opt/anaconda3/envs/learn-env/lib/python3.6/site-packages (0.2.5)\n",
      "Requirement already satisfied: pandas in /opt/anaconda3/envs/learn-env/lib/python3.6/site-packages (from pixiedust_node) (0.25.1)\n",
      "Requirement already satisfied: ipython in /opt/anaconda3/envs/learn-env/lib/python3.6/site-packages (from pixiedust_node) (7.8.0)\n",
      "Requirement already satisfied: pixiedust in /opt/anaconda3/envs/learn-env/lib/python3.6/site-packages (from pixiedust_node) (1.1.18)\n",
      "Requirement already satisfied: numpy>=1.13.3 in /opt/anaconda3/envs/learn-env/lib/python3.6/site-packages (from pandas->pixiedust_node) (1.16.5)\n",
      "Requirement already satisfied: python-dateutil>=2.6.1 in /opt/anaconda3/envs/learn-env/lib/python3.6/site-packages (from pandas->pixiedust_node) (2.8.0)\n",
      "Requirement already satisfied: pytz>=2017.2 in /opt/anaconda3/envs/learn-env/lib/python3.6/site-packages (from pandas->pixiedust_node) (2019.2)\n",
      "Requirement already satisfied: pickleshare in /opt/anaconda3/envs/learn-env/lib/python3.6/site-packages (from ipython->pixiedust_node) (0.7.5)\n",
      "Requirement already satisfied: setuptools>=18.5 in /opt/anaconda3/envs/learn-env/lib/python3.6/site-packages (from ipython->pixiedust_node) (41.2.0)\n",
      "Requirement already satisfied: jedi>=0.10 in /opt/anaconda3/envs/learn-env/lib/python3.6/site-packages (from ipython->pixiedust_node) (0.15.1)\n",
      "Requirement already satisfied: backcall in /opt/anaconda3/envs/learn-env/lib/python3.6/site-packages (from ipython->pixiedust_node) (0.1.0)\n",
      "Requirement already satisfied: appnope; sys_platform == \"darwin\" in /opt/anaconda3/envs/learn-env/lib/python3.6/site-packages (from ipython->pixiedust_node) (0.1.0)\n",
      "Requirement already satisfied: decorator in /opt/anaconda3/envs/learn-env/lib/python3.6/site-packages (from ipython->pixiedust_node) (4.4.0)\n",
      "Requirement already satisfied: prompt-toolkit<2.1.0,>=2.0.0 in /opt/anaconda3/envs/learn-env/lib/python3.6/site-packages (from ipython->pixiedust_node) (2.0.9)\n",
      "Requirement already satisfied: pexpect; sys_platform != \"win32\" in /opt/anaconda3/envs/learn-env/lib/python3.6/site-packages (from ipython->pixiedust_node) (4.7.0)\n",
      "Requirement already satisfied: pygments in /opt/anaconda3/envs/learn-env/lib/python3.6/site-packages (from ipython->pixiedust_node) (2.4.2)\n",
      "Requirement already satisfied: traitlets>=4.2 in /opt/anaconda3/envs/learn-env/lib/python3.6/site-packages (from ipython->pixiedust_node) (4.3.2)\n",
      "Requirement already satisfied: geojson in /opt/anaconda3/envs/learn-env/lib/python3.6/site-packages (from pixiedust->pixiedust_node) (2.5.0)\n",
      "Requirement already satisfied: mpld3 in /opt/anaconda3/envs/learn-env/lib/python3.6/site-packages (from pixiedust->pixiedust_node) (0.5.1)\n",
      "Requirement already satisfied: astunparse in /opt/anaconda3/envs/learn-env/lib/python3.6/site-packages (from pixiedust->pixiedust_node) (1.6.3)\n",
      "Requirement already satisfied: requests in /opt/anaconda3/envs/learn-env/lib/python3.6/site-packages (from pixiedust->pixiedust_node) (2.10.0)\n",
      "Requirement already satisfied: markdown in /opt/anaconda3/envs/learn-env/lib/python3.6/site-packages (from pixiedust->pixiedust_node) (3.1.1)\n",
      "Requirement already satisfied: lxml in /opt/anaconda3/envs/learn-env/lib/python3.6/site-packages (from pixiedust->pixiedust_node) (4.4.1)\n",
      "Requirement already satisfied: colour in /opt/anaconda3/envs/learn-env/lib/python3.6/site-packages (from pixiedust->pixiedust_node) (0.1.5)\n",
      "Requirement already satisfied: six>=1.5 in /opt/anaconda3/envs/learn-env/lib/python3.6/site-packages (from python-dateutil>=2.6.1->pandas->pixiedust_node) (1.12.0)\n",
      "Requirement already satisfied: parso>=0.5.0 in /opt/anaconda3/envs/learn-env/lib/python3.6/site-packages (from jedi>=0.10->ipython->pixiedust_node) (0.5.1)\n",
      "Requirement already satisfied: wcwidth in /opt/anaconda3/envs/learn-env/lib/python3.6/site-packages (from prompt-toolkit<2.1.0,>=2.0.0->ipython->pixiedust_node) (0.1.7)\n",
      "Requirement already satisfied: ptyprocess>=0.5 in /opt/anaconda3/envs/learn-env/lib/python3.6/site-packages (from pexpect; sys_platform != \"win32\"->ipython->pixiedust_node) (0.6.0)\n",
      "Requirement already satisfied: ipython_genutils in /opt/anaconda3/envs/learn-env/lib/python3.6/site-packages (from traitlets>=4.2->ipython->pixiedust_node) (0.2.0)\n",
      "Requirement already satisfied: matplotlib in /opt/anaconda3/envs/learn-env/lib/python3.6/site-packages (from mpld3->pixiedust->pixiedust_node) (3.1.1)\n",
      "Requirement already satisfied: jinja2 in /opt/anaconda3/envs/learn-env/lib/python3.6/site-packages (from mpld3->pixiedust->pixiedust_node) (2.9.5)\n",
      "Requirement already satisfied: wheel<1.0,>=0.23.0 in /opt/anaconda3/envs/learn-env/lib/python3.6/site-packages (from astunparse->pixiedust->pixiedust_node) (0.33.6)\n",
      "Requirement already satisfied: cycler>=0.10 in /opt/anaconda3/envs/learn-env/lib/python3.6/site-packages (from matplotlib->mpld3->pixiedust->pixiedust_node) (0.10.0)\n",
      "Requirement already satisfied: kiwisolver>=1.0.1 in /opt/anaconda3/envs/learn-env/lib/python3.6/site-packages (from matplotlib->mpld3->pixiedust->pixiedust_node) (1.1.0)\n",
      "Requirement already satisfied: pyparsing!=2.0.4,!=2.1.2,!=2.1.6,>=2.0.1 in /opt/anaconda3/envs/learn-env/lib/python3.6/site-packages (from matplotlib->mpld3->pixiedust->pixiedust_node) (2.4.2)\n",
      "Requirement already satisfied: MarkupSafe>=0.23 in /opt/anaconda3/envs/learn-env/lib/python3.6/site-packages (from jinja2->mpld3->pixiedust->pixiedust_node) (0.23)\n"
     ]
    }
   ],
   "source": [
    "!pip install pixiedust\n",
    "!pip install pixiedust_node"
   ]
  },
  {
   "cell_type": "code",
   "execution_count": 3,
   "metadata": {},
   "outputs": [
    {
     "name": "stdout",
     "output_type": "stream",
     "text": [
      "Pixiedust database opened successfully\n"
     ]
    },
    {
     "data": {
      "text/html": [
       "\n",
       "        <div style=\"margin:10px\">\n",
       "            <a href=\"https://github.com/ibm-watson-data-lab/pixiedust\" target=\"_new\">\n",
       "                <img src=\"https://github.com/ibm-watson-data-lab/pixiedust/raw/master/docs/_static/pd_icon32.png\" style=\"float:left;margin-right:10px\"/>\n",
       "            </a>\n",
       "            <span>Pixiedust version 1.1.18</span>\n",
       "        </div>\n",
       "        "
      ],
      "text/plain": [
       "<IPython.core.display.HTML object>"
      ]
     },
     "metadata": {},
     "output_type": "display_data"
    },
    {
     "data": {
      "text/html": [
       "\n",
       "            <div style=\"margin:10px\"> \n",
       "            <a href=\"https://github.com/ibm-cds-labs/pixiedust_node\" target=\"_new\"> \n",
       "            <img src=\"https://github.com/ibm-cds-labs/pixiedust_node/raw/master/docs/_images/pdn_icon32.png\" style=\"float:left;margin-right:10px\"/> \n",
       "            </a> \n",
       "            <span>Pixiedust Node.js</span> \n",
       "            </div> \n"
      ],
      "text/plain": [
       "<IPython.core.display.HTML object>"
      ]
     },
     "metadata": {},
     "output_type": "display_data"
    },
    {
     "name": "stdout",
     "output_type": "stream",
     "text": [
      "pixiedust_node 0.2.5 started. Cells starting '%%node' may contain Node.js code.\n"
     ]
    }
   ],
   "source": [
    "import pixiedust_node"
   ]
  },
  {
   "cell_type": "code",
   "execution_count": 9,
   "metadata": {},
   "outputs": [
    {
     "name": "stdout",
     "output_type": "stream",
     "text": [
      "\"2020-12-07T00:01:07.656Z\"\n"
     ]
    }
   ],
   "source": [
    "%%node\n",
    "var date = new Date();\n",
    "print(date);\n",
    "// \"2017-05-15T14:02:28.207Z\""
   ]
  },
  {
   "cell_type": "code",
   "execution_count": 12,
   "metadata": {},
   "outputs": [
    {
     "name": "stdout",
     "output_type": "stream",
     "text": [
      "npm should be run outside of the node repl, in your normal shell.\n",
      "(Press Control-D to exit.)\n"
     ]
    }
   ],
   "source": [
    "%%node\n",
    "npm install google-play-scraper"
   ]
  },
  {
   "cell_type": "code",
   "execution_count": 15,
   "metadata": {
    "scrolled": true
   },
   "outputs": [
    {
     "name": "stdout",
     "output_type": "stream",
     "text": [
      "/opt/anaconda3/envs/learn-env/bin/npm install -s google-play-scraper\n",
      "+ google-play-scraper@8.0.2\n",
      "updated 1 package and audited 357 packages in 2.829s\n",
      "found 0 vulnerabilities\n"
     ]
    }
   ],
   "source": [
    "npm.install('google-play-scraper')"
   ]
  },
  {
   "cell_type": "code",
   "execution_count": 17,
   "metadata": {},
   "outputs": [
    {
     "name": "stdout",
     "output_type": "stream",
     "text": [
      "/opt/anaconda3/envs/learn-env/bin/npm install -s request\n",
      "+ request@2.88.2\n",
      "updated 1 package and audited 357 packages in 2.369s\n",
      "found 0 vulnerabilities\n"
     ]
    }
   ],
   "source": [
    "npm.install('request');"
   ]
  },
  {
   "cell_type": "code",
   "execution_count": 37,
   "metadata": {},
   "outputs": [
    {
     "name": "stdout",
     "output_type": "stream",
     "text": [
      "Invalid REPL keyword\n"
     ]
    }
   ],
   "source": [
    "%%node\n",
    "var gplay = require('google-play-scraper');\n",
    "\n",
    "gplay.app({appId: 'com.google.android.apps.translate'})\n",
    ".then(console.log, console.log);"
   ]
  },
  {
   "cell_type": "code",
   "execution_count": 39,
   "metadata": {},
   "outputs": [
    {
     "name": "stdout",
     "output_type": "stream",
     "text": [
      "{ title: 'Google Translate',\n",
      "description:\n",
      "'• Text translation: Translate between 103 languages by typing\\r\\n• Tap to Translate: Copy text in any app and tap the Google Translate icon to translate (all languages)\\r\\n• Offline: Translate with no internet connection (59 languages)\\r\\n• Instant camera translation: Translate text in images instantly by just pointing your camera (88 languages)\\r\\n• Photos: Take or import photos for higher quality translations (50 languages)\\r\\n• Conversations: Translate bilingual conversations on the fly (43 languages)\\r\\n• Handwriting: Draw text characters instead of typing (95 languages)\\r\\n• Phrasebook: Star and save translated words and phrases for future reference (all languages)\\r\\n• Cross-device syncing: Login to sync phrasebook between app and desktop\\r\\n\\r\\nTranslations between the following languages are supported:\\r\\nAfrikaans, Albanian, Amharic, Arabic, Armenian, Azerbaijani, Basque, Belarusian, Bengali, Bosnian, Bulgarian, Catalan, Cebuano, Chichewa, Chinese (Simplified), Chinese (Traditional), Corsican, Croatian, Czech, Danish, Dutch, English, Esperanto, Estonian, Filipino, Finnish, French, Frisian, Galician, Georgian, German, Greek, Gujarati, Haitian Creole, Hausa, Hawaiian, Hebrew, Hindi, Hmong, Hungarian, Icelandic, Igbo, Indonesian, Irish, Italian, Japanese, Javanese, Kannada, Kazakh, Khmer, Kinyarwanda, Korean, Kurdish (Kurmanji), Kyrgyz, Lao, Latin, Latvian, Lithuanian, Luxembourgish, Macedonian, Malagasy, Malay, Malayalam, Maltese, Maori, Marathi, Mongolian, Myanmar (Burmese), Nepali, Norwegian, Odia (Oriya), Pashto, Persian, Polish, Portuguese, Punjabi, Romanian, Russian, Samoan, Scots Gaelic, Serbian, Sesotho, Shona, Sindhi, Sinhala, Slovak, Slovenian, Somali, Spanish, Sundanese, Swahili, Swedish, Tajik, Tamil, Tatar, Telugu, Thai, Turkish, Turkmen, Ukrainian, Urdu, Uyghur, Uzbek, Vietnamese, Welsh, Xhosa, Yiddish, Yoruba, Zulu\\r\\n\\r\\nPermissions Notice\\r\\nGoogle Translate may ask for permission to access the following features:\\r\\n• Microphone for speech translation\\r\\n• Camera for translating text via the camera\\r\\n• SMS for translating text messages\\r\\n• External storage for downloading offline translation data\\r\\n• Accounts and credentials for signing-in and syncing across devices',\n",
      "descriptionHTML:\n",
      "'• Text translation: Translate between 103 languages by typing<br>• Tap to Translate: Copy text in any app and tap the Google Translate icon to translate (all languages)<br>• Offline: Translate with no internet connection (59 languages)<br>• Instant camera translation: Translate text in images instantly by just pointing your camera (88 languages)<br>• Photos: Take or import photos for higher quality translations (50 languages)<br>• Conversations: Translate bilingual conversations on the fly (43 languages)<br>• Handwriting: Draw text characters instead of typing (95 languages)<br>• Phrasebook: Star and save translated words and phrases for future reference (all languages)<br>• Cross-device syncing: Login to sync phrasebook between app and desktop<br><br>Translations between the following languages are supported:<br>Afrikaans, Albanian, Amharic, Arabic, Armenian, Azerbaijani, Basque, Belarusian, Bengali, Bosnian, Bulgarian, Catalan, Cebuano, Chichewa, Chinese (Simplified), Chinese (Traditional), Corsican, Croatian, Czech, Danish, Dutch, English, Esperanto, Estonian, Filipino, Finnish, French, Frisian, Galician, Georgian, German, Greek, Gujarati, Haitian Creole, Hausa, Hawaiian, Hebrew, Hindi, Hmong, Hungarian, Icelandic, Igbo, Indonesian, Irish, Italian, Japanese, Javanese, Kannada, Kazakh, Khmer, Kinyarwanda, Korean, Kurdish (Kurmanji), Kyrgyz, Lao, Latin, Latvian, Lithuanian, Luxembourgish, Macedonian, Malagasy, Malay, Malayalam, Maltese, Maori, Marathi, Mongolian, Myanmar (Burmese), Nepali, Norwegian, Odia (Oriya), Pashto, Persian, Polish, Portuguese, Punjabi, Romanian, Russian, Samoan, Scots Gaelic, Serbian, Sesotho, Shona, Sindhi, Sinhala, Slovak, Slovenian, Somali, Spanish, Sundanese, Swahili, Swedish, Tajik, Tamil, Tatar, Telugu, Thai, Turkish, Turkmen, Ukrainian, Urdu, Uyghur, Uzbek, Vietnamese, Welsh, Xhosa, Yiddish, Yoruba, Zulu<br><br>Permissions Notice<br>Google Translate may ask for permission to access the following features:<br>• Microphone for speech translation<br>• Camera for translating text via the camera<br>• SMS for translating text messages<br>• External storage for downloading offline translation data<br>• Accounts and credentials for signing-in and syncing across devices',\n",
      "summary: 'The world is closer than ever with over 100 languages',\n",
      "installs: '500,000,000+',\n",
      "minInstalls: 500000000,\n",
      "maxInstalls: 959282015,\n",
      "score: 4.4768066,\n",
      "scoreText: '4.5',\n",
      "ratings: 7547235,\n",
      "reviews: 1836291,\n",
      "histogram:\n",
      "{ '1': 421679,\n",
      "'2': 153007,\n",
      "'3': 424666,\n",
      "'4': 953589,\n",
      "'5': 5594292 },\n",
      "price: 0,\n",
      "free: true,\n",
      "currency: 'USD',\n",
      "priceText: 'Free',\n",
      "offersIAP: false,\n",
      "IAPRange: undefined,\n",
      "size: 'Varies with device',\n",
      "androidVersion: 'VARY',\n",
      "androidVersionText: 'Varies with device',\n",
      "developer: 'Google LLC',\n",
      "developerId: '5700313618786177705',\n",
      "developerEmail: 'translate-mobile-support@google.com',\n",
      "developerWebsite: 'http://support.google.com/translate',\n",
      "developerAddress: '1600 Amphitheatre Parkway, Mountain View 94043',\n",
      "privacyPolicy: 'http://www.google.com/policies/privacy/',\n",
      "developerInternalID: '5700313618786177705',\n",
      "genre: 'Tools',\n",
      "genreId: 'TOOLS',\n",
      "familyGenre: undefined,\n",
      "familyGenreId: undefined,\n",
      "icon:\n",
      "'https://play-lh.googleusercontent.com/ZrNeuKthBirZN7rrXPN1JmUbaG8ICy3kZSHt-WgSnREsJzo2txzCzjIoChlevMIQEA',\n",
      "headerImage:\n",
      "'https://play-lh.googleusercontent.com/e4Sfy0cOmqpike76V6N6n-tDVbtbmt6MxbnbkKBZ_7hPHZRfsCeZhMBZK8eFDoDa1Vf-',\n",
      "screenshots:\n",
      "[ 'https://play-lh.googleusercontent.com/dar060xShkqnJjWC2j_EazWBpLo28X4IUWCYXZgS2iXes7W99LkpnrvIak6vz88xFQ',\n",
      "'https://play-lh.googleusercontent.com/VnzidUTSWK_yhpNK0uqTSfpVgow5CsZOnBdN3hIpTxODdlZg1VH1K4fEiCrdUQEZCV0',\n",
      "'https://play-lh.googleusercontent.com/zo76JEdXGsBcxbsJXX3XPN0pGicjIYAy7mi95al8LTT14H4xrer-lE2kR_DEXCn-GY_l',\n",
      "'https://play-lh.googleusercontent.com/8HwziIPNKGnrJe5l6MfdAm6XeZ7nYEWjLXli34D5xyzBT9jE1qIQstzZXJP9X63b4A',\n",
      "'https://play-lh.googleusercontent.com/55jSKYsHEll9xSsXmMolSO2o3MKYYorwNpDh6UCye1EFzy_1ceRTwV7TKlqZ7SC_zhQ',\n",
      "'https://play-lh.googleusercontent.com/aXc_mfgzRtZtCh3WFtly_spULjuPQ_9CFQSfRai_pptENeE_OgtttoNwBW0sIBTWgJzK',\n",
      "'https://play-lh.googleusercontent.com/8GQRxInP-DOFvxzgXQKK3XJcuXbTq_-uFG-dccfy-S4FwSyHoqsMwYROSC04aKHJBFc',\n",
      "'https://play-lh.googleusercontent.com/WvSZTmEmb4QqmZcl_0QmQtQTsEcpvPna6FWIHpqS15K5F0zMt64ZK1ksd_UG6S4cwCB4',\n",
      "'https://play-lh.googleusercontent.com/uHIfQROsNz1uOH6vVdPFzf28MGtqLx0_w9wXgMm1b27Z2-VcxIjBO2d1tv7Mwz8DNB8',\n",
      "'https://play-lh.googleusercontent.com/UtyyG3GD6rzazGZz4O8lr0YSr-R7XKsor8sKlkWAakyvhWC-DCyEkBx0Un8e27LQ500',\n",
      "'https://play-lh.googleusercontent.com/Ce-7eeLejslAivlaTQlydBOk6sDBcsHUQNfOJzsFYMObXtnN-_ZB9a_Ewn7z8bUhLMU',\n",
      "'https://play-lh.googleusercontent.com/wzGThpXdnwIhUdU6scVMtWOPOETWS689QRXwp11NzrPvDLkIQvOzl2O4GLivd_hWE60',\n",
      "'https://play-lh.googleusercontent.com/DQSWZgA09VypxvRO1cfq-xbY9tGJ3YMAQwzdzKivRnoSvuVDM15x1JyxtOvLFKM_4g',\n",
      "'https://play-lh.googleusercontent.com/n48lbZfbi-6OOSN-P7IKviWc4St4LjxbpBBNVayXObNMYjAVnpOISZc9fV2D2Y6giGg',\n",
      "'https://play-lh.googleusercontent.com/JsVcDnmK3__h0hKOknC_Yr_03VLJtN7sfMIstyHPnUVpz-vBVM9Uc5djxbYXPQ0t0g' ],\n",
      "video: undefined,\n",
      "videoImage: undefined,\n",
      "contentRating: 'Everyone',\n",
      "contentRatingDescription: undefined,\n",
      "adSupported: false,\n",
      "released: undefined,\n",
      "updated: 1605906093000,\n",
      "version: 'Varies with device',\n",
      "recentChanges:\n",
      "'You can now continuously translate someone speaking a different language in near real-time with the Translate app. For example, translate a classroom lecture or a speech. • The Tap-to-Translate floating icon is now movable and easily dismissable. You can also translate copied text by tapping on the notification itself.',\n",
      "comments:\n",
      "[ 'A lot of good stuff, but fails on the most important. You can barely paste any text into this app. Google left a tiny portion of the screen space for pasting text. The space left, if you use the app in horizontal mode, lets you see one and a half line at the time; that\\'s all space left for the text. 75% of the screen remains empty, while the text is pressed up in a corner. That makes the app useless for translating sentences that contains more than just a few words.',\n",
      "'it gets the job done. it can be a bit too formal, though. every language has it\\'s own form of slang and dialects aren\\'t uncommon, and this is with many popular languages, such as Mandarin and Cantonese, English, Spanish, French, Italian Japanese, German and so on. I understand that this is so that as many people can understand you as possible, but being a little lax never hurt anybody. I think once they add regional dialects and more than one or two ways to translate a word it\\'ll be good to go.',\n",
      "'The new version with \"conversation\". I\\'m using this feature every day but now it doesn\\'t translate from Swe to LV. Only from LV to Swe. And that annoying woman\\'s voice every time when the button is pressed, with no chance to turn it off (at least I didn\\'t find it). It was so simple to use the conversation button but now it\\'s made so complicated. I notice later that there is the gray microphone icon, but then I have to delete the previous translation and press it again.',\n",
      "'The translation is kinda messy but overall its good i dont understand why people are giving 1 star. I know there are some reasons why they gave 1 start but give a little hope for the person who made this app. I gave 4 stars so the person who made this app will do a better update than now. For the person who made this app, if you read this, do your best cause ill support this app and the person to do the best you can. Do your best and you\\'ll succeed.',\n",
      "'This has made life very easy when working with people who speak no English and I do not speak their language. Whilst translation isn\\'t always perfect, it is always good enough to enable conversation and to help make complex points understood. Hugely impressed with capability and speed.' ],\n",
      "editorsChoice: false,\n",
      "appId: 'com.google.android.apps.translate',\n",
      "url:\n",
      "'https://play.google.com/store/apps/details?id=com.google.android.apps.translate&hl=en&gl=us' }\n"
     ]
    }
   ],
   "source": [
    "%%node\n",
    "var gplay = require('google-play-scraper');\n",
    "\n",
    "gplay.app({appId: 'com.google.android.apps.translate'}).then(console.log);"
   ]
  },
  {
   "cell_type": "code",
   "execution_count": 40,
   "metadata": {},
   "outputs": [
    {
     "name": "stdout",
     "output_type": "stream",
     "text": [
      "... ... ... ... ... ... ... ... ... ... ... ... ... ... ... ... ... ... ... ... ... ... ... ... ...\n"
     ]
    }
   ],
   "source": [
    "%%node\n",
    "(function(console){\n",
    "\n",
    "console.save = function(data, filename){\n",
    "\n",
    "    if(!data) {\n",
    "        console.error('Console.save: No data')\n",
    "        return;\n",
    "    }\n",
    "\n",
    "    if(!filename) filename = 'console.json'\n",
    "\n",
    "    if(typeof data === \"object\"){\n",
    "        data = JSON.stringify(data, undefined, 4)\n",
    "    }\n",
    "\n",
    "    var blob = new Blob([data], {type: 'text/json'}),\n",
    "        e    = document.createEvent('MouseEvents'),\n",
    "        a    = document.createElement('a')\n",
    "\n",
    "    a.download = filename\n",
    "    a.href = window.URL.createObjectURL(blob)\n",
    "    a.dataset.downloadurl =  ['text/json', a.download, a.href].join(':')\n",
    "    e.initMouseEvent('click', true, false, window, 0, 0, 0, 0, 0, false, false, false, false, 0, null)\n",
    "    a.dispatchEvent(e)\n",
    " }\n",
    "})(console)"
   ]
  },
  {
   "cell_type": "code",
   "execution_count": null,
   "metadata": {},
   "outputs": [],
   "source": []
  }
 ],
 "metadata": {
  "kernelspec": {
   "display_name": "Python 3",
   "language": "python",
   "name": "python3"
  },
  "language_info": {
   "codemirror_mode": {
    "name": "ipython",
    "version": 3
   },
   "file_extension": ".py",
   "mimetype": "text/x-python",
   "name": "python",
   "nbconvert_exporter": "python",
   "pygments_lexer": "ipython3",
   "version": "3.7.6"
  }
 },
 "nbformat": 4,
 "nbformat_minor": 4
}
